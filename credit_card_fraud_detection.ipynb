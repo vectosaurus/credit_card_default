{
 "cells": [
  {
   "cell_type": "markdown",
   "metadata": {},
   "source": [
    "### Credit Card Fraud Detection"
   ]
  },
  {
   "cell_type": "markdown",
   "metadata": {},
   "source": [
    "The volume of credit card transactions has increased significantly in the recent years. This increase in number of transactions has also seen an increase in the number of fraudulent transactions. Although the percentage of fraudulent transactions is low, the losses incurred by merchants and banks owing to these transactions is significantly high. "
   ]
  },
  {
   "cell_type": "markdown",
   "metadata": {},
   "source": [
    "Typically, fraudulent transactions are carried out in a card not present scenario, such as mail order or online transactions, wherein a transaction can be carried out by simply using the card details. Card details can be procured through multiple ways - through card theft, through hacking databases, or by stealing the card details. Card theft and hacking of database are somewhat unlikely methods as they involve a greater amount of risk and sophistication. However stealing of card details is relatively easy. Sometimes the criminal is simply the clerk who is handling the transaction.  "
   ]
  },
  {
   "cell_type": "markdown",
   "metadata": {},
   "source": [
    "### Credit Card Fraud detection using Logistic Regression"
   ]
  },
  {
   "cell_type": "markdown",
   "metadata": {},
   "source": [
    "In this notebook we will attempt to detect fraudulent transactions using a logistic model. The dataset that we will use for this purpose contains transactions made by credit cards in the September of 2013 by European card holders. The dataset has an event rate of 0.17%. Fraud transactions are referred to as events in this use case. "
   ]
  },
  {
   "cell_type": "markdown",
   "metadata": {},
   "source": [
    "#### 1.1 Data description"
   ]
  },
  {
   "cell_type": "markdown",
   "metadata": {},
   "source": [
    "The dataset contains 28 feature variables, all of which are numerical and have been reduced to their current form using Principal Component Analysis. Of the 284,807 transactions, only 492 transactions are fraudulent. The feature variables are named V1 to V28. The 'Class' variable is the response variable and takes value 1 in case of a fraud and 0 in case of a legitimate transaction. The dataset is available [here](https://www.kaggle.com/dalpozz/creditcardfraud/downloads/creditcardfraud.zip) for download. "
   ]
  },
  {
   "cell_type": "markdown",
   "metadata": {},
   "source": [
    "#### 1.2 Data Preprocessing"
   ]
  },
  {
   "cell_type": "markdown",
   "metadata": {},
   "source": [
    "As the event rate is low, the dataset is imbalanced and hence one of the steps in data preprocessing is to create a balanced dataset. We'll do this using oversampling of the events. Apart from that we'll do checks for missing values, outliers and multicollinearity as well. "
   ]
  },
  {
   "cell_type": "markdown",
   "metadata": {},
   "source": [
    "##### 1.2.1 Missing value treatment"
   ]
  },
  {
   "cell_type": "code",
   "execution_count": 2,
   "metadata": {
    "collapsed": true
   },
   "outputs": [],
   "source": [
    "import pandas as pd\n",
    "df = pd.read_csv('creditcard.csv')"
   ]
  },
  {
   "cell_type": "code",
   "execution_count": 3,
   "metadata": {
    "scrolled": true
   },
   "outputs": [
    {
     "name": "stdout",
     "output_type": "stream",
     "text": [
      "Data dimensions:  (284807, 31) \n",
      "\n",
      "Column names:  Index(['Time', 'V1', 'V2', 'V3', 'V4', 'V5', 'V6', 'V7', 'V8', 'V9', 'V10',\n",
      "       'V11', 'V12', 'V13', 'V14', 'V15', 'V16', 'V17', 'V18', 'V19', 'V20',\n",
      "       'V21', 'V22', 'V23', 'V24', 'V25', 'V26', 'V27', 'V28', 'Amount',\n",
      "       'Class'],\n",
      "      dtype='object') \n",
      "\n",
      "Event rate:  0.00172748563062 \n",
      "\n",
      "Number of missing values in each column \n",
      " Time      0\n",
      "V1        0\n",
      "V2        0\n",
      "V3        0\n",
      "V4        0\n",
      "V5        0\n",
      "V6        0\n",
      "V7        0\n",
      "V8        0\n",
      "V9        0\n",
      "V10       0\n",
      "V11       0\n",
      "V12       0\n",
      "V13       0\n",
      "V14       0\n",
      "V15       0\n",
      "V16       0\n",
      "V17       0\n",
      "V18       0\n",
      "V19       0\n",
      "V20       0\n",
      "V21       0\n",
      "V22       0\n",
      "V23       0\n",
      "V24       0\n",
      "V25       0\n",
      "V26       0\n",
      "V27       0\n",
      "V28       0\n",
      "Amount    0\n",
      "Class     0\n",
      "dtype: int64\n"
     ]
    }
   ],
   "source": [
    "# dimensions of the dataset\n",
    "print('Data dimensions: ', df.shape, '\\n')\n",
    "\n",
    "# column names\n",
    "print('Column names: ', df.columns, '\\n')\n",
    "\n",
    "# event rate\n",
    "print('Event rate: ',sum(df.loc[:, 'Class'])/df.shape[0], '\\n')\n",
    "\n",
    "# Number of missing values in each column\n",
    "print('Number of missing values in each column \\n', df.isnull().sum(axis=0))"
   ]
  },
  {
   "cell_type": "markdown",
   "metadata": {},
   "source": [
    "There are no missing values in the dataset. We will drop the column from our dataset as it indicates the times elapsed since the first transaction and is not useful for card fraud detection. In the next section we'll check for outliers."
   ]
  },
  {
   "cell_type": "code",
   "execution_count": 4,
   "metadata": {},
   "outputs": [
    {
     "name": "stdout",
     "output_type": "stream",
     "text": [
      "(284807, 30)\n",
      "Index(['V1', 'V2', 'V3', 'V4', 'V5', 'V6', 'V7', 'V8', 'V9', 'V10', 'V11',\n",
      "       'V12', 'V13', 'V14', 'V15', 'V16', 'V17', 'V18', 'V19', 'V20', 'V21',\n",
      "       'V22', 'V23', 'V24', 'V25', 'V26', 'V27', 'V28', 'Amount', 'Class'],\n",
      "      dtype='object')\n"
     ]
    }
   ],
   "source": [
    "df.drop(['Time'],axis=1,inplace=True)\n",
    "print(df.shape)\n",
    "print(df.columns)"
   ]
  },
  {
   "cell_type": "markdown",
   "metadata": {},
   "source": [
    "##### 1.2.2 Outlier treatment"
   ]
  },
  {
   "cell_type": "markdown",
   "metadata": {},
   "source": [
    "We will look for outliers for all columns using the zscores for every entry in a column. It is possible that events may get excluded after dropping outliers. In case the number of events drop by more than 10 percent, we'll not drop the outliers"
   ]
  },
  {
   "cell_type": "code",
   "execution_count": 5,
   "metadata": {},
   "outputs": [
    {
     "name": "stdout",
     "output_type": "stream",
     "text": [
      "Number of records without outliers:  246943\n"
     ]
    }
   ],
   "source": [
    "from scipy import stats\n",
    "import numpy as np\n",
    "print('Number of records without outliers: ', (np.abs(stats.zscore(df)) < 3).all(axis=1).sum(axis=0))"
   ]
  },
  {
   "cell_type": "code",
   "execution_count": 5,
   "metadata": {
    "scrolled": false
   },
   "outputs": [
    {
     "name": "stdout",
     "output_type": "stream",
     "text": [
      "Dimensions of dataset after excluding outliers: (246943, 30) \n",
      "\n",
      "Number of events:  0 \n",
      "\n"
     ]
    }
   ],
   "source": [
    "# drop records with outliers \n",
    "df_otlr = df[(np.abs(stats.zscore(df)) < 3).all(axis=1)]\n",
    "\n",
    "# get dimensions of the new dataset\n",
    "print('Dimensions of dataset after excluding outliers:', df_otlr.shape, '\\n')\n",
    "\n",
    "# calculate event rate after dropping outliers\n",
    "print('Number of events: ',sum(df_otlr.loc[:, 'Class']), '\\n')\n"
   ]
  },
  {
   "cell_type": "markdown",
   "metadata": {},
   "source": [
    "As the number of events are dropped to zero on removing outliers, we'll not be dropping the outliers. "
   ]
  },
  {
   "cell_type": "markdown",
   "metadata": {},
   "source": [
    "##### 1.2.3 Remove duplicates"
   ]
  },
  {
   "cell_type": "markdown",
   "metadata": {},
   "source": [
    "We'll drop the duplicated rows and check the event rate"
   ]
  },
  {
   "cell_type": "code",
   "execution_count": 6,
   "metadata": {},
   "outputs": [
    {
     "name": "stdout",
     "output_type": "stream",
     "text": [
      "Number of duplicated rows:  9144\n",
      "Events after excluding dupes:  473\n",
      "Decrease in events after excluding dupes:  19\n",
      "Dimensions after dropping dupes:  (275663, 30)\n"
     ]
    }
   ],
   "source": [
    "# get number of duplicated rows\n",
    "print('Number of duplicated rows: ', df.duplicated().sum())\n",
    "\n",
    "# get number of events on exlcuding duplicates\n",
    "print('Events after excluding dupes: ', df.loc[~df.duplicated(),'Class'].sum())\n",
    "\n",
    "# decrease in number of events\n",
    "print('Decrease in events after excluding dupes: ', df.loc[:,'Class'].sum()- df.loc[~df.duplicated(),'Class'].sum())\n",
    "\n",
    "df = df.loc[~df.duplicated(),:]\n",
    "print('Dimensions after dropping dupes: ', df.shape)"
   ]
  },
  {
   "cell_type": "markdown",
   "metadata": {},
   "source": [
    "There is a decrease of 19 events on dropping the duplicate rows. We'll tackle this issue in the next section by balancing the dataset using oversampling."
   ]
  },
  {
   "cell_type": "markdown",
   "metadata": {},
   "source": [
    "##### 1.2.4 Balancing the dataset"
   ]
  },
  {
   "cell_type": "markdown",
   "metadata": {},
   "source": [
    "There are two ways we can go about to balance the dataset - undersampling and over sampling. In undersampling we select a only certain number of instances from the majority class to create a balanced dataset, whereas in oversampling we can either generate synthetic instances of the minority dataset or duplicate them to create a balanced dataset. We will balance the dataset using oversampling because in undersampling there is a loss of information involved."
   ]
  },
  {
   "cell_type": "markdown",
   "metadata": {},
   "source": [
    "We will use oversampling to synthetically increase the event rate in the dataset. Oversampling can be done by using -\n",
    "(i) *random oversampling*, \n",
    "(ii) *synthetic minority oversampling technique (SMOTE)* or through \n",
    "(iii) *Adaptive Synthetic (ADASYN)* sampling"
   ]
  },
  {
   "cell_type": "markdown",
   "metadata": {},
   "source": [
    "###### Random oversampling"
   ]
  },
  {
   "cell_type": "markdown",
   "metadata": {},
   "source": [
    "Random oversampling is the most naive approach wherein we duplicate instances from the minority class to create a balanced dataset. However, the model fitted on the balanced dataset resulting from this method of balancing is prone to overfitting as it replicates the minority class events. "
   ]
  },
  {
   "cell_type": "markdown",
   "metadata": {},
   "source": [
    "###### Synthetic Minority Oversampling Technique (SMOTE) "
   ]
  },
  {
   "cell_type": "markdown",
   "metadata": {},
   "source": [
    "Both SMOTE and ADASYN aim to reduce the likelihood of overfitting as is the case with random oversampling by generating synthetic instances of the minority class. In these methods, a subset of the data from the minority class is selected and new samples are generated considering its k nearest neighbors. For example, consider a sample $x_i$. A new sample - $x_{new}$ will be generated using the nearest neighbors of $x_i$. We'll consider 3 nearest neighbors for this example. Then, one of these nearest-neighbors $x_{zi}$ is selected and a sample is generated using the following equation - \n",
    "$$x_{new} = x_i + \\lambda * (x_{zi} - x_i)$$"
   ]
  },
  {
   "cell_type": "markdown",
   "metadata": {},
   "source": [
    "<img src=\"smote_adasyn_example.png\" alt=\"smote/adasyn use nearest neighbors to generate synthetic samples of the minority class\" style=\"height: 400px;\" title= 'smote/adasyn use nearest neighbors to generate synthetic samples of the minority class'/>"
   ]
  },
  {
   "cell_type": "markdown",
   "metadata": {},
   "source": [
    "SMOTE and ADASYN differ in the way they select the samples $x_i$."
   ]
  },
  {
   "cell_type": "markdown",
   "metadata": {},
   "source": [
    "SMOTE has a few variants. The regular SMOTE, described above, doesn't take into consideration the data distribution of the minority classes and the latent noises in the dataset. The modified SMOTE classifies each sample $x_i$ into either of three classes - noise sample, borderline sample or safe sample. A sample $x_i$ will be classified- as noise if all nearest-neighbors are from a different class than the one of $x_i$; as borderline/danger if at least half of the nearest neighbors are from the same class than $x_i$, or as safe if all nearest neighbors are from the same class as that of $x_i$"
   ]
  },
  {
   "cell_type": "markdown",
   "metadata": {},
   "source": [
    "ADASYN works similar to the regular SMOTE. However, the number of samples generated for each $x_i$ is proportional to the number of samples which are not from the same class as $x_i$ in a given neighborhood. "
   ]
  },
  {
   "cell_type": "markdown",
   "metadata": {},
   "source": [
    "###### ADASYN Algorithm"
   ]
  },
  {
   "cell_type": "markdown",
   "metadata": {},
   "source": [
    "We will go through the input to the ADASYN algorithm and the steps involved in this section."
   ]
  },
  {
   "cell_type": "markdown",
   "metadata": {},
   "source": [
    "The input to the ADASYN algorithm is the training dataset $D_{tr}$ with $m$ samples ${x_i, y_i}$, where $i$  $\\epsilon $ ${[1,m]}$. Here $x_i$ is an instance in the $n$ dimensional feature space $X$ and $y_i$ $\\epsilon$  $Y = {[1, −1]}$ is the class identity label associated with $x_i$. Define $m_s$ and $m_l$ as the number of minority class examples and the number of majority class examples, respectively. Therefore, $m_s ≤ ml$ and $m_s + m_l = m$."
   ]
  },
  {
   "cell_type": "markdown",
   "metadata": {},
   "source": [
    "**Step 1** \n",
    "\n",
    "We first calculate the degree of imbalance which is defined by \n",
    "$$d = m_s/m_l$$ where $d$ $\\epsilon$ $(0,1]$"
   ]
  },
  {
   "cell_type": "markdown",
   "metadata": {},
   "source": [
    "In case $d$ is less than $d_{th}$ where $d_{th}$ is a preset threshold for the maximum tolerated degree of class imbalance ratio, we calculate the number of synthetic examples that we need to generate for the minority class using the below equation\n",
    "$$G = (m_l-m_s)*\\beta$$ \n",
    "\n",
    "Here $\\beta$ $\\epsilon$ $(0,1]$ is a parameter used to specify the desired balance level after generation of the synthetic data. $\\beta = 1$ means a fully balanced data set is created after the generalization process. "
   ]
  },
  {
   "cell_type": "markdown",
   "metadata": {},
   "source": [
    "**Step 2**\n",
    "\n",
    "For each sample $x_i$ $\\epsilon$ in the minorityclass, we find the $K$ nearest neighbors based on the Euclidean distance in $n$ the dimensional space of the data, and calculate a ratio called $r_i$ which is defined as:\n",
    "$$r_i = \\Delta_{i}/K$$ where  $i = 1, ..., m_s$\n",
    "where $\\Delta_{i}$ is the number of examples in the K nearest neighbors of $x_i$ that belong to the majority class, therefore $r_i$ $\\epsilon$ $[0, 1]$"
   ]
  },
  {
   "cell_type": "markdown",
   "metadata": {},
   "source": [
    "**Step 3**\n",
    "\n",
    "Normalize $r_i$ according to \n",
    "\n",
    "$$\\hat r_i = r_i/\\sum_{i=1}^{m_s} r_i $$\n",
    "\n",
    "so that $\\hat r_i$ is a density distribution "
   ]
  },
  {
   "cell_type": "markdown",
   "metadata": {},
   "source": [
    "**Step 4** \n",
    "\n",
    "For each sample $x_i$ we calculate the number of synthetic data examples that need to be generated from it using-\n",
    "$$g_i = \\hat r_i × G$$\n",
    "where $G$ is the total number of synthetic data examples that need to be generated for the minority class as defined in step 2."
   ]
  },
  {
   "cell_type": "markdown",
   "metadata": {},
   "source": [
    "**Step 5**\n",
    "\n",
    "For each minority class data example $x_i$, we generate $g_i$ synthetic data examples according to the following steps:\n",
    "\n",
    "*Do Loop* from $1$ to $g_i$:\n",
    "\n",
    "(i) Randomly choose one minority data example, $x_{zi}$, from the $K$ nearest neighbors for data $x_i$.\n",
    "\n",
    "(ii) Generate the synthetic data example:\n",
    "    $s_i = x_i + (x_{zi} − x_i) * \\lambda $\n",
    "where $(x_{zi} − x_i)$ is the difference vector in $n$ dimensional space, and $\\lambda$ is a random number: $\\lambda$  $\\epsilon$ [0, 1].\n",
    "\n",
    "*End Loop*"
   ]
  },
  {
   "cell_type": "markdown",
   "metadata": {},
   "source": [
    "The complete description for the alogrithm can be found [here](http://sci2s.ugr.es/keel/pdf/algorithm/congreso/2008-He-ieee.pdf)"
   ]
  },
  {
   "cell_type": "markdown",
   "metadata": {},
   "source": [
    "We will be using the ADASYN method to balance our dataset. "
   ]
  },
  {
   "cell_type": "code",
   "execution_count": 7,
   "metadata": {
    "collapsed": true
   },
   "outputs": [],
   "source": [
    "from imblearn.over_sampling import ADASYN\n",
    "X_resampled, y_resampled = ADASYN().fit_sample(df.iloc[:,0:29], df.loc[:,'Class'])"
   ]
  },
  {
   "cell_type": "code",
   "execution_count": 8,
   "metadata": {},
   "outputs": [
    {
     "name": "stdout",
     "output_type": "stream",
     "text": [
      "Event rate after data balancing:  50.0\n"
     ]
    }
   ],
   "source": [
    "# check event rate\n",
    "print('Event rate after data balancing: ', round(100*sum(y_resampled)/y_resampled.shape[0], 1))"
   ]
  },
  {
   "cell_type": "code",
   "execution_count": 9,
   "metadata": {
    "collapsed": true
   },
   "outputs": [],
   "source": [
    "# store in a dataframe\n",
    "df_blncd = pd.DataFrame(X_resampled)\n",
    "df_blncd.loc[:,'Class'] = y_resampled\n",
    "df_blncd.columns = df.columns\n",
    "# save as csv\n",
    "df_blncd.to_csv('creditcard_blncd.csv', index=False)"
   ]
  },
  {
   "cell_type": "code",
   "execution_count": 10,
   "metadata": {
    "collapsed": true
   },
   "outputs": [],
   "source": [
    "# load the dataset\n",
    "import pandas as pd\n",
    "import numpy as np\n",
    "df_blncd = pd.read_csv('creditcard_blncd.csv')"
   ]
  },
  {
   "cell_type": "code",
   "execution_count": 11,
   "metadata": {},
   "outputs": [
    {
     "name": "stdout",
     "output_type": "stream",
     "text": [
      "(550343, 30)\n",
      "Index(['V1', 'V2', 'V3', 'V4', 'V5', 'V6', 'V7', 'V8', 'V9', 'V10', 'V11',\n",
      "       'V12', 'V13', 'V14', 'V15', 'V16', 'V17', 'V18', 'V19', 'V20', 'V21',\n",
      "       'V22', 'V23', 'V24', 'V25', 'V26', 'V27', 'V28', 'Amount', 'Class'],\n",
      "      dtype='object')\n"
     ]
    }
   ],
   "source": [
    "# dimensions\n",
    "print(df_blncd.shape)\n",
    "print(df_blncd.columns)"
   ]
  },
  {
   "cell_type": "markdown",
   "metadata": {},
   "source": [
    "##### 1.2.5 Split into test and train dataset"
   ]
  },
  {
   "cell_type": "markdown",
   "metadata": {},
   "source": [
    "We will split the dataset in two parts - train and test. We will train the model on the train dataset and check the accuracy metrics on the test dataset. The train dataset will contain seventy percent of the records, remaining will be the test dataset. We will use stratified random sampling for this. "
   ]
  },
  {
   "cell_type": "code",
   "execution_count": 12,
   "metadata": {
    "collapsed": true
   },
   "outputs": [],
   "source": [
    "from sklearn.model_selection import StratifiedShuffleSplit\n",
    "srsampler = StratifiedShuffleSplit(n_splits=1, test_size=0.3, random_state=42)"
   ]
  },
  {
   "cell_type": "code",
   "execution_count": 13,
   "metadata": {},
   "outputs": [
    {
     "name": "stdout",
     "output_type": "stream",
     "text": [
      "Number of records in train dataset:  385240\n",
      "Number of records in test dataset:  165103\n"
     ]
    }
   ],
   "source": [
    "indices = srsampler.split(df_blncd.iloc[:,0:29].values, df_blncd.iloc[:,29].values)\n",
    "indices = list(indices)\n",
    "train_indices = indices[0][0]\n",
    "test_indices = indices[0][1]\n",
    "print('Number of records in train dataset: ', len(train_indices))\n",
    "print('Number of records in test dataset: ', len(test_indices))"
   ]
  },
  {
   "cell_type": "code",
   "execution_count": 14,
   "metadata": {
    "scrolled": true
   },
   "outputs": [
    {
     "data": {
      "text/html": [
       "<div>\n",
       "<style>\n",
       "    .dataframe thead tr:only-child th {\n",
       "        text-align: right;\n",
       "    }\n",
       "\n",
       "    .dataframe thead th {\n",
       "        text-align: left;\n",
       "    }\n",
       "\n",
       "    .dataframe tbody tr th {\n",
       "        vertical-align: top;\n",
       "    }\n",
       "</style>\n",
       "<table border=\"1\" class=\"dataframe\">\n",
       "  <thead>\n",
       "    <tr style=\"text-align: right;\">\n",
       "      <th></th>\n",
       "      <th>V1</th>\n",
       "      <th>V2</th>\n",
       "      <th>V3</th>\n",
       "      <th>V4</th>\n",
       "      <th>V5</th>\n",
       "      <th>V6</th>\n",
       "      <th>V7</th>\n",
       "      <th>V8</th>\n",
       "      <th>V9</th>\n",
       "      <th>V10</th>\n",
       "      <th>...</th>\n",
       "      <th>V21</th>\n",
       "      <th>V22</th>\n",
       "      <th>V23</th>\n",
       "      <th>V24</th>\n",
       "      <th>V25</th>\n",
       "      <th>V26</th>\n",
       "      <th>V27</th>\n",
       "      <th>V28</th>\n",
       "      <th>Amount</th>\n",
       "      <th>Class</th>\n",
       "    </tr>\n",
       "  </thead>\n",
       "  <tbody>\n",
       "    <tr>\n",
       "      <th>325649</th>\n",
       "      <td>1.101776</td>\n",
       "      <td>0.116926</td>\n",
       "      <td>0.145021</td>\n",
       "      <td>0.894843</td>\n",
       "      <td>-0.044685</td>\n",
       "      <td>-0.029366</td>\n",
       "      <td>-0.061098</td>\n",
       "      <td>0.101918</td>\n",
       "      <td>0.102936</td>\n",
       "      <td>-0.306295</td>\n",
       "      <td>...</td>\n",
       "      <td>-0.243384</td>\n",
       "      <td>-0.718820</td>\n",
       "      <td>0.032443</td>\n",
       "      <td>-0.391436</td>\n",
       "      <td>0.263932</td>\n",
       "      <td>-0.131389</td>\n",
       "      <td>0.011217</td>\n",
       "      <td>0.030805</td>\n",
       "      <td>45.769314</td>\n",
       "      <td>1</td>\n",
       "    </tr>\n",
       "    <tr>\n",
       "      <th>281199</th>\n",
       "      <td>0.312911</td>\n",
       "      <td>0.055670</td>\n",
       "      <td>-0.086909</td>\n",
       "      <td>1.846493</td>\n",
       "      <td>-1.731073</td>\n",
       "      <td>0.935974</td>\n",
       "      <td>0.616495</td>\n",
       "      <td>-0.294101</td>\n",
       "      <td>0.513687</td>\n",
       "      <td>-0.562320</td>\n",
       "      <td>...</td>\n",
       "      <td>-0.287522</td>\n",
       "      <td>-0.007184</td>\n",
       "      <td>-0.500432</td>\n",
       "      <td>-0.308413</td>\n",
       "      <td>0.374943</td>\n",
       "      <td>-0.234936</td>\n",
       "      <td>0.441054</td>\n",
       "      <td>-0.146020</td>\n",
       "      <td>353.267403</td>\n",
       "      <td>1</td>\n",
       "    </tr>\n",
       "    <tr>\n",
       "      <th>402987</th>\n",
       "      <td>-4.010387</td>\n",
       "      <td>1.799622</td>\n",
       "      <td>-2.153711</td>\n",
       "      <td>-0.313743</td>\n",
       "      <td>-1.097320</td>\n",
       "      <td>-1.912812</td>\n",
       "      <td>-2.017073</td>\n",
       "      <td>0.286517</td>\n",
       "      <td>0.233477</td>\n",
       "      <td>-3.587238</td>\n",
       "      <td>...</td>\n",
       "      <td>0.510082</td>\n",
       "      <td>-0.087087</td>\n",
       "      <td>-1.030392</td>\n",
       "      <td>0.213720</td>\n",
       "      <td>-0.030780</td>\n",
       "      <td>-0.920902</td>\n",
       "      <td>-0.862308</td>\n",
       "      <td>0.002562</td>\n",
       "      <td>56.994598</td>\n",
       "      <td>1</td>\n",
       "    </tr>\n",
       "    <tr>\n",
       "      <th>544787</th>\n",
       "      <td>-1.096517</td>\n",
       "      <td>0.466052</td>\n",
       "      <td>1.166159</td>\n",
       "      <td>0.459209</td>\n",
       "      <td>1.227837</td>\n",
       "      <td>0.541672</td>\n",
       "      <td>-0.132568</td>\n",
       "      <td>0.413682</td>\n",
       "      <td>-0.438115</td>\n",
       "      <td>-0.371113</td>\n",
       "      <td>...</td>\n",
       "      <td>-0.090748</td>\n",
       "      <td>0.079325</td>\n",
       "      <td>0.126413</td>\n",
       "      <td>-0.632976</td>\n",
       "      <td>-1.031886</td>\n",
       "      <td>0.197418</td>\n",
       "      <td>0.412449</td>\n",
       "      <td>0.187424</td>\n",
       "      <td>7.866074</td>\n",
       "      <td>1</td>\n",
       "    </tr>\n",
       "    <tr>\n",
       "      <th>377550</th>\n",
       "      <td>-1.453073</td>\n",
       "      <td>-0.646961</td>\n",
       "      <td>0.640625</td>\n",
       "      <td>-0.174868</td>\n",
       "      <td>0.342762</td>\n",
       "      <td>-0.086093</td>\n",
       "      <td>0.650403</td>\n",
       "      <td>-0.206552</td>\n",
       "      <td>-0.507961</td>\n",
       "      <td>0.265396</td>\n",
       "      <td>...</td>\n",
       "      <td>-0.507336</td>\n",
       "      <td>-0.562285</td>\n",
       "      <td>-0.302789</td>\n",
       "      <td>-0.387742</td>\n",
       "      <td>-0.211658</td>\n",
       "      <td>-0.361513</td>\n",
       "      <td>0.056186</td>\n",
       "      <td>0.031322</td>\n",
       "      <td>209.928508</td>\n",
       "      <td>1</td>\n",
       "    </tr>\n",
       "  </tbody>\n",
       "</table>\n",
       "<p>5 rows × 30 columns</p>\n",
       "</div>"
      ],
      "text/plain": [
       "              V1        V2        V3        V4        V5        V6        V7  \\\n",
       "325649  1.101776  0.116926  0.145021  0.894843 -0.044685 -0.029366 -0.061098   \n",
       "281199  0.312911  0.055670 -0.086909  1.846493 -1.731073  0.935974  0.616495   \n",
       "402987 -4.010387  1.799622 -2.153711 -0.313743 -1.097320 -1.912812 -2.017073   \n",
       "544787 -1.096517  0.466052  1.166159  0.459209  1.227837  0.541672 -0.132568   \n",
       "377550 -1.453073 -0.646961  0.640625 -0.174868  0.342762 -0.086093  0.650403   \n",
       "\n",
       "              V8        V9       V10  ...         V21       V22       V23  \\\n",
       "325649  0.101918  0.102936 -0.306295  ...   -0.243384 -0.718820  0.032443   \n",
       "281199 -0.294101  0.513687 -0.562320  ...   -0.287522 -0.007184 -0.500432   \n",
       "402987  0.286517  0.233477 -3.587238  ...    0.510082 -0.087087 -1.030392   \n",
       "544787  0.413682 -0.438115 -0.371113  ...   -0.090748  0.079325  0.126413   \n",
       "377550 -0.206552 -0.507961  0.265396  ...   -0.507336 -0.562285 -0.302789   \n",
       "\n",
       "             V24       V25       V26       V27       V28      Amount  Class  \n",
       "325649 -0.391436  0.263932 -0.131389  0.011217  0.030805   45.769314      1  \n",
       "281199 -0.308413  0.374943 -0.234936  0.441054 -0.146020  353.267403      1  \n",
       "402987  0.213720 -0.030780 -0.920902 -0.862308  0.002562   56.994598      1  \n",
       "544787 -0.632976 -1.031886  0.197418  0.412449  0.187424    7.866074      1  \n",
       "377550 -0.387742 -0.211658 -0.361513  0.056186  0.031322  209.928508      1  \n",
       "\n",
       "[5 rows x 30 columns]"
      ]
     },
     "execution_count": 14,
     "metadata": {},
     "output_type": "execute_result"
    }
   ],
   "source": [
    "# display five random rows\n",
    "df_blncd.iloc[np.random.choice(df_blncd.shape[0],5),:]"
   ]
  },
  {
   "cell_type": "code",
   "execution_count": 15,
   "metadata": {},
   "outputs": [
    {
     "data": {
      "image/png": "[encoded data removed]",
      "text/plain": [
       "<matplotlib.figure.Figure at 0x10c4e0f28>"
      ]
     },
     "metadata": {},
     "output_type": "display_data"
    }
   ],
   "source": [
    "import matplotlib.pyplot as plt\n",
    "pd.value_counts(df_blncd['Class']).plot.bar()\n",
    "plt.title('Distribution of non-fraud and fraud events in the balanced dataset')\n",
    "plt.xlabel('Class')\n",
    "plt.ylabel('Frequency')\n",
    "df_blncd['Class'].value_counts()\n",
    "plt.show()"
   ]
  },
  {
   "cell_type": "markdown",
   "metadata": {},
   "source": [
    "###### 1.2.6 Normalize the amount and drop Time column"
   ]
  },
  {
   "cell_type": "markdown",
   "metadata": {},
   "source": [
    "We will normalize the amount column to make the model independent of the unit in which the amount is represented. We will also drop the the Time from our model building."
   ]
  },
  {
   "cell_type": "code",
   "execution_count": 16,
   "metadata": {
    "scrolled": false
   },
   "outputs": [
    {
     "name": "stdout",
     "output_type": "stream",
     "text": [
      "Index(['V1', 'V2', 'V3', 'V4', 'V5', 'V6', 'V7', 'V8', 'V9', 'V10', 'V11',\n",
      "       'V12', 'V13', 'V14', 'V15', 'V16', 'V17', 'V18', 'V19', 'V20', 'V21',\n",
      "       'V22', 'V23', 'V24', 'V25', 'V26', 'V27', 'V28', 'Class', 'normAmount'],\n",
      "      dtype='object')\n"
     ]
    }
   ],
   "source": [
    "from sklearn.preprocessing import StandardScaler\n",
    "df_blncd['normAmount'] = StandardScaler().fit_transform(df_blncd['Amount'].values.reshape(-1, 1))\n",
    "df_blncd.drop(['Amount'], axis=1,inplace=True)\n",
    "print(df_blncd.columns)"
   ]
  },
  {
   "cell_type": "code",
   "execution_count": 17,
   "metadata": {
    "scrolled": false
   },
   "outputs": [
    {
     "data": {
      "text/html": [
       "<div>\n",
       "<style>\n",
       "    .dataframe thead tr:only-child th {\n",
       "        text-align: right;\n",
       "    }\n",
       "\n",
       "    .dataframe thead th {\n",
       "        text-align: left;\n",
       "    }\n",
       "\n",
       "    .dataframe tbody tr th {\n",
       "        vertical-align: top;\n",
       "    }\n",
       "</style>\n",
       "<table border=\"1\" class=\"dataframe\">\n",
       "  <thead>\n",
       "    <tr style=\"text-align: right;\">\n",
       "      <th></th>\n",
       "      <th>V1</th>\n",
       "      <th>V2</th>\n",
       "      <th>V3</th>\n",
       "      <th>V4</th>\n",
       "      <th>V5</th>\n",
       "      <th>V6</th>\n",
       "      <th>V7</th>\n",
       "      <th>V8</th>\n",
       "      <th>V9</th>\n",
       "      <th>V10</th>\n",
       "      <th>...</th>\n",
       "      <th>V21</th>\n",
       "      <th>V22</th>\n",
       "      <th>V23</th>\n",
       "      <th>V24</th>\n",
       "      <th>V25</th>\n",
       "      <th>V26</th>\n",
       "      <th>V27</th>\n",
       "      <th>V28</th>\n",
       "      <th>normAmount</th>\n",
       "      <th>Class</th>\n",
       "    </tr>\n",
       "  </thead>\n",
       "  <tbody>\n",
       "    <tr>\n",
       "      <th>0</th>\n",
       "      <td>-1.359807</td>\n",
       "      <td>-0.072781</td>\n",
       "      <td>2.536347</td>\n",
       "      <td>1.378155</td>\n",
       "      <td>-0.338321</td>\n",
       "      <td>0.462388</td>\n",
       "      <td>0.239599</td>\n",
       "      <td>0.098698</td>\n",
       "      <td>0.363787</td>\n",
       "      <td>0.090794</td>\n",
       "      <td>...</td>\n",
       "      <td>-0.018307</td>\n",
       "      <td>0.277838</td>\n",
       "      <td>-0.110474</td>\n",
       "      <td>0.066928</td>\n",
       "      <td>0.128539</td>\n",
       "      <td>-0.189115</td>\n",
       "      <td>0.133558</td>\n",
       "      <td>-0.021053</td>\n",
       "      <td>0.084585</td>\n",
       "      <td>0</td>\n",
       "    </tr>\n",
       "    <tr>\n",
       "      <th>1</th>\n",
       "      <td>1.191857</td>\n",
       "      <td>0.266151</td>\n",
       "      <td>0.166480</td>\n",
       "      <td>0.448154</td>\n",
       "      <td>0.060018</td>\n",
       "      <td>-0.082361</td>\n",
       "      <td>-0.078803</td>\n",
       "      <td>0.085102</td>\n",
       "      <td>-0.255425</td>\n",
       "      <td>-0.166974</td>\n",
       "      <td>...</td>\n",
       "      <td>-0.225775</td>\n",
       "      <td>-0.638672</td>\n",
       "      <td>0.101288</td>\n",
       "      <td>-0.339846</td>\n",
       "      <td>0.167170</td>\n",
       "      <td>0.125895</td>\n",
       "      <td>-0.008983</td>\n",
       "      <td>0.014724</td>\n",
       "      <td>-0.484734</td>\n",
       "      <td>0</td>\n",
       "    </tr>\n",
       "    <tr>\n",
       "      <th>2</th>\n",
       "      <td>-1.358354</td>\n",
       "      <td>-1.340163</td>\n",
       "      <td>1.773209</td>\n",
       "      <td>0.379780</td>\n",
       "      <td>-0.503198</td>\n",
       "      <td>1.800499</td>\n",
       "      <td>0.791461</td>\n",
       "      <td>0.247676</td>\n",
       "      <td>-1.514654</td>\n",
       "      <td>0.207643</td>\n",
       "      <td>...</td>\n",
       "      <td>0.247998</td>\n",
       "      <td>0.771679</td>\n",
       "      <td>0.909412</td>\n",
       "      <td>-0.689281</td>\n",
       "      <td>-0.327642</td>\n",
       "      <td>-0.139097</td>\n",
       "      <td>-0.055353</td>\n",
       "      <td>-0.059752</td>\n",
       "      <td>0.972062</td>\n",
       "      <td>0</td>\n",
       "    </tr>\n",
       "    <tr>\n",
       "      <th>3</th>\n",
       "      <td>-0.966272</td>\n",
       "      <td>-0.185226</td>\n",
       "      <td>1.792993</td>\n",
       "      <td>-0.863291</td>\n",
       "      <td>-0.010309</td>\n",
       "      <td>1.247203</td>\n",
       "      <td>0.237609</td>\n",
       "      <td>0.377436</td>\n",
       "      <td>-1.387024</td>\n",
       "      <td>-0.054952</td>\n",
       "      <td>...</td>\n",
       "      <td>-0.108300</td>\n",
       "      <td>0.005274</td>\n",
       "      <td>-0.190321</td>\n",
       "      <td>-1.175575</td>\n",
       "      <td>0.647376</td>\n",
       "      <td>-0.221929</td>\n",
       "      <td>0.062723</td>\n",
       "      <td>0.061458</td>\n",
       "      <td>-0.016624</td>\n",
       "      <td>0</td>\n",
       "    </tr>\n",
       "    <tr>\n",
       "      <th>4</th>\n",
       "      <td>-1.158233</td>\n",
       "      <td>0.877737</td>\n",
       "      <td>1.548718</td>\n",
       "      <td>0.403034</td>\n",
       "      <td>-0.407193</td>\n",
       "      <td>0.095921</td>\n",
       "      <td>0.592941</td>\n",
       "      <td>-0.270533</td>\n",
       "      <td>0.817739</td>\n",
       "      <td>0.753074</td>\n",
       "      <td>...</td>\n",
       "      <td>-0.009431</td>\n",
       "      <td>0.798278</td>\n",
       "      <td>-0.137458</td>\n",
       "      <td>0.141267</td>\n",
       "      <td>-0.206010</td>\n",
       "      <td>0.502292</td>\n",
       "      <td>0.219422</td>\n",
       "      <td>0.215153</td>\n",
       "      <td>-0.223962</td>\n",
       "      <td>0</td>\n",
       "    </tr>\n",
       "  </tbody>\n",
       "</table>\n",
       "<p>5 rows × 30 columns</p>\n",
       "</div>"
      ],
      "text/plain": [
       "         V1        V2        V3        V4        V5        V6        V7  \\\n",
       "0 -1.359807 -0.072781  2.536347  1.378155 -0.338321  0.462388  0.239599   \n",
       "1  1.191857  0.266151  0.166480  0.448154  0.060018 -0.082361 -0.078803   \n",
       "2 -1.358354 -1.340163  1.773209  0.379780 -0.503198  1.800499  0.791461   \n",
       "3 -0.966272 -0.185226  1.792993 -0.863291 -0.010309  1.247203  0.237609   \n",
       "4 -1.158233  0.877737  1.548718  0.403034 -0.407193  0.095921  0.592941   \n",
       "\n",
       "         V8        V9       V10  ...         V21       V22       V23  \\\n",
       "0  0.098698  0.363787  0.090794  ...   -0.018307  0.277838 -0.110474   \n",
       "1  0.085102 -0.255425 -0.166974  ...   -0.225775 -0.638672  0.101288   \n",
       "2  0.247676 -1.514654  0.207643  ...    0.247998  0.771679  0.909412   \n",
       "3  0.377436 -1.387024 -0.054952  ...   -0.108300  0.005274 -0.190321   \n",
       "4 -0.270533  0.817739  0.753074  ...   -0.009431  0.798278 -0.137458   \n",
       "\n",
       "        V24       V25       V26       V27       V28  normAmount  Class  \n",
       "0  0.066928  0.128539 -0.189115  0.133558 -0.021053    0.084585      0  \n",
       "1 -0.339846  0.167170  0.125895 -0.008983  0.014724   -0.484734      0  \n",
       "2 -0.689281 -0.327642 -0.139097 -0.055353 -0.059752    0.972062      0  \n",
       "3 -1.175575  0.647376 -0.221929  0.062723  0.061458   -0.016624      0  \n",
       "4  0.141267 -0.206010  0.502292  0.219422  0.215153   -0.223962      0  \n",
       "\n",
       "[5 rows x 30 columns]"
      ]
     },
     "execution_count": 17,
     "metadata": {},
     "output_type": "execute_result"
    }
   ],
   "source": [
    "reorder_cols = list(range(28))+[29,28]\n",
    "df_blncd = df_blncd.iloc[:,reorder_cols]\n",
    "df_blncd.head()"
   ]
  },
  {
   "cell_type": "code",
   "execution_count": 21,
   "metadata": {},
   "outputs": [
    {
     "name": "stdout",
     "output_type": "stream",
     "text": [
      "(385240, 30)\n",
      "(165103, 30)\n"
     ]
    }
   ],
   "source": [
    "df_train = df_blncd.iloc[train_indices,:]\n",
    "df_test = df_blncd.iloc[test_indices,:]\n",
    "print(df_train.shape)\n",
    "print(df_test.shape)"
   ]
  },
  {
   "cell_type": "markdown",
   "metadata": {},
   "source": [
    "#### 2. Logistic Regression"
   ]
  },
  {
   "cell_type": "markdown",
   "metadata": {},
   "source": [
    "We will build a logistic model in this section and assess its performance. Since the number of features in our dataset are not too many we will use L2 regularization for our models. We will train our model on `df_train` and calculate the model statistics on the `df_test` dataset."
   ]
  },
  {
   "cell_type": "code",
   "execution_count": 22,
   "metadata": {
    "collapsed": true
   },
   "outputs": [],
   "source": [
    "from sklearn.linear_model import LogisticRegression\n",
    "from sklearn.metrics import confusion_matrix, precision_recall_curve, auc, roc_auc_score, roc_curve, recall_score, classification_report"
   ]
  },
  {
   "cell_type": "code",
   "execution_count": 23,
   "metadata": {
    "collapsed": true
   },
   "outputs": [],
   "source": [
    "# instantiate the model\n",
    "log_clf = LogisticRegression(penalty='l2', dual=False, tol=0.0001, C=10, fit_intercept=True, \n",
    "                        intercept_scaling=1, class_weight=None, random_state=None, \n",
    "                        solver='liblinear', max_iter=100, multi_class='ovr', \n",
    "                        verbose=0, warm_start=False, n_jobs=1)"
   ]
  },
  {
   "cell_type": "code",
   "execution_count": 24,
   "metadata": {},
   "outputs": [
    {
     "data": {
      "text/plain": [
       "LogisticRegression(C=10, class_weight=None, dual=False, fit_intercept=True,\n",
       "          intercept_scaling=1, max_iter=100, multi_class='ovr', n_jobs=1,\n",
       "          penalty='l2', random_state=None, solver='liblinear', tol=0.0001,\n",
       "          verbose=0, warm_start=False)"
      ]
     },
     "execution_count": 24,
     "metadata": {},
     "output_type": "execute_result"
    }
   ],
   "source": [
    "# fit the model\n",
    "log_clf.fit(df_train.iloc[:,0:29], df_train.loc[:,'Class'])"
   ]
  },
  {
   "cell_type": "code",
   "execution_count": 25,
   "metadata": {
    "collapsed": true
   },
   "outputs": [],
   "source": [
    "# make predictions on the test dataset\n",
    "predictions = log_clf.predict(df_test.iloc[:,0:29])"
   ]
  },
  {
   "cell_type": "code",
   "execution_count": 26,
   "metadata": {},
   "outputs": [
    {
     "name": "stdout",
     "output_type": "stream",
     "text": [
      "             precision    recall  f1-score   support\n",
      "\n",
      "  Legitmate       0.80      0.90      0.85     82557\n",
      "      Fraud       0.89      0.77      0.82     82546\n",
      "\n",
      "avg / total       0.84      0.84      0.84    165103\n",
      "\n"
     ]
    }
   ],
   "source": [
    "# get classification report\n",
    "target_names=['Legitmate', 'Fraud']\n",
    "print(classification_report(df_test.loc[:,'Class'], predictions, target_names=target_names))"
   ]
  },
  {
   "cell_type": "code",
   "execution_count": 27,
   "metadata": {
    "collapsed": true
   },
   "outputs": [],
   "source": [
    "import itertools\n",
    "\n",
    "def plot_confusion_matrix(cm, classes,\n",
    "                          normalize=False,\n",
    "                          title='Confusion matrix',\n",
    "                          cmap=plt.cm.Blues):\n",
    "    \"\"\"\n",
    "    This function prints and plots the confusion matrix.\n",
    "    Normalization can be applied by setting `normalize=True`.\n",
    "    \"\"\"\n",
    "    plt.imshow(cm, interpolation='nearest', cmap=cmap)\n",
    "    plt.title(title)\n",
    "    plt.colorbar()\n",
    "    tick_marks = np.arange(len(classes))\n",
    "    plt.xticks(tick_marks, classes, rotation=0)\n",
    "    plt.yticks(tick_marks, classes)\n",
    "\n",
    "    if normalize:\n",
    "        cm = cm.astype('float') / cm.sum(axis=1)[:, np.newaxis]\n",
    "        #print(\"Normalized confusion matrix\")\n",
    "    else:\n",
    "        1#print('Confusion matrix, without normalization')\n",
    "\n",
    "    #print(cm)\n",
    "\n",
    "    thresh = cm.max() / 2.\n",
    "    for i, j in itertools.product(range(cm.shape[0]), range(cm.shape[1])):\n",
    "        plt.text(j, i, cm[i, j],\n",
    "                 horizontalalignment=\"center\",\n",
    "                 color=\"white\" if cm[i, j] > thresh else \"black\")\n",
    "\n",
    "    plt.tight_layout()\n",
    "    plt.ylabel('True label')\n",
    "    plt.xlabel('Predicted label')\n",
    "    plt.show()"
   ]
  },
  {
   "cell_type": "code",
   "execution_count": 28,
   "metadata": {},
   "outputs": [
    {
     "data": {
      "image/png": "[encoded data removed]",
      "text/plain": [
       "<matplotlib.figure.Figure at 0x10b96ad68>"
      ]
     },
     "metadata": {},
     "output_type": "display_data"
    }
   ],
   "source": [
    "# plot the confusion matrix\n",
    "cnf_matrix_tra = confusion_matrix(df_test.loc[:,'Class'], predictions)\n",
    "class_names = ['Legitimate','Fraud']\n",
    "plot_confusion_matrix(cnf_matrix_tra, classes=class_names, title='Confusion matrix')"
   ]
  },
  {
   "cell_type": "code",
   "execution_count": 30,
   "metadata": {},
   "outputs": [
    {
     "name": "stdout",
     "output_type": "stream",
     "text": [
      "AUC ROC:  0.923938887014\n"
     ]
    },
    {
     "data": {
      "image/png": "[encoded data removed]",
      "text/plain": [
       "<matplotlib.figure.Figure at 0x10d68bbe0>"
      ]
     },
     "metadata": {},
     "output_type": "display_data"
    }
   ],
   "source": [
    "# plot the AUC ROC curve\n",
    "y_pred_score_log = log_clf.decision_function(df_test.iloc[:,0:29])\n",
    "fpr_log, tpr_log, thresholds = roc_curve(df_test.loc[:,'Class'], y_pred_score_log)\n",
    "roc_auc_log = auc(fpr_log,tpr_log)\n",
    "print('AUC ROC: ',roc_auc_log)\n",
    "\n",
    "plt.title('Receiver Operating Characteristic')\n",
    "plt.plot(fpr_log, tpr_log, 'b',label='AUC = %0.3f'% roc_auc_log)\n",
    "plt.legend(loc='lower right')\n",
    "plt.plot([0,1],[0,1],'r--')\n",
    "plt.xlim([-0.1,1.0])\n",
    "plt.ylim([-0.1,1.01])\n",
    "plt.ylabel('True Positive Rate')\n",
    "plt.xlabel('False Positive Rate')\n",
    "plt.show()\n"
   ]
  },
  {
   "cell_type": "markdown",
   "metadata": {},
   "source": [
    "##### 3. Random Forest"
   ]
  },
  {
   "cell_type": "code",
   "execution_count": 31,
   "metadata": {
    "collapsed": true
   },
   "outputs": [],
   "source": [
    "from sklearn.ensemble import RandomForestClassifier\n",
    "rf_clf = RandomForestClassifier()"
   ]
  },
  {
   "cell_type": "code",
   "execution_count": 33,
   "metadata": {
    "scrolled": true
   },
   "outputs": [
    {
     "ename": "TypeError",
     "evalue": "__cinit__() takes exactly 6 positional arguments (7 given)",
     "output_type": "error",
     "traceback": [
      "\u001b[0;31m---------------------------------------------------------------------------\u001b[0m",
      "\u001b[0;31mTypeError\u001b[0m                                 Traceback (most recent call last)",
      "\u001b[0;32m<ipython-input-33-f51b4ea62989>\u001b[0m in \u001b[0;36m<module>\u001b[0;34m()\u001b[0m\n\u001b[1;32m      1\u001b[0m \u001b[0;31m# fit the classifier\u001b[0m\u001b[0;34m\u001b[0m\u001b[0;34m\u001b[0m\u001b[0m\n\u001b[0;32m----> 2\u001b[0;31m \u001b[0mrf_clf\u001b[0m\u001b[0;34m.\u001b[0m\u001b[0mfit\u001b[0m\u001b[0;34m(\u001b[0m\u001b[0mdf_train\u001b[0m\u001b[0;34m.\u001b[0m\u001b[0miloc\u001b[0m\u001b[0;34m[\u001b[0m\u001b[0;34m:\u001b[0m\u001b[0;34m,\u001b[0m\u001b[0;36m0\u001b[0m\u001b[0;34m:\u001b[0m\u001b[0;36m29\u001b[0m\u001b[0;34m]\u001b[0m\u001b[0;34m,\u001b[0m \u001b[0mdf_train\u001b[0m\u001b[0;34m.\u001b[0m\u001b[0mloc\u001b[0m\u001b[0;34m[\u001b[0m\u001b[0;34m:\u001b[0m\u001b[0;34m,\u001b[0m\u001b[0;34m'Class'\u001b[0m\u001b[0;34m]\u001b[0m\u001b[0;34m)\u001b[0m\u001b[0;34m\u001b[0m\u001b[0m\n\u001b[0m",
      "\u001b[0;32m/Library/Frameworks/Python.framework/Versions/3.6/lib/python3.6/site-packages/sklearn/ensemble/forest.py\u001b[0m in \u001b[0;36mfit\u001b[0;34m(self, X, y, sample_weight)\u001b[0m\n\u001b[1;32m    325\u001b[0m                     \u001b[0mt\u001b[0m\u001b[0;34m,\u001b[0m \u001b[0mself\u001b[0m\u001b[0;34m,\u001b[0m \u001b[0mX\u001b[0m\u001b[0;34m,\u001b[0m \u001b[0my\u001b[0m\u001b[0;34m,\u001b[0m \u001b[0msample_weight\u001b[0m\u001b[0;34m,\u001b[0m \u001b[0mi\u001b[0m\u001b[0;34m,\u001b[0m \u001b[0mlen\u001b[0m\u001b[0;34m(\u001b[0m\u001b[0mtrees\u001b[0m\u001b[0;34m)\u001b[0m\u001b[0;34m,\u001b[0m\u001b[0;34m\u001b[0m\u001b[0m\n\u001b[1;32m    326\u001b[0m                     verbose=self.verbose, class_weight=self.class_weight)\n\u001b[0;32m--> 327\u001b[0;31m                 for i, t in enumerate(trees))\n\u001b[0m\u001b[1;32m    328\u001b[0m \u001b[0;34m\u001b[0m\u001b[0m\n\u001b[1;32m    329\u001b[0m             \u001b[0;31m# Collect newly grown trees\u001b[0m\u001b[0;34m\u001b[0m\u001b[0;34m\u001b[0m\u001b[0m\n",
      "\u001b[0;32m/Library/Frameworks/Python.framework/Versions/3.6/lib/python3.6/site-packages/sklearn/externals/joblib/parallel.py\u001b[0m in \u001b[0;36m__call__\u001b[0;34m(self, iterable)\u001b[0m\n\u001b[1;32m    777\u001b[0m             \u001b[0;31m# was dispatched. In particular this covers the edge\u001b[0m\u001b[0;34m\u001b[0m\u001b[0;34m\u001b[0m\u001b[0m\n\u001b[1;32m    778\u001b[0m             \u001b[0;31m# case of Parallel used with an exhausted iterator.\u001b[0m\u001b[0;34m\u001b[0m\u001b[0;34m\u001b[0m\u001b[0m\n\u001b[0;32m--> 779\u001b[0;31m             \u001b[0;32mwhile\u001b[0m \u001b[0mself\u001b[0m\u001b[0;34m.\u001b[0m\u001b[0mdispatch_one_batch\u001b[0m\u001b[0;34m(\u001b[0m\u001b[0miterator\u001b[0m\u001b[0;34m)\u001b[0m\u001b[0;34m:\u001b[0m\u001b[0;34m\u001b[0m\u001b[0m\n\u001b[0m\u001b[1;32m    780\u001b[0m                 \u001b[0mself\u001b[0m\u001b[0;34m.\u001b[0m\u001b[0m_iterating\u001b[0m \u001b[0;34m=\u001b[0m \u001b[0;32mTrue\u001b[0m\u001b[0;34m\u001b[0m\u001b[0m\n\u001b[1;32m    781\u001b[0m             \u001b[0;32melse\u001b[0m\u001b[0;34m:\u001b[0m\u001b[0;34m\u001b[0m\u001b[0m\n",
      "\u001b[0;32m/Library/Frameworks/Python.framework/Versions/3.6/lib/python3.6/site-packages/sklearn/externals/joblib/parallel.py\u001b[0m in \u001b[0;36mdispatch_one_batch\u001b[0;34m(self, iterator)\u001b[0m\n\u001b[1;32m    623\u001b[0m                 \u001b[0;32mreturn\u001b[0m \u001b[0;32mFalse\u001b[0m\u001b[0;34m\u001b[0m\u001b[0m\n\u001b[1;32m    624\u001b[0m             \u001b[0;32melse\u001b[0m\u001b[0;34m:\u001b[0m\u001b[0;34m\u001b[0m\u001b[0m\n\u001b[0;32m--> 625\u001b[0;31m                 \u001b[0mself\u001b[0m\u001b[0;34m.\u001b[0m\u001b[0m_dispatch\u001b[0m\u001b[0;34m(\u001b[0m\u001b[0mtasks\u001b[0m\u001b[0;34m)\u001b[0m\u001b[0;34m\u001b[0m\u001b[0m\n\u001b[0m\u001b[1;32m    626\u001b[0m                 \u001b[0;32mreturn\u001b[0m \u001b[0;32mTrue\u001b[0m\u001b[0;34m\u001b[0m\u001b[0m\n\u001b[1;32m    627\u001b[0m \u001b[0;34m\u001b[0m\u001b[0m\n",
      "\u001b[0;32m/Library/Frameworks/Python.framework/Versions/3.6/lib/python3.6/site-packages/sklearn/externals/joblib/parallel.py\u001b[0m in \u001b[0;36m_dispatch\u001b[0;34m(self, batch)\u001b[0m\n\u001b[1;32m    586\u001b[0m         \u001b[0mdispatch_timestamp\u001b[0m \u001b[0;34m=\u001b[0m \u001b[0mtime\u001b[0m\u001b[0;34m.\u001b[0m\u001b[0mtime\u001b[0m\u001b[0;34m(\u001b[0m\u001b[0;34m)\u001b[0m\u001b[0;34m\u001b[0m\u001b[0m\n\u001b[1;32m    587\u001b[0m         \u001b[0mcb\u001b[0m \u001b[0;34m=\u001b[0m \u001b[0mBatchCompletionCallBack\u001b[0m\u001b[0;34m(\u001b[0m\u001b[0mdispatch_timestamp\u001b[0m\u001b[0;34m,\u001b[0m \u001b[0mlen\u001b[0m\u001b[0;34m(\u001b[0m\u001b[0mbatch\u001b[0m\u001b[0;34m)\u001b[0m\u001b[0;34m,\u001b[0m \u001b[0mself\u001b[0m\u001b[0;34m)\u001b[0m\u001b[0;34m\u001b[0m\u001b[0m\n\u001b[0;32m--> 588\u001b[0;31m         \u001b[0mjob\u001b[0m \u001b[0;34m=\u001b[0m \u001b[0mself\u001b[0m\u001b[0;34m.\u001b[0m\u001b[0m_backend\u001b[0m\u001b[0;34m.\u001b[0m\u001b[0mapply_async\u001b[0m\u001b[0;34m(\u001b[0m\u001b[0mbatch\u001b[0m\u001b[0;34m,\u001b[0m \u001b[0mcallback\u001b[0m\u001b[0;34m=\u001b[0m\u001b[0mcb\u001b[0m\u001b[0;34m)\u001b[0m\u001b[0;34m\u001b[0m\u001b[0m\n\u001b[0m\u001b[1;32m    589\u001b[0m         \u001b[0mself\u001b[0m\u001b[0;34m.\u001b[0m\u001b[0m_jobs\u001b[0m\u001b[0;34m.\u001b[0m\u001b[0mappend\u001b[0m\u001b[0;34m(\u001b[0m\u001b[0mjob\u001b[0m\u001b[0;34m)\u001b[0m\u001b[0;34m\u001b[0m\u001b[0m\n\u001b[1;32m    590\u001b[0m \u001b[0;34m\u001b[0m\u001b[0m\n",
      "\u001b[0;32m/Library/Frameworks/Python.framework/Versions/3.6/lib/python3.6/site-packages/sklearn/externals/joblib/_parallel_backends.py\u001b[0m in \u001b[0;36mapply_async\u001b[0;34m(self, func, callback)\u001b[0m\n\u001b[1;32m    109\u001b[0m     \u001b[0;32mdef\u001b[0m \u001b[0mapply_async\u001b[0m\u001b[0;34m(\u001b[0m\u001b[0mself\u001b[0m\u001b[0;34m,\u001b[0m \u001b[0mfunc\u001b[0m\u001b[0;34m,\u001b[0m \u001b[0mcallback\u001b[0m\u001b[0;34m=\u001b[0m\u001b[0;32mNone\u001b[0m\u001b[0;34m)\u001b[0m\u001b[0;34m:\u001b[0m\u001b[0;34m\u001b[0m\u001b[0m\n\u001b[1;32m    110\u001b[0m         \u001b[0;34m\"\"\"Schedule a func to be run\"\"\"\u001b[0m\u001b[0;34m\u001b[0m\u001b[0m\n\u001b[0;32m--> 111\u001b[0;31m         \u001b[0mresult\u001b[0m \u001b[0;34m=\u001b[0m \u001b[0mImmediateResult\u001b[0m\u001b[0;34m(\u001b[0m\u001b[0mfunc\u001b[0m\u001b[0;34m)\u001b[0m\u001b[0;34m\u001b[0m\u001b[0m\n\u001b[0m\u001b[1;32m    112\u001b[0m         \u001b[0;32mif\u001b[0m \u001b[0mcallback\u001b[0m\u001b[0;34m:\u001b[0m\u001b[0;34m\u001b[0m\u001b[0m\n\u001b[1;32m    113\u001b[0m             \u001b[0mcallback\u001b[0m\u001b[0;34m(\u001b[0m\u001b[0mresult\u001b[0m\u001b[0;34m)\u001b[0m\u001b[0;34m\u001b[0m\u001b[0m\n",
      "\u001b[0;32m/Library/Frameworks/Python.framework/Versions/3.6/lib/python3.6/site-packages/sklearn/externals/joblib/_parallel_backends.py\u001b[0m in \u001b[0;36m__init__\u001b[0;34m(self, batch)\u001b[0m\n\u001b[1;32m    330\u001b[0m         \u001b[0;31m# Don't delay the application, to avoid keeping the input\u001b[0m\u001b[0;34m\u001b[0m\u001b[0;34m\u001b[0m\u001b[0m\n\u001b[1;32m    331\u001b[0m         \u001b[0;31m# arguments in memory\u001b[0m\u001b[0;34m\u001b[0m\u001b[0;34m\u001b[0m\u001b[0m\n\u001b[0;32m--> 332\u001b[0;31m         \u001b[0mself\u001b[0m\u001b[0;34m.\u001b[0m\u001b[0mresults\u001b[0m \u001b[0;34m=\u001b[0m \u001b[0mbatch\u001b[0m\u001b[0;34m(\u001b[0m\u001b[0;34m)\u001b[0m\u001b[0;34m\u001b[0m\u001b[0m\n\u001b[0m\u001b[1;32m    333\u001b[0m \u001b[0;34m\u001b[0m\u001b[0m\n\u001b[1;32m    334\u001b[0m     \u001b[0;32mdef\u001b[0m \u001b[0mget\u001b[0m\u001b[0;34m(\u001b[0m\u001b[0mself\u001b[0m\u001b[0;34m)\u001b[0m\u001b[0;34m:\u001b[0m\u001b[0;34m\u001b[0m\u001b[0m\n",
      "\u001b[0;32m/Library/Frameworks/Python.framework/Versions/3.6/lib/python3.6/site-packages/sklearn/externals/joblib/parallel.py\u001b[0m in \u001b[0;36m__call__\u001b[0;34m(self)\u001b[0m\n\u001b[1;32m    129\u001b[0m \u001b[0;34m\u001b[0m\u001b[0m\n\u001b[1;32m    130\u001b[0m     \u001b[0;32mdef\u001b[0m \u001b[0m__call__\u001b[0m\u001b[0;34m(\u001b[0m\u001b[0mself\u001b[0m\u001b[0;34m)\u001b[0m\u001b[0;34m:\u001b[0m\u001b[0;34m\u001b[0m\u001b[0m\n\u001b[0;32m--> 131\u001b[0;31m         \u001b[0;32mreturn\u001b[0m \u001b[0;34m[\u001b[0m\u001b[0mfunc\u001b[0m\u001b[0;34m(\u001b[0m\u001b[0;34m*\u001b[0m\u001b[0margs\u001b[0m\u001b[0;34m,\u001b[0m \u001b[0;34m**\u001b[0m\u001b[0mkwargs\u001b[0m\u001b[0;34m)\u001b[0m \u001b[0;32mfor\u001b[0m \u001b[0mfunc\u001b[0m\u001b[0;34m,\u001b[0m \u001b[0margs\u001b[0m\u001b[0;34m,\u001b[0m \u001b[0mkwargs\u001b[0m \u001b[0;32min\u001b[0m \u001b[0mself\u001b[0m\u001b[0;34m.\u001b[0m\u001b[0mitems\u001b[0m\u001b[0;34m]\u001b[0m\u001b[0;34m\u001b[0m\u001b[0m\n\u001b[0m\u001b[1;32m    132\u001b[0m \u001b[0;34m\u001b[0m\u001b[0m\n\u001b[1;32m    133\u001b[0m     \u001b[0;32mdef\u001b[0m \u001b[0m__len__\u001b[0m\u001b[0;34m(\u001b[0m\u001b[0mself\u001b[0m\u001b[0;34m)\u001b[0m\u001b[0;34m:\u001b[0m\u001b[0;34m\u001b[0m\u001b[0m\n",
      "\u001b[0;32m/Library/Frameworks/Python.framework/Versions/3.6/lib/python3.6/site-packages/sklearn/externals/joblib/parallel.py\u001b[0m in \u001b[0;36m<listcomp>\u001b[0;34m(.0)\u001b[0m\n\u001b[1;32m    129\u001b[0m \u001b[0;34m\u001b[0m\u001b[0m\n\u001b[1;32m    130\u001b[0m     \u001b[0;32mdef\u001b[0m \u001b[0m__call__\u001b[0m\u001b[0;34m(\u001b[0m\u001b[0mself\u001b[0m\u001b[0;34m)\u001b[0m\u001b[0;34m:\u001b[0m\u001b[0;34m\u001b[0m\u001b[0m\n\u001b[0;32m--> 131\u001b[0;31m         \u001b[0;32mreturn\u001b[0m \u001b[0;34m[\u001b[0m\u001b[0mfunc\u001b[0m\u001b[0;34m(\u001b[0m\u001b[0;34m*\u001b[0m\u001b[0margs\u001b[0m\u001b[0;34m,\u001b[0m \u001b[0;34m**\u001b[0m\u001b[0mkwargs\u001b[0m\u001b[0;34m)\u001b[0m \u001b[0;32mfor\u001b[0m \u001b[0mfunc\u001b[0m\u001b[0;34m,\u001b[0m \u001b[0margs\u001b[0m\u001b[0;34m,\u001b[0m \u001b[0mkwargs\u001b[0m \u001b[0;32min\u001b[0m \u001b[0mself\u001b[0m\u001b[0;34m.\u001b[0m\u001b[0mitems\u001b[0m\u001b[0;34m]\u001b[0m\u001b[0;34m\u001b[0m\u001b[0m\n\u001b[0m\u001b[1;32m    132\u001b[0m \u001b[0;34m\u001b[0m\u001b[0m\n\u001b[1;32m    133\u001b[0m     \u001b[0;32mdef\u001b[0m \u001b[0m__len__\u001b[0m\u001b[0;34m(\u001b[0m\u001b[0mself\u001b[0m\u001b[0;34m)\u001b[0m\u001b[0;34m:\u001b[0m\u001b[0;34m\u001b[0m\u001b[0m\n",
      "\u001b[0;32m/Library/Frameworks/Python.framework/Versions/3.6/lib/python3.6/site-packages/sklearn/ensemble/forest.py\u001b[0m in \u001b[0;36m_parallel_build_trees\u001b[0;34m(tree, forest, X, y, sample_weight, tree_idx, n_trees, verbose, class_weight)\u001b[0m\n\u001b[1;32m    118\u001b[0m             \u001b[0mcurr_sample_weight\u001b[0m \u001b[0;34m*=\u001b[0m \u001b[0mcompute_sample_weight\u001b[0m\u001b[0;34m(\u001b[0m\u001b[0;34m'balanced'\u001b[0m\u001b[0;34m,\u001b[0m \u001b[0my\u001b[0m\u001b[0;34m,\u001b[0m \u001b[0mindices\u001b[0m\u001b[0;34m)\u001b[0m\u001b[0;34m\u001b[0m\u001b[0m\n\u001b[1;32m    119\u001b[0m \u001b[0;34m\u001b[0m\u001b[0m\n\u001b[0;32m--> 120\u001b[0;31m         \u001b[0mtree\u001b[0m\u001b[0;34m.\u001b[0m\u001b[0mfit\u001b[0m\u001b[0;34m(\u001b[0m\u001b[0mX\u001b[0m\u001b[0;34m,\u001b[0m \u001b[0my\u001b[0m\u001b[0;34m,\u001b[0m \u001b[0msample_weight\u001b[0m\u001b[0;34m=\u001b[0m\u001b[0mcurr_sample_weight\u001b[0m\u001b[0;34m,\u001b[0m \u001b[0mcheck_input\u001b[0m\u001b[0;34m=\u001b[0m\u001b[0;32mFalse\u001b[0m\u001b[0;34m)\u001b[0m\u001b[0;34m\u001b[0m\u001b[0m\n\u001b[0m\u001b[1;32m    121\u001b[0m     \u001b[0;32melse\u001b[0m\u001b[0;34m:\u001b[0m\u001b[0;34m\u001b[0m\u001b[0m\n\u001b[1;32m    122\u001b[0m         \u001b[0mtree\u001b[0m\u001b[0;34m.\u001b[0m\u001b[0mfit\u001b[0m\u001b[0;34m(\u001b[0m\u001b[0mX\u001b[0m\u001b[0;34m,\u001b[0m \u001b[0my\u001b[0m\u001b[0;34m,\u001b[0m \u001b[0msample_weight\u001b[0m\u001b[0;34m=\u001b[0m\u001b[0msample_weight\u001b[0m\u001b[0;34m,\u001b[0m \u001b[0mcheck_input\u001b[0m\u001b[0;34m=\u001b[0m\u001b[0;32mFalse\u001b[0m\u001b[0;34m)\u001b[0m\u001b[0;34m\u001b[0m\u001b[0m\n",
      "\u001b[0;32m/Library/Frameworks/Python.framework/Versions/3.6/lib/python3.6/site-packages/sklearn/tree/tree.py\u001b[0m in \u001b[0;36mfit\u001b[0;34m(self, X, y, sample_weight, check_input, X_idx_sorted)\u001b[0m\n\u001b[1;32m    787\u001b[0m             \u001b[0msample_weight\u001b[0m\u001b[0;34m=\u001b[0m\u001b[0msample_weight\u001b[0m\u001b[0;34m,\u001b[0m\u001b[0;34m\u001b[0m\u001b[0m\n\u001b[1;32m    788\u001b[0m             \u001b[0mcheck_input\u001b[0m\u001b[0;34m=\u001b[0m\u001b[0mcheck_input\u001b[0m\u001b[0;34m,\u001b[0m\u001b[0;34m\u001b[0m\u001b[0m\n\u001b[0;32m--> 789\u001b[0;31m             X_idx_sorted=X_idx_sorted)\n\u001b[0m\u001b[1;32m    790\u001b[0m         \u001b[0;32mreturn\u001b[0m \u001b[0mself\u001b[0m\u001b[0;34m\u001b[0m\u001b[0m\n\u001b[1;32m    791\u001b[0m \u001b[0;34m\u001b[0m\u001b[0m\n",
      "\u001b[0;32m/Library/Frameworks/Python.framework/Versions/3.6/lib/python3.6/site-packages/sklearn/tree/tree.py\u001b[0m in \u001b[0;36mfit\u001b[0;34m(self, X, y, sample_weight, check_input, X_idx_sorted)\u001b[0m\n\u001b[1;32m    349\u001b[0m                                             \u001b[0mmax_depth\u001b[0m\u001b[0;34m,\u001b[0m\u001b[0;34m\u001b[0m\u001b[0m\n\u001b[1;32m    350\u001b[0m                                             \u001b[0mself\u001b[0m\u001b[0;34m.\u001b[0m\u001b[0mmin_impurity_decrease\u001b[0m\u001b[0;34m,\u001b[0m\u001b[0;34m\u001b[0m\u001b[0m\n\u001b[0;32m--> 351\u001b[0;31m                                             min_impurity_split)\n\u001b[0m\u001b[1;32m    352\u001b[0m         \u001b[0;32melse\u001b[0m\u001b[0;34m:\u001b[0m\u001b[0;34m\u001b[0m\u001b[0m\n\u001b[1;32m    353\u001b[0m             builder = BestFirstTreeBuilder(splitter, min_samples_split,\n",
      "\u001b[0;32msklearn/tree/_tree.pyx\u001b[0m in \u001b[0;36msklearn.tree._tree.DepthFirstTreeBuilder.__cinit__ (sklearn/tree/_tree.c:3628)\u001b[0;34m()\u001b[0m\n",
      "\u001b[0;31mTypeError\u001b[0m: __cinit__() takes exactly 6 positional arguments (7 given)"
     ]
    }
   ],
   "source": [
    "# fit the classifier\n",
    "rf_clf.fit(df_train.iloc[:,0:29], df_train.loc[:,'Class'])"
   ]
  },
  {
   "cell_type": "markdown",
   "metadata": {},
   "source": [
    "#### 4. Support Vector Machines (SVM)"
   ]
  },
  {
   "cell_type": "markdown",
   "metadata": {},
   "source": [
    "In this section we will implement SVM using the linear, poly, rbf and sigmoid kernels"
   ]
  },
  {
   "cell_type": "code",
   "execution_count": 34,
   "metadata": {
    "collapsed": true
   },
   "outputs": [],
   "source": [
    "from sklearn import svm"
   ]
  },
  {
   "cell_type": "markdown",
   "metadata": {},
   "source": [
    "###### 4.1 Linear SVM"
   ]
  },
  {
   "cell_type": "code",
   "execution_count": null,
   "metadata": {
    "collapsed": true
   },
   "outputs": [],
   "source": [
    "svm_lin_clf = svm.SVC(C=1.0, kernel='linear', degree=3, gamma='auto',\n",
    "                      coef0=0.0, shrinking=True, probability=False, \n",
    "                      tol=0.001, cache_size=200, class_weight=None, \n",
    "                      verbose=False, max_iter=-1, decision_function_shape='ovr', \n",
    "                      random_state=42)\n",
    "\n",
    "svm_lin_clf.fit(df_train.iloc[:,0:29], df_train.loc[:,'Class'])"
   ]
  },
  {
   "cell_type": "markdown",
   "metadata": {},
   "source": [
    "###### 4.2 Polynomial SVM"
   ]
  },
  {
   "cell_type": "code",
   "execution_count": null,
   "metadata": {
    "collapsed": true
   },
   "outputs": [],
   "source": [
    "svm_ply_clf = svm.SVC(C=1.0, kernel='poly', degree=3, gamma='auto', \n",
    "                      coef0=0.0, shrinking=True, probability=False, \n",
    "                      tol=0.001, cache_size=200, class_weight=None, \n",
    "                      verbose=False, max_iter=-1, decision_function_shape='ovr', \n",
    "                      random_state=42)\n",
    "\n",
    "svm_ply_clf.fit(df_train.iloc[:,0:29], df_train.loc[:,'Class'])"
   ]
  },
  {
   "cell_type": "markdown",
   "metadata": {},
   "source": [
    "###### 4.3 Radial Basis SVM"
   ]
  },
  {
   "cell_type": "code",
   "execution_count": null,
   "metadata": {
    "collapsed": true
   },
   "outputs": [],
   "source": [
    "svm_rbf_clf = svm.SVC(C=1.0, kernel='rbf', degree=3, gamma='auto', \n",
    "                      coef0=0.0, shrinking=True, probability=False, \n",
    "                      tol=0.001, cache_size=200, class_weight=None, \n",
    "                      verbose=False, max_iter=-1, decision_function_shape='ovr', \n",
    "                      random_state=42)\n",
    "\n",
    "svm_rbf_clf.fit(df_train.iloc[:,0:29], df_train.loc[:,'Class'])"
   ]
  },
  {
   "cell_type": "markdown",
   "metadata": {},
   "source": [
    "###### 4.4 Sigmoid SVM"
   ]
  },
  {
   "cell_type": "code",
   "execution_count": null,
   "metadata": {
    "collapsed": true
   },
   "outputs": [],
   "source": [
    "svm_sig_clf = svm.SVC(C=1.0, kernel='sigmoid', degree=3, gamma='auto', \n",
    "                      coef0=0.0, shrinking=True, probability=False, \n",
    "                      tol=0.001, cache_size=200, class_weight=None, \n",
    "                      verbose=False, max_iter=-1, decision_function_shape='ovr', \n",
    "                      random_state=42)\n",
    "\n",
    "svm_sig_clf.fit(df_train.iloc[:,0:29], df_train.loc[:,'Class'])"
   ]
  },
  {
   "cell_type": "code",
   "execution_count": 45,
   "metadata": {},
   "outputs": [
    {
     "name": "stdout",
     "output_type": "stream",
     "text": [
      "             precision    recall  f1-score   support\n",
      "\n",
      "  Legitmate       0.79      0.90      0.84     82557\n",
      "      Fraud       0.88      0.76      0.82     82546\n",
      "\n",
      "avg / total       0.84      0.83      0.83    165103\n",
      "\n"
     ]
    }
   ],
   "source": [
    "# make predictions on the test dataset\n",
    "predictions_lin = svm_lin_clf.predict(df_test.iloc[:,0:29])\n",
    "predictions_ply = svm_ply_clf.predict(df_test.iloc[:,0:29])\n",
    "predictions_rbf = svm_rbf_clf.predict(df_test.iloc[:,0:29])\n",
    "predictions_sig = svm_sig_clf.predict(df_test.iloc[:,0:29])\n",
    "\n",
    "# get classification report\n",
    "target_names=['Legitmate', 'Fraud']\n",
    "print('Classification report for Linear SVM')\n",
    "print(classification_report(df_test.loc[:,'Class'], predictions_lin, target_names=target_names))\n",
    "\n",
    "print('Classification report for Polynomial SVM')\n",
    "print(classification_report(df_test.loc[:,'Class'], predictions_ply, target_names=target_names))\n",
    "\n",
    "print('Classification report for Radial SVM')\n",
    "print(classification_report(df_test.loc[:,'Class'], predictions_rbf, target_names=target_names))\n",
    "\n",
    "print('Classification report for Sigmoid SVM')\n",
    "print(classification_report(df_test.loc[:,'Class'], predictions_sig, target_names=target_names))"
   ]
  },
  {
   "cell_type": "code",
   "execution_count": 47,
   "metadata": {
    "scrolled": true
   },
   "outputs": [
    {
     "name": "stdout",
     "output_type": "stream",
     "text": [
      "AUC ROC:  0.919334906466\n"
     ]
    },
    {
     "data": {
      "image/png": "[encoded data removed]",
      "text/plain": [
       "<matplotlib.figure.Figure at 0x10d6eb860>"
      ]
     },
     "metadata": {},
     "output_type": "display_data"
    }
   ],
   "source": [
    "# plot the AUC ROC curve\n",
    "y_pred_score_lin = svm_lin_clf.decision_function(df_test.iloc[:,0:29])\n",
    "y_pred_score_ply = svm_ply_clf.decision_function(df_test.iloc[:,0:29])\n",
    "y_pred_score_rbf = svm_rbf_clf.decision_function(df_test.iloc[:,0:29])\n",
    "y_pred_score_sig = svm_sig_clf.decision_function(df_test.iloc[:,0:29])\n",
    "\n",
    "fpr_lin, tpr_lin, thresholds = roc_curve(df_test.loc[:,'Class'], y_pred_score_lin)\n",
    "fpr_ply, tpr_ply, thresholds = roc_curve(df_test.loc[:,'Class'], y_pred_score_ply)\n",
    "fpr_rbf, tpr_rbf, thresholds = roc_curve(df_test.loc[:,'Class'], y_pred_score_rbf)\n",
    "fpr_sig, tpr_sig, thresholds = roc_curve(df_test.loc[:,'Class'], y_pred_score_sig)\n",
    "\n",
    "roc_auc_lin = auc(fpr_lin,tpr_lin)\n",
    "roc_auc_ply = auc(fpr_lin,tpr_ply)\n",
    "roc_auc_rbf = auc(fpr_lin,tpr_rbf)\n",
    "roc_auc_sig = auc(fpr_lin,tpr_sig)\n",
    "\n",
    "plt.title('Receiver Operating Characteristic')\n",
    "plt.plot(fpr, tpr, 'b',label='AUC = %0.3f'% roc_auc)\n",
    "plt.legend(loc='lower right')\n",
    "plt.plot([0,1],[0,1],'r--')\n",
    "plt.xlim([-0.1,1.0])\n",
    "plt.ylim([-0.1,1.01])\n",
    "plt.ylabel('True Positive Rate')\n",
    "plt.xlabel('False Positive Rate')\n",
    "plt.show()\n",
    "\n",
    "f, axarr = plt.subplots(2,2, sharex=True)\n",
    "axarr[0,0]plot(fpr_lin, tpr_lin, 'b',label='AUC = %0.3f'% roc_auc_lin)\n",
    "axarr[0,0].set_title('ROC for Linear SVM')\n",
    "axarr[0,1]plot(fpr_ply, tpr_ply, 'b',label='AUC = %0.3f'% roc_auc_ply)\n",
    "axarr[0,1].set_title('ROC for Polynomial SVM')\n",
    "axarr[1,0]plot(fpr_rbf, tpr_rbf, 'b',label='AUC = %0.3f'% roc_auc_rbf)\n",
    "axarr[1,0].set_title('ROC for Radial SVM')\n",
    "axarr[1,1]plot(fpr_sig, tpr_sig, 'b',label='AUC = %0.3f'% roc_auc_sig)\n",
    "axarr[1,1].set_title('ROC for Sigmoid SVM')\n",
    "plt.setp([a.get_xticklabels() for a in axarr[0, :]], visible=False)\n",
    "plt.setp([a.get_yticklabels() for a in axarr[:, 1]], visible=False)"
   ]
  },
  {
   "cell_type": "markdown",
   "metadata": {},
   "source": [
    "### Parent Classification"
   ]
  },
  {
   "cell_type": "markdown",
   "metadata": {},
   "source": [
    "The idea behind building the classifiers above is not only for comparing their classification metrics. The next step is to build a parent classifier which will leverage all the models built above."
   ]
  },
  {
   "cell_type": "markdown",
   "metadata": {
    "collapsed": true
   },
   "source": [
    "<img src = 'classification_process.png'>"
   ]
  },
  {
   "cell_type": "markdown",
   "metadata": {},
   "source": [
    "The figure explains the architecture that we are going to use for classification. The prediction from each model will form a column in the dataset that will be used to train the parent logistic model. We have 8 child classifiers and so the dataset for training the parent classifier have 8 columns. This parent classifier will have AUC-ROC less than the model with the highest AUC-ROC, but the resulting model will be very stable and immune to model biases."
   ]
  },
  {
   "cell_type": "markdown",
   "metadata": {},
   "source": [
    "##"
   ]
  }
 ],
 "metadata": {
  "kernelspec": {
   "display_name": "Python 3",
   "language": "python",
   "name": "python3"
  },
  "language_info": {
   "codemirror_mode": {
    "name": "ipython",
    "version": 3
   },
   "file_extension": ".py",
   "mimetype": "text/x-python",
   "name": "python",
   "nbconvert_exporter": "python",
   "pygments_lexer": "ipython3",
   "version": "3.6.0"
  }
 },
 "nbformat": 4,
 "nbformat_minor": 2
}
