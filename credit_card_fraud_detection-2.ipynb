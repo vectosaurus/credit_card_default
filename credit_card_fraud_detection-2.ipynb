{
 "cells": [
  {
   "cell_type": "markdown",
   "metadata": {},
   "source": [
    "## Credit Card Fraud Detection"
   ]
  },
  {
   "cell_type": "markdown",
   "metadata": {},
   "source": [
    "### Introduction"
   ]
  },
  {
   "cell_type": "markdown",
   "metadata": {},
   "source": [
    "The volume of credit card transactions has increased significantly in the recent years. This increase in number of transactions has also seen an increase in the number of fraudulent transactions. Although the percentage of fraudulent transactions is low, the losses incurred by merchants and banks owing to these transactions is significantly high. "
   ]
  },
  {
   "cell_type": "markdown",
   "metadata": {},
   "source": [
    "Typically, fraudulent transactions are carried out in a card not present scenario, such as mail order or online transactions, wherein a transaction can be carried out by simply using the card details. Card details can be procured through multiple ways - through card theft, through hacking databases, or by stealing the card details. Card theft and hacking of database are somewhat unlikely methods as they involve a greater amount of risk and sophistication. However stealing of card details is relatively easy. Sometimes the criminal is simply the clerk who is handling the transaction.  "
   ]
  },
  {
   "cell_type": "markdown",
   "metadata": {},
   "source": [
    "### Credit Card Fraud detection using Logistic Regression"
   ]
  },
  {
   "cell_type": "markdown",
   "metadata": {},
   "source": [
    "In this notebook we will attempt to detect fraudulent transactions using a logistic model. The dataset that we will use for this purpose contains transactions made by credit cards in the September of 2013 by European card holders. The dataset has an event rate of 0.17%. Fraud transactions are referred to as events in this use case. "
   ]
  },
  {
   "cell_type": "markdown",
   "metadata": {},
   "source": [
    "#### 1.1 Data description"
   ]
  },
  {
   "cell_type": "markdown",
   "metadata": {},
   "source": [
    "The dataset contains 28 feature variables, all of which are numerical and have been reduced to their current form using Principal Component Analysis. Of the 284,807 transactions, only 492 transactions are fraudulent. The feature variables are named V1 to V28. The 'Class' variable is the response variable and takes value 1 in case of a fraud and 0 in case of a legitimate transaction. The dataset is available [here](https://www.kaggle.com/dalpozz/creditcardfraud/downloads/creditcardfraud.zip) for download. "
   ]
  },
  {
   "cell_type": "markdown",
   "metadata": {},
   "source": [
    "#### 1.2 Data Preprocessing"
   ]
  },
  {
   "cell_type": "markdown",
   "metadata": {},
   "source": [
    "As the event rate is low, the dataset is imbalanced and hence one of the steps in data preprocessing is to create a balanced dataset. We'll do this using oversampling of the events. Apart from that we'll do checks for missing values, outliers and multicollinearity as well. "
   ]
  },
  {
   "cell_type": "markdown",
   "metadata": {},
   "source": [
    "##### 1.2.1 Missing value treatment"
   ]
  },
  {
   "cell_type": "code",
   "execution_count": 1,
   "metadata": {
    "collapsed": true
   },
   "outputs": [],
   "source": [
    "import pandas as pd\n",
    "df = pd.read_csv('creditcard.csv')"
   ]
  },
  {
   "cell_type": "code",
   "execution_count": 2,
   "metadata": {
    "scrolled": true
   },
   "outputs": [
    {
     "name": "stdout",
     "output_type": "stream",
     "text": [
      "Data dimensions:  (284807, 31) \n",
      "\n",
      "Column names:  Index(['Time', 'V1', 'V2', 'V3', 'V4', 'V5', 'V6', 'V7', 'V8', 'V9', 'V10',\n",
      "       'V11', 'V12', 'V13', 'V14', 'V15', 'V16', 'V17', 'V18', 'V19', 'V20',\n",
      "       'V21', 'V22', 'V23', 'V24', 'V25', 'V26', 'V27', 'V28', 'Amount',\n",
      "       'Class'],\n",
      "      dtype='object') \n",
      "\n",
      "Event rate:  0.00172748563062 \n",
      "\n",
      "Number of missing values in each column \n",
      " Time      0\n",
      "V1        0\n",
      "V2        0\n",
      "V3        0\n",
      "V4        0\n",
      "V5        0\n",
      "V6        0\n",
      "V7        0\n",
      "V8        0\n",
      "V9        0\n",
      "V10       0\n",
      "V11       0\n",
      "V12       0\n",
      "V13       0\n",
      "V14       0\n",
      "V15       0\n",
      "V16       0\n",
      "V17       0\n",
      "V18       0\n",
      "V19       0\n",
      "V20       0\n",
      "V21       0\n",
      "V22       0\n",
      "V23       0\n",
      "V24       0\n",
      "V25       0\n",
      "V26       0\n",
      "V27       0\n",
      "V28       0\n",
      "Amount    0\n",
      "Class     0\n",
      "dtype: int64\n"
     ]
    }
   ],
   "source": [
    "# dimensions of the dataset\n",
    "print('Data dimensions: ', df.shape, '\\n')\n",
    "\n",
    "# column names\n",
    "print('Column names: ', df.columns, '\\n')\n",
    "\n",
    "# event rate\n",
    "print('Event rate: ',sum(df.loc[:, 'Class'])/df.shape[0], '\\n')\n",
    "\n",
    "# Number of missing values in each column\n",
    "print('Number of missing values in each column \\n', df.isnull().sum(axis=0))"
   ]
  },
  {
   "cell_type": "markdown",
   "metadata": {},
   "source": [
    "There are no missing values in the dataset. We will drop the column from our dataset as it indicates the times elapsed since the first transaction and is not useful for card fraud detection. In the next section we'll check for outliers."
   ]
  },
  {
   "cell_type": "code",
   "execution_count": 3,
   "metadata": {},
   "outputs": [
    {
     "name": "stdout",
     "output_type": "stream",
     "text": [
      "(284807, 30)\n",
      "Index(['V1', 'V2', 'V3', 'V4', 'V5', 'V6', 'V7', 'V8', 'V9', 'V10', 'V11',\n",
      "       'V12', 'V13', 'V14', 'V15', 'V16', 'V17', 'V18', 'V19', 'V20', 'V21',\n",
      "       'V22', 'V23', 'V24', 'V25', 'V26', 'V27', 'V28', 'Amount', 'Class'],\n",
      "      dtype='object')\n"
     ]
    }
   ],
   "source": [
    "df.drop(['Time'],axis=1,inplace=True)\n",
    "print(df.shape)\n",
    "print(df.columns)"
   ]
  },
  {
   "cell_type": "markdown",
   "metadata": {},
   "source": [
    "##### 1.2.2 Outlier treatment"
   ]
  },
  {
   "cell_type": "markdown",
   "metadata": {},
   "source": [
    "We will look for outliers for all columns using the zscores for every entry in a column. It is possible that events may get excluded after dropping outliers. In case the number of events drop by more than 10 percent, we'll not drop the outliers"
   ]
  },
  {
   "cell_type": "code",
   "execution_count": 4,
   "metadata": {},
   "outputs": [
    {
     "name": "stdout",
     "output_type": "stream",
     "text": [
      "Number of records without outliers:  246943\n"
     ]
    }
   ],
   "source": [
    "from scipy import stats\n",
    "import numpy as np\n",
    "print('Number of records without outliers: ', (np.abs(stats.zscore(df)) < 3).all(axis=1).sum(axis=0))"
   ]
  },
  {
   "cell_type": "code",
   "execution_count": 5,
   "metadata": {
    "scrolled": false
   },
   "outputs": [
    {
     "name": "stdout",
     "output_type": "stream",
     "text": [
      "Dimensions of dataset after excluding outliers: (246943, 30) \n",
      "\n",
      "Number of events:  0 \n",
      "\n"
     ]
    }
   ],
   "source": [
    "# drop records with outliers \n",
    "df_otlr = df[(np.abs(stats.zscore(df)) < 3).all(axis=1)]\n",
    "\n",
    "# get dimensions of the new dataset\n",
    "print('Dimensions of dataset after excluding outliers:', df_otlr.shape, '\\n')\n",
    "\n",
    "# calculate event rate after dropping outliers\n",
    "print('Number of events: ',sum(df_otlr.loc[:, 'Class']), '\\n')\n"
   ]
  },
  {
   "cell_type": "markdown",
   "metadata": {},
   "source": [
    "As the number of events are dropped to zero on removing outliers, we'll not be dropping the outliers. "
   ]
  },
  {
   "cell_type": "markdown",
   "metadata": {},
   "source": [
    "##### 1.2.3 Remove duplicates"
   ]
  },
  {
   "cell_type": "markdown",
   "metadata": {},
   "source": [
    "We'll drop the duplicated rows and check the event rate"
   ]
  },
  {
   "cell_type": "code",
   "execution_count": 6,
   "metadata": {},
   "outputs": [
    {
     "name": "stdout",
     "output_type": "stream",
     "text": [
      "Number of duplicated rows:  9144\n",
      "Events after excluding dupes:  473\n",
      "Decrease in events after excluding dupes:  19\n",
      "Dimensions after dropping dupes:  (275663, 30)\n"
     ]
    }
   ],
   "source": [
    "# get number of duplicated rows\n",
    "print('Number of duplicated rows: ', df.duplicated().sum())\n",
    "\n",
    "# get number of events on exlcuding duplicates\n",
    "print('Events after excluding dupes: ', df.loc[~df.duplicated(),'Class'].sum())\n",
    "\n",
    "# decrease in number of events\n",
    "print('Decrease in events after excluding dupes: ', df.loc[:,'Class'].sum()- df.loc[~df.duplicated(),'Class'].sum())\n",
    "\n",
    "df = df.loc[~df.duplicated(),:]\n",
    "print('Dimensions after dropping dupes: ', df.shape)"
   ]
  },
  {
   "cell_type": "markdown",
   "metadata": {},
   "source": [
    "There is a decrease of 19 events on dropping the duplicate rows. We'll tackle this issue in the next section by balancing the dataset using oversampling."
   ]
  },
  {
   "cell_type": "markdown",
   "metadata": {},
   "source": [
    "##### 1.2.4 Balancing the dataset"
   ]
  },
  {
   "cell_type": "markdown",
   "metadata": {},
   "source": [
    "There are two ways we can go about to balance the dataset - undersampling and over sampling. In undersampling we select a only certain number of instances from the majority class to create a balanced dataset, whereas in oversampling we can either generate synthetic instances of the minority dataset or duplicate them to create a balanced dataset. We will balance the dataset using oversampling because in undersampling there is a loss of information involved."
   ]
  },
  {
   "cell_type": "markdown",
   "metadata": {},
   "source": [
    "We will use oversampling to synthetically increase the event rate in the dataset. Oversampling can be done by using -\n",
    "(i) *random oversampling*, \n",
    "(ii) *synthetic minority oversampling technique (SMOTE)* or through \n",
    "(iii) *Adaptive Synthetic (ADASYN)* sampling"
   ]
  },
  {
   "cell_type": "markdown",
   "metadata": {},
   "source": [
    "###### Random oversampling"
   ]
  },
  {
   "cell_type": "markdown",
   "metadata": {},
   "source": [
    "Random oversampling is the most naive approach wherein we duplicate instances from the minority class to create a balanced dataset. However, the model fitted on the balanced dataset resulting from this method of balancing is prone to overfitting as it replicates the minority class events. "
   ]
  },
  {
   "cell_type": "markdown",
   "metadata": {},
   "source": [
    "###### Synthetic Minority Oversampling Technique (SMOTE) "
   ]
  },
  {
   "cell_type": "markdown",
   "metadata": {},
   "source": [
    "Both SMOTE and ADASYN aim to reduce the likelihood of overfitting as is the case with random oversampling by generating synthetic instances of the minority class. In these methods, a subset of the data from the minority class is selected and new samples are generated considering its k nearest neighbors. For example, consider a sample $x_i$. A new sample - $x_{new}$ will be generated using the nearest neighbors of $x_i$. We'll consider 3 nearest neighbors for this example. Then, one of these nearest-neighbors $x_{zi}$ is selected and a sample is generated using the following equation - \n",
    "$$x_{new} = x_i + \\lambda * (x_{zi} - x_i)$$"
   ]
  },
  {
   "cell_type": "markdown",
   "metadata": {},
   "source": [
    "<img src=\"smote_adasyn_example.png\" alt=\"smote/adasyn use nearest neighbors to generate synthetic samples of the minority class\" style=\"height: 400px;\" title= 'smote/adasyn use nearest neighbors to generate synthetic samples of the minority class'/>"
   ]
  },
  {
   "cell_type": "markdown",
   "metadata": {},
   "source": [
    "SMOTE and ADASYN differ in the way they select the samples $x_i$."
   ]
  },
  {
   "cell_type": "markdown",
   "metadata": {},
   "source": [
    "SMOTE has a few variants. The regular SMOTE, described above, doesn't take into consideration the data distribution of the minority classes and the latent noises in the dataset. The modified SMOTE classifies each sample $x_i$ into either of three classes - noise sample, borderline sample or safe sample. A sample $x_i$ will be classified- as noise if all nearest-neighbors are from a different class than the one of $x_i$; as borderline/danger if at least half of the nearest neighbors are from the same class than $x_i$, or as safe if all nearest neighbors are from the same class as that of $x_i$"
   ]
  },
  {
   "cell_type": "markdown",
   "metadata": {},
   "source": [
    "ADASYN works similar to the regular SMOTE. However, the number of samples generated for each $x_i$ is proportional to the number of samples which are not from the same class as $x_i$ in a given neighborhood. "
   ]
  },
  {
   "cell_type": "markdown",
   "metadata": {},
   "source": [
    "###### ADASYN Algorithm"
   ]
  },
  {
   "cell_type": "markdown",
   "metadata": {},
   "source": [
    "We will go through the input to the ADASYN algorithm and the steps involved in this section."
   ]
  },
  {
   "cell_type": "markdown",
   "metadata": {},
   "source": [
    "The input to the ADASYN algorithm is the training dataset $D_{tr}$ with $m$ samples ${x_i, y_i}$, where $i$  $\\epsilon $ ${[1,m]}$. Here $x_i$ is an instance in the $n$ dimensional feature space $X$ and $y_i$ $\\epsilon$  $Y = {[1, −1]}$ is the class identity label associated with $x_i$. Define $m_s$ and $m_l$ as the number of minority class examples and the number of majority class examples, respectively. Therefore, $m_s ≤ ml$ and $m_s + m_l = m$."
   ]
  },
  {
   "cell_type": "markdown",
   "metadata": {},
   "source": [
    "**Step 1** \n",
    "\n",
    "We first calculate the degree of imbalance which is defined by \n",
    "$$d = m_s/m_l$$ where $d$ $\\epsilon$ $(0,1]$"
   ]
  },
  {
   "cell_type": "markdown",
   "metadata": {},
   "source": [
    "In case $d$ is less than $d_{th}$ where $d_{th}$ is a preset threshold for the maximum tolerated degree of class imbalance ratio, we calculate the number of synthetic examples that we need to generate for the minority class using the below equation\n",
    "$$G = (m_l-m_s)*\\beta$$ \n",
    "\n",
    "Here $\\beta$ $\\epsilon$ $(0,1]$ is a parameter used to specify the desired balance level after generation of the synthetic data. $\\beta = 1$ means a fully balanced data set is created after the generalization process. "
   ]
  },
  {
   "cell_type": "markdown",
   "metadata": {},
   "source": [
    "**Step 2**\n",
    "\n",
    "For each sample $x_i$ $\\epsilon$ in the minorityclass, we find the $K$ nearest neighbors based on the Euclidean distance in $n$ the dimensional space of the data, and calculate a ratio called $r_i$ which is defined as:\n",
    "$$r_i = \\Delta_{i}/K$$ where  $i = 1, ..., m_s$\n",
    "where $\\Delta_{i}$ is the number of examples in the K nearest neighbors of $x_i$ that belong to the majority class, therefore $r_i$ $\\epsilon$ $[0, 1]$"
   ]
  },
  {
   "cell_type": "markdown",
   "metadata": {},
   "source": [
    "**Step 3**\n",
    "\n",
    "Normalize $r_i$ according to \n",
    "\n",
    "$$\\hat r_i = r_i/\\sum_{i=1}^{m_s} r_i $$\n",
    "\n",
    "so that $\\hat r_i$ is a density distribution "
   ]
  },
  {
   "cell_type": "markdown",
   "metadata": {},
   "source": [
    "**Step 4** \n",
    "\n",
    "For each sample $x_i$ we calculate the number of synthetic data examples that need to be generated from it using-\n",
    "$$g_i = \\hat r_i × G$$\n",
    "where $G$ is the total number of synthetic data examples that need to be generated for the minority class as defined in step 2."
   ]
  },
  {
   "cell_type": "markdown",
   "metadata": {},
   "source": [
    "**Step 5**\n",
    "\n",
    "For each minority class data example $x_i$, we generate $g_i$ synthetic data examples according to the following steps:\n",
    "\n",
    "*Do Loop* from $1$ to $g_i$:\n",
    "\n",
    "(i) Randomly choose one minority data example, $x_{zi}$, from the $K$ nearest neighbors for data $x_i$.\n",
    "\n",
    "(ii) Generate the synthetic data example:\n",
    "    $s_i = x_i + (x_{zi} − x_i) * \\lambda $\n",
    "where $(x_{zi} − x_i)$ is the difference vector in $n$ dimensional space, and $\\lambda$ is a random number: $\\lambda$  $\\epsilon$ [0, 1].\n",
    "\n",
    "*End Loop*"
   ]
  },
  {
   "cell_type": "markdown",
   "metadata": {},
   "source": [
    "The complete description for the alogrithm can be found [here](http://sci2s.ugr.es/keel/pdf/algorithm/congreso/2008-He-ieee.pdf)"
   ]
  },
  {
   "cell_type": "markdown",
   "metadata": {},
   "source": [
    "We will be using the ADASYN method to balance our dataset. "
   ]
  },
  {
   "cell_type": "code",
   "execution_count": 7,
   "metadata": {
    "collapsed": true
   },
   "outputs": [],
   "source": [
    "from imblearn.over_sampling import ADASYN\n",
    "X_resampled, y_resampled = ADASYN().fit_sample(df.iloc[:,0:29], df.loc[:,'Class'])"
   ]
  },
  {
   "cell_type": "code",
   "execution_count": 8,
   "metadata": {},
   "outputs": [
    {
     "name": "stdout",
     "output_type": "stream",
     "text": [
      "Event rate after data balancing:  50.0\n"
     ]
    }
   ],
   "source": [
    "# check event rate\n",
    "print('Event rate after data balancing: ', round(100*sum(y_resampled)/y_resampled.shape[0], 1))"
   ]
  },
  {
   "cell_type": "code",
   "execution_count": 9,
   "metadata": {
    "collapsed": true
   },
   "outputs": [],
   "source": [
    "# store in a dataframe\n",
    "df_blncd = pd.DataFrame(X_resampled)\n",
    "df_blncd.loc[:,'Class'] = y_resampled\n",
    "df_blncd.columns = df.columns\n",
    "# save as csv\n",
    "df_blncd.to_csv('creditcard_blncd.csv', index=False)"
   ]
  },
  {
   "cell_type": "code",
   "execution_count": 10,
   "metadata": {
    "collapsed": true
   },
   "outputs": [],
   "source": [
    "# load the dataset\n",
    "import pandas as pd\n",
    "import numpy as np\n",
    "df_blncd = pd.read_csv('creditcard_blncd.csv')"
   ]
  },
  {
   "cell_type": "code",
   "execution_count": 11,
   "metadata": {},
   "outputs": [
    {
     "name": "stdout",
     "output_type": "stream",
     "text": [
      "(550343, 30)\n",
      "Index(['V1', 'V2', 'V3', 'V4', 'V5', 'V6', 'V7', 'V8', 'V9', 'V10', 'V11',\n",
      "       'V12', 'V13', 'V14', 'V15', 'V16', 'V17', 'V18', 'V19', 'V20', 'V21',\n",
      "       'V22', 'V23', 'V24', 'V25', 'V26', 'V27', 'V28', 'Amount', 'Class'],\n",
      "      dtype='object')\n"
     ]
    }
   ],
   "source": [
    "# dimensions\n",
    "print(df_blncd.shape)\n",
    "print(df_blncd.columns)"
   ]
  },
  {
   "cell_type": "markdown",
   "metadata": {},
   "source": [
    "##### 1.2.5 Split into test and train dataset"
   ]
  },
  {
   "cell_type": "markdown",
   "metadata": {},
   "source": [
    "We will split the dataset in two parts - train and test. We will train the model on the train dataset and check the accuracy metrics on the test dataset. The train dataset will contain seventy percent of the records, remaining will be the test dataset. We will use stratified random sampling for this. "
   ]
  },
  {
   "cell_type": "code",
   "execution_count": 12,
   "metadata": {
    "collapsed": true
   },
   "outputs": [],
   "source": [
    "from sklearn.model_selection import StratifiedShuffleSplit\n",
    "srsampler = StratifiedShuffleSplit(n_splits=1, test_size=0.3, random_state=42)"
   ]
  },
  {
   "cell_type": "code",
   "execution_count": 13,
   "metadata": {},
   "outputs": [
    {
     "name": "stdout",
     "output_type": "stream",
     "text": [
      "Number of records in train dataset:  385240\n",
      "Number of records in test dataset:  165103\n"
     ]
    }
   ],
   "source": [
    "indices = srsampler.split(df_blncd.iloc[:,0:29].values, df_blncd.iloc[:,29].values)\n",
    "indices = list(indices)\n",
    "train_indices = indices[0][0]\n",
    "test_indices = indices[0][1]\n",
    "print('Number of records in train dataset: ', len(train_indices))\n",
    "print('Number of records in test dataset: ', len(test_indices))"
   ]
  },
  {
   "cell_type": "code",
   "execution_count": 14,
   "metadata": {
    "scrolled": true
   },
   "outputs": [
    {
     "data": {
      "text/html": [
       "<div>\n",
       "<style>\n",
       "    .dataframe thead tr:only-child th {\n",
       "        text-align: right;\n",
       "    }\n",
       "\n",
       "    .dataframe thead th {\n",
       "        text-align: left;\n",
       "    }\n",
       "\n",
       "    .dataframe tbody tr th {\n",
       "        vertical-align: top;\n",
       "    }\n",
       "</style>\n",
       "<table border=\"1\" class=\"dataframe\">\n",
       "  <thead>\n",
       "    <tr style=\"text-align: right;\">\n",
       "      <th></th>\n",
       "      <th>V1</th>\n",
       "      <th>V2</th>\n",
       "      <th>V3</th>\n",
       "      <th>V4</th>\n",
       "      <th>V5</th>\n",
       "      <th>V6</th>\n",
       "      <th>V7</th>\n",
       "      <th>V8</th>\n",
       "      <th>V9</th>\n",
       "      <th>V10</th>\n",
       "      <th>...</th>\n",
       "      <th>V21</th>\n",
       "      <th>V22</th>\n",
       "      <th>V23</th>\n",
       "      <th>V24</th>\n",
       "      <th>V25</th>\n",
       "      <th>V26</th>\n",
       "      <th>V27</th>\n",
       "      <th>V28</th>\n",
       "      <th>Amount</th>\n",
       "      <th>Class</th>\n",
       "    </tr>\n",
       "  </thead>\n",
       "  <tbody>\n",
       "    <tr>\n",
       "      <th>259127</th>\n",
       "      <td>-0.523601</td>\n",
       "      <td>-0.106404</td>\n",
       "      <td>1.023319</td>\n",
       "      <td>-1.765248</td>\n",
       "      <td>0.000603</td>\n",
       "      <td>0.325537</td>\n",
       "      <td>0.068207</td>\n",
       "      <td>0.186511</td>\n",
       "      <td>-1.046466</td>\n",
       "      <td>0.300553</td>\n",
       "      <td>...</td>\n",
       "      <td>-0.211181</td>\n",
       "      <td>-0.075838</td>\n",
       "      <td>-0.156380</td>\n",
       "      <td>-1.027632</td>\n",
       "      <td>-0.147613</td>\n",
       "      <td>0.677933</td>\n",
       "      <td>0.326476</td>\n",
       "      <td>0.187296</td>\n",
       "      <td>56.000000</td>\n",
       "      <td>0</td>\n",
       "    </tr>\n",
       "    <tr>\n",
       "      <th>536075</th>\n",
       "      <td>1.758032</td>\n",
       "      <td>0.041389</td>\n",
       "      <td>-2.133306</td>\n",
       "      <td>0.096592</td>\n",
       "      <td>0.589092</td>\n",
       "      <td>-1.044279</td>\n",
       "      <td>0.413773</td>\n",
       "      <td>-0.309613</td>\n",
       "      <td>-0.116252</td>\n",
       "      <td>-0.444553</td>\n",
       "      <td>...</td>\n",
       "      <td>0.285859</td>\n",
       "      <td>0.840293</td>\n",
       "      <td>-0.250059</td>\n",
       "      <td>0.222577</td>\n",
       "      <td>0.713567</td>\n",
       "      <td>-0.155384</td>\n",
       "      <td>-0.011522</td>\n",
       "      <td>-0.004803</td>\n",
       "      <td>56.931406</td>\n",
       "      <td>1</td>\n",
       "    </tr>\n",
       "    <tr>\n",
       "      <th>420339</th>\n",
       "      <td>-1.141798</td>\n",
       "      <td>0.898709</td>\n",
       "      <td>1.490218</td>\n",
       "      <td>0.413025</td>\n",
       "      <td>-0.355255</td>\n",
       "      <td>0.069526</td>\n",
       "      <td>0.614395</td>\n",
       "      <td>-0.278422</td>\n",
       "      <td>0.818906</td>\n",
       "      <td>0.694853</td>\n",
       "      <td>...</td>\n",
       "      <td>-0.017249</td>\n",
       "      <td>0.774304</td>\n",
       "      <td>-0.141222</td>\n",
       "      <td>0.139093</td>\n",
       "      <td>-0.194788</td>\n",
       "      <td>0.484854</td>\n",
       "      <td>0.210018</td>\n",
       "      <td>0.207010</td>\n",
       "      <td>69.017255</td>\n",
       "      <td>1</td>\n",
       "    </tr>\n",
       "    <tr>\n",
       "      <th>27647</th>\n",
       "      <td>0.963559</td>\n",
       "      <td>-0.140498</td>\n",
       "      <td>0.245779</td>\n",
       "      <td>1.362385</td>\n",
       "      <td>-0.528540</td>\n",
       "      <td>-0.841517</td>\n",
       "      <td>0.271008</td>\n",
       "      <td>-0.197613</td>\n",
       "      <td>0.070831</td>\n",
       "      <td>0.020184</td>\n",
       "      <td>...</td>\n",
       "      <td>0.147275</td>\n",
       "      <td>0.124679</td>\n",
       "      <td>-0.224035</td>\n",
       "      <td>0.390920</td>\n",
       "      <td>0.599972</td>\n",
       "      <td>-0.293738</td>\n",
       "      <td>-0.012529</td>\n",
       "      <td>0.045022</td>\n",
       "      <td>144.000000</td>\n",
       "      <td>0</td>\n",
       "    </tr>\n",
       "    <tr>\n",
       "      <th>70532</th>\n",
       "      <td>-1.949554</td>\n",
       "      <td>0.696984</td>\n",
       "      <td>1.997286</td>\n",
       "      <td>0.876533</td>\n",
       "      <td>-0.570011</td>\n",
       "      <td>0.433954</td>\n",
       "      <td>0.085741</td>\n",
       "      <td>0.120816</td>\n",
       "      <td>1.164050</td>\n",
       "      <td>1.402840</td>\n",
       "      <td>...</td>\n",
       "      <td>-0.069561</td>\n",
       "      <td>0.567322</td>\n",
       "      <td>-0.384765</td>\n",
       "      <td>-0.470380</td>\n",
       "      <td>0.499177</td>\n",
       "      <td>0.011329</td>\n",
       "      <td>0.571843</td>\n",
       "      <td>0.529597</td>\n",
       "      <td>100.000000</td>\n",
       "      <td>0</td>\n",
       "    </tr>\n",
       "  </tbody>\n",
       "</table>\n",
       "<p>5 rows × 30 columns</p>\n",
       "</div>"
      ],
      "text/plain": [
       "              V1        V2        V3        V4        V5        V6        V7  \\\n",
       "259127 -0.523601 -0.106404  1.023319 -1.765248  0.000603  0.325537  0.068207   \n",
       "536075  1.758032  0.041389 -2.133306  0.096592  0.589092 -1.044279  0.413773   \n",
       "420339 -1.141798  0.898709  1.490218  0.413025 -0.355255  0.069526  0.614395   \n",
       "27647   0.963559 -0.140498  0.245779  1.362385 -0.528540 -0.841517  0.271008   \n",
       "70532  -1.949554  0.696984  1.997286  0.876533 -0.570011  0.433954  0.085741   \n",
       "\n",
       "              V8        V9       V10  ...         V21       V22       V23  \\\n",
       "259127  0.186511 -1.046466  0.300553  ...   -0.211181 -0.075838 -0.156380   \n",
       "536075 -0.309613 -0.116252 -0.444553  ...    0.285859  0.840293 -0.250059   \n",
       "420339 -0.278422  0.818906  0.694853  ...   -0.017249  0.774304 -0.141222   \n",
       "27647  -0.197613  0.070831  0.020184  ...    0.147275  0.124679 -0.224035   \n",
       "70532   0.120816  1.164050  1.402840  ...   -0.069561  0.567322 -0.384765   \n",
       "\n",
       "             V24       V25       V26       V27       V28      Amount  Class  \n",
       "259127 -1.027632 -0.147613  0.677933  0.326476  0.187296   56.000000      0  \n",
       "536075  0.222577  0.713567 -0.155384 -0.011522 -0.004803   56.931406      1  \n",
       "420339  0.139093 -0.194788  0.484854  0.210018  0.207010   69.017255      1  \n",
       "27647   0.390920  0.599972 -0.293738 -0.012529  0.045022  144.000000      0  \n",
       "70532  -0.470380  0.499177  0.011329  0.571843  0.529597  100.000000      0  \n",
       "\n",
       "[5 rows x 30 columns]"
      ]
     },
     "execution_count": 14,
     "metadata": {},
     "output_type": "execute_result"
    }
   ],
   "source": [
    "# display five random rows\n",
    "df_blncd.iloc[np.random.choice(df_blncd.shape[0],5),:]"
   ]
  },
  {
   "cell_type": "code",
   "execution_count": 15,
   "metadata": {},
   "outputs": [
    {
     "data": {
      "image/png": "[encoded data removed]",
      "text/plain": [
       "<matplotlib.figure.Figure at 0x1098c9128>"
      ]
     },
     "metadata": {},
     "output_type": "display_data"
    }
   ],
   "source": [
    "import matplotlib.pyplot as plt\n",
    "pd.value_counts(df_blncd['Class']).plot.bar()\n",
    "plt.title('Distribution of non-fraud and fraud events in the balanced dataset')\n",
    "plt.xlabel('Class')\n",
    "plt.ylabel('Frequency')\n",
    "df_blncd['Class'].value_counts()\n",
    "plt.show()"
   ]
  },
  {
   "cell_type": "markdown",
   "metadata": {},
   "source": [
    "###### 1.2.6 Normalize the amount "
   ]
  },
  {
   "cell_type": "markdown",
   "metadata": {},
   "source": [
    "We will normalize the amount column to make the model independent of the unit in which the amount is represented. We will also drop the the Time from our model building."
   ]
  },
  {
   "cell_type": "code",
   "execution_count": 16,
   "metadata": {
    "scrolled": false
   },
   "outputs": [
    {
     "name": "stdout",
     "output_type": "stream",
     "text": [
      "Index(['V1', 'V2', 'V3', 'V4', 'V5', 'V6', 'V7', 'V8', 'V9', 'V10', 'V11',\n",
      "       'V12', 'V13', 'V14', 'V15', 'V16', 'V17', 'V18', 'V19', 'V20', 'V21',\n",
      "       'V22', 'V23', 'V24', 'V25', 'V26', 'V27', 'V28', 'Class', 'normAmount'],\n",
      "      dtype='object')\n"
     ]
    }
   ],
   "source": [
    "from sklearn.preprocessing import StandardScaler\n",
    "df_blncd['normAmount'] = StandardScaler().fit_transform(df_blncd['Amount'].values.reshape(-1, 1))\n",
    "df_blncd.drop(['Amount'], axis=1,inplace=True)\n",
    "print(df_blncd.columns)"
   ]
  },
  {
   "cell_type": "code",
   "execution_count": 17,
   "metadata": {
    "scrolled": false
   },
   "outputs": [
    {
     "data": {
      "text/html": [
       "<div>\n",
       "<style>\n",
       "    .dataframe thead tr:only-child th {\n",
       "        text-align: right;\n",
       "    }\n",
       "\n",
       "    .dataframe thead th {\n",
       "        text-align: left;\n",
       "    }\n",
       "\n",
       "    .dataframe tbody tr th {\n",
       "        vertical-align: top;\n",
       "    }\n",
       "</style>\n",
       "<table border=\"1\" class=\"dataframe\">\n",
       "  <thead>\n",
       "    <tr style=\"text-align: right;\">\n",
       "      <th></th>\n",
       "      <th>V1</th>\n",
       "      <th>V2</th>\n",
       "      <th>V3</th>\n",
       "      <th>V4</th>\n",
       "      <th>V5</th>\n",
       "      <th>V6</th>\n",
       "      <th>V7</th>\n",
       "      <th>V8</th>\n",
       "      <th>V9</th>\n",
       "      <th>V10</th>\n",
       "      <th>...</th>\n",
       "      <th>V21</th>\n",
       "      <th>V22</th>\n",
       "      <th>V23</th>\n",
       "      <th>V24</th>\n",
       "      <th>V25</th>\n",
       "      <th>V26</th>\n",
       "      <th>V27</th>\n",
       "      <th>V28</th>\n",
       "      <th>normAmount</th>\n",
       "      <th>Class</th>\n",
       "    </tr>\n",
       "  </thead>\n",
       "  <tbody>\n",
       "    <tr>\n",
       "      <th>0</th>\n",
       "      <td>-1.359807</td>\n",
       "      <td>-0.072781</td>\n",
       "      <td>2.536347</td>\n",
       "      <td>1.378155</td>\n",
       "      <td>-0.338321</td>\n",
       "      <td>0.462388</td>\n",
       "      <td>0.239599</td>\n",
       "      <td>0.098698</td>\n",
       "      <td>0.363787</td>\n",
       "      <td>0.090794</td>\n",
       "      <td>...</td>\n",
       "      <td>-0.018307</td>\n",
       "      <td>0.277838</td>\n",
       "      <td>-0.110474</td>\n",
       "      <td>0.066928</td>\n",
       "      <td>0.128539</td>\n",
       "      <td>-0.189115</td>\n",
       "      <td>0.133558</td>\n",
       "      <td>-0.021053</td>\n",
       "      <td>0.085748</td>\n",
       "      <td>0</td>\n",
       "    </tr>\n",
       "    <tr>\n",
       "      <th>1</th>\n",
       "      <td>1.191857</td>\n",
       "      <td>0.266151</td>\n",
       "      <td>0.166480</td>\n",
       "      <td>0.448154</td>\n",
       "      <td>0.060018</td>\n",
       "      <td>-0.082361</td>\n",
       "      <td>-0.078803</td>\n",
       "      <td>0.085102</td>\n",
       "      <td>-0.255425</td>\n",
       "      <td>-0.166974</td>\n",
       "      <td>...</td>\n",
       "      <td>-0.225775</td>\n",
       "      <td>-0.638672</td>\n",
       "      <td>0.101288</td>\n",
       "      <td>-0.339846</td>\n",
       "      <td>0.167170</td>\n",
       "      <td>0.125895</td>\n",
       "      <td>-0.008983</td>\n",
       "      <td>0.014724</td>\n",
       "      <td>-0.485467</td>\n",
       "      <td>0</td>\n",
       "    </tr>\n",
       "    <tr>\n",
       "      <th>2</th>\n",
       "      <td>-1.358354</td>\n",
       "      <td>-1.340163</td>\n",
       "      <td>1.773209</td>\n",
       "      <td>0.379780</td>\n",
       "      <td>-0.503198</td>\n",
       "      <td>1.800499</td>\n",
       "      <td>0.791461</td>\n",
       "      <td>0.247676</td>\n",
       "      <td>-1.514654</td>\n",
       "      <td>0.207643</td>\n",
       "      <td>...</td>\n",
       "      <td>0.247998</td>\n",
       "      <td>0.771679</td>\n",
       "      <td>0.909412</td>\n",
       "      <td>-0.689281</td>\n",
       "      <td>-0.327642</td>\n",
       "      <td>-0.139097</td>\n",
       "      <td>-0.055353</td>\n",
       "      <td>-0.059752</td>\n",
       "      <td>0.976178</td>\n",
       "      <td>0</td>\n",
       "    </tr>\n",
       "    <tr>\n",
       "      <th>3</th>\n",
       "      <td>-0.966272</td>\n",
       "      <td>-0.185226</td>\n",
       "      <td>1.792993</td>\n",
       "      <td>-0.863291</td>\n",
       "      <td>-0.010309</td>\n",
       "      <td>1.247203</td>\n",
       "      <td>0.237609</td>\n",
       "      <td>0.377436</td>\n",
       "      <td>-1.387024</td>\n",
       "      <td>-0.054952</td>\n",
       "      <td>...</td>\n",
       "      <td>-0.108300</td>\n",
       "      <td>0.005274</td>\n",
       "      <td>-0.190321</td>\n",
       "      <td>-1.175575</td>\n",
       "      <td>0.647376</td>\n",
       "      <td>-0.221929</td>\n",
       "      <td>0.062723</td>\n",
       "      <td>0.061458</td>\n",
       "      <td>-0.015798</td>\n",
       "      <td>0</td>\n",
       "    </tr>\n",
       "    <tr>\n",
       "      <th>4</th>\n",
       "      <td>-1.158233</td>\n",
       "      <td>0.877737</td>\n",
       "      <td>1.548718</td>\n",
       "      <td>0.403034</td>\n",
       "      <td>-0.407193</td>\n",
       "      <td>0.095921</td>\n",
       "      <td>0.592941</td>\n",
       "      <td>-0.270533</td>\n",
       "      <td>0.817739</td>\n",
       "      <td>0.753074</td>\n",
       "      <td>...</td>\n",
       "      <td>-0.009431</td>\n",
       "      <td>0.798278</td>\n",
       "      <td>-0.137458</td>\n",
       "      <td>0.141267</td>\n",
       "      <td>-0.206010</td>\n",
       "      <td>0.502292</td>\n",
       "      <td>0.219422</td>\n",
       "      <td>0.215153</td>\n",
       "      <td>-0.223827</td>\n",
       "      <td>0</td>\n",
       "    </tr>\n",
       "  </tbody>\n",
       "</table>\n",
       "<p>5 rows × 30 columns</p>\n",
       "</div>"
      ],
      "text/plain": [
       "         V1        V2        V3        V4        V5        V6        V7  \\\n",
       "0 -1.359807 -0.072781  2.536347  1.378155 -0.338321  0.462388  0.239599   \n",
       "1  1.191857  0.266151  0.166480  0.448154  0.060018 -0.082361 -0.078803   \n",
       "2 -1.358354 -1.340163  1.773209  0.379780 -0.503198  1.800499  0.791461   \n",
       "3 -0.966272 -0.185226  1.792993 -0.863291 -0.010309  1.247203  0.237609   \n",
       "4 -1.158233  0.877737  1.548718  0.403034 -0.407193  0.095921  0.592941   \n",
       "\n",
       "         V8        V9       V10  ...         V21       V22       V23  \\\n",
       "0  0.098698  0.363787  0.090794  ...   -0.018307  0.277838 -0.110474   \n",
       "1  0.085102 -0.255425 -0.166974  ...   -0.225775 -0.638672  0.101288   \n",
       "2  0.247676 -1.514654  0.207643  ...    0.247998  0.771679  0.909412   \n",
       "3  0.377436 -1.387024 -0.054952  ...   -0.108300  0.005274 -0.190321   \n",
       "4 -0.270533  0.817739  0.753074  ...   -0.009431  0.798278 -0.137458   \n",
       "\n",
       "        V24       V25       V26       V27       V28  normAmount  Class  \n",
       "0  0.066928  0.128539 -0.189115  0.133558 -0.021053    0.085748      0  \n",
       "1 -0.339846  0.167170  0.125895 -0.008983  0.014724   -0.485467      0  \n",
       "2 -0.689281 -0.327642 -0.139097 -0.055353 -0.059752    0.976178      0  \n",
       "3 -1.175575  0.647376 -0.221929  0.062723  0.061458   -0.015798      0  \n",
       "4  0.141267 -0.206010  0.502292  0.219422  0.215153   -0.223827      0  \n",
       "\n",
       "[5 rows x 30 columns]"
      ]
     },
     "execution_count": 17,
     "metadata": {},
     "output_type": "execute_result"
    }
   ],
   "source": [
    "reorder_cols = list(range(28))+[29,28]\n",
    "df_blncd = df_blncd.iloc[:,reorder_cols]\n",
    "df_blncd.head()"
   ]
  },
  {
   "cell_type": "code",
   "execution_count": 18,
   "metadata": {},
   "outputs": [
    {
     "name": "stdout",
     "output_type": "stream",
     "text": [
      "(385240, 30)\n",
      "(165103, 30)\n"
     ]
    }
   ],
   "source": [
    "df_train = df_blncd.iloc[train_indices,:]\n",
    "df_test = df_blncd.iloc[test_indices,:]\n",
    "print(df_train.shape)\n",
    "print(df_test.shape)"
   ]
  },
  {
   "cell_type": "markdown",
   "metadata": {},
   "source": [
    "#### 2. Logistic Regression"
   ]
  },
  {
   "cell_type": "markdown",
   "metadata": {},
   "source": [
    "##### 2.1 Building a logistic model"
   ]
  },
  {
   "cell_type": "markdown",
   "metadata": {},
   "source": [
    "We will build a logistic model in this section and assess its performance. Since the number of features in our dataset are not too many we will use L2 regularization for our models. We will train our model on `df_train` and calculate the model statistics on the `df_test` dataset."
   ]
  },
  {
   "cell_type": "code",
   "execution_count": 19,
   "metadata": {
    "collapsed": true
   },
   "outputs": [],
   "source": [
    "from sklearn.linear_model import LogisticRegression\n",
    "from sklearn.model_selection import GridSearchCV\n",
    "from sklearn.metrics import confusion_matrix, precision_recall_curve, auc, roc_auc_score, roc_curve, recall_score, classification_report"
   ]
  },
  {
   "cell_type": "code",
   "execution_count": 20,
   "metadata": {
    "collapsed": true
   },
   "outputs": [],
   "source": [
    "# instantiate the model\n",
    "log_clf = LogisticRegression(penalty='l2', dual=False, tol=0.01, C=10, fit_intercept=True, \n",
    "                        intercept_scaling=1, class_weight=None, random_state=None, \n",
    "                        solver='liblinear', max_iter=100, multi_class='ovr', \n",
    "                        verbose=0, warm_start=False, n_jobs=1)"
   ]
  },
  {
   "cell_type": "code",
   "execution_count": 21,
   "metadata": {},
   "outputs": [
    {
     "data": {
      "text/plain": [
       "LogisticRegression(C=10, class_weight=None, dual=False, fit_intercept=True,\n",
       "          intercept_scaling=1, max_iter=100, multi_class='ovr', n_jobs=1,\n",
       "          penalty='l2', random_state=None, solver='liblinear', tol=0.01,\n",
       "          verbose=0, warm_start=False)"
      ]
     },
     "execution_count": 21,
     "metadata": {},
     "output_type": "execute_result"
    }
   ],
   "source": [
    "# fit the model\n",
    "log_clf.fit(df_train.iloc[:,0:29], df_train.loc[:,'Class'])"
   ]
  },
  {
   "cell_type": "code",
   "execution_count": 22,
   "metadata": {},
   "outputs": [
    {
     "name": "stdout",
     "output_type": "stream",
     "text": [
      "             precision    recall  f1-score   support\n",
      "\n",
      "  Legitmate       0.79      0.90      0.84     82557\n",
      "      Fraud       0.88      0.77      0.82     82546\n",
      "\n",
      "avg / total       0.84      0.83      0.83    165103\n",
      "\n"
     ]
    }
   ],
   "source": [
    "# predictions\n",
    "predictions_lr = log_clf.predict(df_test.iloc[:,0:29])\n",
    "\n",
    "# get classification report\n",
    "target_names=['Legitmate', 'Fraud']\n",
    "print(classification_report(df_test.loc[:,'Class'], predictions_lr, target_names=target_names))"
   ]
  },
  {
   "cell_type": "markdown",
   "metadata": {},
   "source": [
    "##### 2.2 Parameter Tuning "
   ]
  },
  {
   "cell_type": "code",
   "execution_count": 23,
   "metadata": {
    "scrolled": true
   },
   "outputs": [
    {
     "name": "stdout",
     "output_type": "stream",
     "text": [
      "Fitting 2 folds for each of 10 candidates, totalling 20 fits\n",
      "[CV] C=0.01 ..........................................................\n",
      "[CV] C=0.01 ..........................................................\n",
      "[CV] C=1.12 ..........................................................\n",
      "[CV] C=1.12 ..........................................................\n",
      "[CV] C=2.23 ..........................................................\n",
      "[CV] C=2.23 ..........................................................\n"
     ]
    },
    {
     "name": "stderr",
     "output_type": "stream",
     "text": [
      "Process ForkPoolWorker-7:\n",
      "Process ForkPoolWorker-9:\n",
      "Process ForkPoolWorker-8:\n",
      "Traceback (most recent call last):\n",
      "Traceback (most recent call last):\n",
      "Traceback (most recent call last):\n",
      "  File \"/Library/Frameworks/Python.framework/Versions/3.6/lib/python3.6/multiprocessing/process.py\", line 249, in _bootstrap\n",
      "    self.run()\n",
      "  File \"/Library/Frameworks/Python.framework/Versions/3.6/lib/python3.6/multiprocessing/process.py\", line 249, in _bootstrap\n",
      "    self.run()\n",
      "  File \"/Library/Frameworks/Python.framework/Versions/3.6/lib/python3.6/multiprocessing/process.py\", line 249, in _bootstrap\n",
      "    self.run()\n",
      "  File \"/Library/Frameworks/Python.framework/Versions/3.6/lib/python3.6/multiprocessing/process.py\", line 93, in run\n",
      "    self._target(*self._args, **self._kwargs)\n",
      "  File \"/Library/Frameworks/Python.framework/Versions/3.6/lib/python3.6/multiprocessing/process.py\", line 93, in run\n",
      "    self._target(*self._args, **self._kwargs)\n"
     ]
    },
    {
     "ename": "KeyboardInterrupt",
     "evalue": "",
     "output_type": "error",
     "traceback": [
      "\u001b[0;31m---------------------------------------------------------------------------\u001b[0m",
      "\u001b[0;31mKeyboardInterrupt\u001b[0m                         Traceback (most recent call last)",
      "\u001b[0;32m<ipython-input-23-a5cb813e21bd>\u001b[0m in \u001b[0;36m<module>\u001b[0;34m()\u001b[0m\n\u001b[1;32m      5\u001b[0m \u001b[0mlr\u001b[0m \u001b[0;34m=\u001b[0m \u001b[0mLogisticRegression\u001b[0m\u001b[0;34m(\u001b[0m\u001b[0;34m)\u001b[0m\u001b[0;34m\u001b[0m\u001b[0m\n\u001b[1;32m      6\u001b[0m \u001b[0mlr_clf_grd\u001b[0m \u001b[0;34m=\u001b[0m \u001b[0mGridSearchCV\u001b[0m\u001b[0;34m(\u001b[0m\u001b[0mlr\u001b[0m\u001b[0;34m,\u001b[0m \u001b[0mparam_grid\u001b[0m\u001b[0;34m,\u001b[0m \u001b[0mcv\u001b[0m\u001b[0;34m=\u001b[0m\u001b[0;36m2\u001b[0m\u001b[0;34m,\u001b[0m \u001b[0mverbose\u001b[0m\u001b[0;34m=\u001b[0m\u001b[0;36m5\u001b[0m\u001b[0;34m,\u001b[0m \u001b[0mn_jobs\u001b[0m\u001b[0;34m=\u001b[0m\u001b[0;36m3\u001b[0m\u001b[0;34m)\u001b[0m\u001b[0;34m\u001b[0m\u001b[0m\n\u001b[0;32m----> 7\u001b[0;31m \u001b[0mlr_clf_grd\u001b[0m\u001b[0;34m.\u001b[0m\u001b[0mfit\u001b[0m\u001b[0;34m(\u001b[0m\u001b[0mdf_train\u001b[0m\u001b[0;34m.\u001b[0m\u001b[0miloc\u001b[0m\u001b[0;34m[\u001b[0m\u001b[0;34m:\u001b[0m\u001b[0;34m,\u001b[0m\u001b[0;36m0\u001b[0m\u001b[0;34m:\u001b[0m\u001b[0;36m29\u001b[0m\u001b[0;34m]\u001b[0m\u001b[0;34m,\u001b[0m \u001b[0mdf_train\u001b[0m\u001b[0;34m.\u001b[0m\u001b[0mloc\u001b[0m\u001b[0;34m[\u001b[0m\u001b[0;34m:\u001b[0m\u001b[0;34m,\u001b[0m\u001b[0;34m'Class'\u001b[0m\u001b[0;34m]\u001b[0m\u001b[0;34m)\u001b[0m\u001b[0;34m\u001b[0m\u001b[0m\n\u001b[0m\u001b[1;32m      8\u001b[0m \u001b[0mprint\u001b[0m\u001b[0;34m(\u001b[0m\u001b[0mclf\u001b[0m\u001b[0;34m.\u001b[0m\u001b[0mbest_params_\u001b[0m\u001b[0;34m)\u001b[0m\u001b[0;34m\u001b[0m\u001b[0m\n",
      "\u001b[0;32m/Library/Frameworks/Python.framework/Versions/3.6/lib/python3.6/site-packages/sklearn/model_selection/_search.py\u001b[0m in \u001b[0;36mfit\u001b[0;34m(self, X, y, groups, **fit_params)\u001b[0m\n\u001b[1;32m    636\u001b[0m                                   error_score=self.error_score)\n\u001b[1;32m    637\u001b[0m           for parameters, (train, test) in product(candidate_params,\n\u001b[0;32m--> 638\u001b[0;31m                                                    cv.split(X, y, groups)))\n\u001b[0m\u001b[1;32m    639\u001b[0m \u001b[0;34m\u001b[0m\u001b[0m\n\u001b[1;32m    640\u001b[0m         \u001b[0;31m# if one choose to see train score, \"out\" will contain train score info\u001b[0m\u001b[0;34m\u001b[0m\u001b[0;34m\u001b[0m\u001b[0m\n",
      "\u001b[0;32m/Library/Frameworks/Python.framework/Versions/3.6/lib/python3.6/site-packages/sklearn/externals/joblib/parallel.py\u001b[0m in \u001b[0;36m__call__\u001b[0;34m(self, iterable)\u001b[0m\n\u001b[1;32m    787\u001b[0m                 \u001b[0;31m# consumption.\u001b[0m\u001b[0;34m\u001b[0m\u001b[0;34m\u001b[0m\u001b[0m\n\u001b[1;32m    788\u001b[0m                 \u001b[0mself\u001b[0m\u001b[0;34m.\u001b[0m\u001b[0m_iterating\u001b[0m \u001b[0;34m=\u001b[0m \u001b[0;32mFalse\u001b[0m\u001b[0;34m\u001b[0m\u001b[0m\n\u001b[0;32m--> 789\u001b[0;31m             \u001b[0mself\u001b[0m\u001b[0;34m.\u001b[0m\u001b[0mretrieve\u001b[0m\u001b[0;34m(\u001b[0m\u001b[0;34m)\u001b[0m\u001b[0;34m\u001b[0m\u001b[0m\n\u001b[0m\u001b[1;32m    790\u001b[0m             \u001b[0;31m# Make sure that we get a last message telling us we are done\u001b[0m\u001b[0;34m\u001b[0m\u001b[0;34m\u001b[0m\u001b[0m\n\u001b[1;32m    791\u001b[0m             \u001b[0melapsed_time\u001b[0m \u001b[0;34m=\u001b[0m \u001b[0mtime\u001b[0m\u001b[0;34m.\u001b[0m\u001b[0mtime\u001b[0m\u001b[0;34m(\u001b[0m\u001b[0;34m)\u001b[0m \u001b[0;34m-\u001b[0m \u001b[0mself\u001b[0m\u001b[0;34m.\u001b[0m\u001b[0m_start_time\u001b[0m\u001b[0;34m\u001b[0m\u001b[0m\n",
      "\u001b[0;32m/Library/Frameworks/Python.framework/Versions/3.6/lib/python3.6/site-packages/sklearn/externals/joblib/parallel.py\u001b[0m in \u001b[0;36mretrieve\u001b[0;34m(self)\u001b[0m\n\u001b[1;32m    697\u001b[0m             \u001b[0;32mtry\u001b[0m\u001b[0;34m:\u001b[0m\u001b[0;34m\u001b[0m\u001b[0m\n\u001b[1;32m    698\u001b[0m                 \u001b[0;32mif\u001b[0m \u001b[0mgetattr\u001b[0m\u001b[0;34m(\u001b[0m\u001b[0mself\u001b[0m\u001b[0;34m.\u001b[0m\u001b[0m_backend\u001b[0m\u001b[0;34m,\u001b[0m \u001b[0;34m'supports_timeout'\u001b[0m\u001b[0;34m,\u001b[0m \u001b[0;32mFalse\u001b[0m\u001b[0;34m)\u001b[0m\u001b[0;34m:\u001b[0m\u001b[0;34m\u001b[0m\u001b[0m\n\u001b[0;32m--> 699\u001b[0;31m                     \u001b[0mself\u001b[0m\u001b[0;34m.\u001b[0m\u001b[0m_output\u001b[0m\u001b[0;34m.\u001b[0m\u001b[0mextend\u001b[0m\u001b[0;34m(\u001b[0m\u001b[0mjob\u001b[0m\u001b[0;34m.\u001b[0m\u001b[0mget\u001b[0m\u001b[0;34m(\u001b[0m\u001b[0mtimeout\u001b[0m\u001b[0;34m=\u001b[0m\u001b[0mself\u001b[0m\u001b[0;34m.\u001b[0m\u001b[0mtimeout\u001b[0m\u001b[0;34m)\u001b[0m\u001b[0;34m)\u001b[0m\u001b[0;34m\u001b[0m\u001b[0m\n\u001b[0m\u001b[1;32m    700\u001b[0m                 \u001b[0;32melse\u001b[0m\u001b[0;34m:\u001b[0m\u001b[0;34m\u001b[0m\u001b[0m\n\u001b[1;32m    701\u001b[0m                     \u001b[0mself\u001b[0m\u001b[0;34m.\u001b[0m\u001b[0m_output\u001b[0m\u001b[0;34m.\u001b[0m\u001b[0mextend\u001b[0m\u001b[0;34m(\u001b[0m\u001b[0mjob\u001b[0m\u001b[0;34m.\u001b[0m\u001b[0mget\u001b[0m\u001b[0;34m(\u001b[0m\u001b[0;34m)\u001b[0m\u001b[0;34m)\u001b[0m\u001b[0;34m\u001b[0m\u001b[0m\n",
      "\u001b[0;32m/Library/Frameworks/Python.framework/Versions/3.6/lib/python3.6/multiprocessing/pool.py\u001b[0m in \u001b[0;36mget\u001b[0;34m(self, timeout)\u001b[0m\n\u001b[1;32m    600\u001b[0m \u001b[0;34m\u001b[0m\u001b[0m\n\u001b[1;32m    601\u001b[0m     \u001b[0;32mdef\u001b[0m \u001b[0mget\u001b[0m\u001b[0;34m(\u001b[0m\u001b[0mself\u001b[0m\u001b[0;34m,\u001b[0m \u001b[0mtimeout\u001b[0m\u001b[0;34m=\u001b[0m\u001b[0;32mNone\u001b[0m\u001b[0;34m)\u001b[0m\u001b[0;34m:\u001b[0m\u001b[0;34m\u001b[0m\u001b[0m\n\u001b[0;32m--> 602\u001b[0;31m         \u001b[0mself\u001b[0m\u001b[0;34m.\u001b[0m\u001b[0mwait\u001b[0m\u001b[0;34m(\u001b[0m\u001b[0mtimeout\u001b[0m\u001b[0;34m)\u001b[0m\u001b[0;34m\u001b[0m\u001b[0m\n\u001b[0m\u001b[1;32m    603\u001b[0m         \u001b[0;32mif\u001b[0m \u001b[0;32mnot\u001b[0m \u001b[0mself\u001b[0m\u001b[0;34m.\u001b[0m\u001b[0mready\u001b[0m\u001b[0;34m(\u001b[0m\u001b[0;34m)\u001b[0m\u001b[0;34m:\u001b[0m\u001b[0;34m\u001b[0m\u001b[0m\n\u001b[1;32m    604\u001b[0m             \u001b[0;32mraise\u001b[0m \u001b[0mTimeoutError\u001b[0m\u001b[0;34m\u001b[0m\u001b[0m\n",
      "\u001b[0;32m/Library/Frameworks/Python.framework/Versions/3.6/lib/python3.6/multiprocessing/pool.py\u001b[0m in \u001b[0;36mwait\u001b[0;34m(self, timeout)\u001b[0m\n\u001b[1;32m    597\u001b[0m \u001b[0;34m\u001b[0m\u001b[0m\n\u001b[1;32m    598\u001b[0m     \u001b[0;32mdef\u001b[0m \u001b[0mwait\u001b[0m\u001b[0;34m(\u001b[0m\u001b[0mself\u001b[0m\u001b[0;34m,\u001b[0m \u001b[0mtimeout\u001b[0m\u001b[0;34m=\u001b[0m\u001b[0;32mNone\u001b[0m\u001b[0;34m)\u001b[0m\u001b[0;34m:\u001b[0m\u001b[0;34m\u001b[0m\u001b[0m\n\u001b[0;32m--> 599\u001b[0;31m         \u001b[0mself\u001b[0m\u001b[0;34m.\u001b[0m\u001b[0m_event\u001b[0m\u001b[0;34m.\u001b[0m\u001b[0mwait\u001b[0m\u001b[0;34m(\u001b[0m\u001b[0mtimeout\u001b[0m\u001b[0;34m)\u001b[0m\u001b[0;34m\u001b[0m\u001b[0m\n\u001b[0m\u001b[1;32m    600\u001b[0m \u001b[0;34m\u001b[0m\u001b[0m\n\u001b[1;32m    601\u001b[0m     \u001b[0;32mdef\u001b[0m \u001b[0mget\u001b[0m\u001b[0;34m(\u001b[0m\u001b[0mself\u001b[0m\u001b[0;34m,\u001b[0m \u001b[0mtimeout\u001b[0m\u001b[0;34m=\u001b[0m\u001b[0;32mNone\u001b[0m\u001b[0;34m)\u001b[0m\u001b[0;34m:\u001b[0m\u001b[0;34m\u001b[0m\u001b[0m\n",
      "\u001b[0;32m/Library/Frameworks/Python.framework/Versions/3.6/lib/python3.6/threading.py\u001b[0m in \u001b[0;36mwait\u001b[0;34m(self, timeout)\u001b[0m\n\u001b[1;32m    549\u001b[0m             \u001b[0msignaled\u001b[0m \u001b[0;34m=\u001b[0m \u001b[0mself\u001b[0m\u001b[0;34m.\u001b[0m\u001b[0m_flag\u001b[0m\u001b[0;34m\u001b[0m\u001b[0m\n\u001b[1;32m    550\u001b[0m             \u001b[0;32mif\u001b[0m \u001b[0;32mnot\u001b[0m \u001b[0msignaled\u001b[0m\u001b[0;34m:\u001b[0m\u001b[0;34m\u001b[0m\u001b[0m\n\u001b[0;32m--> 551\u001b[0;31m                 \u001b[0msignaled\u001b[0m \u001b[0;34m=\u001b[0m \u001b[0mself\u001b[0m\u001b[0;34m.\u001b[0m\u001b[0m_cond\u001b[0m\u001b[0;34m.\u001b[0m\u001b[0mwait\u001b[0m\u001b[0;34m(\u001b[0m\u001b[0mtimeout\u001b[0m\u001b[0;34m)\u001b[0m\u001b[0;34m\u001b[0m\u001b[0m\n\u001b[0m\u001b[1;32m    552\u001b[0m             \u001b[0;32mreturn\u001b[0m \u001b[0msignaled\u001b[0m\u001b[0;34m\u001b[0m\u001b[0m\n\u001b[1;32m    553\u001b[0m \u001b[0;34m\u001b[0m\u001b[0m\n",
      "\u001b[0;32m/Library/Frameworks/Python.framework/Versions/3.6/lib/python3.6/threading.py\u001b[0m in \u001b[0;36mwait\u001b[0;34m(self, timeout)\u001b[0m\n\u001b[1;32m    293\u001b[0m         \u001b[0;32mtry\u001b[0m\u001b[0;34m:\u001b[0m    \u001b[0;31m# restore state no matter what (e.g., KeyboardInterrupt)\u001b[0m\u001b[0;34m\u001b[0m\u001b[0m\n\u001b[1;32m    294\u001b[0m             \u001b[0;32mif\u001b[0m \u001b[0mtimeout\u001b[0m \u001b[0;32mis\u001b[0m \u001b[0;32mNone\u001b[0m\u001b[0;34m:\u001b[0m\u001b[0;34m\u001b[0m\u001b[0m\n\u001b[0;32m--> 295\u001b[0;31m                 \u001b[0mwaiter\u001b[0m\u001b[0;34m.\u001b[0m\u001b[0macquire\u001b[0m\u001b[0;34m(\u001b[0m\u001b[0;34m)\u001b[0m\u001b[0;34m\u001b[0m\u001b[0m\n\u001b[0m\u001b[1;32m    296\u001b[0m                 \u001b[0mgotit\u001b[0m \u001b[0;34m=\u001b[0m \u001b[0;32mTrue\u001b[0m\u001b[0;34m\u001b[0m\u001b[0m\n\u001b[1;32m    297\u001b[0m             \u001b[0;32melse\u001b[0m\u001b[0;34m:\u001b[0m\u001b[0;34m\u001b[0m\u001b[0m\n",
      "\u001b[0;31mKeyboardInterrupt\u001b[0m: "
     ]
    }
   ],
   "source": [
    "# make predictions on the test dataset\n",
    "param_grid = {\n",
    "    'C': np.linspace(0.01, 10, 10)\n",
    "             }\n",
    "lr = LogisticRegression()\n",
    "lr_clf_grd = GridSearchCV(lr, param_grid, cv=2, verbose=5, n_jobs=3)\n",
    "lr_clf_grd.fit(df_train.iloc[:,0:29], df_train.loc[:,'Class'])\n",
    "print(clf.best_params_)"
   ]
  },
  {
   "cell_type": "markdown",
   "metadata": {},
   "source": [
    "We will create a model using the `C` from the above results."
   ]
  },
  {
   "cell_type": "code",
   "execution_count": 24,
   "metadata": {
    "collapsed": true
   },
   "outputs": [],
   "source": [
    "# instantiate the model\n",
    "log_clf = LogisticRegression(penalty='l2', dual=False, tol=0.01, C=2.23, fit_intercept=True, \n",
    "                        intercept_scaling=1, class_weight=None, random_state=None, \n",
    "                        solver='liblinear', max_iter=100, multi_class='ovr', \n",
    "                        verbose=0, warm_start=False, n_jobs=1)\n",
    "\n",
    "# fit the model\n",
    "log_clf.fit(df_train.iloc[:,0:29], df_train.loc[:,'Class'])\n",
    "\n",
    "# predictions\n",
    "predictions_lr = log_clf.predict(df_test.iloc[:,0:29])"
   ]
  },
  {
   "cell_type": "markdown",
   "metadata": {},
   "source": [
    "##### 2.3 Classification Report"
   ]
  },
  {
   "cell_type": "code",
   "execution_count": 25,
   "metadata": {},
   "outputs": [
    {
     "name": "stdout",
     "output_type": "stream",
     "text": [
      "             precision    recall  f1-score   support\n",
      "\n",
      "  Legitmate       0.79      0.90      0.84     82557\n",
      "      Fraud       0.88      0.77      0.82     82546\n",
      "\n",
      "avg / total       0.84      0.83      0.83    165103\n",
      "\n"
     ]
    }
   ],
   "source": [
    "# get classification report\n",
    "target_names=['Legitmate', 'Fraud']\n",
    "print(classification_report(df_test.loc[:,'Class'], predictions_lr, target_names=target_names))"
   ]
  },
  {
   "cell_type": "code",
   "execution_count": 26,
   "metadata": {
    "collapsed": true
   },
   "outputs": [],
   "source": [
    "# function to plot confusion matrix\n",
    "import itertools\n",
    "\n",
    "def plot_confusion_matrix(cm, classes,\n",
    "                          normalize=False,\n",
    "                          title='Confusion matrix',\n",
    "                          cmap=plt.cm.Blues):\n",
    "    \"\"\"\n",
    "    This function prints and plots the confusion matrix.\n",
    "    Normalization can be applied by setting `normalize=True`.\n",
    "    \"\"\"\n",
    "    plt.imshow(cm, interpolation='nearest', cmap=cmap)\n",
    "    plt.title(title)\n",
    "    plt.colorbar()\n",
    "    tick_marks = np.arange(len(classes))\n",
    "    plt.xticks(tick_marks, classes, rotation=0)\n",
    "    plt.yticks(tick_marks, classes)\n",
    "\n",
    "    if normalize:\n",
    "        cm = cm.astype('float') / cm.sum(axis=1)[:, np.newaxis]\n",
    "        #print(\"Normalized confusion matrix\")\n",
    "    else:\n",
    "        1#print('Confusion matrix, without normalization')\n",
    "\n",
    "    #print(cm)\n",
    "\n",
    "    thresh = cm.max() / 2.\n",
    "    for i, j in itertools.product(range(cm.shape[0]), range(cm.shape[1])):\n",
    "        plt.text(j, i, cm[i, j],\n",
    "                 horizontalalignment=\"center\",\n",
    "                 color=\"white\" if cm[i, j] > thresh else \"black\")\n",
    "\n",
    "    plt.tight_layout()\n",
    "    plt.ylabel('True label')\n",
    "    plt.xlabel('Predicted label')\n",
    "    plt.show()"
   ]
  },
  {
   "cell_type": "markdown",
   "metadata": {},
   "source": [
    "##### 2.4 Confusion matrix and ROC AUC curve"
   ]
  },
  {
   "cell_type": "code",
   "execution_count": 28,
   "metadata": {},
   "outputs": [
    {
     "name": "stdout",
     "output_type": "stream",
     "text": [
      "AUC ROC:  0.921867240549\n"
     ]
    },
    {
     "data": {
      "image/png": "[encoded data removed]",
      "text/plain": [
       "<matplotlib.figure.Figure at 0x10a1caba8>"
      ]
     },
     "metadata": {},
     "output_type": "display_data"
    },
    {
     "data": {
      "image/png": "[encoded data removed]",
      "text/plain": [
       "<matplotlib.figure.Figure at 0x109255cc0>"
      ]
     },
     "metadata": {},
     "output_type": "display_data"
    }
   ],
   "source": [
    "# plot the confusion matrix\n",
    "cnf_matrix_lr = confusion_matrix(df_test.loc[:,'Class'], predictions_lr)\n",
    "class_names = ['Legitimate','Fraud']\n",
    "\n",
    "# plot the AUC ROC curve\n",
    "y_pred_score_log = log_clf.decision_function(df_test.iloc[:,0:29])\n",
    "fpr_log, tpr_log, thresholds = roc_curve(df_test.loc[:,'Class'], y_pred_score_log)\n",
    "roc_auc_log = auc(fpr_log,tpr_log)\n",
    "print('AUC ROC: ',roc_auc_log)\n",
    "\n",
    "plt.title('Receiver Operating Characteristic')\n",
    "plt.plot(fpr_log, tpr_log, 'b',label='AUC = %0.3f'% roc_auc_log)\n",
    "plt.legend(loc='lower right')\n",
    "plt.plot([0,1],[0,1],'r--')\n",
    "plt.xlim([-0.1,1.0])\n",
    "plt.ylim([-0.1,1.01])\n",
    "plt.ylabel('True Positive Rate')\n",
    "plt.xlabel('False Positive Rate')\n",
    "plt.show()\n",
    "plot_confusion_matrix(cnf_matrix_lr, classes=class_names, title='Confusion matrix')"
   ]
  },
  {
   "cell_type": "markdown",
   "metadata": {},
   "source": [
    "#### 3. Random Forest"
   ]
  },
  {
   "cell_type": "markdown",
   "metadata": {},
   "source": [
    "We will be building a random forest model in this section. In parameter tuning we will tune the foloowing parameters - `n_estimators`, `min_samples_split`, `min_samples_leaf`"
   ]
  },
  {
   "cell_type": "markdown",
   "metadata": {},
   "source": [
    "##### 3.1 Fitting a random forest model"
   ]
  },
  {
   "cell_type": "code",
   "execution_count": 29,
   "metadata": {
    "collapsed": true
   },
   "outputs": [],
   "source": [
    "from sklearn.ensemble import RandomForestClassifier\n",
    "rf_clf = RandomForestClassifier(n_estimators=10, criterion='gini', max_depth=None, \n",
    "                                min_samples_split=2, min_samples_leaf=1, min_weight_fraction_leaf=0.0, \n",
    "                                max_features='auto', max_leaf_nodes=None, min_impurity_decrease=0.0, \n",
    "                                min_impurity_split=None, bootstrap=True, oob_score=False, n_jobs=-1, \n",
    "                                random_state=42, verbose=0, warm_start=False, class_weight=None)"
   ]
  },
  {
   "cell_type": "code",
   "execution_count": 30,
   "metadata": {},
   "outputs": [
    {
     "data": {
      "text/plain": [
       "RandomForestClassifier(bootstrap=True, class_weight=None, criterion='gini',\n",
       "            max_depth=None, max_features='auto', max_leaf_nodes=None,\n",
       "            min_impurity_decrease=0.0, min_impurity_split=None,\n",
       "            min_samples_leaf=1, min_samples_split=2,\n",
       "            min_weight_fraction_leaf=0.0, n_estimators=10, n_jobs=-1,\n",
       "            oob_score=False, random_state=42, verbose=0, warm_start=False)"
      ]
     },
     "execution_count": 30,
     "metadata": {},
     "output_type": "execute_result"
    }
   ],
   "source": [
    "# fit the model\n",
    "rf_clf.fit(df_train.iloc[:,0:29], df_train.loc[:,'Class'])"
   ]
  },
  {
   "cell_type": "code",
   "execution_count": 31,
   "metadata": {},
   "outputs": [
    {
     "name": "stdout",
     "output_type": "stream",
     "text": [
      "             precision    recall  f1-score   support\n",
      "\n",
      "  Legitmate       1.00      1.00      1.00     82557\n",
      "      Fraud       1.00      1.00      1.00     82546\n",
      "\n",
      "avg / total       1.00      1.00      1.00    165103\n",
      "\n"
     ]
    }
   ],
   "source": [
    "# predictions\n",
    "predictions_rf = rf_clf.predict(df_test.iloc[:,0:29])\n",
    "\n",
    "# get classification report\n",
    "target_names=['Legitmate', 'Fraud']\n",
    "print(classification_report(df_test.loc[:,'Class'], predictions_rf, target_names=target_names))"
   ]
  },
  {
   "cell_type": "markdown",
   "metadata": {},
   "source": [
    "##### 3.2 Parameter Tuning "
   ]
  },
  {
   "cell_type": "code",
   "execution_count": null,
   "metadata": {
    "scrolled": true
   },
   "outputs": [
    {
     "name": "stdout",
     "output_type": "stream",
     "text": [
      "Fitting 2 folds for each of 4320 candidates, totalling 8640 fits\n",
      "[CV] max_depth=2, max_leaf_nodes=2, min_samples_leaf=2, min_samples_split=2, min_weight_fraction_leaf=0.1, n_estimators=10 \n",
      "[CV] max_depth=2, max_leaf_nodes=2, min_samples_leaf=2, min_samples_split=2, min_weight_fraction_leaf=0.1, n_estimators=10 \n",
      "[CV] max_depth=2, max_leaf_nodes=2, min_samples_leaf=2, min_samples_split=2, min_weight_fraction_leaf=0.1, n_estimators=210 \n",
      "[CV]  max_depth=2, max_leaf_nodes=2, min_samples_leaf=2, min_samples_split=2, min_weight_fraction_leaf=0.1, n_estimators=10, score=0.7470005866442392, total=   1.4s\n",
      "[CV] max_depth=2, max_leaf_nodes=2, min_samples_leaf=2, min_samples_split=2, min_weight_fraction_leaf=0.1, n_estimators=210 \n",
      "[CV]  max_depth=2, max_leaf_nodes=2, min_samples_leaf=2, min_samples_split=2, min_weight_fraction_leaf=0.1, n_estimators=10, score=0.7472367731116868, total=   1.5s\n",
      "[CV] max_depth=2, max_leaf_nodes=2, min_samples_leaf=2, min_samples_split=2, min_weight_fraction_leaf=0.1, n_estimators=410 \n",
      "[CV]  max_depth=2, max_leaf_nodes=2, min_samples_leaf=2, min_samples_split=2, min_weight_fraction_leaf=0.1, n_estimators=210, score=0.7492433327622637, total=  26.5s\n",
      "[CV] max_depth=2, max_leaf_nodes=2, min_samples_leaf=2, min_samples_split=2, min_weight_fraction_leaf=0.1, n_estimators=410 \n",
      "[CV]  max_depth=2, max_leaf_nodes=2, min_samples_leaf=2, min_samples_split=2, min_weight_fraction_leaf=0.1, n_estimators=210, score=0.7496716315628261, total=  27.5s\n",
      "[CV] max_depth=2, max_leaf_nodes=2, min_samples_leaf=2, min_samples_split=2, min_weight_fraction_leaf=0.1, n_estimators=610 \n",
      "[CV]  max_depth=2, max_leaf_nodes=2, min_samples_leaf=2, min_samples_split=2, min_weight_fraction_leaf=0.1, n_estimators=410, score=0.7497365292465515, total=  53.6s\n",
      "[CV] max_depth=2, max_leaf_nodes=2, min_samples_leaf=2, min_samples_split=2, min_weight_fraction_leaf=0.1, n_estimators=610 \n",
      "[CV]  max_depth=2, max_leaf_nodes=2, min_samples_leaf=2, min_samples_split=2, min_weight_fraction_leaf=0.1, n_estimators=410, score=0.750922806161386, total=  52.8s\n",
      "[CV] max_depth=2, max_leaf_nodes=2, min_samples_leaf=2, min_samples_split=2, min_weight_fraction_leaf=0.1, n_estimators=810 \n",
      "[CV]  max_depth=2, max_leaf_nodes=2, min_samples_leaf=2, min_samples_split=2, min_weight_fraction_leaf=0.1, n_estimators=610, score=0.7511849694477757, total= 1.3min\n",
      "[CV] max_depth=2, max_leaf_nodes=2, min_samples_leaf=2, min_samples_split=2, min_weight_fraction_leaf=0.1, n_estimators=810 \n",
      "[CV]  max_depth=2, max_leaf_nodes=2, min_samples_leaf=2, min_samples_split=2, min_weight_fraction_leaf=0.1, n_estimators=610, score=0.7525685420441389, total= 1.3min\n",
      "[CV] max_depth=2, max_leaf_nodes=2, min_samples_leaf=2, min_samples_split=2, min_weight_fraction_leaf=0.25, n_estimators=10 \n",
      "[CV]  max_depth=2, max_leaf_nodes=2, min_samples_leaf=2, min_samples_split=2, min_weight_fraction_leaf=0.25, n_estimators=10, score=0.7414560198524563, total=   2.2s\n",
      "[CV] max_depth=2, max_leaf_nodes=2, min_samples_leaf=2, min_samples_split=2, min_weight_fraction_leaf=0.25, n_estimators=10 \n",
      "[CV]  max_depth=2, max_leaf_nodes=2, min_samples_leaf=2, min_samples_split=2, min_weight_fraction_leaf=0.25, n_estimators=10, score=0.7414429521490611, total=   2.4s\n",
      "[CV] max_depth=2, max_leaf_nodes=2, min_samples_leaf=2, min_samples_split=2, min_weight_fraction_leaf=0.25, n_estimators=210 \n",
      "[CV]  max_depth=2, max_leaf_nodes=2, min_samples_leaf=2, min_samples_split=2, min_weight_fraction_leaf=0.25, n_estimators=210, score=0.74131065667814, total=  27.4s\n",
      "[CV] max_depth=2, max_leaf_nodes=2, min_samples_leaf=2, min_samples_split=2, min_weight_fraction_leaf=0.25, n_estimators=210 \n",
      "[CV]  max_depth=2, max_leaf_nodes=2, min_samples_leaf=2, min_samples_split=2, min_weight_fraction_leaf=0.1, n_estimators=810, score=0.7499130416725072, total= 1.9min\n",
      "[CV] max_depth=2, max_leaf_nodes=2, min_samples_leaf=2, min_samples_split=2, min_weight_fraction_leaf=0.25, n_estimators=410 \n"
     ]
    },
    {
     "name": "stderr",
     "output_type": "stream",
     "text": [
      "[Parallel(n_jobs=3)]: Done  12 tasks      | elapsed:  3.3min\n"
     ]
    },
    {
     "name": "stdout",
     "output_type": "stream",
     "text": [
      "[CV]  max_depth=2, max_leaf_nodes=2, min_samples_leaf=2, min_samples_split=2, min_weight_fraction_leaf=0.25, n_estimators=210, score=0.7413339286363235, total=  25.5s\n",
      "[CV] max_depth=2, max_leaf_nodes=2, min_samples_leaf=2, min_samples_split=2, min_weight_fraction_leaf=0.25, n_estimators=410 \n",
      "[CV]  max_depth=2, max_leaf_nodes=2, min_samples_leaf=2, min_samples_split=2, min_weight_fraction_leaf=0.1, n_estimators=810, score=0.7515665640461221, total= 1.9min\n",
      "[CV] max_depth=2, max_leaf_nodes=2, min_samples_leaf=2, min_samples_split=2, min_weight_fraction_leaf=0.25, n_estimators=610 \n",
      "[CV]  max_depth=2, max_leaf_nodes=2, min_samples_leaf=2, min_samples_split=2, min_weight_fraction_leaf=0.25, n_estimators=410, score=0.7448720544488918, total=  51.9s\n",
      "[CV] max_depth=2, max_leaf_nodes=2, min_samples_leaf=2, min_samples_split=2, min_weight_fraction_leaf=0.25, n_estimators=610 \n",
      "[CV]  max_depth=2, max_leaf_nodes=2, min_samples_leaf=2, min_samples_split=2, min_weight_fraction_leaf=0.25, n_estimators=410, score=0.745103027219537, total=  52.6s\n",
      "[CV] max_depth=2, max_leaf_nodes=2, min_samples_leaf=2, min_samples_split=2, min_weight_fraction_leaf=0.25, n_estimators=810 \n",
      "[CV]  max_depth=2, max_leaf_nodes=2, min_samples_leaf=2, min_samples_split=2, min_weight_fraction_leaf=0.25, n_estimators=610, score=0.7570981357172893, total= 1.3min\n",
      "[CV] max_depth=2, max_leaf_nodes=2, min_samples_leaf=2, min_samples_split=2, min_weight_fraction_leaf=0.25, n_estimators=810 \n",
      "[CV]  max_depth=2, max_leaf_nodes=2, min_samples_leaf=2, min_samples_split=2, min_weight_fraction_leaf=0.25, n_estimators=610, score=0.754728245915512, total= 1.3min\n",
      "[CV] max_depth=2, max_leaf_nodes=2, min_samples_leaf=2, min_samples_split=2, min_weight_fraction_leaf=0.4, n_estimators=10 \n",
      "[CV]  max_depth=2, max_leaf_nodes=2, min_samples_leaf=2, min_samples_split=2, min_weight_fraction_leaf=0.4, n_estimators=10, score=0.7485320915165014, total=   1.6s\n",
      "[CV] max_depth=2, max_leaf_nodes=2, min_samples_leaf=2, min_samples_split=2, min_weight_fraction_leaf=0.4, n_estimators=10 \n",
      "[CV]  max_depth=2, max_leaf_nodes=2, min_samples_leaf=2, min_samples_split=2, min_weight_fraction_leaf=0.4, n_estimators=10, score=0.749422434962283, total=   1.4s\n",
      "[CV] max_depth=2, max_leaf_nodes=2, min_samples_leaf=2, min_samples_split=2, min_weight_fraction_leaf=0.4, n_estimators=210 \n",
      "[CV]  max_depth=2, max_leaf_nodes=2, min_samples_leaf=2, min_samples_split=2, min_weight_fraction_leaf=0.4, n_estimators=210, score=0.7552187975350559, total=  18.7s\n",
      "[CV] max_depth=2, max_leaf_nodes=2, min_samples_leaf=2, min_samples_split=2, min_weight_fraction_leaf=0.4, n_estimators=210 \n",
      "[CV]  max_depth=2, max_leaf_nodes=2, min_samples_leaf=2, min_samples_split=2, min_weight_fraction_leaf=0.25, n_estimators=810, score=0.7512005440735953, total= 1.7min\n",
      "[CV] max_depth=2, max_leaf_nodes=2, min_samples_leaf=2, min_samples_split=2, min_weight_fraction_leaf=0.4, n_estimators=410 \n",
      "[CV]  max_depth=2, max_leaf_nodes=2, min_samples_leaf=2, min_samples_split=2, min_weight_fraction_leaf=0.4, n_estimators=210, score=0.7558911633847128, total=  17.2s\n",
      "[CV] max_depth=2, max_leaf_nodes=2, min_samples_leaf=2, min_samples_split=2, min_weight_fraction_leaf=0.4, n_estimators=410 \n",
      "[CV]  max_depth=2, max_leaf_nodes=2, min_samples_leaf=2, min_samples_split=2, min_weight_fraction_leaf=0.4, n_estimators=410, score=0.7562311482133308, total=  32.7s\n",
      "[CV] max_depth=2, max_leaf_nodes=2, min_samples_leaf=2, min_samples_split=2, min_weight_fraction_leaf=0.4, n_estimators=610 \n",
      "[CV]  max_depth=2, max_leaf_nodes=2, min_samples_leaf=2, min_samples_split=2, min_weight_fraction_leaf=0.4, n_estimators=410, score=0.7572773194752335, total=  32.5s\n",
      "[CV] max_depth=2, max_leaf_nodes=2, min_samples_leaf=2, min_samples_split=2, min_weight_fraction_leaf=0.4, n_estimators=610 \n",
      "[CV]  max_depth=2, max_leaf_nodes=2, min_samples_leaf=2, min_samples_split=2, min_weight_fraction_leaf=0.25, n_estimators=810, score=0.752890420986507, total= 1.6min\n",
      "[CV] max_depth=2, max_leaf_nodes=2, min_samples_leaf=2, min_samples_split=2, min_weight_fraction_leaf=0.4, n_estimators=810 \n",
      "[CV]  max_depth=2, max_leaf_nodes=2, min_samples_leaf=2, min_samples_split=2, min_weight_fraction_leaf=0.4, n_estimators=610, score=0.7563557452198878, total=  47.7s\n",
      "[CV] max_depth=2, max_leaf_nodes=2, min_samples_leaf=2, min_samples_split=2, min_weight_fraction_leaf=0.4, n_estimators=810 \n",
      "[CV]  max_depth=2, max_leaf_nodes=2, min_samples_leaf=2, min_samples_split=2, min_weight_fraction_leaf=0.4, n_estimators=610, score=0.7581131664062216, total=  47.9s\n",
      "[CV] max_depth=2, max_leaf_nodes=2, min_samples_leaf=2, min_samples_split=27, min_weight_fraction_leaf=0.1, n_estimators=10 \n",
      "[CV]  max_depth=2, max_leaf_nodes=2, min_samples_leaf=2, min_samples_split=27, min_weight_fraction_leaf=0.1, n_estimators=10, score=0.7469330965990209, total=   2.2s\n",
      "[CV] max_depth=2, max_leaf_nodes=2, min_samples_leaf=2, min_samples_split=27, min_weight_fraction_leaf=0.1, n_estimators=10 \n",
      "[CV]  max_depth=2, max_leaf_nodes=2, min_samples_leaf=2, min_samples_split=27, min_weight_fraction_leaf=0.1, n_estimators=10, score=0.7472056235366189, total=   2.2s\n",
      "[CV] max_depth=2, max_leaf_nodes=2, min_samples_leaf=2, min_samples_split=27, min_weight_fraction_leaf=0.1, n_estimators=210 \n",
      "[CV]  max_depth=2, max_leaf_nodes=2, min_samples_leaf=2, min_samples_split=2, min_weight_fraction_leaf=0.4, n_estimators=810, score=0.7552655214125147, total= 1.1min\n",
      "[CV] max_depth=2, max_leaf_nodes=2, min_samples_leaf=2, min_samples_split=27, min_weight_fraction_leaf=0.1, n_estimators=210 \n",
      "[CV]  max_depth=2, max_leaf_nodes=2, min_samples_leaf=2, min_samples_split=27, min_weight_fraction_leaf=0.1, n_estimators=210, score=0.7492225665945043, total=  31.3s\n",
      "[CV] max_depth=2, max_leaf_nodes=2, min_samples_leaf=2, min_samples_split=27, min_weight_fraction_leaf=0.1, n_estimators=410 \n",
      "[CV]  max_depth=2, max_leaf_nodes=2, min_samples_leaf=2, min_samples_split=27, min_weight_fraction_leaf=0.1, n_estimators=210, score=0.7496664399669815, total=  29.9s\n",
      "[CV] max_depth=2, max_leaf_nodes=2, min_samples_leaf=2, min_samples_split=27, min_weight_fraction_leaf=0.1, n_estimators=410 \n",
      "[CV]  max_depth=2, max_leaf_nodes=2, min_samples_leaf=2, min_samples_split=2, min_weight_fraction_leaf=0.4, n_estimators=810, score=0.7566491363780312, total= 1.1min\n",
      "[CV] max_depth=2, max_leaf_nodes=2, min_samples_leaf=2, min_samples_split=27, min_weight_fraction_leaf=0.1, n_estimators=610 \n",
      "[CV]  max_depth=2, max_leaf_nodes=2, min_samples_leaf=2, min_samples_split=27, min_weight_fraction_leaf=0.1, n_estimators=410, score=0.7497313377046116, total=  55.2s\n",
      "[CV] max_depth=2, max_leaf_nodes=2, min_samples_leaf=2, min_samples_split=27, min_weight_fraction_leaf=0.1, n_estimators=610 \n",
      "[CV]  max_depth=2, max_leaf_nodes=2, min_samples_leaf=2, min_samples_split=27, min_weight_fraction_leaf=0.1, n_estimators=410, score=0.750907231373852, total=  56.8s\n",
      "[CV] max_depth=2, max_leaf_nodes=2, min_samples_leaf=2, min_samples_split=27, min_weight_fraction_leaf=0.1, n_estimators=810 \n",
      "[CV]  max_depth=2, max_leaf_nodes=2, min_samples_leaf=2, min_samples_split=27, min_weight_fraction_leaf=0.1, n_estimators=610, score=0.7511797779058358, total= 1.5min\n",
      "[CV] max_depth=2, max_leaf_nodes=2, min_samples_leaf=2, min_samples_split=27, min_weight_fraction_leaf=0.1, n_estimators=810 \n",
      "[CV]  max_depth=2, max_leaf_nodes=2, min_samples_leaf=2, min_samples_split=27, min_weight_fraction_leaf=0.1, n_estimators=610, score=0.7525737336399836, total= 1.5min\n",
      "[CV] max_depth=2, max_leaf_nodes=2, min_samples_leaf=2, min_samples_split=27, min_weight_fraction_leaf=0.25, n_estimators=10 \n",
      "[CV]  max_depth=2, max_leaf_nodes=2, min_samples_leaf=2, min_samples_split=27, min_weight_fraction_leaf=0.25, n_estimators=10, score=0.741554659149314, total=   2.2s\n",
      "[CV] max_depth=2, max_leaf_nodes=2, min_samples_leaf=2, min_samples_split=27, min_weight_fraction_leaf=0.25, n_estimators=10 \n",
      "[CV]  max_depth=2, max_leaf_nodes=2, min_samples_leaf=2, min_samples_split=27, min_weight_fraction_leaf=0.25, n_estimators=10, score=0.7413079706571003, total=   2.3s\n",
      "[CV] max_depth=2, max_leaf_nodes=2, min_samples_leaf=2, min_samples_split=27, min_weight_fraction_leaf=0.25, n_estimators=210 \n",
      "[CV]  max_depth=2, max_leaf_nodes=2, min_samples_leaf=2, min_samples_split=27, min_weight_fraction_leaf=0.25, n_estimators=210, score=0.7413158482200799, total=  26.3s\n"
     ]
    },
    {
     "name": "stdout",
     "output_type": "stream",
     "text": [
      "[CV] max_depth=2, max_leaf_nodes=2, min_samples_leaf=2, min_samples_split=27, min_weight_fraction_leaf=0.25, n_estimators=210 \n",
      "[CV]  max_depth=2, max_leaf_nodes=2, min_samples_leaf=2, min_samples_split=27, min_weight_fraction_leaf=0.1, n_estimators=810, score=0.7499130416725072, total= 1.9min\n",
      "[CV] max_depth=2, max_leaf_nodes=2, min_samples_leaf=2, min_samples_split=27, min_weight_fraction_leaf=0.25, n_estimators=410 \n",
      "[CV]  max_depth=2, max_leaf_nodes=2, min_samples_leaf=2, min_samples_split=27, min_weight_fraction_leaf=0.25, n_estimators=210, score=0.7413443118280129, total=  26.5s\n",
      "[CV] max_depth=2, max_leaf_nodes=2, min_samples_leaf=2, min_samples_split=27, min_weight_fraction_leaf=0.25, n_estimators=410 \n",
      "[CV]  max_depth=2, max_leaf_nodes=2, min_samples_leaf=2, min_samples_split=27, min_weight_fraction_leaf=0.1, n_estimators=810, score=0.7515665640461221, total= 1.8min\n",
      "[CV] max_depth=2, max_leaf_nodes=2, min_samples_leaf=2, min_samples_split=27, min_weight_fraction_leaf=0.25, n_estimators=610 \n",
      "[CV]  max_depth=2, max_leaf_nodes=2, min_samples_leaf=2, min_samples_split=27, min_weight_fraction_leaf=0.25, n_estimators=410, score=0.7448720544488918, total=  48.4s\n",
      "[CV] max_depth=2, max_leaf_nodes=2, min_samples_leaf=2, min_samples_split=27, min_weight_fraction_leaf=0.25, n_estimators=610 \n",
      "[CV]  max_depth=2, max_leaf_nodes=2, min_samples_leaf=2, min_samples_split=27, min_weight_fraction_leaf=0.25, n_estimators=410, score=0.7450978356236924, total=  48.7s\n",
      "[CV] max_depth=2, max_leaf_nodes=2, min_samples_leaf=2, min_samples_split=27, min_weight_fraction_leaf=0.25, n_estimators=810 \n",
      "[CV]  max_depth=2, max_leaf_nodes=2, min_samples_leaf=2, min_samples_split=27, min_weight_fraction_leaf=0.25, n_estimators=610, score=0.7571085188011691, total= 1.2min\n",
      "[CV] max_depth=2, max_leaf_nodes=2, min_samples_leaf=2, min_samples_split=27, min_weight_fraction_leaf=0.25, n_estimators=810 \n",
      "[CV]  max_depth=2, max_leaf_nodes=2, min_samples_leaf=2, min_samples_split=27, min_weight_fraction_leaf=0.25, n_estimators=610, score=0.7547386291072012, total= 1.2min\n",
      "[CV] max_depth=2, max_leaf_nodes=2, min_samples_leaf=2, min_samples_split=27, min_weight_fraction_leaf=0.4, n_estimators=10 \n",
      "[CV]  max_depth=2, max_leaf_nodes=2, min_samples_leaf=2, min_samples_split=27, min_weight_fraction_leaf=0.4, n_estimators=10, score=0.7482257905420489, total=   1.5s\n",
      "[CV] max_depth=2, max_leaf_nodes=2, min_samples_leaf=2, min_samples_split=27, min_weight_fraction_leaf=0.4, n_estimators=10 \n",
      "[CV]  max_depth=2, max_leaf_nodes=2, min_samples_leaf=2, min_samples_split=27, min_weight_fraction_leaf=0.4, n_estimators=10, score=0.7490953644240703, total=   1.4s\n",
      "[CV] max_depth=2, max_leaf_nodes=2, min_samples_leaf=2, min_samples_split=27, min_weight_fraction_leaf=0.4, n_estimators=210 \n",
      "[CV]  max_depth=2, max_leaf_nodes=2, min_samples_leaf=2, min_samples_split=27, min_weight_fraction_leaf=0.4, n_estimators=210, score=0.7552032229092362, total=  17.8s\n",
      "[CV] max_depth=2, max_leaf_nodes=2, min_samples_leaf=2, min_samples_split=27, min_weight_fraction_leaf=0.4, n_estimators=210 \n",
      "[CV]  max_depth=2, max_leaf_nodes=2, min_samples_leaf=2, min_samples_split=27, min_weight_fraction_leaf=0.4, n_estimators=210, score=0.7558548222138003, total=  18.2s\n",
      "[CV] max_depth=2, max_leaf_nodes=2, min_samples_leaf=2, min_samples_split=27, min_weight_fraction_leaf=0.4, n_estimators=410 \n",
      "[CV]  max_depth=2, max_leaf_nodes=2, min_samples_leaf=2, min_samples_split=27, min_weight_fraction_leaf=0.25, n_estimators=810, score=0.7512057356155352, total= 1.6min\n",
      "[CV] max_depth=2, max_leaf_nodes=2, min_samples_leaf=2, min_samples_split=27, min_weight_fraction_leaf=0.4, n_estimators=410 \n",
      "[CV]  max_depth=2, max_leaf_nodes=2, min_samples_leaf=2, min_samples_split=27, min_weight_fraction_leaf=0.4, n_estimators=410, score=0.7562311482133308, total=  34.7s\n",
      "[CV] max_depth=2, max_leaf_nodes=2, min_samples_leaf=2, min_samples_split=27, min_weight_fraction_leaf=0.4, n_estimators=610 \n",
      "[CV]  max_depth=2, max_leaf_nodes=2, min_samples_leaf=2, min_samples_split=27, min_weight_fraction_leaf=0.4, n_estimators=410, score=0.7572669362835442, total=  34.7s\n",
      "[CV] max_depth=2, max_leaf_nodes=2, min_samples_leaf=2, min_samples_split=27, min_weight_fraction_leaf=0.4, n_estimators=610 \n",
      "[CV]  max_depth=2, max_leaf_nodes=2, min_samples_leaf=2, min_samples_split=27, min_weight_fraction_leaf=0.25, n_estimators=810, score=0.752890420986507, total= 1.6min\n",
      "[CV] max_depth=2, max_leaf_nodes=2, min_samples_leaf=2, min_samples_split=27, min_weight_fraction_leaf=0.4, n_estimators=810 \n",
      "[CV]  max_depth=2, max_leaf_nodes=2, min_samples_leaf=2, min_samples_split=27, min_weight_fraction_leaf=0.4, n_estimators=610, score=0.7563661283037675, total=  49.3s\n",
      "[CV] max_depth=2, max_leaf_nodes=2, min_samples_leaf=2, min_samples_split=27, min_weight_fraction_leaf=0.4, n_estimators=810 \n",
      "[CV]  max_depth=2, max_leaf_nodes=2, min_samples_leaf=2, min_samples_split=27, min_weight_fraction_leaf=0.4, n_estimators=610, score=0.7581183580020663, total=  49.7s\n",
      "[CV] max_depth=2, max_leaf_nodes=2, min_samples_leaf=2, min_samples_split=52, min_weight_fraction_leaf=0.1, n_estimators=10 \n",
      "[CV]  max_depth=2, max_leaf_nodes=2, min_samples_leaf=2, min_samples_split=52, min_weight_fraction_leaf=0.1, n_estimators=10, score=0.7469123304312614, total=   1.6s\n",
      "[CV] max_depth=2, max_leaf_nodes=2, min_samples_leaf=2, min_samples_split=52, min_weight_fraction_leaf=0.1, n_estimators=10 \n",
      "[CV]  max_depth=2, max_leaf_nodes=2, min_samples_leaf=2, min_samples_split=52, min_weight_fraction_leaf=0.1, n_estimators=10, score=0.7471121748114152, total=   2.3s\n",
      "[CV] max_depth=2, max_leaf_nodes=2, min_samples_leaf=2, min_samples_split=52, min_weight_fraction_leaf=0.1, n_estimators=210 \n",
      "[CV]  max_depth=2, max_leaf_nodes=2, min_samples_leaf=2, min_samples_split=27, min_weight_fraction_leaf=0.4, n_estimators=810, score=0.7552707129544546, total= 1.1min\n",
      "[CV] max_depth=2, max_leaf_nodes=2, min_samples_leaf=2, min_samples_split=52, min_weight_fraction_leaf=0.1, n_estimators=210 \n",
      "[CV]  max_depth=2, max_leaf_nodes=2, min_samples_leaf=2, min_samples_split=52, min_weight_fraction_leaf=0.1, n_estimators=210, score=0.7492329496783839, total=  28.6s\n",
      "[CV] max_depth=2, max_leaf_nodes=2, min_samples_leaf=2, min_samples_split=52, min_weight_fraction_leaf=0.1, n_estimators=410 \n",
      "[CV]  max_depth=2, max_leaf_nodes=2, min_samples_leaf=2, min_samples_split=52, min_weight_fraction_leaf=0.1, n_estimators=210, score=0.7496560567752921, total=  26.7s\n",
      "[CV] max_depth=2, max_leaf_nodes=2, min_samples_leaf=2, min_samples_split=52, min_weight_fraction_leaf=0.1, n_estimators=410 \n",
      "[CV]  max_depth=2, max_leaf_nodes=2, min_samples_leaf=2, min_samples_split=27, min_weight_fraction_leaf=0.4, n_estimators=810, score=0.7566491363780312, total= 1.0min\n",
      "[CV] max_depth=2, max_leaf_nodes=2, min_samples_leaf=2, min_samples_split=52, min_weight_fraction_leaf=0.1, n_estimators=610 \n",
      "[CV]  max_depth=2, max_leaf_nodes=2, min_samples_leaf=2, min_samples_split=52, min_weight_fraction_leaf=0.1, n_estimators=410, score=0.7497313377046116, total=  52.4s\n",
      "[CV] max_depth=2, max_leaf_nodes=2, min_samples_leaf=2, min_samples_split=52, min_weight_fraction_leaf=0.1, n_estimators=610 \n",
      "[CV]  max_depth=2, max_leaf_nodes=2, min_samples_leaf=2, min_samples_split=52, min_weight_fraction_leaf=0.1, n_estimators=410, score=0.750907231373852, total=  52.8s\n",
      "[CV] max_depth=2, max_leaf_nodes=2, min_samples_leaf=2, min_samples_split=52, min_weight_fraction_leaf=0.1, n_estimators=810 \n"
     ]
    },
    {
     "name": "stderr",
     "output_type": "stream",
     "text": [
      "[Parallel(n_jobs=3)]: Done  66 tasks      | elapsed: 17.6min\n"
     ]
    },
    {
     "name": "stdout",
     "output_type": "stream",
     "text": [
      "[CV]  max_depth=2, max_leaf_nodes=2, min_samples_leaf=2, min_samples_split=52, min_weight_fraction_leaf=0.1, n_estimators=610, score=0.7511849694477757, total= 1.3min\n",
      "[CV] max_depth=2, max_leaf_nodes=2, min_samples_leaf=2, min_samples_split=52, min_weight_fraction_leaf=0.1, n_estimators=810 \n",
      "[CV]  max_depth=2, max_leaf_nodes=2, min_samples_leaf=2, min_samples_split=52, min_weight_fraction_leaf=0.1, n_estimators=610, score=0.7525737336399836, total= 1.3min\n",
      "[CV] max_depth=2, max_leaf_nodes=2, min_samples_leaf=2, min_samples_split=52, min_weight_fraction_leaf=0.25, n_estimators=10 \n",
      "[CV]  max_depth=2, max_leaf_nodes=2, min_samples_leaf=2, min_samples_split=52, min_weight_fraction_leaf=0.25, n_estimators=10, score=0.7415961914848329, total=   1.9s\n",
      "[CV] max_depth=2, max_leaf_nodes=2, min_samples_leaf=2, min_samples_split=52, min_weight_fraction_leaf=0.25, n_estimators=10 \n",
      "[CV]  max_depth=2, max_leaf_nodes=2, min_samples_leaf=2, min_samples_split=52, min_weight_fraction_leaf=0.25, n_estimators=10, score=0.7415052512991969, total=   1.9s\n",
      "[CV] max_depth=2, max_leaf_nodes=2, min_samples_leaf=2, min_samples_split=52, min_weight_fraction_leaf=0.25, n_estimators=210 \n",
      "[CV]  max_depth=2, max_leaf_nodes=2, min_samples_leaf=2, min_samples_split=52, min_weight_fraction_leaf=0.25, n_estimators=210, score=0.7412846989684406, total=  23.8s\n",
      "[CV] max_depth=2, max_leaf_nodes=2, min_samples_leaf=2, min_samples_split=52, min_weight_fraction_leaf=0.25, n_estimators=210 \n",
      "[CV]  max_depth=2, max_leaf_nodes=2, min_samples_leaf=2, min_samples_split=52, min_weight_fraction_leaf=0.1, n_estimators=810, score=0.7499130416725072, total= 1.7min\n",
      "[CV] max_depth=2, max_leaf_nodes=2, min_samples_leaf=2, min_samples_split=52, min_weight_fraction_leaf=0.25, n_estimators=410 \n",
      "[CV]  max_depth=2, max_leaf_nodes=2, min_samples_leaf=2, min_samples_split=52, min_weight_fraction_leaf=0.25, n_estimators=210, score=0.7413546950197021, total=  24.4s\n",
      "[CV] max_depth=2, max_leaf_nodes=2, min_samples_leaf=2, min_samples_split=52, min_weight_fraction_leaf=0.25, n_estimators=410 \n",
      "[CV]  max_depth=2, max_leaf_nodes=2, min_samples_leaf=2, min_samples_split=52, min_weight_fraction_leaf=0.1, n_estimators=810, score=0.7515665640461221, total= 1.7min\n",
      "[CV] max_depth=2, max_leaf_nodes=2, min_samples_leaf=2, min_samples_split=52, min_weight_fraction_leaf=0.25, n_estimators=610 \n",
      "[CV]  max_depth=2, max_leaf_nodes=2, min_samples_leaf=2, min_samples_split=52, min_weight_fraction_leaf=0.25, n_estimators=410, score=0.7448616713650121, total=  45.2s\n",
      "[CV] max_depth=2, max_leaf_nodes=2, min_samples_leaf=2, min_samples_split=52, min_weight_fraction_leaf=0.25, n_estimators=610 \n",
      "[CV]  max_depth=2, max_leaf_nodes=2, min_samples_leaf=2, min_samples_split=52, min_weight_fraction_leaf=0.25, n_estimators=410, score=0.745087452432003, total=  45.0s\n",
      "[CV] max_depth=2, max_leaf_nodes=2, min_samples_leaf=2, min_samples_split=52, min_weight_fraction_leaf=0.25, n_estimators=810 \n",
      "[CV]  max_depth=2, max_leaf_nodes=2, min_samples_leaf=2, min_samples_split=52, min_weight_fraction_leaf=0.25, n_estimators=610, score=0.7570929441753496, total= 1.1min\n",
      "[CV] max_depth=2, max_leaf_nodes=2, min_samples_leaf=2, min_samples_split=52, min_weight_fraction_leaf=0.25, n_estimators=810 \n",
      "[CV]  max_depth=2, max_leaf_nodes=2, min_samples_leaf=2, min_samples_split=52, min_weight_fraction_leaf=0.25, n_estimators=610, score=0.7547230543196674, total= 1.2min\n",
      "[CV] max_depth=2, max_leaf_nodes=2, min_samples_leaf=2, min_samples_split=52, min_weight_fraction_leaf=0.4, n_estimators=10 \n",
      "[CV]  max_depth=2, max_leaf_nodes=2, min_samples_leaf=2, min_samples_split=52, min_weight_fraction_leaf=0.4, n_estimators=10, score=0.7485891984778399, total=   1.4s\n",
      "[CV] max_depth=2, max_leaf_nodes=2, min_samples_leaf=2, min_samples_split=52, min_weight_fraction_leaf=0.4, n_estimators=10 \n",
      "[CV]  max_depth=2, max_leaf_nodes=2, min_samples_leaf=2, min_samples_split=52, min_weight_fraction_leaf=0.4, n_estimators=10, score=0.7493445610246133, total=   1.4s\n",
      "[CV] max_depth=2, max_leaf_nodes=2, min_samples_leaf=2, min_samples_split=52, min_weight_fraction_leaf=0.4, n_estimators=210 \n",
      "[CV]  max_depth=2, max_leaf_nodes=2, min_samples_leaf=2, min_samples_split=52, min_weight_fraction_leaf=0.4, n_estimators=210, score=0.7552032229092362, total=  16.6s\n",
      "[CV] max_depth=2, max_leaf_nodes=2, min_samples_leaf=2, min_samples_split=52, min_weight_fraction_leaf=0.4, n_estimators=210 \n",
      "[CV]  max_depth=2, max_leaf_nodes=2, min_samples_leaf=2, min_samples_split=52, min_weight_fraction_leaf=0.25, n_estimators=810, score=0.7512109271574751, total= 1.5min\n",
      "[CV] max_depth=2, max_leaf_nodes=2, min_samples_leaf=2, min_samples_split=52, min_weight_fraction_leaf=0.4, n_estimators=410 \n",
      "[CV]  max_depth=2, max_leaf_nodes=2, min_samples_leaf=2, min_samples_split=52, min_weight_fraction_leaf=0.4, n_estimators=210, score=0.7558703970013343, total=  17.2s\n",
      "[CV] max_depth=2, max_leaf_nodes=2, min_samples_leaf=2, min_samples_split=52, min_weight_fraction_leaf=0.4, n_estimators=410 \n",
      "[CV]  max_depth=2, max_leaf_nodes=2, min_samples_leaf=2, min_samples_split=52, min_weight_fraction_leaf=0.4, n_estimators=410, score=0.7562311482133308, total=  32.3s\n",
      "[CV] max_depth=2, max_leaf_nodes=2, min_samples_leaf=2, min_samples_split=52, min_weight_fraction_leaf=0.4, n_estimators=610 \n",
      "[CV]  max_depth=2, max_leaf_nodes=2, min_samples_leaf=2, min_samples_split=52, min_weight_fraction_leaf=0.4, n_estimators=410, score=0.7572721278793888, total=  33.1s\n",
      "[CV] max_depth=2, max_leaf_nodes=2, min_samples_leaf=2, min_samples_split=52, min_weight_fraction_leaf=0.4, n_estimators=610 \n",
      "[CV]  max_depth=2, max_leaf_nodes=2, min_samples_leaf=2, min_samples_split=52, min_weight_fraction_leaf=0.25, n_estimators=810, score=0.752890420986507, total= 1.5min\n",
      "[CV] max_depth=2, max_leaf_nodes=2, min_samples_leaf=2, min_samples_split=52, min_weight_fraction_leaf=0.4, n_estimators=810 \n",
      "[CV]  max_depth=2, max_leaf_nodes=2, min_samples_leaf=2, min_samples_split=52, min_weight_fraction_leaf=0.4, n_estimators=610, score=0.7563661283037675, total=  48.2s\n",
      "[CV] max_depth=2, max_leaf_nodes=2, min_samples_leaf=2, min_samples_split=52, min_weight_fraction_leaf=0.4, n_estimators=810 \n",
      "[CV]  max_depth=2, max_leaf_nodes=2, min_samples_leaf=2, min_samples_split=52, min_weight_fraction_leaf=0.4, n_estimators=610, score=0.758123549597911, total=  49.0s\n",
      "[CV] max_depth=2, max_leaf_nodes=2, min_samples_leaf=2, min_samples_split=77, min_weight_fraction_leaf=0.1, n_estimators=10 \n",
      "[CV]  max_depth=2, max_leaf_nodes=2, min_samples_leaf=2, min_samples_split=77, min_weight_fraction_leaf=0.1, n_estimators=10, score=0.7469434796829006, total=   2.1s\n",
      "[CV] max_depth=2, max_leaf_nodes=2, min_samples_leaf=2, min_samples_split=77, min_weight_fraction_leaf=0.1, n_estimators=10 \n",
      "[CV]  max_depth=2, max_leaf_nodes=2, min_samples_leaf=2, min_samples_split=77, min_weight_fraction_leaf=0.1, n_estimators=10, score=0.7472211983241529, total=   2.5s\n",
      "[CV] max_depth=2, max_leaf_nodes=2, min_samples_leaf=2, min_samples_split=77, min_weight_fraction_leaf=0.1, n_estimators=210 \n",
      "[CV]  max_depth=2, max_leaf_nodes=2, min_samples_leaf=2, min_samples_split=52, min_weight_fraction_leaf=0.4, n_estimators=810, score=0.7552707129544546, total= 1.1min\n",
      "[CV] max_depth=2, max_leaf_nodes=2, min_samples_leaf=2, min_samples_split=77, min_weight_fraction_leaf=0.1, n_estimators=210 \n",
      "[CV]  max_depth=2, max_leaf_nodes=2, min_samples_leaf=2, min_samples_split=77, min_weight_fraction_leaf=0.1, n_estimators=210, score=0.7492225665945043, total=  30.4s\n",
      "[CV] max_depth=2, max_leaf_nodes=2, min_samples_leaf=2, min_samples_split=77, min_weight_fraction_leaf=0.1, n_estimators=410 \n",
      "[CV]  max_depth=2, max_leaf_nodes=2, min_samples_leaf=2, min_samples_split=77, min_weight_fraction_leaf=0.1, n_estimators=210, score=0.7496664399669815, total=  30.5s\n",
      "[CV] max_depth=2, max_leaf_nodes=2, min_samples_leaf=2, min_samples_split=77, min_weight_fraction_leaf=0.1, n_estimators=410 \n",
      "[CV]  max_depth=2, max_leaf_nodes=2, min_samples_leaf=2, min_samples_split=52, min_weight_fraction_leaf=0.4, n_estimators=810, score=0.7566543279738759, total= 1.1min\n",
      "[CV] max_depth=2, max_leaf_nodes=2, min_samples_leaf=2, min_samples_split=77, min_weight_fraction_leaf=0.1, n_estimators=610 \n"
     ]
    },
    {
     "name": "stdout",
     "output_type": "stream",
     "text": [
      "[CV]  max_depth=2, max_leaf_nodes=2, min_samples_leaf=2, min_samples_split=77, min_weight_fraction_leaf=0.1, n_estimators=410, score=0.7497261461626717, total=  57.2s\n",
      "[CV] max_depth=2, max_leaf_nodes=2, min_samples_leaf=2, min_samples_split=77, min_weight_fraction_leaf=0.1, n_estimators=610 \n",
      "[CV]  max_depth=2, max_leaf_nodes=2, min_samples_leaf=2, min_samples_split=77, min_weight_fraction_leaf=0.1, n_estimators=410, score=0.750907231373852, total=  53.8s\n",
      "[CV] max_depth=2, max_leaf_nodes=2, min_samples_leaf=2, min_samples_split=77, min_weight_fraction_leaf=0.1, n_estimators=810 \n",
      "[CV]  max_depth=2, max_leaf_nodes=2, min_samples_leaf=2, min_samples_split=77, min_weight_fraction_leaf=0.1, n_estimators=610, score=0.7511849694477757, total= 1.3min\n",
      "[CV] max_depth=2, max_leaf_nodes=2, min_samples_leaf=2, min_samples_split=77, min_weight_fraction_leaf=0.1, n_estimators=810 \n",
      "[CV]  max_depth=2, max_leaf_nodes=2, min_samples_leaf=2, min_samples_split=77, min_weight_fraction_leaf=0.1, n_estimators=610, score=0.7525685420441389, total= 1.3min\n",
      "[CV] max_depth=2, max_leaf_nodes=2, min_samples_leaf=2, min_samples_split=77, min_weight_fraction_leaf=0.25, n_estimators=10 \n",
      "[CV]  max_depth=2, max_leaf_nodes=2, min_samples_leaf=2, min_samples_split=77, min_weight_fraction_leaf=0.25, n_estimators=10, score=0.7414975521879753, total=   1.9s\n",
      "[CV] max_depth=2, max_leaf_nodes=2, min_samples_leaf=2, min_samples_split=77, min_weight_fraction_leaf=0.25, n_estimators=10 \n",
      "[CV]  max_depth=2, max_leaf_nodes=2, min_samples_leaf=2, min_samples_split=77, min_weight_fraction_leaf=0.25, n_estimators=10, score=0.7415312092784201, total=   1.9s\n",
      "[CV] max_depth=2, max_leaf_nodes=2, min_samples_leaf=2, min_samples_split=77, min_weight_fraction_leaf=0.25, n_estimators=210 \n",
      "[CV]  max_depth=2, max_leaf_nodes=2, min_samples_leaf=2, min_samples_split=77, min_weight_fraction_leaf=0.25, n_estimators=210, score=0.7412743158845608, total=  24.4s\n",
      "[CV] max_depth=2, max_leaf_nodes=2, min_samples_leaf=2, min_samples_split=77, min_weight_fraction_leaf=0.25, n_estimators=210 \n",
      "[CV]  max_depth=2, max_leaf_nodes=2, min_samples_leaf=2, min_samples_split=77, min_weight_fraction_leaf=0.1, n_estimators=810, score=0.7499130416725072, total= 1.7min\n",
      "[CV] max_depth=2, max_leaf_nodes=2, min_samples_leaf=2, min_samples_split=77, min_weight_fraction_leaf=0.25, n_estimators=410 \n",
      "[CV]  max_depth=2, max_leaf_nodes=2, min_samples_leaf=2, min_samples_split=77, min_weight_fraction_leaf=0.25, n_estimators=210, score=0.7413339286363235, total=  24.0s\n",
      "[CV] max_depth=2, max_leaf_nodes=2, min_samples_leaf=2, min_samples_split=77, min_weight_fraction_leaf=0.25, n_estimators=410 \n",
      "[CV]  max_depth=2, max_leaf_nodes=2, min_samples_leaf=2, min_samples_split=77, min_weight_fraction_leaf=0.1, n_estimators=810, score=0.7515665640461221, total= 1.7min\n",
      "[CV] max_depth=2, max_leaf_nodes=2, min_samples_leaf=2, min_samples_split=77, min_weight_fraction_leaf=0.25, n_estimators=610 \n",
      "[CV]  max_depth=2, max_leaf_nodes=2, min_samples_leaf=2, min_samples_split=77, min_weight_fraction_leaf=0.25, n_estimators=410, score=0.7448876290747115, total=  45.4s\n",
      "[CV] max_depth=2, max_leaf_nodes=2, min_samples_leaf=2, min_samples_split=77, min_weight_fraction_leaf=0.25, n_estimators=610 \n",
      "[CV]  max_depth=2, max_leaf_nodes=2, min_samples_leaf=2, min_samples_split=77, min_weight_fraction_leaf=0.25, n_estimators=410, score=0.7450978356236924, total=  45.6s\n",
      "[CV] max_depth=2, max_leaf_nodes=2, min_samples_leaf=2, min_samples_split=77, min_weight_fraction_leaf=0.25, n_estimators=810 \n",
      "[CV]  max_depth=2, max_leaf_nodes=2, min_samples_leaf=2, min_samples_split=77, min_weight_fraction_leaf=0.25, n_estimators=610, score=0.7570981357172893, total= 1.1min\n",
      "[CV] max_depth=2, max_leaf_nodes=2, min_samples_leaf=2, min_samples_split=77, min_weight_fraction_leaf=0.25, n_estimators=810 \n",
      "[CV]  max_depth=2, max_leaf_nodes=2, min_samples_leaf=2, min_samples_split=77, min_weight_fraction_leaf=0.25, n_estimators=610, score=0.754728245915512, total= 1.1min\n",
      "[CV] max_depth=2, max_leaf_nodes=2, min_samples_leaf=2, min_samples_split=77, min_weight_fraction_leaf=0.4, n_estimators=10 \n",
      "[CV]  max_depth=2, max_leaf_nodes=2, min_samples_leaf=2, min_samples_split=77, min_weight_fraction_leaf=0.4, n_estimators=10, score=0.7481946412904097, total=   1.4s\n",
      "[CV] max_depth=2, max_leaf_nodes=2, min_samples_leaf=2, min_samples_split=77, min_weight_fraction_leaf=0.4, n_estimators=10 \n",
      "[CV]  max_depth=2, max_leaf_nodes=2, min_samples_leaf=2, min_samples_split=77, min_weight_fraction_leaf=0.4, n_estimators=10, score=0.7492199627243419, total=   1.4s\n",
      "[CV] max_depth=2, max_leaf_nodes=2, min_samples_leaf=2, min_samples_split=77, min_weight_fraction_leaf=0.4, n_estimators=210 \n",
      "[CV]  max_depth=2, max_leaf_nodes=2, min_samples_leaf=2, min_samples_split=77, min_weight_fraction_leaf=0.4, n_estimators=210, score=0.7552187975350559, total=  16.7s\n",
      "[CV] max_depth=2, max_leaf_nodes=2, min_samples_leaf=2, min_samples_split=77, min_weight_fraction_leaf=0.4, n_estimators=210 \n",
      "[CV]  max_depth=2, max_leaf_nodes=2, min_samples_leaf=2, min_samples_split=77, min_weight_fraction_leaf=0.25, n_estimators=810, score=0.7512109271574751, total= 1.5min\n",
      "[CV] max_depth=2, max_leaf_nodes=2, min_samples_leaf=2, min_samples_split=77, min_weight_fraction_leaf=0.4, n_estimators=410 \n",
      "[CV]  max_depth=2, max_leaf_nodes=2, min_samples_leaf=2, min_samples_split=77, min_weight_fraction_leaf=0.4, n_estimators=210, score=0.7558548222138003, total=  16.0s\n",
      "[CV] max_depth=2, max_leaf_nodes=2, min_samples_leaf=2, min_samples_split=77, min_weight_fraction_leaf=0.4, n_estimators=410 \n",
      "[CV]  max_depth=2, max_leaf_nodes=2, min_samples_leaf=2, min_samples_split=77, min_weight_fraction_leaf=0.4, n_estimators=410, score=0.7562311482133308, total=  30.2s\n",
      "[CV] max_depth=2, max_leaf_nodes=2, min_samples_leaf=2, min_samples_split=77, min_weight_fraction_leaf=0.4, n_estimators=610 \n",
      "[CV]  max_depth=2, max_leaf_nodes=2, min_samples_leaf=2, min_samples_split=77, min_weight_fraction_leaf=0.4, n_estimators=410, score=0.7572721278793888, total=  29.8s\n",
      "[CV] max_depth=2, max_leaf_nodes=2, min_samples_leaf=2, min_samples_split=77, min_weight_fraction_leaf=0.4, n_estimators=610 \n",
      "[CV]  max_depth=2, max_leaf_nodes=2, min_samples_leaf=2, min_samples_split=77, min_weight_fraction_leaf=0.25, n_estimators=810, score=0.7528956125823517, total= 1.5min\n",
      "[CV] max_depth=2, max_leaf_nodes=2, min_samples_leaf=2, min_samples_split=77, min_weight_fraction_leaf=0.4, n_estimators=810 \n",
      "[CV]  max_depth=2, max_leaf_nodes=2, min_samples_leaf=2, min_samples_split=77, min_weight_fraction_leaf=0.4, n_estimators=610, score=0.7563609367618276, total=  43.6s\n",
      "[CV] max_depth=2, max_leaf_nodes=2, min_samples_leaf=2, min_samples_split=77, min_weight_fraction_leaf=0.4, n_estimators=810 \n",
      "[CV]  max_depth=2, max_leaf_nodes=2, min_samples_leaf=2, min_samples_split=77, min_weight_fraction_leaf=0.4, n_estimators=610, score=0.758123549597911, total=  43.5s\n",
      "[CV] max_depth=2, max_leaf_nodes=2, min_samples_leaf=2, min_samples_split=102, min_weight_fraction_leaf=0.1, n_estimators=10 \n",
      "[CV]  max_depth=2, max_leaf_nodes=2, min_samples_leaf=2, min_samples_split=102, min_weight_fraction_leaf=0.1, n_estimators=10, score=0.7469746289345398, total=   2.0s\n",
      "[CV] max_depth=2, max_leaf_nodes=2, min_samples_leaf=2, min_samples_split=102, min_weight_fraction_leaf=0.1, n_estimators=10 \n",
      "[CV]  max_depth=2, max_leaf_nodes=2, min_samples_leaf=2, min_samples_split=102, min_weight_fraction_leaf=0.1, n_estimators=10, score=0.7471329411947939, total=   2.2s\n",
      "[CV] max_depth=2, max_leaf_nodes=2, min_samples_leaf=2, min_samples_split=102, min_weight_fraction_leaf=0.1, n_estimators=210 \n",
      "[CV]  max_depth=2, max_leaf_nodes=2, min_samples_leaf=2, min_samples_split=77, min_weight_fraction_leaf=0.4, n_estimators=810, score=0.7552707129544546, total=  57.8s\n",
      "[CV] max_depth=2, max_leaf_nodes=2, min_samples_leaf=2, min_samples_split=102, min_weight_fraction_leaf=0.1, n_estimators=210 \n",
      "[CV]  max_depth=2, max_leaf_nodes=2, min_samples_leaf=2, min_samples_split=102, min_weight_fraction_leaf=0.1, n_estimators=210, score=0.7492381412203238, total=  27.1s\n",
      "[CV] max_depth=2, max_leaf_nodes=2, min_samples_leaf=2, min_samples_split=102, min_weight_fraction_leaf=0.1, n_estimators=410 \n"
     ]
    },
    {
     "name": "stdout",
     "output_type": "stream",
     "text": [
      "[CV]  max_depth=2, max_leaf_nodes=2, min_samples_leaf=2, min_samples_split=102, min_weight_fraction_leaf=0.1, n_estimators=210, score=0.7496716315628261, total=  26.3s\n",
      "[CV] max_depth=2, max_leaf_nodes=2, min_samples_leaf=2, min_samples_split=102, min_weight_fraction_leaf=0.1, n_estimators=410 \n",
      "[CV]  max_depth=2, max_leaf_nodes=2, min_samples_leaf=2, min_samples_split=77, min_weight_fraction_leaf=0.4, n_estimators=810, score=0.7566491363780312, total=  57.5s\n",
      "[CV] max_depth=2, max_leaf_nodes=2, min_samples_leaf=2, min_samples_split=102, min_weight_fraction_leaf=0.1, n_estimators=610 \n",
      "[CV]  max_depth=2, max_leaf_nodes=2, min_samples_leaf=2, min_samples_split=102, min_weight_fraction_leaf=0.1, n_estimators=410, score=0.7497313377046116, total=  49.9s\n",
      "[CV] max_depth=2, max_leaf_nodes=2, min_samples_leaf=2, min_samples_split=102, min_weight_fraction_leaf=0.1, n_estimators=610 \n",
      "[CV]  max_depth=2, max_leaf_nodes=2, min_samples_leaf=2, min_samples_split=102, min_weight_fraction_leaf=0.1, n_estimators=410, score=0.750907231373852, total=  50.0s\n",
      "[CV] max_depth=2, max_leaf_nodes=2, min_samples_leaf=2, min_samples_split=102, min_weight_fraction_leaf=0.1, n_estimators=810 \n",
      "[CV]  max_depth=2, max_leaf_nodes=2, min_samples_leaf=2, min_samples_split=102, min_weight_fraction_leaf=0.1, n_estimators=610, score=0.7511849694477757, total= 1.2min\n",
      "[CV] max_depth=2, max_leaf_nodes=2, min_samples_leaf=2, min_samples_split=102, min_weight_fraction_leaf=0.1, n_estimators=810 \n",
      "[CV]  max_depth=2, max_leaf_nodes=2, min_samples_leaf=2, min_samples_split=102, min_weight_fraction_leaf=0.1, n_estimators=610, score=0.7525685420441389, total= 1.2min\n",
      "[CV] max_depth=2, max_leaf_nodes=2, min_samples_leaf=2, min_samples_split=102, min_weight_fraction_leaf=0.25, n_estimators=10 \n",
      "[CV]  max_depth=2, max_leaf_nodes=2, min_samples_leaf=2, min_samples_split=102, min_weight_fraction_leaf=0.25, n_estimators=10, score=0.7416896392397506, total=   2.0s\n",
      "[CV] max_depth=2, max_leaf_nodes=2, min_samples_leaf=2, min_samples_split=102, min_weight_fraction_leaf=0.25, n_estimators=10 \n",
      "[CV]  max_depth=2, max_leaf_nodes=2, min_samples_leaf=2, min_samples_split=102, min_weight_fraction_leaf=0.25, n_estimators=10, score=0.7415104428950415, total=   1.9s\n",
      "[CV] max_depth=2, max_leaf_nodes=2, min_samples_leaf=2, min_samples_split=102, min_weight_fraction_leaf=0.25, n_estimators=210 \n",
      "[CV]  max_depth=2, max_leaf_nodes=2, min_samples_leaf=2, min_samples_split=102, min_weight_fraction_leaf=0.25, n_estimators=210, score=0.7412950820523203, total=  24.1s\n",
      "[CV] max_depth=2, max_leaf_nodes=2, min_samples_leaf=2, min_samples_split=102, min_weight_fraction_leaf=0.25, n_estimators=210 \n",
      "[CV]  max_depth=2, max_leaf_nodes=2, min_samples_leaf=2, min_samples_split=102, min_weight_fraction_leaf=0.1, n_estimators=810, score=0.7499078501305673, total= 1.7min\n",
      "[CV] max_depth=2, max_leaf_nodes=2, min_samples_leaf=2, min_samples_split=102, min_weight_fraction_leaf=0.25, n_estimators=410 \n",
      "[CV]  max_depth=2, max_leaf_nodes=2, min_samples_leaf=2, min_samples_split=102, min_weight_fraction_leaf=0.25, n_estimators=210, score=0.7413443118280129, total=  24.0s\n",
      "[CV] max_depth=2, max_leaf_nodes=2, min_samples_leaf=2, min_samples_split=102, min_weight_fraction_leaf=0.25, n_estimators=410 \n",
      "[CV]  max_depth=2, max_leaf_nodes=2, min_samples_leaf=2, min_samples_split=102, min_weight_fraction_leaf=0.1, n_estimators=810, score=0.7515665640461221, total= 1.7min\n",
      "[CV] max_depth=2, max_leaf_nodes=2, min_samples_leaf=2, min_samples_split=102, min_weight_fraction_leaf=0.25, n_estimators=610 \n",
      "[CV]  max_depth=2, max_leaf_nodes=2, min_samples_leaf=2, min_samples_split=102, min_weight_fraction_leaf=0.25, n_estimators=410, score=0.7448824375327716, total=  45.4s\n",
      "[CV] max_depth=2, max_leaf_nodes=2, min_samples_leaf=2, min_samples_split=102, min_weight_fraction_leaf=0.25, n_estimators=610 \n",
      "[CV]  max_depth=2, max_leaf_nodes=2, min_samples_leaf=2, min_samples_split=102, min_weight_fraction_leaf=0.25, n_estimators=410, score=0.7451134104112264, total=  45.3s\n",
      "[CV] max_depth=2, max_leaf_nodes=2, min_samples_leaf=2, min_samples_split=102, min_weight_fraction_leaf=0.25, n_estimators=810 \n",
      "[CV]  max_depth=2, max_leaf_nodes=2, min_samples_leaf=2, min_samples_split=102, min_weight_fraction_leaf=0.25, n_estimators=610, score=0.7570981357172893, total= 1.1min\n",
      "[CV] max_depth=2, max_leaf_nodes=2, min_samples_leaf=2, min_samples_split=102, min_weight_fraction_leaf=0.25, n_estimators=810 \n",
      "[CV]  max_depth=2, max_leaf_nodes=2, min_samples_leaf=2, min_samples_split=102, min_weight_fraction_leaf=0.25, n_estimators=610, score=0.7547334375113566, total= 1.1min\n",
      "[CV] max_depth=2, max_leaf_nodes=2, min_samples_leaf=2, min_samples_split=102, min_weight_fraction_leaf=0.4, n_estimators=10 \n",
      "[CV]  max_depth=2, max_leaf_nodes=2, min_samples_leaf=2, min_samples_split=102, min_weight_fraction_leaf=0.4, n_estimators=10, score=0.7485268999745615, total=   1.5s\n",
      "[CV] max_depth=2, max_leaf_nodes=2, min_samples_leaf=2, min_samples_split=102, min_weight_fraction_leaf=0.4, n_estimators=10 \n",
      "[CV]  max_depth=2, max_leaf_nodes=2, min_samples_leaf=2, min_samples_split=102, min_weight_fraction_leaf=0.4, n_estimators=10, score=0.7493549442163027, total=   1.4s\n",
      "[CV] max_depth=2, max_leaf_nodes=2, min_samples_leaf=2, min_samples_split=102, min_weight_fraction_leaf=0.4, n_estimators=210 \n",
      "[CV]  max_depth=2, max_leaf_nodes=2, min_samples_leaf=2, min_samples_split=102, min_weight_fraction_leaf=0.4, n_estimators=210, score=0.7552032229092362, total=  16.1s\n",
      "[CV] max_depth=2, max_leaf_nodes=2, min_samples_leaf=2, min_samples_split=102, min_weight_fraction_leaf=0.4, n_estimators=210 \n",
      "[CV]  max_depth=2, max_leaf_nodes=2, min_samples_leaf=2, min_samples_split=102, min_weight_fraction_leaf=0.25, n_estimators=810, score=0.7512109271574751, total= 1.5min\n",
      "[CV] max_depth=2, max_leaf_nodes=2, min_samples_leaf=2, min_samples_split=102, min_weight_fraction_leaf=0.4, n_estimators=410 \n",
      "[CV]  max_depth=2, max_leaf_nodes=2, min_samples_leaf=2, min_samples_split=102, min_weight_fraction_leaf=0.4, n_estimators=210, score=0.7558755885971788, total=  16.3s\n",
      "[CV] max_depth=2, max_leaf_nodes=2, min_samples_leaf=2, min_samples_split=102, min_weight_fraction_leaf=0.4, n_estimators=410 \n",
      "[CV]  max_depth=2, max_leaf_nodes=2, min_samples_leaf=2, min_samples_split=102, min_weight_fraction_leaf=0.4, n_estimators=410, score=0.7562259566713909, total=  30.5s\n",
      "[CV] max_depth=2, max_leaf_nodes=2, min_samples_leaf=2, min_samples_split=102, min_weight_fraction_leaf=0.4, n_estimators=610 \n",
      "[CV]  max_depth=2, max_leaf_nodes=2, min_samples_leaf=2, min_samples_split=102, min_weight_fraction_leaf=0.4, n_estimators=410, score=0.7572721278793888, total=  31.2s\n",
      "[CV] max_depth=2, max_leaf_nodes=2, min_samples_leaf=2, min_samples_split=102, min_weight_fraction_leaf=0.4, n_estimators=610 \n",
      "[CV]  max_depth=2, max_leaf_nodes=2, min_samples_leaf=2, min_samples_split=102, min_weight_fraction_leaf=0.25, n_estimators=810, score=0.7528800377948177, total= 1.5min\n",
      "[CV] max_depth=2, max_leaf_nodes=2, min_samples_leaf=2, min_samples_split=102, min_weight_fraction_leaf=0.4, n_estimators=810 \n",
      "[CV]  max_depth=2, max_leaf_nodes=2, min_samples_leaf=2, min_samples_split=102, min_weight_fraction_leaf=0.4, n_estimators=610, score=0.7563609367618276, total=  44.7s\n",
      "[CV] max_depth=2, max_leaf_nodes=2, min_samples_leaf=2, min_samples_split=102, min_weight_fraction_leaf=0.4, n_estimators=810 \n",
      "[CV]  max_depth=2, max_leaf_nodes=2, min_samples_leaf=2, min_samples_split=102, min_weight_fraction_leaf=0.4, n_estimators=610, score=0.7581183580020663, total=  45.8s\n",
      "[CV] max_depth=2, max_leaf_nodes=2, min_samples_leaf=2, min_samples_split=127, min_weight_fraction_leaf=0.1, n_estimators=10 \n",
      "[CV]  max_depth=2, max_leaf_nodes=2, min_samples_leaf=2, min_samples_split=127, min_weight_fraction_leaf=0.1, n_estimators=10, score=0.7469227135151412, total=   1.6s\n",
      "[CV] max_depth=2, max_leaf_nodes=2, min_samples_leaf=2, min_samples_split=127, min_weight_fraction_leaf=0.1, n_estimators=10 \n",
      "[CV]  max_depth=2, max_leaf_nodes=2, min_samples_leaf=2, min_samples_split=127, min_weight_fraction_leaf=0.1, n_estimators=10, score=0.7472108151324636, total=   2.2s\n",
      "[CV] max_depth=2, max_leaf_nodes=2, min_samples_leaf=2, min_samples_split=127, min_weight_fraction_leaf=0.1, n_estimators=210 \n"
     ]
    },
    {
     "name": "stdout",
     "output_type": "stream",
     "text": [
      "[CV]  max_depth=2, max_leaf_nodes=2, min_samples_leaf=2, min_samples_split=102, min_weight_fraction_leaf=0.4, n_estimators=810, score=0.7552759044963945, total=  59.1s\n",
      "[CV] max_depth=2, max_leaf_nodes=2, min_samples_leaf=2, min_samples_split=127, min_weight_fraction_leaf=0.1, n_estimators=210 \n",
      "[CV]  max_depth=2, max_leaf_nodes=2, min_samples_leaf=2, min_samples_split=127, min_weight_fraction_leaf=0.1, n_estimators=210, score=0.7492381412203238, total=  28.3s\n",
      "[CV] max_depth=2, max_leaf_nodes=2, min_samples_leaf=2, min_samples_split=127, min_weight_fraction_leaf=0.1, n_estimators=410 \n",
      "[CV]  max_depth=2, max_leaf_nodes=2, min_samples_leaf=2, min_samples_split=127, min_weight_fraction_leaf=0.1, n_estimators=210, score=0.7496456735836029, total=  27.9s\n",
      "[CV] max_depth=2, max_leaf_nodes=2, min_samples_leaf=2, min_samples_split=127, min_weight_fraction_leaf=0.1, n_estimators=410 \n",
      "[CV]  max_depth=2, max_leaf_nodes=2, min_samples_leaf=2, min_samples_split=102, min_weight_fraction_leaf=0.4, n_estimators=810, score=0.756638753186342, total=  59.5s\n",
      "[CV] max_depth=2, max_leaf_nodes=2, min_samples_leaf=2, min_samples_split=127, min_weight_fraction_leaf=0.1, n_estimators=610 \n",
      "[CV]  max_depth=2, max_leaf_nodes=2, min_samples_leaf=2, min_samples_split=127, min_weight_fraction_leaf=0.1, n_estimators=410, score=0.7497365292465515, total=  51.7s\n",
      "[CV] max_depth=2, max_leaf_nodes=2, min_samples_leaf=2, min_samples_split=127, min_weight_fraction_leaf=0.1, n_estimators=610 \n",
      "[CV]  max_depth=2, max_leaf_nodes=2, min_samples_leaf=2, min_samples_split=127, min_weight_fraction_leaf=0.1, n_estimators=410, score=0.750907231373852, total=  51.0s\n",
      "[CV] max_depth=2, max_leaf_nodes=2, min_samples_leaf=2, min_samples_split=127, min_weight_fraction_leaf=0.1, n_estimators=810 \n"
     ]
    },
    {
     "name": "stderr",
     "output_type": "stream",
     "text": [
      "[Parallel(n_jobs=3)]: Done 156 tasks      | elapsed: 40.2min\n"
     ]
    },
    {
     "name": "stdout",
     "output_type": "stream",
     "text": [
      "[CV]  max_depth=2, max_leaf_nodes=2, min_samples_leaf=2, min_samples_split=127, min_weight_fraction_leaf=0.1, n_estimators=610, score=0.7511797779058358, total= 1.3min\n",
      "[CV] max_depth=2, max_leaf_nodes=2, min_samples_leaf=2, min_samples_split=127, min_weight_fraction_leaf=0.1, n_estimators=810 \n",
      "[CV]  max_depth=2, max_leaf_nodes=2, min_samples_leaf=2, min_samples_split=127, min_weight_fraction_leaf=0.1, n_estimators=610, score=0.7525685420441389, total= 1.3min\n",
      "[CV] max_depth=2, max_leaf_nodes=2, min_samples_leaf=2, min_samples_split=127, min_weight_fraction_leaf=0.25, n_estimators=10 \n",
      "[CV]  max_depth=2, max_leaf_nodes=2, min_samples_leaf=2, min_samples_split=127, min_weight_fraction_leaf=0.25, n_estimators=10, score=0.7417000223236303, total=   1.9s\n",
      "[CV] max_depth=2, max_leaf_nodes=2, min_samples_leaf=2, min_samples_split=127, min_weight_fraction_leaf=0.25, n_estimators=10 \n",
      "[CV]  max_depth=2, max_leaf_nodes=2, min_samples_leaf=2, min_samples_split=127, min_weight_fraction_leaf=0.25, n_estimators=10, score=0.7415104428950415, total=   1.9s\n",
      "[CV] max_depth=2, max_leaf_nodes=2, min_samples_leaf=2, min_samples_split=127, min_weight_fraction_leaf=0.25, n_estimators=210 \n",
      "[CV]  max_depth=2, max_leaf_nodes=2, min_samples_leaf=2, min_samples_split=127, min_weight_fraction_leaf=0.25, n_estimators=210, score=0.7413054651362001, total=  24.3s\n",
      "[CV] max_depth=2, max_leaf_nodes=2, min_samples_leaf=2, min_samples_split=127, min_weight_fraction_leaf=0.25, n_estimators=210 \n",
      "[CV]  max_depth=2, max_leaf_nodes=2, min_samples_leaf=2, min_samples_split=127, min_weight_fraction_leaf=0.1, n_estimators=810, score=0.7499130416725072, total= 1.7min\n",
      "[CV] max_depth=2, max_leaf_nodes=2, min_samples_leaf=2, min_samples_split=127, min_weight_fraction_leaf=0.25, n_estimators=410 \n",
      "[CV]  max_depth=2, max_leaf_nodes=2, min_samples_leaf=2, min_samples_split=127, min_weight_fraction_leaf=0.25, n_estimators=210, score=0.7413235454446342, total=  24.0s\n",
      "[CV] max_depth=2, max_leaf_nodes=2, min_samples_leaf=2, min_samples_split=127, min_weight_fraction_leaf=0.25, n_estimators=410 \n",
      "[CV]  max_depth=2, max_leaf_nodes=2, min_samples_leaf=2, min_samples_split=127, min_weight_fraction_leaf=0.1, n_estimators=810, score=0.7515665640461221, total= 1.7min\n",
      "[CV] max_depth=2, max_leaf_nodes=2, min_samples_leaf=2, min_samples_split=127, min_weight_fraction_leaf=0.25, n_estimators=610 \n",
      "[CV]  max_depth=2, max_leaf_nodes=2, min_samples_leaf=2, min_samples_split=127, min_weight_fraction_leaf=0.25, n_estimators=410, score=0.7448772459908317, total=  45.3s\n",
      "[CV] max_depth=2, max_leaf_nodes=2, min_samples_leaf=2, min_samples_split=127, min_weight_fraction_leaf=0.25, n_estimators=610 \n",
      "[CV]  max_depth=2, max_leaf_nodes=2, min_samples_leaf=2, min_samples_split=127, min_weight_fraction_leaf=0.25, n_estimators=410, score=0.7450978356236924, total=  45.3s\n",
      "[CV] max_depth=2, max_leaf_nodes=2, min_samples_leaf=2, min_samples_split=127, min_weight_fraction_leaf=0.25, n_estimators=810 \n",
      "[CV]  max_depth=2, max_leaf_nodes=2, min_samples_leaf=2, min_samples_split=127, min_weight_fraction_leaf=0.25, n_estimators=610, score=0.7570981357172893, total= 1.1min\n",
      "[CV] max_depth=2, max_leaf_nodes=2, min_samples_leaf=2, min_samples_split=127, min_weight_fraction_leaf=0.25, n_estimators=810 \n",
      "[CV]  max_depth=2, max_leaf_nodes=2, min_samples_leaf=2, min_samples_split=127, min_weight_fraction_leaf=0.25, n_estimators=610, score=0.7547178627238227, total= 1.1min\n",
      "[CV] max_depth=2, max_leaf_nodes=2, min_samples_leaf=2, min_samples_split=127, min_weight_fraction_leaf=0.4, n_estimators=10 \n",
      "[CV]  max_depth=2, max_leaf_nodes=2, min_samples_leaf=2, min_samples_split=127, min_weight_fraction_leaf=0.4, n_estimators=10, score=0.7482984721292071, total=   1.6s\n",
      "[CV] max_depth=2, max_leaf_nodes=2, min_samples_leaf=2, min_samples_split=127, min_weight_fraction_leaf=0.4, n_estimators=10 \n",
      "[CV]  max_depth=2, max_leaf_nodes=2, min_samples_leaf=2, min_samples_split=127, min_weight_fraction_leaf=0.4, n_estimators=10, score=0.7492511122994097, total=   1.6s\n",
      "[CV] max_depth=2, max_leaf_nodes=2, min_samples_leaf=2, min_samples_split=127, min_weight_fraction_leaf=0.4, n_estimators=210 \n",
      "[CV]  max_depth=2, max_leaf_nodes=2, min_samples_leaf=2, min_samples_split=127, min_weight_fraction_leaf=0.4, n_estimators=210, score=0.7552032229092362, total=  16.4s\n",
      "[CV] max_depth=2, max_leaf_nodes=2, min_samples_leaf=2, min_samples_split=127, min_weight_fraction_leaf=0.4, n_estimators=210 \n",
      "[CV]  max_depth=2, max_leaf_nodes=2, min_samples_leaf=2, min_samples_split=127, min_weight_fraction_leaf=0.25, n_estimators=810, score=0.7512109271574751, total= 1.5min\n",
      "[CV] max_depth=2, max_leaf_nodes=2, min_samples_leaf=2, min_samples_split=127, min_weight_fraction_leaf=0.4, n_estimators=410 \n",
      "[CV]  max_depth=2, max_leaf_nodes=2, min_samples_leaf=2, min_samples_split=127, min_weight_fraction_leaf=0.4, n_estimators=210, score=0.7558340558304217, total=  17.1s\n",
      "[CV] max_depth=2, max_leaf_nodes=2, min_samples_leaf=2, min_samples_split=127, min_weight_fraction_leaf=0.4, n_estimators=410 \n",
      "[CV]  max_depth=2, max_leaf_nodes=2, min_samples_leaf=2, min_samples_split=127, min_weight_fraction_leaf=0.4, n_estimators=410, score=0.7562311482133308, total=  30.9s\n",
      "[CV] max_depth=2, max_leaf_nodes=2, min_samples_leaf=2, min_samples_split=127, min_weight_fraction_leaf=0.4, n_estimators=610 \n",
      "[CV]  max_depth=2, max_leaf_nodes=2, min_samples_leaf=2, min_samples_split=127, min_weight_fraction_leaf=0.4, n_estimators=410, score=0.7572721278793888, total=  31.3s\n",
      "[CV] max_depth=2, max_leaf_nodes=2, min_samples_leaf=2, min_samples_split=127, min_weight_fraction_leaf=0.4, n_estimators=610 \n",
      "[CV]  max_depth=2, max_leaf_nodes=2, min_samples_leaf=2, min_samples_split=127, min_weight_fraction_leaf=0.25, n_estimators=810, score=0.752890420986507, total= 1.5min\n",
      "[CV] max_depth=2, max_leaf_nodes=2, min_samples_leaf=2, min_samples_split=127, min_weight_fraction_leaf=0.4, n_estimators=810 \n",
      "[CV]  max_depth=2, max_leaf_nodes=2, min_samples_leaf=2, min_samples_split=127, min_weight_fraction_leaf=0.4, n_estimators=610, score=0.7563661283037675, total=  43.9s\n",
      "[CV] max_depth=2, max_leaf_nodes=2, min_samples_leaf=2, min_samples_split=127, min_weight_fraction_leaf=0.4, n_estimators=810 \n",
      "[CV]  max_depth=2, max_leaf_nodes=2, min_samples_leaf=2, min_samples_split=127, min_weight_fraction_leaf=0.4, n_estimators=610, score=0.7581131664062216, total=  44.9s\n",
      "[CV] max_depth=2, max_leaf_nodes=2, min_samples_leaf=17, min_samples_split=2, min_weight_fraction_leaf=0.1, n_estimators=10 \n",
      "[CV]  max_depth=2, max_leaf_nodes=2, min_samples_leaf=17, min_samples_split=2, min_weight_fraction_leaf=0.1, n_estimators=10, score=0.7469953951022993, total=   1.8s\n",
      "[CV] max_depth=2, max_leaf_nodes=2, min_samples_leaf=17, min_samples_split=2, min_weight_fraction_leaf=0.1, n_estimators=10 \n",
      "[CV]  max_depth=2, max_leaf_nodes=2, min_samples_leaf=17, min_samples_split=2, min_weight_fraction_leaf=0.1, n_estimators=10, score=0.7472315815158421, total=   2.0s\n",
      "[CV] max_depth=2, max_leaf_nodes=2, min_samples_leaf=17, min_samples_split=2, min_weight_fraction_leaf=0.1, n_estimators=210 \n",
      "[CV]  max_depth=2, max_leaf_nodes=2, min_samples_leaf=2, min_samples_split=127, min_weight_fraction_leaf=0.4, n_estimators=810, score=0.7552655214125147, total=  58.4s\n",
      "[CV] max_depth=2, max_leaf_nodes=2, min_samples_leaf=17, min_samples_split=2, min_weight_fraction_leaf=0.1, n_estimators=210 \n",
      "[CV]  max_depth=2, max_leaf_nodes=2, min_samples_leaf=17, min_samples_split=2, min_weight_fraction_leaf=0.1, n_estimators=210, score=0.7492277581364442, total=  27.6s\n",
      "[CV] max_depth=2, max_leaf_nodes=2, min_samples_leaf=17, min_samples_split=2, min_weight_fraction_leaf=0.1, n_estimators=410 \n",
      "[CV]  max_depth=2, max_leaf_nodes=2, min_samples_leaf=17, min_samples_split=2, min_weight_fraction_leaf=0.1, n_estimators=210, score=0.7496612483711368, total=  27.3s\n",
      "[CV] max_depth=2, max_leaf_nodes=2, min_samples_leaf=17, min_samples_split=2, min_weight_fraction_leaf=0.1, n_estimators=410 \n",
      "[CV]  max_depth=2, max_leaf_nodes=2, min_samples_leaf=2, min_samples_split=127, min_weight_fraction_leaf=0.4, n_estimators=810, score=0.7566439447821866, total=  58.5s\n",
      "[CV] max_depth=2, max_leaf_nodes=2, min_samples_leaf=17, min_samples_split=2, min_weight_fraction_leaf=0.1, n_estimators=610 \n"
     ]
    },
    {
     "name": "stdout",
     "output_type": "stream",
     "text": [
      "[CV]  max_depth=2, max_leaf_nodes=2, min_samples_leaf=17, min_samples_split=2, min_weight_fraction_leaf=0.1, n_estimators=410, score=0.7497313377046116, total=  51.7s\n",
      "[CV] max_depth=2, max_leaf_nodes=2, min_samples_leaf=17, min_samples_split=2, min_weight_fraction_leaf=0.1, n_estimators=610 \n",
      "[CV]  max_depth=2, max_leaf_nodes=2, min_samples_leaf=17, min_samples_split=2, min_weight_fraction_leaf=0.1, n_estimators=410, score=0.750907231373852, total=  52.1s\n",
      "[CV] max_depth=2, max_leaf_nodes=2, min_samples_leaf=17, min_samples_split=2, min_weight_fraction_leaf=0.1, n_estimators=810 \n",
      "[CV]  max_depth=2, max_leaf_nodes=2, min_samples_leaf=17, min_samples_split=2, min_weight_fraction_leaf=0.1, n_estimators=610, score=0.7511849694477757, total= 1.3min\n",
      "[CV] max_depth=2, max_leaf_nodes=2, min_samples_leaf=17, min_samples_split=2, min_weight_fraction_leaf=0.1, n_estimators=810 \n",
      "[CV]  max_depth=2, max_leaf_nodes=2, min_samples_leaf=17, min_samples_split=2, min_weight_fraction_leaf=0.1, n_estimators=610, score=0.7525685420441389, total= 1.3min\n",
      "[CV] max_depth=2, max_leaf_nodes=2, min_samples_leaf=17, min_samples_split=2, min_weight_fraction_leaf=0.25, n_estimators=10 \n",
      "[CV]  max_depth=2, max_leaf_nodes=2, min_samples_leaf=17, min_samples_split=2, min_weight_fraction_leaf=0.25, n_estimators=10, score=0.7415338929815545, total=   1.9s\n",
      "[CV] max_depth=2, max_leaf_nodes=2, min_samples_leaf=17, min_samples_split=2, min_weight_fraction_leaf=0.25, n_estimators=10 \n",
      "[CV]  max_depth=2, max_leaf_nodes=2, min_samples_leaf=17, min_samples_split=2, min_weight_fraction_leaf=0.25, n_estimators=10, score=0.7414325689573718, total=   2.0s\n",
      "[CV] max_depth=2, max_leaf_nodes=2, min_samples_leaf=17, min_samples_split=2, min_weight_fraction_leaf=0.25, n_estimators=210 \n",
      "[CV]  max_depth=2, max_leaf_nodes=2, min_samples_leaf=17, min_samples_split=2, min_weight_fraction_leaf=0.25, n_estimators=210, score=0.7412950820523203, total=  24.7s\n",
      "[CV] max_depth=2, max_leaf_nodes=2, min_samples_leaf=17, min_samples_split=2, min_weight_fraction_leaf=0.25, n_estimators=210 \n",
      "[CV]  max_depth=2, max_leaf_nodes=2, min_samples_leaf=17, min_samples_split=2, min_weight_fraction_leaf=0.1, n_estimators=810, score=0.7499130416725072, total= 1.7min\n",
      "[CV] max_depth=2, max_leaf_nodes=2, min_samples_leaf=17, min_samples_split=2, min_weight_fraction_leaf=0.25, n_estimators=410 \n",
      "[CV]  max_depth=2, max_leaf_nodes=2, min_samples_leaf=17, min_samples_split=2, min_weight_fraction_leaf=0.25, n_estimators=210, score=0.7413391202321682, total=  24.5s\n",
      "[CV] max_depth=2, max_leaf_nodes=2, min_samples_leaf=17, min_samples_split=2, min_weight_fraction_leaf=0.25, n_estimators=410 \n",
      "[CV]  max_depth=2, max_leaf_nodes=2, min_samples_leaf=17, min_samples_split=2, min_weight_fraction_leaf=0.1, n_estimators=810, score=0.7515613724502775, total= 1.7min\n",
      "[CV] max_depth=2, max_leaf_nodes=2, min_samples_leaf=17, min_samples_split=2, min_weight_fraction_leaf=0.25, n_estimators=610 \n",
      "[CV]  max_depth=2, max_leaf_nodes=2, min_samples_leaf=17, min_samples_split=2, min_weight_fraction_leaf=0.25, n_estimators=410, score=0.744866862906952, total=  46.2s\n",
      "[CV] max_depth=2, max_leaf_nodes=2, min_samples_leaf=17, min_samples_split=2, min_weight_fraction_leaf=0.25, n_estimators=610 \n",
      "[CV]  max_depth=2, max_leaf_nodes=2, min_samples_leaf=17, min_samples_split=2, min_weight_fraction_leaf=0.25, n_estimators=410, score=0.7450926440278477, total=  46.4s\n",
      "[CV] max_depth=2, max_leaf_nodes=2, min_samples_leaf=17, min_samples_split=2, min_weight_fraction_leaf=0.25, n_estimators=810 \n",
      "[CV]  max_depth=2, max_leaf_nodes=2, min_samples_leaf=17, min_samples_split=2, min_weight_fraction_leaf=0.25, n_estimators=610, score=0.7570981357172893, total= 1.1min\n",
      "[CV] max_depth=2, max_leaf_nodes=2, min_samples_leaf=17, min_samples_split=2, min_weight_fraction_leaf=0.25, n_estimators=810 \n",
      "[CV]  max_depth=2, max_leaf_nodes=2, min_samples_leaf=17, min_samples_split=2, min_weight_fraction_leaf=0.25, n_estimators=610, score=0.754728245915512, total= 1.1min\n",
      "[CV] max_depth=2, max_leaf_nodes=2, min_samples_leaf=17, min_samples_split=2, min_weight_fraction_leaf=0.4, n_estimators=10 \n",
      "[CV]  max_depth=2, max_leaf_nodes=2, min_samples_leaf=17, min_samples_split=2, min_weight_fraction_leaf=0.4, n_estimators=10, score=0.7484126860518843, total=   1.5s\n",
      "[CV] max_depth=2, max_leaf_nodes=2, min_samples_leaf=17, min_samples_split=2, min_weight_fraction_leaf=0.4, n_estimators=10 \n",
      "[CV]  max_depth=2, max_leaf_nodes=2, min_samples_leaf=17, min_samples_split=2, min_weight_fraction_leaf=0.4, n_estimators=10, score=0.7493186030453901, total=   1.5s\n",
      "[CV] max_depth=2, max_leaf_nodes=2, min_samples_leaf=17, min_samples_split=2, min_weight_fraction_leaf=0.4, n_estimators=210 \n",
      "[CV]  max_depth=2, max_leaf_nodes=2, min_samples_leaf=17, min_samples_split=2, min_weight_fraction_leaf=0.4, n_estimators=210, score=0.7552187975350559, total=  16.5s\n",
      "[CV] max_depth=2, max_leaf_nodes=2, min_samples_leaf=17, min_samples_split=2, min_weight_fraction_leaf=0.4, n_estimators=210 \n",
      "[CV]  max_depth=2, max_leaf_nodes=2, min_samples_leaf=17, min_samples_split=2, min_weight_fraction_leaf=0.25, n_estimators=810, score=0.7512057356155352, total= 1.5min\n",
      "[CV] max_depth=2, max_leaf_nodes=2, min_samples_leaf=17, min_samples_split=2, min_weight_fraction_leaf=0.4, n_estimators=410 \n",
      "[CV]  max_depth=2, max_leaf_nodes=2, min_samples_leaf=17, min_samples_split=2, min_weight_fraction_leaf=0.4, n_estimators=210, score=0.7558911633847128, total=  16.2s\n",
      "[CV] max_depth=2, max_leaf_nodes=2, min_samples_leaf=17, min_samples_split=2, min_weight_fraction_leaf=0.4, n_estimators=410 \n",
      "[CV]  max_depth=2, max_leaf_nodes=2, min_samples_leaf=17, min_samples_split=2, min_weight_fraction_leaf=0.4, n_estimators=410, score=0.7562259566713909, total=  30.7s\n",
      "[CV] max_depth=2, max_leaf_nodes=2, min_samples_leaf=17, min_samples_split=2, min_weight_fraction_leaf=0.4, n_estimators=610 \n",
      "[CV]  max_depth=2, max_leaf_nodes=2, min_samples_leaf=17, min_samples_split=2, min_weight_fraction_leaf=0.4, n_estimators=410, score=0.7572825110710781, total=  30.6s\n",
      "[CV] max_depth=2, max_leaf_nodes=2, min_samples_leaf=17, min_samples_split=2, min_weight_fraction_leaf=0.4, n_estimators=610 \n",
      "[CV]  max_depth=2, max_leaf_nodes=2, min_samples_leaf=17, min_samples_split=2, min_weight_fraction_leaf=0.25, n_estimators=810, score=0.752890420986507, total= 1.5min\n",
      "[CV] max_depth=2, max_leaf_nodes=2, min_samples_leaf=17, min_samples_split=2, min_weight_fraction_leaf=0.4, n_estimators=810 \n",
      "[CV]  max_depth=2, max_leaf_nodes=2, min_samples_leaf=17, min_samples_split=2, min_weight_fraction_leaf=0.4, n_estimators=610, score=0.7563609367618276, total=13.8min\n",
      "[CV] max_depth=2, max_leaf_nodes=2, min_samples_leaf=17, min_samples_split=2, min_weight_fraction_leaf=0.4, n_estimators=810 \n",
      "[CV]  max_depth=2, max_leaf_nodes=2, min_samples_leaf=17, min_samples_split=2, min_weight_fraction_leaf=0.4, n_estimators=610, score=0.7581183580020663, total=13.8min\n",
      "[CV] max_depth=2, max_leaf_nodes=2, min_samples_leaf=17, min_samples_split=27, min_weight_fraction_leaf=0.1, n_estimators=10 \n",
      "[CV]  max_depth=2, max_leaf_nodes=2, min_samples_leaf=17, min_samples_split=27, min_weight_fraction_leaf=0.1, n_estimators=10, score=0.7468967558054418, total=   2.2s\n",
      "[CV] max_depth=2, max_leaf_nodes=2, min_samples_leaf=17, min_samples_split=27, min_weight_fraction_leaf=0.1, n_estimators=10 \n",
      "[CV]  max_depth=2, max_leaf_nodes=2, min_samples_leaf=17, min_samples_split=27, min_weight_fraction_leaf=0.1, n_estimators=10, score=0.7472523478992208, total=   2.4s\n",
      "[CV] max_depth=2, max_leaf_nodes=2, min_samples_leaf=17, min_samples_split=27, min_weight_fraction_leaf=0.1, n_estimators=210 \n",
      "[CV]  max_depth=2, max_leaf_nodes=2, min_samples_leaf=17, min_samples_split=2, min_weight_fraction_leaf=0.4, n_estimators=810, score=0.7552810960383344, total=14.1min\n",
      "[CV] max_depth=2, max_leaf_nodes=2, min_samples_leaf=17, min_samples_split=27, min_weight_fraction_leaf=0.1, n_estimators=210 \n",
      "[CV]  max_depth=2, max_leaf_nodes=2, min_samples_leaf=17, min_samples_split=27, min_weight_fraction_leaf=0.1, n_estimators=210, score=0.7492381412203238, total=  28.8s\n",
      "[CV] max_depth=2, max_leaf_nodes=2, min_samples_leaf=17, min_samples_split=27, min_weight_fraction_leaf=0.1, n_estimators=410 \n"
     ]
    },
    {
     "name": "stdout",
     "output_type": "stream",
     "text": [
      "[CV]  max_depth=2, max_leaf_nodes=2, min_samples_leaf=17, min_samples_split=27, min_weight_fraction_leaf=0.1, n_estimators=210, score=0.7496612483711368, total=  28.5s\n",
      "[CV] max_depth=2, max_leaf_nodes=2, min_samples_leaf=17, min_samples_split=27, min_weight_fraction_leaf=0.1, n_estimators=410 \n",
      "[CV]  max_depth=2, max_leaf_nodes=2, min_samples_leaf=17, min_samples_split=2, min_weight_fraction_leaf=0.4, n_estimators=810, score=0.7566491363780312, total= 1.0min\n",
      "[CV] max_depth=2, max_leaf_nodes=2, min_samples_leaf=17, min_samples_split=27, min_weight_fraction_leaf=0.1, n_estimators=610 \n",
      "[CV]  max_depth=2, max_leaf_nodes=2, min_samples_leaf=17, min_samples_split=27, min_weight_fraction_leaf=0.1, n_estimators=410, score=0.7497313377046116, total=  52.5s\n",
      "[CV] max_depth=2, max_leaf_nodes=2, min_samples_leaf=17, min_samples_split=27, min_weight_fraction_leaf=0.1, n_estimators=610 \n",
      "[CV]  max_depth=2, max_leaf_nodes=2, min_samples_leaf=17, min_samples_split=27, min_weight_fraction_leaf=0.1, n_estimators=410, score=0.750907231373852, total=  51.0s\n",
      "[CV] max_depth=2, max_leaf_nodes=2, min_samples_leaf=17, min_samples_split=27, min_weight_fraction_leaf=0.1, n_estimators=810 \n",
      "[CV]  max_depth=2, max_leaf_nodes=2, min_samples_leaf=17, min_samples_split=27, min_weight_fraction_leaf=0.1, n_estimators=610, score=0.7511849694477757, total= 1.3min\n",
      "[CV] max_depth=2, max_leaf_nodes=2, min_samples_leaf=17, min_samples_split=27, min_weight_fraction_leaf=0.1, n_estimators=810 \n",
      "[CV]  max_depth=2, max_leaf_nodes=2, min_samples_leaf=17, min_samples_split=27, min_weight_fraction_leaf=0.1, n_estimators=610, score=0.7525685420441389, total= 1.2min\n",
      "[CV] max_depth=2, max_leaf_nodes=2, min_samples_leaf=17, min_samples_split=27, min_weight_fraction_leaf=0.25, n_estimators=10 \n",
      "[CV]  max_depth=2, max_leaf_nodes=2, min_samples_leaf=17, min_samples_split=27, min_weight_fraction_leaf=0.25, n_estimators=10, score=0.7415287014396146, total=   2.0s\n",
      "[CV] max_depth=2, max_leaf_nodes=2, min_samples_leaf=17, min_samples_split=27, min_weight_fraction_leaf=0.25, n_estimators=10 \n",
      "[CV]  max_depth=2, max_leaf_nodes=2, min_samples_leaf=17, min_samples_split=27, min_weight_fraction_leaf=0.25, n_estimators=10, score=0.7414637185324396, total=   1.9s\n",
      "[CV] max_depth=2, max_leaf_nodes=2, min_samples_leaf=17, min_samples_split=27, min_weight_fraction_leaf=0.25, n_estimators=210 \n",
      "[CV]  max_depth=2, max_leaf_nodes=2, min_samples_leaf=17, min_samples_split=27, min_weight_fraction_leaf=0.25, n_estimators=210, score=0.7412898905103805, total=  24.8s\n",
      "[CV] max_depth=2, max_leaf_nodes=2, min_samples_leaf=17, min_samples_split=27, min_weight_fraction_leaf=0.25, n_estimators=210 \n",
      "[CV]  max_depth=2, max_leaf_nodes=2, min_samples_leaf=17, min_samples_split=27, min_weight_fraction_leaf=0.1, n_estimators=810, score=0.7499130416725072, total= 1.7min\n",
      "[CV] max_depth=2, max_leaf_nodes=2, min_samples_leaf=17, min_samples_split=27, min_weight_fraction_leaf=0.25, n_estimators=410 \n",
      "[CV]  max_depth=2, max_leaf_nodes=2, min_samples_leaf=17, min_samples_split=27, min_weight_fraction_leaf=0.25, n_estimators=210, score=0.7413495034238574, total=  23.9s\n",
      "[CV] max_depth=2, max_leaf_nodes=2, min_samples_leaf=17, min_samples_split=27, min_weight_fraction_leaf=0.25, n_estimators=410 \n",
      "[CV]  max_depth=2, max_leaf_nodes=2, min_samples_leaf=17, min_samples_split=27, min_weight_fraction_leaf=0.1, n_estimators=810, score=0.7515665640461221, total= 1.7min\n",
      "[CV] max_depth=2, max_leaf_nodes=2, min_samples_leaf=17, min_samples_split=27, min_weight_fraction_leaf=0.25, n_estimators=610 \n",
      "[CV]  max_depth=2, max_leaf_nodes=2, min_samples_leaf=17, min_samples_split=27, min_weight_fraction_leaf=0.25, n_estimators=410, score=0.7448824375327716, total=  45.2s\n",
      "[CV] max_depth=2, max_leaf_nodes=2, min_samples_leaf=17, min_samples_split=27, min_weight_fraction_leaf=0.25, n_estimators=610 \n",
      "[CV]  max_depth=2, max_leaf_nodes=2, min_samples_leaf=17, min_samples_split=27, min_weight_fraction_leaf=0.25, n_estimators=410, score=0.7450978356236924, total=  44.8s\n",
      "[CV] max_depth=2, max_leaf_nodes=2, min_samples_leaf=17, min_samples_split=27, min_weight_fraction_leaf=0.25, n_estimators=810 \n",
      "[CV]  max_depth=2, max_leaf_nodes=2, min_samples_leaf=17, min_samples_split=27, min_weight_fraction_leaf=0.25, n_estimators=610, score=0.7570981357172893, total= 1.1min\n",
      "[CV] max_depth=2, max_leaf_nodes=2, min_samples_leaf=17, min_samples_split=27, min_weight_fraction_leaf=0.25, n_estimators=810 \n",
      "[CV]  max_depth=2, max_leaf_nodes=2, min_samples_leaf=17, min_samples_split=27, min_weight_fraction_leaf=0.25, n_estimators=610, score=0.7547230543196674, total= 1.1min\n",
      "[CV] max_depth=2, max_leaf_nodes=2, min_samples_leaf=17, min_samples_split=27, min_weight_fraction_leaf=0.4, n_estimators=10 \n",
      "[CV]  max_depth=2, max_leaf_nodes=2, min_samples_leaf=17, min_samples_split=27, min_weight_fraction_leaf=0.4, n_estimators=10, score=0.7485476661423209, total=   1.4s\n",
      "[CV] max_depth=2, max_leaf_nodes=2, min_samples_leaf=17, min_samples_split=27, min_weight_fraction_leaf=0.4, n_estimators=10 \n",
      "[CV]  max_depth=2, max_leaf_nodes=2, min_samples_leaf=17, min_samples_split=27, min_weight_fraction_leaf=0.4, n_estimators=10, score=0.7491940047451185, total=   1.5s\n",
      "[CV] max_depth=2, max_leaf_nodes=2, min_samples_leaf=17, min_samples_split=27, min_weight_fraction_leaf=0.4, n_estimators=210 \n",
      "[CV]  max_depth=2, max_leaf_nodes=2, min_samples_leaf=17, min_samples_split=27, min_weight_fraction_leaf=0.4, n_estimators=210, score=0.755213605993116, total=  16.2s\n",
      "[CV] max_depth=2, max_leaf_nodes=2, min_samples_leaf=17, min_samples_split=27, min_weight_fraction_leaf=0.4, n_estimators=210 \n",
      "[CV]  max_depth=2, max_leaf_nodes=2, min_samples_leaf=17, min_samples_split=27, min_weight_fraction_leaf=0.25, n_estimators=810, score=0.751216118699415, total= 1.5min\n",
      "[CV] max_depth=2, max_leaf_nodes=2, min_samples_leaf=17, min_samples_split=27, min_weight_fraction_leaf=0.4, n_estimators=410 \n",
      "[CV]  max_depth=2, max_leaf_nodes=2, min_samples_leaf=17, min_samples_split=27, min_weight_fraction_leaf=0.4, n_estimators=210, score=0.7558703970013343, total=  16.1s\n",
      "[CV] max_depth=2, max_leaf_nodes=2, min_samples_leaf=17, min_samples_split=27, min_weight_fraction_leaf=0.4, n_estimators=410 \n",
      "[CV]  max_depth=2, max_leaf_nodes=2, min_samples_leaf=17, min_samples_split=27, min_weight_fraction_leaf=0.4, n_estimators=410, score=0.7562259566713909, total=  30.0s\n",
      "[CV] max_depth=2, max_leaf_nodes=2, min_samples_leaf=17, min_samples_split=27, min_weight_fraction_leaf=0.4, n_estimators=610 \n",
      "[CV]  max_depth=2, max_leaf_nodes=2, min_samples_leaf=17, min_samples_split=27, min_weight_fraction_leaf=0.4, n_estimators=410, score=0.7572773194752335, total=  30.6s\n",
      "[CV] max_depth=2, max_leaf_nodes=2, min_samples_leaf=17, min_samples_split=27, min_weight_fraction_leaf=0.4, n_estimators=610 \n",
      "[CV]  max_depth=2, max_leaf_nodes=2, min_samples_leaf=17, min_samples_split=27, min_weight_fraction_leaf=0.25, n_estimators=810, score=0.752890420986507, total= 1.5min\n",
      "[CV] max_depth=2, max_leaf_nodes=2, min_samples_leaf=17, min_samples_split=27, min_weight_fraction_leaf=0.4, n_estimators=810 \n",
      "[CV]  max_depth=2, max_leaf_nodes=2, min_samples_leaf=17, min_samples_split=27, min_weight_fraction_leaf=0.4, n_estimators=610, score=0.7563557452198878, total=  43.4s\n",
      "[CV] max_depth=2, max_leaf_nodes=2, min_samples_leaf=17, min_samples_split=27, min_weight_fraction_leaf=0.4, n_estimators=810 \n",
      "[CV]  max_depth=2, max_leaf_nodes=2, min_samples_leaf=17, min_samples_split=27, min_weight_fraction_leaf=0.4, n_estimators=610, score=0.758123549597911, total=  44.4s\n",
      "[CV] max_depth=2, max_leaf_nodes=2, min_samples_leaf=17, min_samples_split=52, min_weight_fraction_leaf=0.1, n_estimators=10 \n",
      "[CV]  max_depth=2, max_leaf_nodes=2, min_samples_leaf=17, min_samples_split=52, min_weight_fraction_leaf=0.1, n_estimators=10, score=0.7469850120184196, total=   1.6s\n",
      "[CV] max_depth=2, max_leaf_nodes=2, min_samples_leaf=17, min_samples_split=52, min_weight_fraction_leaf=0.1, n_estimators=10 \n",
      "[CV]  max_depth=2, max_leaf_nodes=2, min_samples_leaf=17, min_samples_split=52, min_weight_fraction_leaf=0.1, n_estimators=10, score=0.7472419647075315, total=   2.3s\n",
      "[CV] max_depth=2, max_leaf_nodes=2, min_samples_leaf=17, min_samples_split=52, min_weight_fraction_leaf=0.1, n_estimators=210 \n"
     ]
    },
    {
     "name": "stdout",
     "output_type": "stream",
     "text": [
      "[CV]  max_depth=2, max_leaf_nodes=2, min_samples_leaf=17, min_samples_split=27, min_weight_fraction_leaf=0.4, n_estimators=810, score=0.7552655214125147, total=  58.0s\n",
      "[CV] max_depth=2, max_leaf_nodes=2, min_samples_leaf=17, min_samples_split=52, min_weight_fraction_leaf=0.1, n_estimators=210 \n",
      "[CV]  max_depth=2, max_leaf_nodes=2, min_samples_leaf=17, min_samples_split=52, min_weight_fraction_leaf=0.1, n_estimators=210, score=0.7492329496783839, total=  27.2s\n",
      "[CV] max_depth=2, max_leaf_nodes=2, min_samples_leaf=17, min_samples_split=52, min_weight_fraction_leaf=0.1, n_estimators=410 \n",
      "[CV]  max_depth=2, max_leaf_nodes=2, min_samples_leaf=17, min_samples_split=52, min_weight_fraction_leaf=0.1, n_estimators=210, score=0.7496508651794475, total=  26.4s\n",
      "[CV] max_depth=2, max_leaf_nodes=2, min_samples_leaf=17, min_samples_split=52, min_weight_fraction_leaf=0.1, n_estimators=410 \n",
      "[CV]  max_depth=2, max_leaf_nodes=2, min_samples_leaf=17, min_samples_split=27, min_weight_fraction_leaf=0.4, n_estimators=810, score=0.7566439447821866, total=  57.4s\n",
      "[CV] max_depth=2, max_leaf_nodes=2, min_samples_leaf=17, min_samples_split=52, min_weight_fraction_leaf=0.1, n_estimators=610 \n",
      "[CV]  max_depth=2, max_leaf_nodes=2, min_samples_leaf=17, min_samples_split=52, min_weight_fraction_leaf=0.1, n_estimators=410, score=0.7497313377046116, total=  50.9s\n",
      "[CV] max_depth=2, max_leaf_nodes=2, min_samples_leaf=17, min_samples_split=52, min_weight_fraction_leaf=0.1, n_estimators=610 \n",
      "[CV]  max_depth=2, max_leaf_nodes=2, min_samples_leaf=17, min_samples_split=52, min_weight_fraction_leaf=0.1, n_estimators=410, score=0.7509020397780074, total=  50.2s\n",
      "[CV] max_depth=2, max_leaf_nodes=2, min_samples_leaf=17, min_samples_split=52, min_weight_fraction_leaf=0.1, n_estimators=810 \n",
      "[CV]  max_depth=2, max_leaf_nodes=2, min_samples_leaf=17, min_samples_split=52, min_weight_fraction_leaf=0.1, n_estimators=610, score=0.7511849694477757, total= 1.2min\n",
      "[CV] max_depth=2, max_leaf_nodes=2, min_samples_leaf=17, min_samples_split=52, min_weight_fraction_leaf=0.1, n_estimators=810 \n",
      "[CV]  max_depth=2, max_leaf_nodes=2, min_samples_leaf=17, min_samples_split=52, min_weight_fraction_leaf=0.1, n_estimators=610, score=0.7525685420441389, total= 1.2min\n",
      "[CV] max_depth=2, max_leaf_nodes=2, min_samples_leaf=17, min_samples_split=52, min_weight_fraction_leaf=0.25, n_estimators=10 \n",
      "[CV]  max_depth=2, max_leaf_nodes=2, min_samples_leaf=17, min_samples_split=52, min_weight_fraction_leaf=0.25, n_estimators=10, score=0.7417104054075101, total=   1.9s\n",
      "[CV] max_depth=2, max_leaf_nodes=2, min_samples_leaf=17, min_samples_split=52, min_weight_fraction_leaf=0.25, n_estimators=10 \n",
      "[CV]  max_depth=2, max_leaf_nodes=2, min_samples_leaf=17, min_samples_split=52, min_weight_fraction_leaf=0.25, n_estimators=10, score=0.7415000597033522, total=   1.9s\n",
      "[CV] max_depth=2, max_leaf_nodes=2, min_samples_leaf=17, min_samples_split=52, min_weight_fraction_leaf=0.25, n_estimators=210 \n",
      "[CV]  max_depth=2, max_leaf_nodes=2, min_samples_leaf=17, min_samples_split=52, min_weight_fraction_leaf=0.25, n_estimators=210, score=0.7413002735942602, total=  23.7s\n",
      "[CV] max_depth=2, max_leaf_nodes=2, min_samples_leaf=17, min_samples_split=52, min_weight_fraction_leaf=0.25, n_estimators=210 \n",
      "[CV]  max_depth=2, max_leaf_nodes=2, min_samples_leaf=17, min_samples_split=52, min_weight_fraction_leaf=0.1, n_estimators=810, score=0.7499130416725072, total= 1.7min\n",
      "[CV] max_depth=2, max_leaf_nodes=2, min_samples_leaf=17, min_samples_split=52, min_weight_fraction_leaf=0.25, n_estimators=410 \n",
      "[CV]  max_depth=2, max_leaf_nodes=2, min_samples_leaf=17, min_samples_split=52, min_weight_fraction_leaf=0.25, n_estimators=210, score=0.7413443118280129, total=  23.4s\n",
      "[CV] max_depth=2, max_leaf_nodes=2, min_samples_leaf=17, min_samples_split=52, min_weight_fraction_leaf=0.25, n_estimators=410 \n",
      "[CV]  max_depth=2, max_leaf_nodes=2, min_samples_leaf=17, min_samples_split=52, min_weight_fraction_leaf=0.1, n_estimators=810, score=0.7515665640461221, total= 1.7min\n",
      "[CV] max_depth=2, max_leaf_nodes=2, min_samples_leaf=17, min_samples_split=52, min_weight_fraction_leaf=0.25, n_estimators=610 \n",
      "[CV]  max_depth=2, max_leaf_nodes=2, min_samples_leaf=17, min_samples_split=52, min_weight_fraction_leaf=0.25, n_estimators=410, score=0.7448616713650121, total=14.3min\n",
      "[CV] max_depth=2, max_leaf_nodes=2, min_samples_leaf=17, min_samples_split=52, min_weight_fraction_leaf=0.25, n_estimators=610 \n",
      "[CV]  max_depth=2, max_leaf_nodes=2, min_samples_leaf=17, min_samples_split=52, min_weight_fraction_leaf=0.25, n_estimators=410, score=0.745087452432003, total=14.3min\n",
      "[CV] max_depth=2, max_leaf_nodes=2, min_samples_leaf=17, min_samples_split=52, min_weight_fraction_leaf=0.25, n_estimators=810 \n",
      "[CV]  max_depth=2, max_leaf_nodes=2, min_samples_leaf=17, min_samples_split=52, min_weight_fraction_leaf=0.25, n_estimators=610, score=0.7570981357172893, total=14.7min\n",
      "[CV] max_depth=2, max_leaf_nodes=2, min_samples_leaf=17, min_samples_split=52, min_weight_fraction_leaf=0.25, n_estimators=810 \n",
      "[CV]  max_depth=2, max_leaf_nodes=2, min_samples_leaf=17, min_samples_split=52, min_weight_fraction_leaf=0.25, n_estimators=610, score=0.7547334375113566, total= 1.1min\n",
      "[CV] max_depth=2, max_leaf_nodes=2, min_samples_leaf=17, min_samples_split=52, min_weight_fraction_leaf=0.4, n_estimators=10 \n",
      "[CV]  max_depth=2, max_leaf_nodes=2, min_samples_leaf=17, min_samples_split=52, min_weight_fraction_leaf=0.4, n_estimators=10, score=0.7484594099293431, total=   1.6s\n",
      "[CV] max_depth=2, max_leaf_nodes=2, min_samples_leaf=17, min_samples_split=52, min_weight_fraction_leaf=0.4, n_estimators=10 \n",
      "[CV]  max_depth=2, max_leaf_nodes=2, min_samples_leaf=17, min_samples_split=52, min_weight_fraction_leaf=0.4, n_estimators=10, score=0.7495210752833313, total=   1.5s\n",
      "[CV] max_depth=2, max_leaf_nodes=2, min_samples_leaf=17, min_samples_split=52, min_weight_fraction_leaf=0.4, n_estimators=210 \n",
      "[CV]  max_depth=2, max_leaf_nodes=2, min_samples_leaf=17, min_samples_split=52, min_weight_fraction_leaf=0.4, n_estimators=210, score=0.7552084144511761, total=  15.9s\n",
      "[CV] max_depth=2, max_leaf_nodes=2, min_samples_leaf=17, min_samples_split=52, min_weight_fraction_leaf=0.4, n_estimators=210 \n",
      "[CV]  max_depth=2, max_leaf_nodes=2, min_samples_leaf=17, min_samples_split=52, min_weight_fraction_leaf=0.25, n_estimators=810, score=0.751216118699415, total= 1.5min\n",
      "[CV] max_depth=2, max_leaf_nodes=2, min_samples_leaf=17, min_samples_split=52, min_weight_fraction_leaf=0.4, n_estimators=410 \n",
      "[CV]  max_depth=2, max_leaf_nodes=2, min_samples_leaf=17, min_samples_split=52, min_weight_fraction_leaf=0.4, n_estimators=210, score=0.755860013809645, total=  16.0s\n",
      "[CV] max_depth=2, max_leaf_nodes=2, min_samples_leaf=17, min_samples_split=52, min_weight_fraction_leaf=0.4, n_estimators=410 \n",
      "[CV]  max_depth=2, max_leaf_nodes=2, min_samples_leaf=17, min_samples_split=52, min_weight_fraction_leaf=0.4, n_estimators=410, score=0.7562311482133308, total=  30.2s\n",
      "[CV] max_depth=2, max_leaf_nodes=2, min_samples_leaf=17, min_samples_split=52, min_weight_fraction_leaf=0.4, n_estimators=610 \n",
      "[CV]  max_depth=2, max_leaf_nodes=2, min_samples_leaf=17, min_samples_split=52, min_weight_fraction_leaf=0.4, n_estimators=410, score=0.7572721278793888, total=  30.9s\n",
      "[CV] max_depth=2, max_leaf_nodes=2, min_samples_leaf=17, min_samples_split=52, min_weight_fraction_leaf=0.4, n_estimators=610 \n",
      "[CV]  max_depth=2, max_leaf_nodes=2, min_samples_leaf=17, min_samples_split=52, min_weight_fraction_leaf=0.25, n_estimators=810, score=0.7528852293906624, total= 1.5min\n",
      "[CV] max_depth=2, max_leaf_nodes=2, min_samples_leaf=17, min_samples_split=52, min_weight_fraction_leaf=0.4, n_estimators=810 \n",
      "[CV]  max_depth=2, max_leaf_nodes=2, min_samples_leaf=17, min_samples_split=52, min_weight_fraction_leaf=0.4, n_estimators=610, score=0.7563557452198878, total=  43.8s\n",
      "[CV] max_depth=2, max_leaf_nodes=2, min_samples_leaf=17, min_samples_split=52, min_weight_fraction_leaf=0.4, n_estimators=810 \n",
      "[CV]  max_depth=2, max_leaf_nodes=2, min_samples_leaf=17, min_samples_split=52, min_weight_fraction_leaf=0.4, n_estimators=610, score=0.758123549597911, total=  44.6s\n",
      "[CV] max_depth=2, max_leaf_nodes=2, min_samples_leaf=17, min_samples_split=77, min_weight_fraction_leaf=0.1, n_estimators=10 \n"
     ]
    },
    {
     "name": "stdout",
     "output_type": "stream",
     "text": [
      "[CV]  max_depth=2, max_leaf_nodes=2, min_samples_leaf=17, min_samples_split=77, min_weight_fraction_leaf=0.1, n_estimators=10, score=0.7468707980957424, total=   1.9s\n",
      "[CV] max_depth=2, max_leaf_nodes=2, min_samples_leaf=17, min_samples_split=77, min_weight_fraction_leaf=0.1, n_estimators=10 \n",
      "[CV]  max_depth=2, max_leaf_nodes=2, min_samples_leaf=17, min_samples_split=77, min_weight_fraction_leaf=0.1, n_estimators=10, score=0.7472834974742886, total=   2.1s\n",
      "[CV] max_depth=2, max_leaf_nodes=2, min_samples_leaf=17, min_samples_split=77, min_weight_fraction_leaf=0.1, n_estimators=210 \n",
      "[CV]  max_depth=2, max_leaf_nodes=2, min_samples_leaf=17, min_samples_split=52, min_weight_fraction_leaf=0.4, n_estimators=810, score=0.7552862875802742, total=  57.7s\n",
      "[CV] max_depth=2, max_leaf_nodes=2, min_samples_leaf=17, min_samples_split=77, min_weight_fraction_leaf=0.1, n_estimators=210 \n",
      "[CV]  max_depth=2, max_leaf_nodes=2, min_samples_leaf=17, min_samples_split=77, min_weight_fraction_leaf=0.1, n_estimators=210, score=0.7492225665945043, total=  27.2s\n",
      "[CV] max_depth=2, max_leaf_nodes=2, min_samples_leaf=17, min_samples_split=77, min_weight_fraction_leaf=0.1, n_estimators=410 \n",
      "[CV]  max_depth=2, max_leaf_nodes=2, min_samples_leaf=17, min_samples_split=77, min_weight_fraction_leaf=0.1, n_estimators=210, score=0.7496612483711368, total=  26.3s\n",
      "[CV] max_depth=2, max_leaf_nodes=2, min_samples_leaf=17, min_samples_split=77, min_weight_fraction_leaf=0.1, n_estimators=410 \n",
      "[CV]  max_depth=2, max_leaf_nodes=2, min_samples_leaf=17, min_samples_split=52, min_weight_fraction_leaf=0.4, n_estimators=810, score=0.756638753186342, total=  57.8s\n",
      "[CV] max_depth=2, max_leaf_nodes=2, min_samples_leaf=17, min_samples_split=77, min_weight_fraction_leaf=0.1, n_estimators=610 \n",
      "[CV]  max_depth=2, max_leaf_nodes=2, min_samples_leaf=17, min_samples_split=77, min_weight_fraction_leaf=0.1, n_estimators=410, score=0.7497313377046116, total=  51.0s\n",
      "[CV] max_depth=2, max_leaf_nodes=2, min_samples_leaf=17, min_samples_split=77, min_weight_fraction_leaf=0.1, n_estimators=610 \n",
      "[CV]  max_depth=2, max_leaf_nodes=2, min_samples_leaf=17, min_samples_split=77, min_weight_fraction_leaf=0.1, n_estimators=410, score=0.750907231373852, total=  50.9s\n",
      "[CV] max_depth=2, max_leaf_nodes=2, min_samples_leaf=17, min_samples_split=77, min_weight_fraction_leaf=0.1, n_estimators=810 \n",
      "[CV]  max_depth=2, max_leaf_nodes=2, min_samples_leaf=17, min_samples_split=77, min_weight_fraction_leaf=0.1, n_estimators=610, score=0.7511849694477757, total= 1.3min\n",
      "[CV] max_depth=2, max_leaf_nodes=2, min_samples_leaf=17, min_samples_split=77, min_weight_fraction_leaf=0.1, n_estimators=810 \n",
      "[CV]  max_depth=2, max_leaf_nodes=2, min_samples_leaf=17, min_samples_split=77, min_weight_fraction_leaf=0.1, n_estimators=610, score=0.7525685420441389, total= 1.3min\n",
      "[CV] max_depth=2, max_leaf_nodes=2, min_samples_leaf=17, min_samples_split=77, min_weight_fraction_leaf=0.25, n_estimators=10 \n",
      "[CV]  max_depth=2, max_leaf_nodes=2, min_samples_leaf=17, min_samples_split=77, min_weight_fraction_leaf=0.25, n_estimators=10, score=0.7416377238203519, total=   2.0s\n",
      "[CV] max_depth=2, max_leaf_nodes=2, min_samples_leaf=17, min_samples_split=77, min_weight_fraction_leaf=0.25, n_estimators=10 \n",
      "[CV]  max_depth=2, max_leaf_nodes=2, min_samples_leaf=17, min_samples_split=77, min_weight_fraction_leaf=0.25, n_estimators=10, score=0.7415000597033522, total=   1.9s\n",
      "[CV] max_depth=2, max_leaf_nodes=2, min_samples_leaf=17, min_samples_split=77, min_weight_fraction_leaf=0.25, n_estimators=210 \n",
      "[CV]  max_depth=2, max_leaf_nodes=2, min_samples_leaf=17, min_samples_split=77, min_weight_fraction_leaf=0.25, n_estimators=210, score=0.7412950820523203, total=  25.1s\n",
      "[CV] max_depth=2, max_leaf_nodes=2, min_samples_leaf=17, min_samples_split=77, min_weight_fraction_leaf=0.25, n_estimators=210 \n",
      "[CV]  max_depth=2, max_leaf_nodes=2, min_samples_leaf=17, min_samples_split=77, min_weight_fraction_leaf=0.1, n_estimators=810, score=0.7499130416725072, total= 1.7min\n",
      "[CV] max_depth=2, max_leaf_nodes=2, min_samples_leaf=17, min_samples_split=77, min_weight_fraction_leaf=0.25, n_estimators=410 \n"
     ]
    },
    {
     "name": "stderr",
     "output_type": "stream",
     "text": [
      "[Parallel(n_jobs=3)]: Done 282 tasks      | elapsed: 98.4min\n"
     ]
    },
    {
     "name": "stdout",
     "output_type": "stream",
     "text": [
      "[CV]  max_depth=2, max_leaf_nodes=2, min_samples_leaf=17, min_samples_split=77, min_weight_fraction_leaf=0.25, n_estimators=210, score=0.7413443118280129, total=  23.8s\n",
      "[CV] max_depth=2, max_leaf_nodes=2, min_samples_leaf=17, min_samples_split=77, min_weight_fraction_leaf=0.25, n_estimators=410 \n",
      "[CV]  max_depth=2, max_leaf_nodes=2, min_samples_leaf=17, min_samples_split=77, min_weight_fraction_leaf=0.1, n_estimators=810, score=0.7515665640461221, total= 1.7min\n",
      "[CV] max_depth=2, max_leaf_nodes=2, min_samples_leaf=17, min_samples_split=77, min_weight_fraction_leaf=0.25, n_estimators=610 \n",
      "[CV]  max_depth=2, max_leaf_nodes=2, min_samples_leaf=17, min_samples_split=77, min_weight_fraction_leaf=0.25, n_estimators=410, score=0.7448824375327716, total=  45.3s\n",
      "[CV] max_depth=2, max_leaf_nodes=2, min_samples_leaf=17, min_samples_split=77, min_weight_fraction_leaf=0.25, n_estimators=610 \n",
      "[CV]  max_depth=2, max_leaf_nodes=2, min_samples_leaf=17, min_samples_split=77, min_weight_fraction_leaf=0.25, n_estimators=410, score=0.7450978356236924, total=  45.3s\n",
      "[CV] max_depth=2, max_leaf_nodes=2, min_samples_leaf=17, min_samples_split=77, min_weight_fraction_leaf=0.25, n_estimators=810 \n",
      "[CV]  max_depth=2, max_leaf_nodes=2, min_samples_leaf=17, min_samples_split=77, min_weight_fraction_leaf=0.25, n_estimators=610, score=0.7570929441753496, total= 1.2min\n",
      "[CV] max_depth=2, max_leaf_nodes=2, min_samples_leaf=17, min_samples_split=77, min_weight_fraction_leaf=0.25, n_estimators=810 \n",
      "[CV]  max_depth=2, max_leaf_nodes=2, min_samples_leaf=17, min_samples_split=77, min_weight_fraction_leaf=0.25, n_estimators=610, score=0.7547178627238227, total= 1.2min\n",
      "[CV] max_depth=2, max_leaf_nodes=2, min_samples_leaf=17, min_samples_split=77, min_weight_fraction_leaf=0.4, n_estimators=10 \n",
      "[CV]  max_depth=2, max_leaf_nodes=2, min_samples_leaf=17, min_samples_split=77, min_weight_fraction_leaf=0.4, n_estimators=10, score=0.7483451960066659, total=   1.6s\n",
      "[CV] max_depth=2, max_leaf_nodes=2, min_samples_leaf=17, min_samples_split=77, min_weight_fraction_leaf=0.4, n_estimators=10 \n",
      "[CV]  max_depth=2, max_leaf_nodes=2, min_samples_leaf=17, min_samples_split=77, min_weight_fraction_leaf=0.4, n_estimators=10, score=0.7494016685789044, total=   1.5s\n",
      "[CV] max_depth=2, max_leaf_nodes=2, min_samples_leaf=17, min_samples_split=77, min_weight_fraction_leaf=0.4, n_estimators=210 \n",
      "[CV]  max_depth=2, max_leaf_nodes=2, min_samples_leaf=17, min_samples_split=77, min_weight_fraction_leaf=0.4, n_estimators=210, score=0.7552084144511761, total=  16.3s\n",
      "[CV] max_depth=2, max_leaf_nodes=2, min_samples_leaf=17, min_samples_split=77, min_weight_fraction_leaf=0.4, n_estimators=210 \n",
      "[CV]  max_depth=2, max_leaf_nodes=2, min_samples_leaf=17, min_samples_split=77, min_weight_fraction_leaf=0.25, n_estimators=810, score=0.7512213102413547, total= 1.6min\n",
      "[CV] max_depth=2, max_leaf_nodes=2, min_samples_leaf=17, min_samples_split=77, min_weight_fraction_leaf=0.4, n_estimators=410 \n",
      "[CV]  max_depth=2, max_leaf_nodes=2, min_samples_leaf=17, min_samples_split=77, min_weight_fraction_leaf=0.4, n_estimators=210, score=0.7558755885971788, total=  15.7s\n",
      "[CV] max_depth=2, max_leaf_nodes=2, min_samples_leaf=17, min_samples_split=77, min_weight_fraction_leaf=0.4, n_estimators=410 \n",
      "[CV]  max_depth=2, max_leaf_nodes=2, min_samples_leaf=17, min_samples_split=77, min_weight_fraction_leaf=0.4, n_estimators=410, score=0.7562259566713909, total=  30.4s\n",
      "[CV] max_depth=2, max_leaf_nodes=2, min_samples_leaf=17, min_samples_split=77, min_weight_fraction_leaf=0.4, n_estimators=610 \n",
      "[CV]  max_depth=2, max_leaf_nodes=2, min_samples_leaf=17, min_samples_split=77, min_weight_fraction_leaf=0.4, n_estimators=410, score=0.7572721278793888, total=  30.2s\n",
      "[CV] max_depth=2, max_leaf_nodes=2, min_samples_leaf=17, min_samples_split=77, min_weight_fraction_leaf=0.4, n_estimators=610 \n",
      "[CV]  max_depth=2, max_leaf_nodes=2, min_samples_leaf=17, min_samples_split=77, min_weight_fraction_leaf=0.25, n_estimators=810, score=0.752890420986507, total= 1.5min\n",
      "[CV] max_depth=2, max_leaf_nodes=2, min_samples_leaf=17, min_samples_split=77, min_weight_fraction_leaf=0.4, n_estimators=810 \n",
      "[CV]  max_depth=2, max_leaf_nodes=2, min_samples_leaf=17, min_samples_split=77, min_weight_fraction_leaf=0.4, n_estimators=610, score=0.7563609367618276, total=  44.9s\n",
      "[CV] max_depth=2, max_leaf_nodes=2, min_samples_leaf=17, min_samples_split=77, min_weight_fraction_leaf=0.4, n_estimators=810 \n",
      "[CV]  max_depth=2, max_leaf_nodes=2, min_samples_leaf=17, min_samples_split=77, min_weight_fraction_leaf=0.4, n_estimators=610, score=0.7581287411937555, total=  45.0s\n",
      "[CV] max_depth=2, max_leaf_nodes=2, min_samples_leaf=17, min_samples_split=102, min_weight_fraction_leaf=0.1, n_estimators=10 \n",
      "[CV]  max_depth=2, max_leaf_nodes=2, min_samples_leaf=17, min_samples_split=102, min_weight_fraction_leaf=0.1, n_estimators=10, score=0.7469590543087202, total=   2.2s\n",
      "[CV] max_depth=2, max_leaf_nodes=2, min_samples_leaf=17, min_samples_split=102, min_weight_fraction_leaf=0.1, n_estimators=10 \n",
      "[CV]  max_depth=2, max_leaf_nodes=2, min_samples_leaf=17, min_samples_split=102, min_weight_fraction_leaf=0.1, n_estimators=10, score=0.747190048749085, total=   2.3s\n",
      "[CV] max_depth=2, max_leaf_nodes=2, min_samples_leaf=17, min_samples_split=102, min_weight_fraction_leaf=0.1, n_estimators=210 \n",
      "[CV]  max_depth=2, max_leaf_nodes=2, min_samples_leaf=17, min_samples_split=77, min_weight_fraction_leaf=0.4, n_estimators=810, score=0.7552655214125147, total=  59.8s\n",
      "[CV] max_depth=2, max_leaf_nodes=2, min_samples_leaf=17, min_samples_split=102, min_weight_fraction_leaf=0.1, n_estimators=210 \n",
      "[CV]  max_depth=2, max_leaf_nodes=2, min_samples_leaf=17, min_samples_split=102, min_weight_fraction_leaf=0.1, n_estimators=210, score=0.7492277581364442, total=  27.7s\n",
      "[CV] max_depth=2, max_leaf_nodes=2, min_samples_leaf=17, min_samples_split=102, min_weight_fraction_leaf=0.1, n_estimators=410 \n",
      "[CV]  max_depth=2, max_leaf_nodes=2, min_samples_leaf=17, min_samples_split=102, min_weight_fraction_leaf=0.1, n_estimators=210, score=0.7496664399669815, total=  26.8s\n",
      "[CV] max_depth=2, max_leaf_nodes=2, min_samples_leaf=17, min_samples_split=102, min_weight_fraction_leaf=0.1, n_estimators=410 \n",
      "[CV]  max_depth=2, max_leaf_nodes=2, min_samples_leaf=17, min_samples_split=77, min_weight_fraction_leaf=0.4, n_estimators=810, score=0.7566439447821866, total=  58.5s\n",
      "[CV] max_depth=2, max_leaf_nodes=2, min_samples_leaf=17, min_samples_split=102, min_weight_fraction_leaf=0.1, n_estimators=610 \n",
      "[CV]  max_depth=2, max_leaf_nodes=2, min_samples_leaf=17, min_samples_split=102, min_weight_fraction_leaf=0.1, n_estimators=410, score=0.7497313377046116, total=  51.4s\n",
      "[CV] max_depth=2, max_leaf_nodes=2, min_samples_leaf=17, min_samples_split=102, min_weight_fraction_leaf=0.1, n_estimators=610 \n",
      "[CV]  max_depth=2, max_leaf_nodes=2, min_samples_leaf=17, min_samples_split=102, min_weight_fraction_leaf=0.1, n_estimators=410, score=0.750907231373852, total=  51.3s\n",
      "[CV] max_depth=2, max_leaf_nodes=2, min_samples_leaf=17, min_samples_split=102, min_weight_fraction_leaf=0.1, n_estimators=810 \n",
      "[CV]  max_depth=2, max_leaf_nodes=2, min_samples_leaf=17, min_samples_split=102, min_weight_fraction_leaf=0.1, n_estimators=610, score=0.7511797779058358, total= 1.3min\n",
      "[CV] max_depth=2, max_leaf_nodes=2, min_samples_leaf=17, min_samples_split=102, min_weight_fraction_leaf=0.1, n_estimators=810 \n",
      "[CV]  max_depth=2, max_leaf_nodes=2, min_samples_leaf=17, min_samples_split=102, min_weight_fraction_leaf=0.1, n_estimators=610, score=0.7525685420441389, total= 1.3min\n",
      "[CV] max_depth=2, max_leaf_nodes=2, min_samples_leaf=17, min_samples_split=102, min_weight_fraction_leaf=0.25, n_estimators=10 \n",
      "[CV]  max_depth=2, max_leaf_nodes=2, min_samples_leaf=17, min_samples_split=102, min_weight_fraction_leaf=0.25, n_estimators=10, score=0.7416688730719911, total=   2.2s\n",
      "[CV] max_depth=2, max_leaf_nodes=2, min_samples_leaf=17, min_samples_split=102, min_weight_fraction_leaf=0.25, n_estimators=10 \n",
      "[CV]  max_depth=2, max_leaf_nodes=2, min_samples_leaf=17, min_samples_split=102, min_weight_fraction_leaf=0.25, n_estimators=10, score=0.7414169941698379, total=   2.0s\n",
      "[CV] max_depth=2, max_leaf_nodes=2, min_samples_leaf=17, min_samples_split=102, min_weight_fraction_leaf=0.25, n_estimators=210 \n"
     ]
    },
    {
     "name": "stdout",
     "output_type": "stream",
     "text": [
      "[CV]  max_depth=2, max_leaf_nodes=2, min_samples_leaf=17, min_samples_split=102, min_weight_fraction_leaf=0.25, n_estimators=210, score=0.7412898905103805, total=  24.3s\n",
      "[CV] max_depth=2, max_leaf_nodes=2, min_samples_leaf=17, min_samples_split=102, min_weight_fraction_leaf=0.25, n_estimators=210 \n",
      "[CV]  max_depth=2, max_leaf_nodes=2, min_samples_leaf=17, min_samples_split=102, min_weight_fraction_leaf=0.1, n_estimators=810, score=0.7499130416725072, total= 1.7min\n",
      "[CV] max_depth=2, max_leaf_nodes=2, min_samples_leaf=17, min_samples_split=102, min_weight_fraction_leaf=0.25, n_estimators=410 \n",
      "[CV]  max_depth=2, max_leaf_nodes=2, min_samples_leaf=17, min_samples_split=102, min_weight_fraction_leaf=0.25, n_estimators=210, score=0.7413443118280129, total=  23.9s\n",
      "[CV] max_depth=2, max_leaf_nodes=2, min_samples_leaf=17, min_samples_split=102, min_weight_fraction_leaf=0.25, n_estimators=410 \n",
      "[CV]  max_depth=2, max_leaf_nodes=2, min_samples_leaf=17, min_samples_split=102, min_weight_fraction_leaf=0.1, n_estimators=810, score=0.7515665640461221, total= 1.7min\n",
      "[CV] max_depth=2, max_leaf_nodes=2, min_samples_leaf=17, min_samples_split=102, min_weight_fraction_leaf=0.25, n_estimators=610 \n",
      "[CV]  max_depth=2, max_leaf_nodes=2, min_samples_leaf=17, min_samples_split=102, min_weight_fraction_leaf=0.25, n_estimators=410, score=0.7448772459908317, total=  45.5s\n",
      "[CV] max_depth=2, max_leaf_nodes=2, min_samples_leaf=17, min_samples_split=102, min_weight_fraction_leaf=0.25, n_estimators=610 \n",
      "[CV]  max_depth=2, max_leaf_nodes=2, min_samples_leaf=17, min_samples_split=102, min_weight_fraction_leaf=0.25, n_estimators=410, score=0.7450926440278477, total=  45.2s\n",
      "[CV] max_depth=2, max_leaf_nodes=2, min_samples_leaf=17, min_samples_split=102, min_weight_fraction_leaf=0.25, n_estimators=810 \n",
      "[CV]  max_depth=2, max_leaf_nodes=2, min_samples_leaf=17, min_samples_split=102, min_weight_fraction_leaf=0.25, n_estimators=610, score=0.7570981357172893, total= 1.1min\n",
      "[CV] max_depth=2, max_leaf_nodes=2, min_samples_leaf=17, min_samples_split=102, min_weight_fraction_leaf=0.25, n_estimators=810 \n",
      "[CV]  max_depth=2, max_leaf_nodes=2, min_samples_leaf=17, min_samples_split=102, min_weight_fraction_leaf=0.25, n_estimators=610, score=0.7547178627238227, total= 1.1min\n",
      "[CV] max_depth=2, max_leaf_nodes=2, min_samples_leaf=17, min_samples_split=102, min_weight_fraction_leaf=0.4, n_estimators=10 \n",
      "[CV]  max_depth=2, max_leaf_nodes=2, min_samples_leaf=17, min_samples_split=102, min_weight_fraction_leaf=0.4, n_estimators=10, score=0.7483867283421849, total=   1.4s\n",
      "[CV] max_depth=2, max_leaf_nodes=2, min_samples_leaf=17, min_samples_split=102, min_weight_fraction_leaf=0.4, n_estimators=10 \n",
      "[CV]  max_depth=2, max_leaf_nodes=2, min_samples_leaf=17, min_samples_split=102, min_weight_fraction_leaf=0.4, n_estimators=10, score=0.7494172433664384, total=   1.4s\n",
      "[CV] max_depth=2, max_leaf_nodes=2, min_samples_leaf=17, min_samples_split=102, min_weight_fraction_leaf=0.4, n_estimators=210 \n",
      "[CV]  max_depth=2, max_leaf_nodes=2, min_samples_leaf=17, min_samples_split=102, min_weight_fraction_leaf=0.4, n_estimators=210, score=0.7552032229092362, total=  15.7s\n",
      "[CV] max_depth=2, max_leaf_nodes=2, min_samples_leaf=17, min_samples_split=102, min_weight_fraction_leaf=0.4, n_estimators=210 \n",
      "[CV]  max_depth=2, max_leaf_nodes=2, min_samples_leaf=17, min_samples_split=102, min_weight_fraction_leaf=0.25, n_estimators=810, score=0.7512109271574751, total= 1.5min\n",
      "[CV] max_depth=2, max_leaf_nodes=2, min_samples_leaf=17, min_samples_split=102, min_weight_fraction_leaf=0.4, n_estimators=410 \n",
      "[CV]  max_depth=2, max_leaf_nodes=2, min_samples_leaf=17, min_samples_split=102, min_weight_fraction_leaf=0.4, n_estimators=210, score=0.7558859717888682, total=  16.0s\n",
      "[CV] max_depth=2, max_leaf_nodes=2, min_samples_leaf=17, min_samples_split=102, min_weight_fraction_leaf=0.4, n_estimators=410 \n",
      "[CV]  max_depth=2, max_leaf_nodes=2, min_samples_leaf=17, min_samples_split=102, min_weight_fraction_leaf=0.4, n_estimators=410, score=0.7562311482133308, total=  29.8s\n",
      "[CV] max_depth=2, max_leaf_nodes=2, min_samples_leaf=17, min_samples_split=102, min_weight_fraction_leaf=0.4, n_estimators=610 \n",
      "[CV]  max_depth=2, max_leaf_nodes=2, min_samples_leaf=17, min_samples_split=102, min_weight_fraction_leaf=0.4, n_estimators=410, score=0.7572773194752335, total=  30.5s\n",
      "[CV] max_depth=2, max_leaf_nodes=2, min_samples_leaf=17, min_samples_split=102, min_weight_fraction_leaf=0.4, n_estimators=610 \n",
      "[CV]  max_depth=2, max_leaf_nodes=2, min_samples_leaf=17, min_samples_split=102, min_weight_fraction_leaf=0.25, n_estimators=810, score=0.752890420986507, total= 1.4min\n",
      "[CV] max_depth=2, max_leaf_nodes=2, min_samples_leaf=17, min_samples_split=102, min_weight_fraction_leaf=0.4, n_estimators=810 \n",
      "[CV]  max_depth=2, max_leaf_nodes=2, min_samples_leaf=17, min_samples_split=102, min_weight_fraction_leaf=0.4, n_estimators=610, score=0.7563661283037675, total=  43.7s\n",
      "[CV] max_depth=2, max_leaf_nodes=2, min_samples_leaf=17, min_samples_split=102, min_weight_fraction_leaf=0.4, n_estimators=810 \n",
      "[CV]  max_depth=2, max_leaf_nodes=2, min_samples_leaf=17, min_samples_split=102, min_weight_fraction_leaf=0.4, n_estimators=610, score=0.7581183580020663, total=  44.5s\n",
      "[CV] max_depth=2, max_leaf_nodes=2, min_samples_leaf=17, min_samples_split=127, min_weight_fraction_leaf=0.1, n_estimators=10 \n",
      "[CV]  max_depth=2, max_leaf_nodes=2, min_samples_leaf=17, min_samples_split=127, min_weight_fraction_leaf=0.1, n_estimators=10, score=0.7468759896376823, total=   1.7s\n",
      "[CV] max_depth=2, max_leaf_nodes=2, min_samples_leaf=17, min_samples_split=127, min_weight_fraction_leaf=0.1, n_estimators=10 \n",
      "[CV]  max_depth=2, max_leaf_nodes=2, min_samples_leaf=17, min_samples_split=127, min_weight_fraction_leaf=0.1, n_estimators=10, score=0.7472108151324636, total=   2.3s\n",
      "[CV] max_depth=2, max_leaf_nodes=2, min_samples_leaf=17, min_samples_split=127, min_weight_fraction_leaf=0.1, n_estimators=210 \n",
      "[CV]  max_depth=2, max_leaf_nodes=2, min_samples_leaf=17, min_samples_split=102, min_weight_fraction_leaf=0.4, n_estimators=810, score=0.7552655214125147, total=  57.7s\n",
      "[CV] max_depth=2, max_leaf_nodes=2, min_samples_leaf=17, min_samples_split=127, min_weight_fraction_leaf=0.1, n_estimators=210 \n",
      "[CV]  max_depth=2, max_leaf_nodes=2, min_samples_leaf=17, min_samples_split=127, min_weight_fraction_leaf=0.1, n_estimators=210, score=0.7492381412203238, total=  27.4s\n",
      "[CV] max_depth=2, max_leaf_nodes=2, min_samples_leaf=17, min_samples_split=127, min_weight_fraction_leaf=0.1, n_estimators=410 \n",
      "[CV]  max_depth=2, max_leaf_nodes=2, min_samples_leaf=17, min_samples_split=127, min_weight_fraction_leaf=0.1, n_estimators=210, score=0.7496664399669815, total=  26.4s\n",
      "[CV] max_depth=2, max_leaf_nodes=2, min_samples_leaf=17, min_samples_split=127, min_weight_fraction_leaf=0.1, n_estimators=410 \n",
      "[CV]  max_depth=2, max_leaf_nodes=2, min_samples_leaf=17, min_samples_split=102, min_weight_fraction_leaf=0.4, n_estimators=810, score=0.7566491363780312, total=  57.2s\n",
      "[CV] max_depth=2, max_leaf_nodes=2, min_samples_leaf=17, min_samples_split=127, min_weight_fraction_leaf=0.1, n_estimators=610 \n",
      "[CV]  max_depth=2, max_leaf_nodes=2, min_samples_leaf=17, min_samples_split=127, min_weight_fraction_leaf=0.1, n_estimators=410, score=0.7497313377046116, total=  50.5s\n",
      "[CV] max_depth=2, max_leaf_nodes=2, min_samples_leaf=17, min_samples_split=127, min_weight_fraction_leaf=0.1, n_estimators=610 \n",
      "[CV]  max_depth=2, max_leaf_nodes=2, min_samples_leaf=17, min_samples_split=127, min_weight_fraction_leaf=0.1, n_estimators=410, score=0.750907231373852, total=  50.3s\n",
      "[CV] max_depth=2, max_leaf_nodes=2, min_samples_leaf=17, min_samples_split=127, min_weight_fraction_leaf=0.1, n_estimators=810 \n",
      "[CV]  max_depth=2, max_leaf_nodes=2, min_samples_leaf=17, min_samples_split=127, min_weight_fraction_leaf=0.1, n_estimators=610, score=0.7511849694477757, total= 1.2min\n",
      "[CV] max_depth=2, max_leaf_nodes=2, min_samples_leaf=17, min_samples_split=127, min_weight_fraction_leaf=0.1, n_estimators=810 \n",
      "[CV]  max_depth=2, max_leaf_nodes=2, min_samples_leaf=17, min_samples_split=127, min_weight_fraction_leaf=0.1, n_estimators=610, score=0.7525685420441389, total= 1.2min\n"
     ]
    },
    {
     "name": "stdout",
     "output_type": "stream",
     "text": [
      "[CV] max_depth=2, max_leaf_nodes=2, min_samples_leaf=17, min_samples_split=127, min_weight_fraction_leaf=0.25, n_estimators=10 \n",
      "[CV]  max_depth=2, max_leaf_nodes=2, min_samples_leaf=17, min_samples_split=127, min_weight_fraction_leaf=0.25, n_estimators=10, score=0.7415858084009531, total=   2.1s\n",
      "[CV] max_depth=2, max_leaf_nodes=2, min_samples_leaf=17, min_samples_split=127, min_weight_fraction_leaf=0.25, n_estimators=10 \n",
      "[CV]  max_depth=2, max_leaf_nodes=2, min_samples_leaf=17, min_samples_split=127, min_weight_fraction_leaf=0.25, n_estimators=10, score=0.741474101724129, total=   1.9s\n",
      "[CV] max_depth=2, max_leaf_nodes=2, min_samples_leaf=17, min_samples_split=127, min_weight_fraction_leaf=0.25, n_estimators=210 \n",
      "[CV]  max_depth=2, max_leaf_nodes=2, min_samples_leaf=17, min_samples_split=127, min_weight_fraction_leaf=0.25, n_estimators=210, score=0.7413158482200799, total=  23.8s\n",
      "[CV] max_depth=2, max_leaf_nodes=2, min_samples_leaf=17, min_samples_split=127, min_weight_fraction_leaf=0.25, n_estimators=210 \n",
      "[CV]  max_depth=2, max_leaf_nodes=2, min_samples_leaf=17, min_samples_split=127, min_weight_fraction_leaf=0.1, n_estimators=810, score=0.7499130416725072, total= 1.7min\n",
      "[CV] max_depth=2, max_leaf_nodes=2, min_samples_leaf=17, min_samples_split=127, min_weight_fraction_leaf=0.25, n_estimators=410 \n",
      "[CV]  max_depth=2, max_leaf_nodes=2, min_samples_leaf=17, min_samples_split=127, min_weight_fraction_leaf=0.25, n_estimators=210, score=0.7413598866155467, total=  27.5s\n",
      "[CV] max_depth=2, max_leaf_nodes=2, min_samples_leaf=17, min_samples_split=127, min_weight_fraction_leaf=0.25, n_estimators=410 \n",
      "[CV]  max_depth=2, max_leaf_nodes=2, min_samples_leaf=17, min_samples_split=127, min_weight_fraction_leaf=0.1, n_estimators=810, score=0.7515613724502775, total= 1.7min\n",
      "[CV] max_depth=2, max_leaf_nodes=2, min_samples_leaf=17, min_samples_split=127, min_weight_fraction_leaf=0.25, n_estimators=610 \n",
      "[CV]  max_depth=2, max_leaf_nodes=2, min_samples_leaf=17, min_samples_split=127, min_weight_fraction_leaf=0.25, n_estimators=410, score=0.7448824375327716, total=  48.1s\n",
      "[CV] max_depth=2, max_leaf_nodes=2, min_samples_leaf=17, min_samples_split=127, min_weight_fraction_leaf=0.25, n_estimators=610 \n",
      "[CV]  max_depth=2, max_leaf_nodes=2, min_samples_leaf=17, min_samples_split=127, min_weight_fraction_leaf=0.25, n_estimators=410, score=0.7451082188153817, total=  46.7s\n",
      "[CV] max_depth=2, max_leaf_nodes=2, min_samples_leaf=17, min_samples_split=127, min_weight_fraction_leaf=0.25, n_estimators=810 \n",
      "[CV]  max_depth=2, max_leaf_nodes=2, min_samples_leaf=17, min_samples_split=127, min_weight_fraction_leaf=0.25, n_estimators=610, score=0.7571033272592292, total= 1.1min\n",
      "[CV] max_depth=2, max_leaf_nodes=2, min_samples_leaf=17, min_samples_split=127, min_weight_fraction_leaf=0.25, n_estimators=810 \n",
      "[CV]  max_depth=2, max_leaf_nodes=2, min_samples_leaf=17, min_samples_split=127, min_weight_fraction_leaf=0.25, n_estimators=610, score=0.754728245915512, total= 1.1min\n",
      "[CV] max_depth=2, max_leaf_nodes=2, min_samples_leaf=17, min_samples_split=127, min_weight_fraction_leaf=0.4, n_estimators=10 \n",
      "[CV]  max_depth=2, max_leaf_nodes=2, min_samples_leaf=17, min_samples_split=127, min_weight_fraction_leaf=0.4, n_estimators=10, score=0.7484282606777038, total=   1.6s\n",
      "[CV] max_depth=2, max_leaf_nodes=2, min_samples_leaf=17, min_samples_split=127, min_weight_fraction_leaf=0.4, n_estimators=10 \n",
      "[CV]  max_depth=2, max_leaf_nodes=2, min_samples_leaf=17, min_samples_split=127, min_weight_fraction_leaf=0.4, n_estimators=10, score=0.7490901728282257, total=   1.5s\n",
      "[CV] max_depth=2, max_leaf_nodes=2, min_samples_leaf=17, min_samples_split=127, min_weight_fraction_leaf=0.4, n_estimators=210 \n",
      "[CV]  max_depth=2, max_leaf_nodes=2, min_samples_leaf=17, min_samples_split=127, min_weight_fraction_leaf=0.4, n_estimators=210, score=0.7551772651995369, total=  16.3s\n",
      "[CV] max_depth=2, max_leaf_nodes=2, min_samples_leaf=17, min_samples_split=127, min_weight_fraction_leaf=0.4, n_estimators=210 \n",
      "[CV]  max_depth=2, max_leaf_nodes=2, min_samples_leaf=17, min_samples_split=127, min_weight_fraction_leaf=0.25, n_estimators=810, score=0.751216118699415, total= 1.5min\n",
      "[CV] max_depth=2, max_leaf_nodes=2, min_samples_leaf=17, min_samples_split=127, min_weight_fraction_leaf=0.4, n_estimators=410 \n",
      "[CV]  max_depth=2, max_leaf_nodes=2, min_samples_leaf=17, min_samples_split=127, min_weight_fraction_leaf=0.4, n_estimators=210, score=0.7558703970013343, total=  16.6s\n",
      "[CV] max_depth=2, max_leaf_nodes=2, min_samples_leaf=17, min_samples_split=127, min_weight_fraction_leaf=0.4, n_estimators=410 \n",
      "[CV]  max_depth=2, max_leaf_nodes=2, min_samples_leaf=17, min_samples_split=127, min_weight_fraction_leaf=0.4, n_estimators=410, score=0.7562207651294511, total=  30.5s\n",
      "[CV] max_depth=2, max_leaf_nodes=2, min_samples_leaf=17, min_samples_split=127, min_weight_fraction_leaf=0.4, n_estimators=610 \n",
      "[CV]  max_depth=2, max_leaf_nodes=2, min_samples_leaf=17, min_samples_split=127, min_weight_fraction_leaf=0.4, n_estimators=410, score=0.7572721278793888, total=  31.0s\n",
      "[CV] max_depth=2, max_leaf_nodes=2, min_samples_leaf=17, min_samples_split=127, min_weight_fraction_leaf=0.4, n_estimators=610 \n",
      "[CV]  max_depth=2, max_leaf_nodes=2, min_samples_leaf=17, min_samples_split=127, min_weight_fraction_leaf=0.25, n_estimators=810, score=0.752890420986507, total= 1.5min\n",
      "[CV] max_depth=2, max_leaf_nodes=2, min_samples_leaf=17, min_samples_split=127, min_weight_fraction_leaf=0.4, n_estimators=810 \n",
      "[CV]  max_depth=2, max_leaf_nodes=2, min_samples_leaf=17, min_samples_split=127, min_weight_fraction_leaf=0.4, n_estimators=610, score=0.7563661283037675, total=  44.4s\n",
      "[CV] max_depth=2, max_leaf_nodes=2, min_samples_leaf=17, min_samples_split=127, min_weight_fraction_leaf=0.4, n_estimators=810 \n",
      "[CV]  max_depth=2, max_leaf_nodes=2, min_samples_leaf=17, min_samples_split=127, min_weight_fraction_leaf=0.4, n_estimators=610, score=0.7581131664062216, total=  45.4s\n",
      "[CV] max_depth=2, max_leaf_nodes=2, min_samples_leaf=32, min_samples_split=2, min_weight_fraction_leaf=0.1, n_estimators=10 \n",
      "[CV]  max_depth=2, max_leaf_nodes=2, min_samples_leaf=32, min_samples_split=2, min_weight_fraction_leaf=0.1, n_estimators=10, score=0.7469902035603595, total=   1.6s\n",
      "[CV] max_depth=2, max_leaf_nodes=2, min_samples_leaf=32, min_samples_split=2, min_weight_fraction_leaf=0.1, n_estimators=10 \n",
      "[CV]  max_depth=2, max_leaf_nodes=2, min_samples_leaf=32, min_samples_split=2, min_weight_fraction_leaf=0.1, n_estimators=10, score=0.7472679226867547, total=   2.3s\n",
      "[CV] max_depth=2, max_leaf_nodes=2, min_samples_leaf=32, min_samples_split=2, min_weight_fraction_leaf=0.1, n_estimators=210 \n",
      "[CV]  max_depth=2, max_leaf_nodes=2, min_samples_leaf=17, min_samples_split=127, min_weight_fraction_leaf=0.4, n_estimators=810, score=0.7552707129544546, total=  58.8s\n",
      "[CV] max_depth=2, max_leaf_nodes=2, min_samples_leaf=32, min_samples_split=2, min_weight_fraction_leaf=0.1, n_estimators=210 \n",
      "[CV]  max_depth=2, max_leaf_nodes=2, min_samples_leaf=32, min_samples_split=2, min_weight_fraction_leaf=0.1, n_estimators=210, score=0.7492225665945043, total=  27.5s\n",
      "[CV] max_depth=2, max_leaf_nodes=2, min_samples_leaf=32, min_samples_split=2, min_weight_fraction_leaf=0.1, n_estimators=410 \n",
      "[CV]  max_depth=2, max_leaf_nodes=2, min_samples_leaf=32, min_samples_split=2, min_weight_fraction_leaf=0.1, n_estimators=210, score=0.7496560567752921, total=  27.0s\n",
      "[CV] max_depth=2, max_leaf_nodes=2, min_samples_leaf=32, min_samples_split=2, min_weight_fraction_leaf=0.1, n_estimators=410 \n",
      "[CV]  max_depth=2, max_leaf_nodes=2, min_samples_leaf=17, min_samples_split=127, min_weight_fraction_leaf=0.4, n_estimators=810, score=0.7566439447821866, total=  57.9s\n",
      "[CV] max_depth=2, max_leaf_nodes=2, min_samples_leaf=32, min_samples_split=2, min_weight_fraction_leaf=0.1, n_estimators=610 \n",
      "[CV]  max_depth=2, max_leaf_nodes=2, min_samples_leaf=32, min_samples_split=2, min_weight_fraction_leaf=0.1, n_estimators=410, score=0.7497313377046116, total=  51.3s\n",
      "[CV] max_depth=2, max_leaf_nodes=2, min_samples_leaf=32, min_samples_split=2, min_weight_fraction_leaf=0.1, n_estimators=610 \n",
      "[CV]  max_depth=2, max_leaf_nodes=2, min_samples_leaf=32, min_samples_split=2, min_weight_fraction_leaf=0.1, n_estimators=410, score=0.7509124229696966, total=  51.2s\n"
     ]
    },
    {
     "name": "stdout",
     "output_type": "stream",
     "text": [
      "[CV] max_depth=2, max_leaf_nodes=2, min_samples_leaf=32, min_samples_split=2, min_weight_fraction_leaf=0.1, n_estimators=810 \n",
      "[CV]  max_depth=2, max_leaf_nodes=2, min_samples_leaf=32, min_samples_split=2, min_weight_fraction_leaf=0.1, n_estimators=610, score=0.7511849694477757, total= 1.3min\n",
      "[CV] max_depth=2, max_leaf_nodes=2, min_samples_leaf=32, min_samples_split=2, min_weight_fraction_leaf=0.1, n_estimators=810 \n",
      "[CV]  max_depth=2, max_leaf_nodes=2, min_samples_leaf=32, min_samples_split=2, min_weight_fraction_leaf=0.1, n_estimators=610, score=0.7525685420441389, total= 1.3min\n",
      "[CV] max_depth=2, max_leaf_nodes=2, min_samples_leaf=32, min_samples_split=2, min_weight_fraction_leaf=0.25, n_estimators=10 \n",
      "[CV]  max_depth=2, max_leaf_nodes=2, min_samples_leaf=32, min_samples_split=2, min_weight_fraction_leaf=0.25, n_estimators=10, score=0.7415961914848329, total=   2.1s\n",
      "[CV] max_depth=2, max_leaf_nodes=2, min_samples_leaf=32, min_samples_split=2, min_weight_fraction_leaf=0.25, n_estimators=10 \n",
      "[CV]  max_depth=2, max_leaf_nodes=2, min_samples_leaf=32, min_samples_split=2, min_weight_fraction_leaf=0.25, n_estimators=10, score=0.7414533353407504, total=   2.1s\n",
      "[CV] max_depth=2, max_leaf_nodes=2, min_samples_leaf=32, min_samples_split=2, min_weight_fraction_leaf=0.25, n_estimators=210 \n",
      "[CV]  max_depth=2, max_leaf_nodes=2, min_samples_leaf=32, min_samples_split=2, min_weight_fraction_leaf=0.25, n_estimators=210, score=0.74131065667814, total=  24.3s\n",
      "[CV] max_depth=2, max_leaf_nodes=2, min_samples_leaf=32, min_samples_split=2, min_weight_fraction_leaf=0.25, n_estimators=210 \n",
      "[CV]  max_depth=2, max_leaf_nodes=2, min_samples_leaf=32, min_samples_split=2, min_weight_fraction_leaf=0.1, n_estimators=810, score=0.7499078501305673, total= 1.7min\n",
      "[CV] max_depth=2, max_leaf_nodes=2, min_samples_leaf=32, min_samples_split=2, min_weight_fraction_leaf=0.25, n_estimators=410 \n",
      "[CV]  max_depth=2, max_leaf_nodes=2, min_samples_leaf=32, min_samples_split=2, min_weight_fraction_leaf=0.25, n_estimators=210, score=0.7413443118280129, total=  23.9s\n",
      "[CV] max_depth=2, max_leaf_nodes=2, min_samples_leaf=32, min_samples_split=2, min_weight_fraction_leaf=0.25, n_estimators=410 \n",
      "[CV]  max_depth=2, max_leaf_nodes=2, min_samples_leaf=32, min_samples_split=2, min_weight_fraction_leaf=0.1, n_estimators=810, score=0.7515717556419668, total= 1.7min\n",
      "[CV] max_depth=2, max_leaf_nodes=2, min_samples_leaf=32, min_samples_split=2, min_weight_fraction_leaf=0.25, n_estimators=610 \n",
      "[CV]  max_depth=2, max_leaf_nodes=2, min_samples_leaf=32, min_samples_split=2, min_weight_fraction_leaf=0.25, n_estimators=410, score=0.7448876290747115, total=  45.1s\n",
      "[CV] max_depth=2, max_leaf_nodes=2, min_samples_leaf=32, min_samples_split=2, min_weight_fraction_leaf=0.25, n_estimators=610 \n",
      "[CV]  max_depth=2, max_leaf_nodes=2, min_samples_leaf=32, min_samples_split=2, min_weight_fraction_leaf=0.25, n_estimators=410, score=0.7450978356236924, total=  45.1s\n",
      "[CV] max_depth=2, max_leaf_nodes=2, min_samples_leaf=32, min_samples_split=2, min_weight_fraction_leaf=0.25, n_estimators=810 \n",
      "[CV]  max_depth=2, max_leaf_nodes=2, min_samples_leaf=32, min_samples_split=2, min_weight_fraction_leaf=0.25, n_estimators=610, score=0.7570981357172893, total= 1.1min\n",
      "[CV] max_depth=2, max_leaf_nodes=2, min_samples_leaf=32, min_samples_split=2, min_weight_fraction_leaf=0.25, n_estimators=810 \n",
      "[CV]  max_depth=2, max_leaf_nodes=2, min_samples_leaf=32, min_samples_split=2, min_weight_fraction_leaf=0.25, n_estimators=610, score=0.7547230543196674, total= 1.1min\n",
      "[CV] max_depth=2, max_leaf_nodes=2, min_samples_leaf=32, min_samples_split=2, min_weight_fraction_leaf=0.4, n_estimators=10 \n",
      "[CV]  max_depth=2, max_leaf_nodes=2, min_samples_leaf=32, min_samples_split=2, min_weight_fraction_leaf=0.4, n_estimators=10, score=0.7485840069359, total=   1.5s\n",
      "[CV] max_depth=2, max_leaf_nodes=2, min_samples_leaf=32, min_samples_split=2, min_weight_fraction_leaf=0.4, n_estimators=10 \n",
      "[CV]  max_depth=2, max_leaf_nodes=2, min_samples_leaf=32, min_samples_split=2, min_weight_fraction_leaf=0.4, n_estimators=10, score=0.7493601358121473, total=   1.6s\n",
      "[CV] max_depth=2, max_leaf_nodes=2, min_samples_leaf=32, min_samples_split=2, min_weight_fraction_leaf=0.4, n_estimators=210 \n",
      "[CV]  max_depth=2, max_leaf_nodes=2, min_samples_leaf=32, min_samples_split=2, min_weight_fraction_leaf=0.4, n_estimators=210, score=0.7552084144511761, total=  16.3s\n",
      "[CV] max_depth=2, max_leaf_nodes=2, min_samples_leaf=32, min_samples_split=2, min_weight_fraction_leaf=0.4, n_estimators=210 \n",
      "[CV]  max_depth=2, max_leaf_nodes=2, min_samples_leaf=32, min_samples_split=2, min_weight_fraction_leaf=0.25, n_estimators=810, score=0.7512109271574751, total= 1.5min\n",
      "[CV] max_depth=2, max_leaf_nodes=2, min_samples_leaf=32, min_samples_split=2, min_weight_fraction_leaf=0.4, n_estimators=410 \n",
      "[CV]  max_depth=2, max_leaf_nodes=2, min_samples_leaf=32, min_samples_split=2, min_weight_fraction_leaf=0.4, n_estimators=210, score=0.7558703970013343, total=  15.9s\n",
      "[CV] max_depth=2, max_leaf_nodes=2, min_samples_leaf=32, min_samples_split=2, min_weight_fraction_leaf=0.4, n_estimators=410 \n",
      "[CV]  max_depth=2, max_leaf_nodes=2, min_samples_leaf=32, min_samples_split=2, min_weight_fraction_leaf=0.4, n_estimators=410, score=0.7562311482133308, total=  30.6s\n",
      "[CV] max_depth=2, max_leaf_nodes=2, min_samples_leaf=32, min_samples_split=2, min_weight_fraction_leaf=0.4, n_estimators=610 \n",
      "[CV]  max_depth=2, max_leaf_nodes=2, min_samples_leaf=32, min_samples_split=2, min_weight_fraction_leaf=0.4, n_estimators=410, score=0.7572721278793888, total=  30.7s\n",
      "[CV] max_depth=2, max_leaf_nodes=2, min_samples_leaf=32, min_samples_split=2, min_weight_fraction_leaf=0.4, n_estimators=610 \n",
      "[CV]  max_depth=2, max_leaf_nodes=2, min_samples_leaf=32, min_samples_split=2, min_weight_fraction_leaf=0.25, n_estimators=810, score=0.752890420986507, total= 1.5min\n",
      "[CV] max_depth=2, max_leaf_nodes=2, min_samples_leaf=32, min_samples_split=2, min_weight_fraction_leaf=0.4, n_estimators=810 \n",
      "[CV]  max_depth=2, max_leaf_nodes=2, min_samples_leaf=32, min_samples_split=2, min_weight_fraction_leaf=0.4, n_estimators=610, score=0.7563609367618276, total=12.5min\n",
      "[CV] max_depth=2, max_leaf_nodes=2, min_samples_leaf=32, min_samples_split=2, min_weight_fraction_leaf=0.4, n_estimators=810 \n",
      "[CV]  max_depth=2, max_leaf_nodes=2, min_samples_leaf=32, min_samples_split=2, min_weight_fraction_leaf=0.4, n_estimators=610, score=0.7581131664062216, total=12.5min\n",
      "[CV] max_depth=2, max_leaf_nodes=2, min_samples_leaf=32, min_samples_split=27, min_weight_fraction_leaf=0.1, n_estimators=10 \n",
      "[CV]  max_depth=2, max_leaf_nodes=2, min_samples_leaf=32, min_samples_split=27, min_weight_fraction_leaf=0.1, n_estimators=10, score=0.7469798204764797, total=   2.5s\n",
      "[CV] max_depth=2, max_leaf_nodes=2, min_samples_leaf=32, min_samples_split=27, min_weight_fraction_leaf=0.1, n_estimators=10 \n",
      "[CV]  max_depth=2, max_leaf_nodes=2, min_samples_leaf=32, min_samples_split=27, min_weight_fraction_leaf=0.1, n_estimators=10, score=0.7472367731116868, total=   2.7s\n",
      "[CV] max_depth=2, max_leaf_nodes=2, min_samples_leaf=32, min_samples_split=27, min_weight_fraction_leaf=0.1, n_estimators=210 \n",
      "[CV]  max_depth=2, max_leaf_nodes=2, min_samples_leaf=32, min_samples_split=2, min_weight_fraction_leaf=0.4, n_estimators=810, score=0.7552655214125147, total=12.7min\n",
      "[CV] max_depth=2, max_leaf_nodes=2, min_samples_leaf=32, min_samples_split=27, min_weight_fraction_leaf=0.1, n_estimators=210 \n",
      "[CV]  max_depth=2, max_leaf_nodes=2, min_samples_leaf=32, min_samples_split=27, min_weight_fraction_leaf=0.1, n_estimators=210, score=0.7492277581364442, total=  28.8s\n",
      "[CV] max_depth=2, max_leaf_nodes=2, min_samples_leaf=32, min_samples_split=27, min_weight_fraction_leaf=0.1, n_estimators=410 \n",
      "[CV]  max_depth=2, max_leaf_nodes=2, min_samples_leaf=32, min_samples_split=27, min_weight_fraction_leaf=0.1, n_estimators=210, score=0.7496612483711368, total=  27.4s\n",
      "[CV] max_depth=2, max_leaf_nodes=2, min_samples_leaf=32, min_samples_split=27, min_weight_fraction_leaf=0.1, n_estimators=410 \n",
      "[CV]  max_depth=2, max_leaf_nodes=2, min_samples_leaf=32, min_samples_split=2, min_weight_fraction_leaf=0.4, n_estimators=810, score=0.7566439447821866, total= 1.0min\n"
     ]
    },
    {
     "name": "stdout",
     "output_type": "stream",
     "text": [
      "[CV] max_depth=2, max_leaf_nodes=2, min_samples_leaf=32, min_samples_split=27, min_weight_fraction_leaf=0.1, n_estimators=610 \n",
      "[CV]  max_depth=2, max_leaf_nodes=2, min_samples_leaf=32, min_samples_split=27, min_weight_fraction_leaf=0.1, n_estimators=410, score=0.7497313377046116, total=  52.1s\n",
      "[CV] max_depth=2, max_leaf_nodes=2, min_samples_leaf=32, min_samples_split=27, min_weight_fraction_leaf=0.1, n_estimators=610 \n",
      "[CV]  max_depth=2, max_leaf_nodes=2, min_samples_leaf=32, min_samples_split=27, min_weight_fraction_leaf=0.1, n_estimators=410, score=0.750907231373852, total=  51.2s\n",
      "[CV] max_depth=2, max_leaf_nodes=2, min_samples_leaf=32, min_samples_split=27, min_weight_fraction_leaf=0.1, n_estimators=810 \n",
      "[CV]  max_depth=2, max_leaf_nodes=2, min_samples_leaf=32, min_samples_split=27, min_weight_fraction_leaf=0.1, n_estimators=610, score=0.7511797779058358, total= 1.3min\n",
      "[CV] max_depth=2, max_leaf_nodes=2, min_samples_leaf=32, min_samples_split=27, min_weight_fraction_leaf=0.1, n_estimators=810 \n",
      "[CV]  max_depth=2, max_leaf_nodes=2, min_samples_leaf=32, min_samples_split=27, min_weight_fraction_leaf=0.1, n_estimators=610, score=0.7525685420441389, total= 1.3min\n",
      "[CV] max_depth=2, max_leaf_nodes=2, min_samples_leaf=32, min_samples_split=27, min_weight_fraction_leaf=0.25, n_estimators=10 \n",
      "[CV]  max_depth=2, max_leaf_nodes=2, min_samples_leaf=32, min_samples_split=27, min_weight_fraction_leaf=0.25, n_estimators=10, score=0.7414664029363361, total=   2.2s\n",
      "[CV] max_depth=2, max_leaf_nodes=2, min_samples_leaf=32, min_samples_split=27, min_weight_fraction_leaf=0.25, n_estimators=10 \n",
      "[CV]  max_depth=2, max_leaf_nodes=2, min_samples_leaf=32, min_samples_split=27, min_weight_fraction_leaf=0.25, n_estimators=10, score=0.7413650782113914, total=   2.0s\n",
      "[CV] max_depth=2, max_leaf_nodes=2, min_samples_leaf=32, min_samples_split=27, min_weight_fraction_leaf=0.25, n_estimators=210 \n",
      "[CV]  max_depth=2, max_leaf_nodes=2, min_samples_leaf=32, min_samples_split=27, min_weight_fraction_leaf=0.25, n_estimators=210, score=0.7412950820523203, total=  24.4s\n",
      "[CV] max_depth=2, max_leaf_nodes=2, min_samples_leaf=32, min_samples_split=27, min_weight_fraction_leaf=0.25, n_estimators=210 \n",
      "[CV]  max_depth=2, max_leaf_nodes=2, min_samples_leaf=32, min_samples_split=27, min_weight_fraction_leaf=0.1, n_estimators=810, score=0.7499130416725072, total= 1.7min\n",
      "[CV] max_depth=2, max_leaf_nodes=2, min_samples_leaf=32, min_samples_split=27, min_weight_fraction_leaf=0.25, n_estimators=410 \n",
      "[CV]  max_depth=2, max_leaf_nodes=2, min_samples_leaf=32, min_samples_split=27, min_weight_fraction_leaf=0.25, n_estimators=210, score=0.7413495034238574, total=  23.7s\n",
      "[CV] max_depth=2, max_leaf_nodes=2, min_samples_leaf=32, min_samples_split=27, min_weight_fraction_leaf=0.25, n_estimators=410 \n",
      "[CV]  max_depth=2, max_leaf_nodes=2, min_samples_leaf=32, min_samples_split=27, min_weight_fraction_leaf=0.1, n_estimators=810, score=0.7515717556419668, total= 1.7min\n",
      "[CV] max_depth=2, max_leaf_nodes=2, min_samples_leaf=32, min_samples_split=27, min_weight_fraction_leaf=0.25, n_estimators=610 \n",
      "[CV]  max_depth=2, max_leaf_nodes=2, min_samples_leaf=32, min_samples_split=27, min_weight_fraction_leaf=0.25, n_estimators=410, score=0.7448876290747115, total=  45.2s\n",
      "[CV] max_depth=2, max_leaf_nodes=2, min_samples_leaf=32, min_samples_split=27, min_weight_fraction_leaf=0.25, n_estimators=610 \n",
      "[CV]  max_depth=2, max_leaf_nodes=2, min_samples_leaf=32, min_samples_split=27, min_weight_fraction_leaf=0.25, n_estimators=410, score=0.7450978356236924, total=  45.2s\n",
      "[CV] max_depth=2, max_leaf_nodes=2, min_samples_leaf=32, min_samples_split=27, min_weight_fraction_leaf=0.25, n_estimators=810 \n",
      "[CV]  max_depth=2, max_leaf_nodes=2, min_samples_leaf=32, min_samples_split=27, min_weight_fraction_leaf=0.25, n_estimators=610, score=0.7570981357172893, total= 1.1min\n",
      "[CV] max_depth=2, max_leaf_nodes=2, min_samples_leaf=32, min_samples_split=27, min_weight_fraction_leaf=0.25, n_estimators=810 \n",
      "[CV]  max_depth=2, max_leaf_nodes=2, min_samples_leaf=32, min_samples_split=27, min_weight_fraction_leaf=0.25, n_estimators=610, score=0.7547490122988906, total= 1.1min\n",
      "[CV] max_depth=2, max_leaf_nodes=2, min_samples_leaf=32, min_samples_split=27, min_weight_fraction_leaf=0.4, n_estimators=10 \n",
      "[CV]  max_depth=2, max_leaf_nodes=2, min_samples_leaf=32, min_samples_split=27, min_weight_fraction_leaf=0.4, n_estimators=10, score=0.7485632407681405, total=   1.6s\n",
      "[CV] max_depth=2, max_leaf_nodes=2, min_samples_leaf=32, min_samples_split=27, min_weight_fraction_leaf=0.4, n_estimators=10 \n",
      "[CV]  max_depth=2, max_leaf_nodes=2, min_samples_leaf=32, min_samples_split=27, min_weight_fraction_leaf=0.4, n_estimators=10, score=0.7494535845373509, total=   1.5s\n",
      "[CV] max_depth=2, max_leaf_nodes=2, min_samples_leaf=32, min_samples_split=27, min_weight_fraction_leaf=0.4, n_estimators=210 \n",
      "[CV]  max_depth=2, max_leaf_nodes=2, min_samples_leaf=32, min_samples_split=27, min_weight_fraction_leaf=0.4, n_estimators=210, score=0.7551980313672964, total=  16.5s\n",
      "[CV] max_depth=2, max_leaf_nodes=2, min_samples_leaf=32, min_samples_split=27, min_weight_fraction_leaf=0.4, n_estimators=210 \n",
      "[CV]  max_depth=2, max_leaf_nodes=2, min_samples_leaf=32, min_samples_split=27, min_weight_fraction_leaf=0.25, n_estimators=810, score=0.7512109271574751, total= 1.5min\n",
      "[CV] max_depth=2, max_leaf_nodes=2, min_samples_leaf=32, min_samples_split=27, min_weight_fraction_leaf=0.4, n_estimators=410 \n",
      "[CV]  max_depth=2, max_leaf_nodes=2, min_samples_leaf=32, min_samples_split=27, min_weight_fraction_leaf=0.4, n_estimators=210, score=0.7558807801930235, total=  16.5s\n",
      "[CV] max_depth=2, max_leaf_nodes=2, min_samples_leaf=32, min_samples_split=27, min_weight_fraction_leaf=0.4, n_estimators=410 \n",
      "[CV]  max_depth=2, max_leaf_nodes=2, min_samples_leaf=32, min_samples_split=27, min_weight_fraction_leaf=0.4, n_estimators=410, score=0.7562311482133308, total=  30.5s\n",
      "[CV] max_depth=2, max_leaf_nodes=2, min_samples_leaf=32, min_samples_split=27, min_weight_fraction_leaf=0.4, n_estimators=610 \n",
      "[CV]  max_depth=2, max_leaf_nodes=2, min_samples_leaf=32, min_samples_split=27, min_weight_fraction_leaf=0.4, n_estimators=410, score=0.7572721278793888, total=  31.1s\n",
      "[CV] max_depth=2, max_leaf_nodes=2, min_samples_leaf=32, min_samples_split=27, min_weight_fraction_leaf=0.4, n_estimators=610 \n",
      "[CV]  max_depth=2, max_leaf_nodes=2, min_samples_leaf=32, min_samples_split=27, min_weight_fraction_leaf=0.25, n_estimators=810, score=0.7529008041781964, total= 1.5min\n",
      "[CV] max_depth=2, max_leaf_nodes=2, min_samples_leaf=32, min_samples_split=27, min_weight_fraction_leaf=0.4, n_estimators=810 \n",
      "[CV]  max_depth=2, max_leaf_nodes=2, min_samples_leaf=32, min_samples_split=27, min_weight_fraction_leaf=0.4, n_estimators=610, score=0.7563713198457074, total=  44.3s\n",
      "[CV] max_depth=2, max_leaf_nodes=2, min_samples_leaf=32, min_samples_split=27, min_weight_fraction_leaf=0.4, n_estimators=810 \n",
      "[CV]  max_depth=2, max_leaf_nodes=2, min_samples_leaf=32, min_samples_split=27, min_weight_fraction_leaf=0.4, n_estimators=610, score=0.7581183580020663, total=  44.9s\n",
      "[CV] max_depth=2, max_leaf_nodes=2, min_samples_leaf=32, min_samples_split=52, min_weight_fraction_leaf=0.1, n_estimators=10 \n",
      "[CV]  max_depth=2, max_leaf_nodes=2, min_samples_leaf=32, min_samples_split=52, min_weight_fraction_leaf=0.1, n_estimators=10, score=0.7468707980957424, total=   1.7s\n",
      "[CV] max_depth=2, max_leaf_nodes=2, min_samples_leaf=32, min_samples_split=52, min_weight_fraction_leaf=0.1, n_estimators=10 \n",
      "[CV]  max_depth=2, max_leaf_nodes=2, min_samples_leaf=32, min_samples_split=52, min_weight_fraction_leaf=0.1, n_estimators=10, score=0.74726273109091, total=   2.4s\n",
      "[CV] max_depth=2, max_leaf_nodes=2, min_samples_leaf=32, min_samples_split=52, min_weight_fraction_leaf=0.1, n_estimators=210 \n",
      "[CV]  max_depth=2, max_leaf_nodes=2, min_samples_leaf=32, min_samples_split=27, min_weight_fraction_leaf=0.4, n_estimators=810, score=0.7552707129544546, total=  59.7s\n",
      "[CV] max_depth=2, max_leaf_nodes=2, min_samples_leaf=32, min_samples_split=52, min_weight_fraction_leaf=0.1, n_estimators=210 \n",
      "[CV]  max_depth=2, max_leaf_nodes=2, min_samples_leaf=32, min_samples_split=52, min_weight_fraction_leaf=0.1, n_estimators=210, score=0.7492381412203238, total=  28.7s\n"
     ]
    },
    {
     "name": "stdout",
     "output_type": "stream",
     "text": [
      "[CV] max_depth=2, max_leaf_nodes=2, min_samples_leaf=32, min_samples_split=52, min_weight_fraction_leaf=0.1, n_estimators=410 \n",
      "[CV]  max_depth=2, max_leaf_nodes=2, min_samples_leaf=32, min_samples_split=52, min_weight_fraction_leaf=0.1, n_estimators=210, score=0.7496664399669815, total=  26.6s\n",
      "[CV] max_depth=2, max_leaf_nodes=2, min_samples_leaf=32, min_samples_split=52, min_weight_fraction_leaf=0.1, n_estimators=410 \n",
      "[CV]  max_depth=2, max_leaf_nodes=2, min_samples_leaf=32, min_samples_split=27, min_weight_fraction_leaf=0.4, n_estimators=810, score=0.7566439447821866, total=  58.9s\n",
      "[CV] max_depth=2, max_leaf_nodes=2, min_samples_leaf=32, min_samples_split=52, min_weight_fraction_leaf=0.1, n_estimators=610 \n",
      "[CV]  max_depth=2, max_leaf_nodes=2, min_samples_leaf=32, min_samples_split=52, min_weight_fraction_leaf=0.1, n_estimators=410, score=0.7497261461626717, total=  51.0s\n",
      "[CV] max_depth=2, max_leaf_nodes=2, min_samples_leaf=32, min_samples_split=52, min_weight_fraction_leaf=0.1, n_estimators=610 \n",
      "[CV]  max_depth=2, max_leaf_nodes=2, min_samples_leaf=32, min_samples_split=52, min_weight_fraction_leaf=0.1, n_estimators=410, score=0.7509124229696966, total=  50.7s\n",
      "[CV] max_depth=2, max_leaf_nodes=2, min_samples_leaf=32, min_samples_split=52, min_weight_fraction_leaf=0.1, n_estimators=810 \n",
      "[CV]  max_depth=2, max_leaf_nodes=2, min_samples_leaf=32, min_samples_split=52, min_weight_fraction_leaf=0.1, n_estimators=610, score=0.7511849694477757, total= 1.3min\n",
      "[CV] max_depth=2, max_leaf_nodes=2, min_samples_leaf=32, min_samples_split=52, min_weight_fraction_leaf=0.1, n_estimators=810 \n",
      "[CV]  max_depth=2, max_leaf_nodes=2, min_samples_leaf=32, min_samples_split=52, min_weight_fraction_leaf=0.1, n_estimators=610, score=0.7525685420441389, total= 1.3min\n",
      "[CV] max_depth=2, max_leaf_nodes=2, min_samples_leaf=32, min_samples_split=52, min_weight_fraction_leaf=0.25, n_estimators=10 \n",
      "[CV]  max_depth=2, max_leaf_nodes=2, min_samples_leaf=32, min_samples_split=52, min_weight_fraction_leaf=0.25, n_estimators=10, score=0.7415287014396146, total=   2.0s\n",
      "[CV] max_depth=2, max_leaf_nodes=2, min_samples_leaf=32, min_samples_split=52, min_weight_fraction_leaf=0.25, n_estimators=10 \n",
      "[CV]  max_depth=2, max_leaf_nodes=2, min_samples_leaf=32, min_samples_split=52, min_weight_fraction_leaf=0.25, n_estimators=10, score=0.7415364008742648, total=   2.0s\n",
      "[CV] max_depth=2, max_leaf_nodes=2, min_samples_leaf=32, min_samples_split=52, min_weight_fraction_leaf=0.25, n_estimators=210 \n",
      "[CV]  max_depth=2, max_leaf_nodes=2, min_samples_leaf=32, min_samples_split=52, min_weight_fraction_leaf=0.25, n_estimators=210, score=0.7412795074265007, total=  24.0s\n",
      "[CV] max_depth=2, max_leaf_nodes=2, min_samples_leaf=32, min_samples_split=52, min_weight_fraction_leaf=0.25, n_estimators=210 \n",
      "[CV]  max_depth=2, max_leaf_nodes=2, min_samples_leaf=32, min_samples_split=52, min_weight_fraction_leaf=0.1, n_estimators=810, score=0.7499130416725072, total= 1.7min\n",
      "[CV] max_depth=2, max_leaf_nodes=2, min_samples_leaf=32, min_samples_split=52, min_weight_fraction_leaf=0.25, n_estimators=410 \n",
      "[CV]  max_depth=2, max_leaf_nodes=2, min_samples_leaf=32, min_samples_split=52, min_weight_fraction_leaf=0.25, n_estimators=210, score=0.7413339286363235, total=  23.6s\n",
      "[CV] max_depth=2, max_leaf_nodes=2, min_samples_leaf=32, min_samples_split=52, min_weight_fraction_leaf=0.25, n_estimators=410 \n",
      "[CV]  max_depth=2, max_leaf_nodes=2, min_samples_leaf=32, min_samples_split=52, min_weight_fraction_leaf=0.1, n_estimators=810, score=0.7515665640461221, total= 1.7min\n",
      "[CV] max_depth=2, max_leaf_nodes=2, min_samples_leaf=32, min_samples_split=52, min_weight_fraction_leaf=0.25, n_estimators=610 \n",
      "[CV]  max_depth=2, max_leaf_nodes=2, min_samples_leaf=32, min_samples_split=52, min_weight_fraction_leaf=0.25, n_estimators=410, score=0.7448720544488918, total=  45.2s\n",
      "[CV] max_depth=2, max_leaf_nodes=2, min_samples_leaf=32, min_samples_split=52, min_weight_fraction_leaf=0.25, n_estimators=610 \n",
      "[CV]  max_depth=2, max_leaf_nodes=2, min_samples_leaf=32, min_samples_split=52, min_weight_fraction_leaf=0.25, n_estimators=410, score=0.745087452432003, total=  45.2s\n",
      "[CV] max_depth=2, max_leaf_nodes=2, min_samples_leaf=32, min_samples_split=52, min_weight_fraction_leaf=0.25, n_estimators=810 \n",
      "[CV]  max_depth=2, max_leaf_nodes=2, min_samples_leaf=32, min_samples_split=52, min_weight_fraction_leaf=0.25, n_estimators=610, score=0.7570929441753496, total= 1.2min\n",
      "[CV] max_depth=2, max_leaf_nodes=2, min_samples_leaf=32, min_samples_split=52, min_weight_fraction_leaf=0.25, n_estimators=810 \n",
      "[CV]  max_depth=2, max_leaf_nodes=2, min_samples_leaf=32, min_samples_split=52, min_weight_fraction_leaf=0.25, n_estimators=610, score=0.7547334375113566, total= 1.2min\n",
      "[CV] max_depth=2, max_leaf_nodes=2, min_samples_leaf=32, min_samples_split=52, min_weight_fraction_leaf=0.4, n_estimators=10 \n",
      "[CV]  max_depth=2, max_leaf_nodes=2, min_samples_leaf=32, min_samples_split=52, min_weight_fraction_leaf=0.4, n_estimators=10, score=0.7483244298389065, total=   1.9s\n",
      "[CV] max_depth=2, max_leaf_nodes=2, min_samples_leaf=32, min_samples_split=52, min_weight_fraction_leaf=0.4, n_estimators=10 \n",
      "[CV]  max_depth=2, max_leaf_nodes=2, min_samples_leaf=32, min_samples_split=52, min_weight_fraction_leaf=0.4, n_estimators=10, score=0.7494483929415063, total=   1.8s\n",
      "[CV] max_depth=2, max_leaf_nodes=2, min_samples_leaf=32, min_samples_split=52, min_weight_fraction_leaf=0.4, n_estimators=210 \n",
      "[CV]  max_depth=2, max_leaf_nodes=2, min_samples_leaf=32, min_samples_split=52, min_weight_fraction_leaf=0.4, n_estimators=210, score=0.7552187975350559, total=  18.3s\n",
      "[CV] max_depth=2, max_leaf_nodes=2, min_samples_leaf=32, min_samples_split=52, min_weight_fraction_leaf=0.4, n_estimators=210 \n",
      "[CV]  max_depth=2, max_leaf_nodes=2, min_samples_leaf=32, min_samples_split=52, min_weight_fraction_leaf=0.25, n_estimators=810, score=0.7512057356155352, total= 1.6min\n",
      "[CV] max_depth=2, max_leaf_nodes=2, min_samples_leaf=32, min_samples_split=52, min_weight_fraction_leaf=0.4, n_estimators=410 \n",
      "[CV]  max_depth=2, max_leaf_nodes=2, min_samples_leaf=32, min_samples_split=52, min_weight_fraction_leaf=0.4, n_estimators=210, score=0.7558755885971788, total=  17.1s\n",
      "[CV] max_depth=2, max_leaf_nodes=2, min_samples_leaf=32, min_samples_split=52, min_weight_fraction_leaf=0.4, n_estimators=410 \n",
      "[CV]  max_depth=2, max_leaf_nodes=2, min_samples_leaf=32, min_samples_split=52, min_weight_fraction_leaf=0.4, n_estimators=410, score=0.7562155735875112, total=  32.5s\n",
      "[CV] max_depth=2, max_leaf_nodes=2, min_samples_leaf=32, min_samples_split=52, min_weight_fraction_leaf=0.4, n_estimators=610 \n"
     ]
    },
    {
     "name": "stderr",
     "output_type": "stream",
     "text": [
      "[Parallel(n_jobs=3)]: Done 444 tasks      | elapsed: 150.6min\n"
     ]
    },
    {
     "name": "stdout",
     "output_type": "stream",
     "text": [
      "[CV]  max_depth=2, max_leaf_nodes=2, min_samples_leaf=32, min_samples_split=52, min_weight_fraction_leaf=0.4, n_estimators=410, score=0.7572617446876996, total=  33.3s\n",
      "[CV] max_depth=2, max_leaf_nodes=2, min_samples_leaf=32, min_samples_split=52, min_weight_fraction_leaf=0.4, n_estimators=610 \n",
      "[CV]  max_depth=2, max_leaf_nodes=2, min_samples_leaf=32, min_samples_split=52, min_weight_fraction_leaf=0.25, n_estimators=810, score=0.752890420986507, total= 1.6min\n",
      "[CV] max_depth=2, max_leaf_nodes=2, min_samples_leaf=32, min_samples_split=52, min_weight_fraction_leaf=0.4, n_estimators=810 \n",
      "[CV]  max_depth=2, max_leaf_nodes=2, min_samples_leaf=32, min_samples_split=52, min_weight_fraction_leaf=0.4, n_estimators=610, score=0.7563609367618276, total=  45.1s\n",
      "[CV] max_depth=2, max_leaf_nodes=2, min_samples_leaf=32, min_samples_split=52, min_weight_fraction_leaf=0.4, n_estimators=810 \n",
      "[CV]  max_depth=2, max_leaf_nodes=2, min_samples_leaf=32, min_samples_split=52, min_weight_fraction_leaf=0.4, n_estimators=610, score=0.7581183580020663, total=  45.8s\n",
      "[CV] max_depth=2, max_leaf_nodes=2, min_samples_leaf=32, min_samples_split=77, min_weight_fraction_leaf=0.1, n_estimators=10 \n",
      "[CV]  max_depth=2, max_leaf_nodes=2, min_samples_leaf=32, min_samples_split=77, min_weight_fraction_leaf=0.1, n_estimators=10, score=0.7468759896376823, total=   1.8s\n",
      "[CV] max_depth=2, max_leaf_nodes=2, min_samples_leaf=32, min_samples_split=77, min_weight_fraction_leaf=0.1, n_estimators=10 \n",
      "[CV]  max_depth=2, max_leaf_nodes=2, min_samples_leaf=32, min_samples_split=77, min_weight_fraction_leaf=0.1, n_estimators=10, score=0.7471121748114152, total=   2.3s\n",
      "[CV] max_depth=2, max_leaf_nodes=2, min_samples_leaf=32, min_samples_split=77, min_weight_fraction_leaf=0.1, n_estimators=210 \n",
      "[CV]  max_depth=2, max_leaf_nodes=2, min_samples_leaf=32, min_samples_split=52, min_weight_fraction_leaf=0.4, n_estimators=810, score=0.7552707129544546, total=  59.2s\n",
      "[CV] max_depth=2, max_leaf_nodes=2, min_samples_leaf=32, min_samples_split=77, min_weight_fraction_leaf=0.1, n_estimators=210 \n",
      "[CV]  max_depth=2, max_leaf_nodes=2, min_samples_leaf=32, min_samples_split=77, min_weight_fraction_leaf=0.1, n_estimators=210, score=0.7492381412203238, total=  27.9s\n",
      "[CV] max_depth=2, max_leaf_nodes=2, min_samples_leaf=32, min_samples_split=77, min_weight_fraction_leaf=0.1, n_estimators=410 \n",
      "[CV]  max_depth=2, max_leaf_nodes=2, min_samples_leaf=32, min_samples_split=77, min_weight_fraction_leaf=0.1, n_estimators=210, score=0.7496664399669815, total=  27.7s\n",
      "[CV] max_depth=2, max_leaf_nodes=2, min_samples_leaf=32, min_samples_split=77, min_weight_fraction_leaf=0.1, n_estimators=410 \n",
      "[CV]  max_depth=2, max_leaf_nodes=2, min_samples_leaf=32, min_samples_split=52, min_weight_fraction_leaf=0.4, n_estimators=810, score=0.7566439447821866, total=  59.4s\n",
      "[CV] max_depth=2, max_leaf_nodes=2, min_samples_leaf=32, min_samples_split=77, min_weight_fraction_leaf=0.1, n_estimators=610 \n",
      "[CV]  max_depth=2, max_leaf_nodes=2, min_samples_leaf=32, min_samples_split=77, min_weight_fraction_leaf=0.1, n_estimators=410, score=0.7497313377046116, total=  56.3s\n",
      "[CV] max_depth=2, max_leaf_nodes=2, min_samples_leaf=32, min_samples_split=77, min_weight_fraction_leaf=0.1, n_estimators=610 \n",
      "[CV]  max_depth=2, max_leaf_nodes=2, min_samples_leaf=32, min_samples_split=77, min_weight_fraction_leaf=0.1, n_estimators=410, score=0.750907231373852, total=  56.3s\n",
      "[CV] max_depth=2, max_leaf_nodes=2, min_samples_leaf=32, min_samples_split=77, min_weight_fraction_leaf=0.1, n_estimators=810 \n",
      "[CV]  max_depth=2, max_leaf_nodes=2, min_samples_leaf=32, min_samples_split=77, min_weight_fraction_leaf=0.1, n_estimators=610, score=0.7511849694477757, total= 1.4min\n",
      "[CV] max_depth=2, max_leaf_nodes=2, min_samples_leaf=32, min_samples_split=77, min_weight_fraction_leaf=0.1, n_estimators=810 \n",
      "[CV]  max_depth=2, max_leaf_nodes=2, min_samples_leaf=32, min_samples_split=77, min_weight_fraction_leaf=0.1, n_estimators=610, score=0.7525685420441389, total= 1.3min\n",
      "[CV] max_depth=2, max_leaf_nodes=2, min_samples_leaf=32, min_samples_split=77, min_weight_fraction_leaf=0.25, n_estimators=10 \n",
      "[CV]  max_depth=2, max_leaf_nodes=2, min_samples_leaf=32, min_samples_split=77, min_weight_fraction_leaf=0.25, n_estimators=10, score=0.7415598506912539, total=   2.4s\n",
      "[CV] max_depth=2, max_leaf_nodes=2, min_samples_leaf=32, min_samples_split=77, min_weight_fraction_leaf=0.25, n_estimators=10 \n",
      "[CV]  max_depth=2, max_leaf_nodes=2, min_samples_leaf=32, min_samples_split=77, min_weight_fraction_leaf=0.25, n_estimators=10, score=0.7414481437449058, total=   2.2s\n",
      "[CV] max_depth=2, max_leaf_nodes=2, min_samples_leaf=32, min_samples_split=77, min_weight_fraction_leaf=0.25, n_estimators=210 \n",
      "[CV]  max_depth=2, max_leaf_nodes=2, min_samples_leaf=32, min_samples_split=77, min_weight_fraction_leaf=0.25, n_estimators=210, score=0.7412846989684406, total=  25.1s\n",
      "[CV] max_depth=2, max_leaf_nodes=2, min_samples_leaf=32, min_samples_split=77, min_weight_fraction_leaf=0.25, n_estimators=210 \n",
      "[CV]  max_depth=2, max_leaf_nodes=2, min_samples_leaf=32, min_samples_split=77, min_weight_fraction_leaf=0.1, n_estimators=810, score=0.7499130416725072, total= 1.8min\n",
      "[CV] max_depth=2, max_leaf_nodes=2, min_samples_leaf=32, min_samples_split=77, min_weight_fraction_leaf=0.25, n_estimators=410 \n",
      "[CV]  max_depth=2, max_leaf_nodes=2, min_samples_leaf=32, min_samples_split=77, min_weight_fraction_leaf=0.25, n_estimators=210, score=0.7413339286363235, total=  26.8s\n",
      "[CV] max_depth=2, max_leaf_nodes=2, min_samples_leaf=32, min_samples_split=77, min_weight_fraction_leaf=0.25, n_estimators=410 \n",
      "[CV]  max_depth=2, max_leaf_nodes=2, min_samples_leaf=32, min_samples_split=77, min_weight_fraction_leaf=0.1, n_estimators=810, score=0.7515665640461221, total= 1.8min\n",
      "[CV] max_depth=2, max_leaf_nodes=2, min_samples_leaf=32, min_samples_split=77, min_weight_fraction_leaf=0.25, n_estimators=610 \n",
      "[CV]  max_depth=2, max_leaf_nodes=2, min_samples_leaf=32, min_samples_split=77, min_weight_fraction_leaf=0.25, n_estimators=410, score=0.7448720544488918, total=  51.1s\n",
      "[CV] max_depth=2, max_leaf_nodes=2, min_samples_leaf=32, min_samples_split=77, min_weight_fraction_leaf=0.25, n_estimators=610 \n",
      "[CV]  max_depth=2, max_leaf_nodes=2, min_samples_leaf=32, min_samples_split=77, min_weight_fraction_leaf=0.25, n_estimators=410, score=0.745103027219537, total=  51.7s\n",
      "[CV] max_depth=2, max_leaf_nodes=2, min_samples_leaf=32, min_samples_split=77, min_weight_fraction_leaf=0.25, n_estimators=810 \n",
      "[CV]  max_depth=2, max_leaf_nodes=2, min_samples_leaf=32, min_samples_split=77, min_weight_fraction_leaf=0.25, n_estimators=610, score=0.7570981357172893, total= 1.3min\n",
      "[CV] max_depth=2, max_leaf_nodes=2, min_samples_leaf=32, min_samples_split=77, min_weight_fraction_leaf=0.25, n_estimators=810 \n",
      "[CV]  max_depth=2, max_leaf_nodes=2, min_samples_leaf=32, min_samples_split=77, min_weight_fraction_leaf=0.25, n_estimators=610, score=0.7547438207030459, total= 1.2min\n",
      "[CV] max_depth=2, max_leaf_nodes=2, min_samples_leaf=32, min_samples_split=77, min_weight_fraction_leaf=0.4, n_estimators=10 \n",
      "[CV]  max_depth=2, max_leaf_nodes=2, min_samples_leaf=32, min_samples_split=77, min_weight_fraction_leaf=0.4, n_estimators=10, score=0.7486203477294792, total=   1.5s\n",
      "[CV] max_depth=2, max_leaf_nodes=2, min_samples_leaf=32, min_samples_split=77, min_weight_fraction_leaf=0.4, n_estimators=10 \n",
      "[CV]  max_depth=2, max_leaf_nodes=2, min_samples_leaf=32, min_samples_split=77, min_weight_fraction_leaf=0.4, n_estimators=10, score=0.7493809021955259, total=   1.5s\n",
      "[CV] max_depth=2, max_leaf_nodes=2, min_samples_leaf=32, min_samples_split=77, min_weight_fraction_leaf=0.4, n_estimators=210 \n",
      "[CV]  max_depth=2, max_leaf_nodes=2, min_samples_leaf=32, min_samples_split=77, min_weight_fraction_leaf=0.4, n_estimators=210, score=0.7551928398253566, total=  16.2s\n",
      "[CV] max_depth=2, max_leaf_nodes=2, min_samples_leaf=32, min_samples_split=77, min_weight_fraction_leaf=0.4, n_estimators=210 \n",
      "[CV]  max_depth=2, max_leaf_nodes=2, min_samples_leaf=32, min_samples_split=77, min_weight_fraction_leaf=0.25, n_estimators=810, score=0.7512109271574751, total= 1.6min\n",
      "[CV] max_depth=2, max_leaf_nodes=2, min_samples_leaf=32, min_samples_split=77, min_weight_fraction_leaf=0.4, n_estimators=410 \n"
     ]
    },
    {
     "name": "stdout",
     "output_type": "stream",
     "text": [
      "[CV]  max_depth=2, max_leaf_nodes=2, min_samples_leaf=32, min_samples_split=77, min_weight_fraction_leaf=0.4, n_estimators=210, score=0.7558340558304217, total=  16.2s\n",
      "[CV] max_depth=2, max_leaf_nodes=2, min_samples_leaf=32, min_samples_split=77, min_weight_fraction_leaf=0.4, n_estimators=410 \n",
      "[CV]  max_depth=2, max_leaf_nodes=2, min_samples_leaf=32, min_samples_split=77, min_weight_fraction_leaf=0.4, n_estimators=410, score=0.7562311482133308, total=  30.8s\n",
      "[CV] max_depth=2, max_leaf_nodes=2, min_samples_leaf=32, min_samples_split=77, min_weight_fraction_leaf=0.4, n_estimators=610 \n",
      "[CV]  max_depth=2, max_leaf_nodes=2, min_samples_leaf=32, min_samples_split=77, min_weight_fraction_leaf=0.4, n_estimators=410, score=0.7572669362835442, total=  30.6s\n",
      "[CV] max_depth=2, max_leaf_nodes=2, min_samples_leaf=32, min_samples_split=77, min_weight_fraction_leaf=0.4, n_estimators=610 \n",
      "[CV]  max_depth=2, max_leaf_nodes=2, min_samples_leaf=32, min_samples_split=77, min_weight_fraction_leaf=0.25, n_estimators=810, score=0.752890420986507, total= 1.5min\n",
      "[CV] max_depth=2, max_leaf_nodes=2, min_samples_leaf=32, min_samples_split=77, min_weight_fraction_leaf=0.4, n_estimators=810 \n",
      "[CV]  max_depth=2, max_leaf_nodes=2, min_samples_leaf=32, min_samples_split=77, min_weight_fraction_leaf=0.4, n_estimators=610, score=0.756345362136008, total=  44.7s\n",
      "[CV] max_depth=2, max_leaf_nodes=2, min_samples_leaf=32, min_samples_split=77, min_weight_fraction_leaf=0.4, n_estimators=810 \n",
      "[CV]  max_depth=2, max_leaf_nodes=2, min_samples_leaf=32, min_samples_split=77, min_weight_fraction_leaf=0.4, n_estimators=610, score=0.758123549597911, total=  44.6s\n",
      "[CV] max_depth=2, max_leaf_nodes=2, min_samples_leaf=32, min_samples_split=102, min_weight_fraction_leaf=0.1, n_estimators=10 \n",
      "[CV]  max_depth=2, max_leaf_nodes=2, min_samples_leaf=32, min_samples_split=102, min_weight_fraction_leaf=0.1, n_estimators=10, score=0.7469798204764797, total=   2.4s\n",
      "[CV] max_depth=2, max_leaf_nodes=2, min_samples_leaf=32, min_samples_split=102, min_weight_fraction_leaf=0.1, n_estimators=10 \n",
      "[CV]  max_depth=2, max_leaf_nodes=2, min_samples_leaf=32, min_samples_split=102, min_weight_fraction_leaf=0.1, n_estimators=10, score=0.7472731142825993, total=   2.4s\n",
      "[CV] max_depth=2, max_leaf_nodes=2, min_samples_leaf=32, min_samples_split=102, min_weight_fraction_leaf=0.1, n_estimators=210 \n",
      "[CV]  max_depth=2, max_leaf_nodes=2, min_samples_leaf=32, min_samples_split=77, min_weight_fraction_leaf=0.4, n_estimators=810, score=0.7552759044963945, total=  59.6s\n",
      "[CV] max_depth=2, max_leaf_nodes=2, min_samples_leaf=32, min_samples_split=102, min_weight_fraction_leaf=0.1, n_estimators=210 \n",
      "[CV]  max_depth=2, max_leaf_nodes=2, min_samples_leaf=32, min_samples_split=102, min_weight_fraction_leaf=0.1, n_estimators=210, score=0.7492433327622637, total=  28.0s\n",
      "[CV] max_depth=2, max_leaf_nodes=2, min_samples_leaf=32, min_samples_split=102, min_weight_fraction_leaf=0.1, n_estimators=410 \n",
      "[CV]  max_depth=2, max_leaf_nodes=2, min_samples_leaf=32, min_samples_split=102, min_weight_fraction_leaf=0.1, n_estimators=210, score=0.7496664399669815, total=  26.9s\n",
      "[CV] max_depth=2, max_leaf_nodes=2, min_samples_leaf=32, min_samples_split=102, min_weight_fraction_leaf=0.1, n_estimators=410 \n",
      "[CV]  max_depth=2, max_leaf_nodes=2, min_samples_leaf=32, min_samples_split=77, min_weight_fraction_leaf=0.4, n_estimators=810, score=0.7566439447821866, total=  58.9s\n",
      "[CV] max_depth=2, max_leaf_nodes=2, min_samples_leaf=32, min_samples_split=102, min_weight_fraction_leaf=0.1, n_estimators=610 \n",
      "[CV]  max_depth=2, max_leaf_nodes=2, min_samples_leaf=32, min_samples_split=102, min_weight_fraction_leaf=0.1, n_estimators=410, score=0.7497313377046116, total=  52.1s\n",
      "[CV] max_depth=2, max_leaf_nodes=2, min_samples_leaf=32, min_samples_split=102, min_weight_fraction_leaf=0.1, n_estimators=610 \n",
      "[CV]  max_depth=2, max_leaf_nodes=2, min_samples_leaf=32, min_samples_split=102, min_weight_fraction_leaf=0.1, n_estimators=410, score=0.750907231373852, total=  51.8s\n",
      "[CV] max_depth=2, max_leaf_nodes=2, min_samples_leaf=32, min_samples_split=102, min_weight_fraction_leaf=0.1, n_estimators=810 \n",
      "[CV]  max_depth=2, max_leaf_nodes=2, min_samples_leaf=32, min_samples_split=102, min_weight_fraction_leaf=0.1, n_estimators=610, score=0.7511797779058358, total= 1.3min\n",
      "[CV] max_depth=2, max_leaf_nodes=2, min_samples_leaf=32, min_samples_split=102, min_weight_fraction_leaf=0.1, n_estimators=810 \n",
      "[CV]  max_depth=2, max_leaf_nodes=2, min_samples_leaf=32, min_samples_split=102, min_weight_fraction_leaf=0.1, n_estimators=610, score=0.7525685420441389, total= 1.3min\n",
      "[CV] max_depth=2, max_leaf_nodes=2, min_samples_leaf=32, min_samples_split=102, min_weight_fraction_leaf=0.25, n_estimators=10 \n",
      "[CV]  max_depth=2, max_leaf_nodes=2, min_samples_leaf=32, min_samples_split=102, min_weight_fraction_leaf=0.25, n_estimators=10, score=0.7414975521879753, total=   2.0s\n",
      "[CV] max_depth=2, max_leaf_nodes=2, min_samples_leaf=32, min_samples_split=102, min_weight_fraction_leaf=0.25, n_estimators=10 \n",
      "[CV]  max_depth=2, max_leaf_nodes=2, min_samples_leaf=32, min_samples_split=102, min_weight_fraction_leaf=0.25, n_estimators=10, score=0.7414792933199736, total=   2.1s\n",
      "[CV] max_depth=2, max_leaf_nodes=2, min_samples_leaf=32, min_samples_split=102, min_weight_fraction_leaf=0.25, n_estimators=210 \n",
      "[CV]  max_depth=2, max_leaf_nodes=2, min_samples_leaf=32, min_samples_split=102, min_weight_fraction_leaf=0.25, n_estimators=210, score=0.74131065667814, total=  24.4s\n",
      "[CV] max_depth=2, max_leaf_nodes=2, min_samples_leaf=32, min_samples_split=102, min_weight_fraction_leaf=0.25, n_estimators=210 \n",
      "[CV]  max_depth=2, max_leaf_nodes=2, min_samples_leaf=32, min_samples_split=102, min_weight_fraction_leaf=0.1, n_estimators=810, score=0.7499130416725072, total= 1.7min\n",
      "[CV] max_depth=2, max_leaf_nodes=2, min_samples_leaf=32, min_samples_split=102, min_weight_fraction_leaf=0.25, n_estimators=410 \n",
      "[CV]  max_depth=2, max_leaf_nodes=2, min_samples_leaf=32, min_samples_split=102, min_weight_fraction_leaf=0.25, n_estimators=210, score=0.7413287370404789, total=  24.0s\n",
      "[CV] max_depth=2, max_leaf_nodes=2, min_samples_leaf=32, min_samples_split=102, min_weight_fraction_leaf=0.25, n_estimators=410 \n",
      "[CV]  max_depth=2, max_leaf_nodes=2, min_samples_leaf=32, min_samples_split=102, min_weight_fraction_leaf=0.1, n_estimators=810, score=0.7515665640461221, total= 1.7min\n",
      "[CV] max_depth=2, max_leaf_nodes=2, min_samples_leaf=32, min_samples_split=102, min_weight_fraction_leaf=0.25, n_estimators=610 \n",
      "[CV]  max_depth=2, max_leaf_nodes=2, min_samples_leaf=32, min_samples_split=102, min_weight_fraction_leaf=0.25, n_estimators=410, score=0.7448616713650121, total=  45.6s\n",
      "[CV] max_depth=2, max_leaf_nodes=2, min_samples_leaf=32, min_samples_split=102, min_weight_fraction_leaf=0.25, n_estimators=610 \n",
      "[CV]  max_depth=2, max_leaf_nodes=2, min_samples_leaf=32, min_samples_split=102, min_weight_fraction_leaf=0.25, n_estimators=410, score=0.7450822608361585, total=  45.3s\n",
      "[CV] max_depth=2, max_leaf_nodes=2, min_samples_leaf=32, min_samples_split=102, min_weight_fraction_leaf=0.25, n_estimators=810 \n",
      "[CV]  max_depth=2, max_leaf_nodes=2, min_samples_leaf=32, min_samples_split=102, min_weight_fraction_leaf=0.25, n_estimators=610, score=0.7570981357172893, total= 1.1min\n",
      "[CV] max_depth=2, max_leaf_nodes=2, min_samples_leaf=32, min_samples_split=102, min_weight_fraction_leaf=0.25, n_estimators=810 \n",
      "[CV]  max_depth=2, max_leaf_nodes=2, min_samples_leaf=32, min_samples_split=102, min_weight_fraction_leaf=0.25, n_estimators=610, score=0.7547334375113566, total= 1.1min\n",
      "[CV] max_depth=2, max_leaf_nodes=2, min_samples_leaf=32, min_samples_split=102, min_weight_fraction_leaf=0.4, n_estimators=10 \n",
      "[CV]  max_depth=2, max_leaf_nodes=2, min_samples_leaf=32, min_samples_split=102, min_weight_fraction_leaf=0.4, n_estimators=10, score=0.7481686835807103, total=   1.6s\n",
      "[CV] max_depth=2, max_leaf_nodes=2, min_samples_leaf=32, min_samples_split=102, min_weight_fraction_leaf=0.4, n_estimators=10 \n",
      "[CV]  max_depth=2, max_leaf_nodes=2, min_samples_leaf=32, min_samples_split=102, min_weight_fraction_leaf=0.4, n_estimators=10, score=0.7493757105996812, total=   1.6s\n",
      "[CV] max_depth=2, max_leaf_nodes=2, min_samples_leaf=32, min_samples_split=102, min_weight_fraction_leaf=0.4, n_estimators=210 \n"
     ]
    },
    {
     "name": "stdout",
     "output_type": "stream",
     "text": [
      "[CV]  max_depth=2, max_leaf_nodes=2, min_samples_leaf=32, min_samples_split=102, min_weight_fraction_leaf=0.4, n_estimators=210, score=0.7552032229092362, total=  16.4s\n",
      "[CV] max_depth=2, max_leaf_nodes=2, min_samples_leaf=32, min_samples_split=102, min_weight_fraction_leaf=0.4, n_estimators=210 \n",
      "[CV]  max_depth=2, max_leaf_nodes=2, min_samples_leaf=32, min_samples_split=102, min_weight_fraction_leaf=0.4, n_estimators=210, score=0.7558963549805575, total=  16.3s\n",
      "[CV] max_depth=2, max_leaf_nodes=2, min_samples_leaf=32, min_samples_split=102, min_weight_fraction_leaf=0.4, n_estimators=410 \n",
      "[CV]  max_depth=2, max_leaf_nodes=2, min_samples_leaf=32, min_samples_split=102, min_weight_fraction_leaf=0.25, n_estimators=810, score=0.751216118699415, total= 1.5min\n",
      "[CV] max_depth=2, max_leaf_nodes=2, min_samples_leaf=32, min_samples_split=102, min_weight_fraction_leaf=0.4, n_estimators=410 \n",
      "[CV]  max_depth=2, max_leaf_nodes=2, min_samples_leaf=32, min_samples_split=102, min_weight_fraction_leaf=0.4, n_estimators=410, score=0.7562259566713909, total=  30.2s\n",
      "[CV] max_depth=2, max_leaf_nodes=2, min_samples_leaf=32, min_samples_split=102, min_weight_fraction_leaf=0.4, n_estimators=610 \n",
      "[CV]  max_depth=2, max_leaf_nodes=2, min_samples_leaf=32, min_samples_split=102, min_weight_fraction_leaf=0.4, n_estimators=410, score=0.7572721278793888, total=  30.4s\n",
      "[CV] max_depth=2, max_leaf_nodes=2, min_samples_leaf=32, min_samples_split=102, min_weight_fraction_leaf=0.4, n_estimators=610 \n",
      "[CV]  max_depth=2, max_leaf_nodes=2, min_samples_leaf=32, min_samples_split=102, min_weight_fraction_leaf=0.25, n_estimators=810, score=0.752890420986507, total= 1.5min\n",
      "[CV] max_depth=2, max_leaf_nodes=2, min_samples_leaf=32, min_samples_split=102, min_weight_fraction_leaf=0.4, n_estimators=810 \n",
      "[CV]  max_depth=2, max_leaf_nodes=2, min_samples_leaf=32, min_samples_split=102, min_weight_fraction_leaf=0.4, n_estimators=610, score=0.7563609367618276, total=  44.1s\n",
      "[CV] max_depth=2, max_leaf_nodes=2, min_samples_leaf=32, min_samples_split=102, min_weight_fraction_leaf=0.4, n_estimators=810 \n",
      "[CV]  max_depth=2, max_leaf_nodes=2, min_samples_leaf=32, min_samples_split=102, min_weight_fraction_leaf=0.4, n_estimators=610, score=0.7581183580020663, total=  44.4s\n",
      "[CV] max_depth=2, max_leaf_nodes=2, min_samples_leaf=32, min_samples_split=127, min_weight_fraction_leaf=0.1, n_estimators=10 \n",
      "[CV]  max_depth=2, max_leaf_nodes=2, min_samples_leaf=32, min_samples_split=127, min_weight_fraction_leaf=0.1, n_estimators=10, score=0.747010969728119, total=   1.6s\n",
      "[CV] max_depth=2, max_leaf_nodes=2, min_samples_leaf=32, min_samples_split=127, min_weight_fraction_leaf=0.1, n_estimators=10 \n",
      "[CV]  max_depth=2, max_leaf_nodes=2, min_samples_leaf=32, min_samples_split=127, min_weight_fraction_leaf=0.1, n_estimators=10, score=0.7471588991740171, total=   1.9s\n",
      "[CV] max_depth=2, max_leaf_nodes=2, min_samples_leaf=32, min_samples_split=127, min_weight_fraction_leaf=0.1, n_estimators=210 \n",
      "[CV]  max_depth=2, max_leaf_nodes=2, min_samples_leaf=32, min_samples_split=102, min_weight_fraction_leaf=0.4, n_estimators=810, score=0.7552655214125147, total=  58.3s\n",
      "[CV] max_depth=2, max_leaf_nodes=2, min_samples_leaf=32, min_samples_split=127, min_weight_fraction_leaf=0.1, n_estimators=210 \n",
      "[CV]  max_depth=2, max_leaf_nodes=2, min_samples_leaf=32, min_samples_split=127, min_weight_fraction_leaf=0.1, n_estimators=210, score=0.7492329496783839, total=  27.2s\n",
      "[CV] max_depth=2, max_leaf_nodes=2, min_samples_leaf=32, min_samples_split=127, min_weight_fraction_leaf=0.1, n_estimators=410 \n",
      "[CV]  max_depth=2, max_leaf_nodes=2, min_samples_leaf=32, min_samples_split=127, min_weight_fraction_leaf=0.1, n_estimators=210, score=0.7496612483711368, total=  26.4s\n",
      "[CV] max_depth=2, max_leaf_nodes=2, min_samples_leaf=32, min_samples_split=127, min_weight_fraction_leaf=0.1, n_estimators=410 \n",
      "[CV]  max_depth=2, max_leaf_nodes=2, min_samples_leaf=32, min_samples_split=102, min_weight_fraction_leaf=0.4, n_estimators=810, score=0.7566491363780312, total=  57.0s\n",
      "[CV] max_depth=2, max_leaf_nodes=2, min_samples_leaf=32, min_samples_split=127, min_weight_fraction_leaf=0.1, n_estimators=610 \n",
      "[CV]  max_depth=2, max_leaf_nodes=2, min_samples_leaf=32, min_samples_split=127, min_weight_fraction_leaf=0.1, n_estimators=410, score=0.7497313377046116, total=  50.8s\n",
      "[CV] max_depth=2, max_leaf_nodes=2, min_samples_leaf=32, min_samples_split=127, min_weight_fraction_leaf=0.1, n_estimators=610 \n",
      "[CV]  max_depth=2, max_leaf_nodes=2, min_samples_leaf=32, min_samples_split=127, min_weight_fraction_leaf=0.1, n_estimators=410, score=0.750907231373852, total=  50.6s\n",
      "[CV] max_depth=2, max_leaf_nodes=2, min_samples_leaf=32, min_samples_split=127, min_weight_fraction_leaf=0.1, n_estimators=810 \n",
      "[CV]  max_depth=2, max_leaf_nodes=2, min_samples_leaf=32, min_samples_split=127, min_weight_fraction_leaf=0.1, n_estimators=610, score=0.7511901609897156, total= 1.3min\n",
      "[CV] max_depth=2, max_leaf_nodes=2, min_samples_leaf=32, min_samples_split=127, min_weight_fraction_leaf=0.1, n_estimators=810 \n",
      "[CV]  max_depth=2, max_leaf_nodes=2, min_samples_leaf=32, min_samples_split=127, min_weight_fraction_leaf=0.1, n_estimators=610, score=0.7525685420441389, total= 1.3min\n",
      "[CV] max_depth=2, max_leaf_nodes=2, min_samples_leaf=32, min_samples_split=127, min_weight_fraction_leaf=0.25, n_estimators=10 \n",
      "[CV]  max_depth=2, max_leaf_nodes=2, min_samples_leaf=32, min_samples_split=127, min_weight_fraction_leaf=0.25, n_estimators=10, score=0.7415754253170734, total=   2.1s\n",
      "[CV] max_depth=2, max_leaf_nodes=2, min_samples_leaf=32, min_samples_split=127, min_weight_fraction_leaf=0.25, n_estimators=10 \n",
      "[CV]  max_depth=2, max_leaf_nodes=2, min_samples_leaf=32, min_samples_split=127, min_weight_fraction_leaf=0.25, n_estimators=10, score=0.7414377605532164, total=   2.1s\n",
      "[CV] max_depth=2, max_leaf_nodes=2, min_samples_leaf=32, min_samples_split=127, min_weight_fraction_leaf=0.25, n_estimators=210 \n",
      "[CV]  max_depth=2, max_leaf_nodes=2, min_samples_leaf=32, min_samples_split=127, min_weight_fraction_leaf=0.25, n_estimators=210, score=0.7413054651362001, total=  23.9s\n",
      "[CV] max_depth=2, max_leaf_nodes=2, min_samples_leaf=32, min_samples_split=127, min_weight_fraction_leaf=0.25, n_estimators=210 \n",
      "[CV]  max_depth=2, max_leaf_nodes=2, min_samples_leaf=32, min_samples_split=127, min_weight_fraction_leaf=0.1, n_estimators=810, score=0.7499130416725072, total= 1.7min\n",
      "[CV] max_depth=2, max_leaf_nodes=2, min_samples_leaf=32, min_samples_split=127, min_weight_fraction_leaf=0.25, n_estimators=410 \n",
      "[CV]  max_depth=2, max_leaf_nodes=2, min_samples_leaf=32, min_samples_split=127, min_weight_fraction_leaf=0.25, n_estimators=210, score=0.7413495034238574, total=  23.7s\n",
      "[CV] max_depth=2, max_leaf_nodes=2, min_samples_leaf=32, min_samples_split=127, min_weight_fraction_leaf=0.25, n_estimators=410 \n",
      "[CV]  max_depth=2, max_leaf_nodes=2, min_samples_leaf=32, min_samples_split=127, min_weight_fraction_leaf=0.1, n_estimators=810, score=0.7515665640461221, total= 1.7min\n",
      "[CV] max_depth=2, max_leaf_nodes=2, min_samples_leaf=32, min_samples_split=127, min_weight_fraction_leaf=0.25, n_estimators=610 \n",
      "[CV]  max_depth=2, max_leaf_nodes=2, min_samples_leaf=32, min_samples_split=127, min_weight_fraction_leaf=0.25, n_estimators=410, score=0.744866862906952, total=  44.8s\n",
      "[CV] max_depth=2, max_leaf_nodes=2, min_samples_leaf=32, min_samples_split=127, min_weight_fraction_leaf=0.25, n_estimators=610 \n",
      "[CV]  max_depth=2, max_leaf_nodes=2, min_samples_leaf=32, min_samples_split=127, min_weight_fraction_leaf=0.25, n_estimators=410, score=0.7450978356236924, total=  44.4s\n",
      "[CV] max_depth=2, max_leaf_nodes=2, min_samples_leaf=32, min_samples_split=127, min_weight_fraction_leaf=0.25, n_estimators=810 \n",
      "[CV]  max_depth=2, max_leaf_nodes=2, min_samples_leaf=32, min_samples_split=127, min_weight_fraction_leaf=0.25, n_estimators=610, score=0.7570981357172893, total= 1.1min\n",
      "[CV] max_depth=2, max_leaf_nodes=2, min_samples_leaf=32, min_samples_split=127, min_weight_fraction_leaf=0.25, n_estimators=810 \n",
      "[CV]  max_depth=2, max_leaf_nodes=2, min_samples_leaf=32, min_samples_split=127, min_weight_fraction_leaf=0.25, n_estimators=610, score=0.754728245915512, total= 1.1min\n"
     ]
    },
    {
     "name": "stdout",
     "output_type": "stream",
     "text": [
      "[CV] max_depth=2, max_leaf_nodes=2, min_samples_leaf=32, min_samples_split=127, min_weight_fraction_leaf=0.4, n_estimators=10 \n",
      "[CV]  max_depth=2, max_leaf_nodes=2, min_samples_leaf=32, min_samples_split=127, min_weight_fraction_leaf=0.4, n_estimators=10, score=0.7484905591809824, total=   1.5s\n",
      "[CV] max_depth=2, max_leaf_nodes=2, min_samples_leaf=32, min_samples_split=127, min_weight_fraction_leaf=0.4, n_estimators=10 \n",
      "[CV]  max_depth=2, max_leaf_nodes=2, min_samples_leaf=32, min_samples_split=127, min_weight_fraction_leaf=0.4, n_estimators=10, score=0.7493186030453901, total=   1.5s\n",
      "[CV] max_depth=2, max_leaf_nodes=2, min_samples_leaf=32, min_samples_split=127, min_weight_fraction_leaf=0.4, n_estimators=210 \n",
      "[CV]  max_depth=2, max_leaf_nodes=2, min_samples_leaf=32, min_samples_split=127, min_weight_fraction_leaf=0.4, n_estimators=210, score=0.7552084144511761, total=  16.1s\n",
      "[CV] max_depth=2, max_leaf_nodes=2, min_samples_leaf=32, min_samples_split=127, min_weight_fraction_leaf=0.4, n_estimators=210 \n",
      "[CV]  max_depth=2, max_leaf_nodes=2, min_samples_leaf=32, min_samples_split=127, min_weight_fraction_leaf=0.25, n_estimators=810, score=0.7512109271574751, total= 1.5min\n",
      "[CV] max_depth=2, max_leaf_nodes=2, min_samples_leaf=32, min_samples_split=127, min_weight_fraction_leaf=0.4, n_estimators=410 \n",
      "[CV]  max_depth=2, max_leaf_nodes=2, min_samples_leaf=32, min_samples_split=127, min_weight_fraction_leaf=0.4, n_estimators=210, score=0.7558807801930235, total=  15.8s\n",
      "[CV] max_depth=2, max_leaf_nodes=2, min_samples_leaf=32, min_samples_split=127, min_weight_fraction_leaf=0.4, n_estimators=410 \n",
      "[CV]  max_depth=2, max_leaf_nodes=2, min_samples_leaf=32, min_samples_split=127, min_weight_fraction_leaf=0.4, n_estimators=410, score=0.7562259566713909, total=  33.1s\n",
      "[CV] max_depth=2, max_leaf_nodes=2, min_samples_leaf=32, min_samples_split=127, min_weight_fraction_leaf=0.4, n_estimators=610 \n",
      "[CV]  max_depth=2, max_leaf_nodes=2, min_samples_leaf=32, min_samples_split=127, min_weight_fraction_leaf=0.4, n_estimators=410, score=0.7572773194752335, total=  34.5s\n",
      "[CV] max_depth=2, max_leaf_nodes=2, min_samples_leaf=32, min_samples_split=127, min_weight_fraction_leaf=0.4, n_estimators=610 \n",
      "[CV]  max_depth=2, max_leaf_nodes=2, min_samples_leaf=32, min_samples_split=127, min_weight_fraction_leaf=0.25, n_estimators=810, score=0.752890420986507, total= 1.5min\n",
      "[CV] max_depth=2, max_leaf_nodes=2, min_samples_leaf=32, min_samples_split=127, min_weight_fraction_leaf=0.4, n_estimators=810 \n",
      "[CV]  max_depth=2, max_leaf_nodes=2, min_samples_leaf=32, min_samples_split=127, min_weight_fraction_leaf=0.4, n_estimators=610, score=0.7563609367618276, total=  49.3s\n",
      "[CV] max_depth=2, max_leaf_nodes=2, min_samples_leaf=32, min_samples_split=127, min_weight_fraction_leaf=0.4, n_estimators=810 \n",
      "[CV]  max_depth=2, max_leaf_nodes=2, min_samples_leaf=32, min_samples_split=127, min_weight_fraction_leaf=0.4, n_estimators=610, score=0.7581131664062216, total=  49.8s\n",
      "[CV] max_depth=2, max_leaf_nodes=2, min_samples_leaf=47, min_samples_split=2, min_weight_fraction_leaf=0.1, n_estimators=10 \n",
      "[CV]  max_depth=2, max_leaf_nodes=2, min_samples_leaf=47, min_samples_split=2, min_weight_fraction_leaf=0.1, n_estimators=10, score=0.7468707980957424, total=   2.4s\n",
      "[CV] max_depth=2, max_leaf_nodes=2, min_samples_leaf=47, min_samples_split=2, min_weight_fraction_leaf=0.1, n_estimators=10 \n",
      "[CV]  max_depth=2, max_leaf_nodes=2, min_samples_leaf=47, min_samples_split=2, min_weight_fraction_leaf=0.1, n_estimators=10, score=0.7470550672571241, total=   2.7s\n",
      "[CV] max_depth=2, max_leaf_nodes=2, min_samples_leaf=47, min_samples_split=2, min_weight_fraction_leaf=0.1, n_estimators=210 \n",
      "[CV]  max_depth=2, max_leaf_nodes=2, min_samples_leaf=32, min_samples_split=127, min_weight_fraction_leaf=0.4, n_estimators=810, score=0.7552810960383344, total= 1.1min\n",
      "[CV] max_depth=2, max_leaf_nodes=2, min_samples_leaf=47, min_samples_split=2, min_weight_fraction_leaf=0.1, n_estimators=210 \n",
      "[CV]  max_depth=2, max_leaf_nodes=2, min_samples_leaf=47, min_samples_split=2, min_weight_fraction_leaf=0.1, n_estimators=210, score=0.7492433327622637, total=  31.0s\n",
      "[CV] max_depth=2, max_leaf_nodes=2, min_samples_leaf=47, min_samples_split=2, min_weight_fraction_leaf=0.1, n_estimators=410 \n",
      "[CV]  max_depth=2, max_leaf_nodes=2, min_samples_leaf=47, min_samples_split=2, min_weight_fraction_leaf=0.1, n_estimators=210, score=0.7496508651794475, total=  29.9s\n",
      "[CV] max_depth=2, max_leaf_nodes=2, min_samples_leaf=47, min_samples_split=2, min_weight_fraction_leaf=0.1, n_estimators=410 \n",
      "[CV]  max_depth=2, max_leaf_nodes=2, min_samples_leaf=32, min_samples_split=127, min_weight_fraction_leaf=0.4, n_estimators=810, score=0.756638753186342, total= 1.1min\n",
      "[CV] max_depth=2, max_leaf_nodes=2, min_samples_leaf=47, min_samples_split=2, min_weight_fraction_leaf=0.1, n_estimators=610 \n",
      "[CV]  max_depth=2, max_leaf_nodes=2, min_samples_leaf=47, min_samples_split=2, min_weight_fraction_leaf=0.1, n_estimators=410, score=0.7497313377046116, total=  55.9s\n",
      "[CV] max_depth=2, max_leaf_nodes=2, min_samples_leaf=47, min_samples_split=2, min_weight_fraction_leaf=0.1, n_estimators=610 \n",
      "[CV]  max_depth=2, max_leaf_nodes=2, min_samples_leaf=47, min_samples_split=2, min_weight_fraction_leaf=0.1, n_estimators=410, score=0.750907231373852, total=  55.2s\n",
      "[CV] max_depth=2, max_leaf_nodes=2, min_samples_leaf=47, min_samples_split=2, min_weight_fraction_leaf=0.1, n_estimators=810 \n",
      "[CV]  max_depth=2, max_leaf_nodes=2, min_samples_leaf=47, min_samples_split=2, min_weight_fraction_leaf=0.1, n_estimators=610, score=0.7511849694477757, total= 1.3min\n",
      "[CV] max_depth=2, max_leaf_nodes=2, min_samples_leaf=47, min_samples_split=2, min_weight_fraction_leaf=0.1, n_estimators=810 \n",
      "[CV]  max_depth=2, max_leaf_nodes=2, min_samples_leaf=47, min_samples_split=2, min_weight_fraction_leaf=0.1, n_estimators=610, score=0.7525685420441389, total= 1.3min\n",
      "[CV] max_depth=2, max_leaf_nodes=2, min_samples_leaf=47, min_samples_split=2, min_weight_fraction_leaf=0.25, n_estimators=10 \n",
      "[CV]  max_depth=2, max_leaf_nodes=2, min_samples_leaf=47, min_samples_split=2, min_weight_fraction_leaf=0.25, n_estimators=10, score=0.7413989128911178, total=   2.2s\n",
      "[CV] max_depth=2, max_leaf_nodes=2, min_samples_leaf=47, min_samples_split=2, min_weight_fraction_leaf=0.25, n_estimators=10 \n",
      "[CV]  max_depth=2, max_leaf_nodes=2, min_samples_leaf=47, min_samples_split=2, min_weight_fraction_leaf=0.25, n_estimators=10, score=0.7415312092784201, total=   2.1s\n",
      "[CV] max_depth=2, max_leaf_nodes=2, min_samples_leaf=47, min_samples_split=2, min_weight_fraction_leaf=0.25, n_estimators=210 \n",
      "[CV]  max_depth=2, max_leaf_nodes=2, min_samples_leaf=47, min_samples_split=2, min_weight_fraction_leaf=0.25, n_estimators=210, score=0.7413002735942602, total=  24.5s\n",
      "[CV] max_depth=2, max_leaf_nodes=2, min_samples_leaf=47, min_samples_split=2, min_weight_fraction_leaf=0.25, n_estimators=210 \n",
      "[CV]  max_depth=2, max_leaf_nodes=2, min_samples_leaf=47, min_samples_split=2, min_weight_fraction_leaf=0.1, n_estimators=810, score=0.7499130416725072, total= 1.7min\n",
      "[CV] max_depth=2, max_leaf_nodes=2, min_samples_leaf=47, min_samples_split=2, min_weight_fraction_leaf=0.25, n_estimators=410 \n",
      "[CV]  max_depth=2, max_leaf_nodes=2, min_samples_leaf=47, min_samples_split=2, min_weight_fraction_leaf=0.25, n_estimators=210, score=0.7413546950197021, total=  24.6s\n",
      "[CV] max_depth=2, max_leaf_nodes=2, min_samples_leaf=47, min_samples_split=2, min_weight_fraction_leaf=0.25, n_estimators=410 \n",
      "[CV]  max_depth=2, max_leaf_nodes=2, min_samples_leaf=47, min_samples_split=2, min_weight_fraction_leaf=0.1, n_estimators=810, score=0.7515717556419668, total= 1.7min\n",
      "[CV] max_depth=2, max_leaf_nodes=2, min_samples_leaf=47, min_samples_split=2, min_weight_fraction_leaf=0.25, n_estimators=610 \n",
      "[CV]  max_depth=2, max_leaf_nodes=2, min_samples_leaf=47, min_samples_split=2, min_weight_fraction_leaf=0.25, n_estimators=410, score=0.744866862906952, total=  46.9s\n",
      "[CV] max_depth=2, max_leaf_nodes=2, min_samples_leaf=47, min_samples_split=2, min_weight_fraction_leaf=0.25, n_estimators=610 \n",
      "[CV]  max_depth=2, max_leaf_nodes=2, min_samples_leaf=47, min_samples_split=2, min_weight_fraction_leaf=0.25, n_estimators=410, score=0.7450926440278477, total=  46.5s\n"
     ]
    },
    {
     "name": "stdout",
     "output_type": "stream",
     "text": [
      "[CV] max_depth=2, max_leaf_nodes=2, min_samples_leaf=47, min_samples_split=2, min_weight_fraction_leaf=0.25, n_estimators=810 \n",
      "[CV]  max_depth=2, max_leaf_nodes=2, min_samples_leaf=47, min_samples_split=2, min_weight_fraction_leaf=0.25, n_estimators=610, score=0.7571033272592292, total= 1.1min\n",
      "[CV] max_depth=2, max_leaf_nodes=2, min_samples_leaf=47, min_samples_split=2, min_weight_fraction_leaf=0.25, n_estimators=810 \n",
      "[CV]  max_depth=2, max_leaf_nodes=2, min_samples_leaf=47, min_samples_split=2, min_weight_fraction_leaf=0.25, n_estimators=610, score=0.754728245915512, total= 1.1min\n",
      "[CV] max_depth=2, max_leaf_nodes=2, min_samples_leaf=47, min_samples_split=2, min_weight_fraction_leaf=0.4, n_estimators=10 \n",
      "[CV]  max_depth=2, max_leaf_nodes=2, min_samples_leaf=47, min_samples_split=2, min_weight_fraction_leaf=0.4, n_estimators=10, score=0.7484542183874032, total=   1.6s\n",
      "[CV] max_depth=2, max_leaf_nodes=2, min_samples_leaf=47, min_samples_split=2, min_weight_fraction_leaf=0.4, n_estimators=10 \n",
      "[CV]  max_depth=2, max_leaf_nodes=2, min_samples_leaf=47, min_samples_split=2, min_weight_fraction_leaf=0.4, n_estimators=10, score=0.7492459207035651, total=   1.8s\n",
      "[CV] max_depth=2, max_leaf_nodes=2, min_samples_leaf=47, min_samples_split=2, min_weight_fraction_leaf=0.4, n_estimators=210 \n",
      "[CV]  max_depth=2, max_leaf_nodes=2, min_samples_leaf=47, min_samples_split=2, min_weight_fraction_leaf=0.4, n_estimators=210, score=0.7552187975350559, total=  17.1s\n",
      "[CV] max_depth=2, max_leaf_nodes=2, min_samples_leaf=47, min_samples_split=2, min_weight_fraction_leaf=0.4, n_estimators=210 \n",
      "[CV]  max_depth=2, max_leaf_nodes=2, min_samples_leaf=47, min_samples_split=2, min_weight_fraction_leaf=0.25, n_estimators=810, score=0.7512213102413547, total= 1.5min\n",
      "[CV] max_depth=2, max_leaf_nodes=2, min_samples_leaf=47, min_samples_split=2, min_weight_fraction_leaf=0.4, n_estimators=410 \n",
      "[CV]  max_depth=2, max_leaf_nodes=2, min_samples_leaf=47, min_samples_split=2, min_weight_fraction_leaf=0.4, n_estimators=210, score=0.7558496306179556, total=  16.9s\n",
      "[CV] max_depth=2, max_leaf_nodes=2, min_samples_leaf=47, min_samples_split=2, min_weight_fraction_leaf=0.4, n_estimators=410 \n",
      "[CV]  max_depth=2, max_leaf_nodes=2, min_samples_leaf=47, min_samples_split=2, min_weight_fraction_leaf=0.4, n_estimators=410, score=0.7562311482133308, total=  31.9s\n",
      "[CV] max_depth=2, max_leaf_nodes=2, min_samples_leaf=47, min_samples_split=2, min_weight_fraction_leaf=0.4, n_estimators=610 \n",
      "[CV]  max_depth=2, max_leaf_nodes=2, min_samples_leaf=47, min_samples_split=2, min_weight_fraction_leaf=0.4, n_estimators=410, score=0.7572721278793888, total=  31.6s\n",
      "[CV] max_depth=2, max_leaf_nodes=2, min_samples_leaf=47, min_samples_split=2, min_weight_fraction_leaf=0.4, n_estimators=610 \n",
      "[CV]  max_depth=2, max_leaf_nodes=2, min_samples_leaf=47, min_samples_split=2, min_weight_fraction_leaf=0.25, n_estimators=810, score=0.7528800377948177, total= 1.5min\n",
      "[CV] max_depth=2, max_leaf_nodes=2, min_samples_leaf=47, min_samples_split=2, min_weight_fraction_leaf=0.4, n_estimators=810 \n",
      "[CV]  max_depth=2, max_leaf_nodes=2, min_samples_leaf=47, min_samples_split=2, min_weight_fraction_leaf=0.4, n_estimators=610, score=0.7563713198457074, total=  45.1s\n",
      "[CV] max_depth=2, max_leaf_nodes=2, min_samples_leaf=47, min_samples_split=2, min_weight_fraction_leaf=0.4, n_estimators=810 \n",
      "[CV]  max_depth=2, max_leaf_nodes=2, min_samples_leaf=47, min_samples_split=2, min_weight_fraction_leaf=0.4, n_estimators=610, score=0.7581183580020663, total=  45.5s\n",
      "[CV] max_depth=2, max_leaf_nodes=2, min_samples_leaf=47, min_samples_split=27, min_weight_fraction_leaf=0.1, n_estimators=10 \n",
      "[CV]  max_depth=2, max_leaf_nodes=2, min_samples_leaf=47, min_samples_split=27, min_weight_fraction_leaf=0.1, n_estimators=10, score=0.7468552234699228, total=   2.3s\n",
      "[CV] max_depth=2, max_leaf_nodes=2, min_samples_leaf=47, min_samples_split=27, min_weight_fraction_leaf=0.1, n_estimators=10 \n",
      "[CV]  max_depth=2, max_leaf_nodes=2, min_samples_leaf=47, min_samples_split=27, min_weight_fraction_leaf=0.1, n_estimators=10, score=0.7468629782108722, total=   2.4s\n",
      "[CV] max_depth=2, max_leaf_nodes=2, min_samples_leaf=47, min_samples_split=27, min_weight_fraction_leaf=0.1, n_estimators=210 \n",
      "[CV]  max_depth=2, max_leaf_nodes=2, min_samples_leaf=47, min_samples_split=2, min_weight_fraction_leaf=0.4, n_estimators=810, score=0.7552707129544546, total=  59.7s\n",
      "[CV] max_depth=2, max_leaf_nodes=2, min_samples_leaf=47, min_samples_split=27, min_weight_fraction_leaf=0.1, n_estimators=210 \n",
      "[CV]  max_depth=2, max_leaf_nodes=2, min_samples_leaf=47, min_samples_split=27, min_weight_fraction_leaf=0.1, n_estimators=210, score=0.7492329496783839, total=  27.9s\n",
      "[CV] max_depth=2, max_leaf_nodes=2, min_samples_leaf=47, min_samples_split=27, min_weight_fraction_leaf=0.1, n_estimators=410 \n",
      "[CV]  max_depth=2, max_leaf_nodes=2, min_samples_leaf=47, min_samples_split=27, min_weight_fraction_leaf=0.1, n_estimators=210, score=0.7496716315628261, total=  27.1s\n",
      "[CV] max_depth=2, max_leaf_nodes=2, min_samples_leaf=47, min_samples_split=27, min_weight_fraction_leaf=0.1, n_estimators=410 \n",
      "[CV]  max_depth=2, max_leaf_nodes=2, min_samples_leaf=47, min_samples_split=2, min_weight_fraction_leaf=0.4, n_estimators=810, score=0.7566491363780312, total=  59.0s\n",
      "[CV] max_depth=2, max_leaf_nodes=2, min_samples_leaf=47, min_samples_split=27, min_weight_fraction_leaf=0.1, n_estimators=610 \n",
      "[CV]  max_depth=2, max_leaf_nodes=2, min_samples_leaf=47, min_samples_split=27, min_weight_fraction_leaf=0.1, n_estimators=410, score=0.7497313377046116, total=  52.1s\n",
      "[CV] max_depth=2, max_leaf_nodes=2, min_samples_leaf=47, min_samples_split=27, min_weight_fraction_leaf=0.1, n_estimators=610 \n",
      "[CV]  max_depth=2, max_leaf_nodes=2, min_samples_leaf=47, min_samples_split=27, min_weight_fraction_leaf=0.1, n_estimators=410, score=0.750907231373852, total=  52.0s\n",
      "[CV] max_depth=2, max_leaf_nodes=2, min_samples_leaf=47, min_samples_split=27, min_weight_fraction_leaf=0.1, n_estimators=810 \n",
      "[CV]  max_depth=2, max_leaf_nodes=2, min_samples_leaf=47, min_samples_split=27, min_weight_fraction_leaf=0.1, n_estimators=610, score=0.7511849694477757, total= 1.3min\n",
      "[CV] max_depth=2, max_leaf_nodes=2, min_samples_leaf=47, min_samples_split=27, min_weight_fraction_leaf=0.1, n_estimators=810 \n",
      "[CV]  max_depth=2, max_leaf_nodes=2, min_samples_leaf=47, min_samples_split=27, min_weight_fraction_leaf=0.1, n_estimators=610, score=0.7525685420441389, total= 1.3min\n",
      "[CV] max_depth=2, max_leaf_nodes=2, min_samples_leaf=47, min_samples_split=27, min_weight_fraction_leaf=0.25, n_estimators=10 \n",
      "[CV]  max_depth=2, max_leaf_nodes=2, min_samples_leaf=47, min_samples_split=27, min_weight_fraction_leaf=0.25, n_estimators=10, score=0.7416429153622918, total=   2.2s\n",
      "[CV] max_depth=2, max_leaf_nodes=2, min_samples_leaf=47, min_samples_split=27, min_weight_fraction_leaf=0.25, n_estimators=10 \n",
      "[CV]  max_depth=2, max_leaf_nodes=2, min_samples_leaf=47, min_samples_split=27, min_weight_fraction_leaf=0.25, n_estimators=10, score=0.7414533353407504, total=   2.2s\n",
      "[CV] max_depth=2, max_leaf_nodes=2, min_samples_leaf=47, min_samples_split=27, min_weight_fraction_leaf=0.25, n_estimators=210 \n",
      "[CV]  max_depth=2, max_leaf_nodes=2, min_samples_leaf=47, min_samples_split=27, min_weight_fraction_leaf=0.25, n_estimators=210, score=0.7412950820523203, total=  24.7s\n",
      "[CV] max_depth=2, max_leaf_nodes=2, min_samples_leaf=47, min_samples_split=27, min_weight_fraction_leaf=0.25, n_estimators=210 \n",
      "[CV]  max_depth=2, max_leaf_nodes=2, min_samples_leaf=47, min_samples_split=27, min_weight_fraction_leaf=0.1, n_estimators=810, score=0.7499130416725072, total= 1.7min\n",
      "[CV] max_depth=2, max_leaf_nodes=2, min_samples_leaf=47, min_samples_split=27, min_weight_fraction_leaf=0.25, n_estimators=410 \n",
      "[CV]  max_depth=2, max_leaf_nodes=2, min_samples_leaf=47, min_samples_split=27, min_weight_fraction_leaf=0.25, n_estimators=210, score=0.7413443118280129, total=  24.6s\n",
      "[CV] max_depth=2, max_leaf_nodes=2, min_samples_leaf=47, min_samples_split=27, min_weight_fraction_leaf=0.25, n_estimators=410 \n",
      "[CV]  max_depth=2, max_leaf_nodes=2, min_samples_leaf=47, min_samples_split=27, min_weight_fraction_leaf=0.1, n_estimators=810, score=0.7515665640461221, total= 1.7min\n"
     ]
    },
    {
     "name": "stdout",
     "output_type": "stream",
     "text": [
      "[CV] max_depth=2, max_leaf_nodes=2, min_samples_leaf=47, min_samples_split=27, min_weight_fraction_leaf=0.25, n_estimators=610 \n",
      "[CV]  max_depth=2, max_leaf_nodes=2, min_samples_leaf=47, min_samples_split=27, min_weight_fraction_leaf=0.25, n_estimators=410, score=0.7448824375327716, total=  45.8s\n",
      "[CV] max_depth=2, max_leaf_nodes=2, min_samples_leaf=47, min_samples_split=27, min_weight_fraction_leaf=0.25, n_estimators=610 \n",
      "[CV]  max_depth=2, max_leaf_nodes=2, min_samples_leaf=47, min_samples_split=27, min_weight_fraction_leaf=0.25, n_estimators=410, score=0.745103027219537, total=  45.5s\n",
      "[CV] max_depth=2, max_leaf_nodes=2, min_samples_leaf=47, min_samples_split=27, min_weight_fraction_leaf=0.25, n_estimators=810 \n",
      "[CV]  max_depth=2, max_leaf_nodes=2, min_samples_leaf=47, min_samples_split=27, min_weight_fraction_leaf=0.25, n_estimators=610, score=0.7570981357172893, total= 1.2min\n",
      "[CV] max_depth=2, max_leaf_nodes=2, min_samples_leaf=47, min_samples_split=27, min_weight_fraction_leaf=0.25, n_estimators=810 \n",
      "[CV]  max_depth=2, max_leaf_nodes=2, min_samples_leaf=47, min_samples_split=27, min_weight_fraction_leaf=0.25, n_estimators=610, score=0.754712671127978, total= 1.2min\n",
      "[CV] max_depth=2, max_leaf_nodes=2, min_samples_leaf=47, min_samples_split=27, min_weight_fraction_leaf=0.4, n_estimators=10 \n",
      "[CV]  max_depth=2, max_leaf_nodes=2, min_samples_leaf=47, min_samples_split=27, min_weight_fraction_leaf=0.4, n_estimators=10, score=0.7486099646455994, total=   1.7s\n",
      "[CV] max_depth=2, max_leaf_nodes=2, min_samples_leaf=47, min_samples_split=27, min_weight_fraction_leaf=0.4, n_estimators=10 \n",
      "[CV]  max_depth=2, max_leaf_nodes=2, min_samples_leaf=47, min_samples_split=27, min_weight_fraction_leaf=0.4, n_estimators=10, score=0.7493912853872152, total=   1.8s\n",
      "[CV] max_depth=2, max_leaf_nodes=2, min_samples_leaf=47, min_samples_split=27, min_weight_fraction_leaf=0.4, n_estimators=210 \n",
      "[CV]  max_depth=2, max_leaf_nodes=2, min_samples_leaf=47, min_samples_split=27, min_weight_fraction_leaf=0.4, n_estimators=210, score=0.7551980313672964, total=  18.9s\n",
      "[CV] max_depth=2, max_leaf_nodes=2, min_samples_leaf=47, min_samples_split=27, min_weight_fraction_leaf=0.4, n_estimators=210 \n",
      "[CV]  max_depth=2, max_leaf_nodes=2, min_samples_leaf=47, min_samples_split=27, min_weight_fraction_leaf=0.4, n_estimators=210, score=0.7558755885971788, total=  17.8s\n",
      "[CV] max_depth=2, max_leaf_nodes=2, min_samples_leaf=47, min_samples_split=27, min_weight_fraction_leaf=0.4, n_estimators=410 \n",
      "[CV]  max_depth=2, max_leaf_nodes=2, min_samples_leaf=47, min_samples_split=27, min_weight_fraction_leaf=0.25, n_estimators=810, score=0.7512109271574751, total= 1.7min\n",
      "[CV] max_depth=2, max_leaf_nodes=2, min_samples_leaf=47, min_samples_split=27, min_weight_fraction_leaf=0.4, n_estimators=410 \n",
      "[CV]  max_depth=2, max_leaf_nodes=2, min_samples_leaf=47, min_samples_split=27, min_weight_fraction_leaf=0.4, n_estimators=410, score=0.7562311482133308, total=  35.4s\n",
      "[CV] max_depth=2, max_leaf_nodes=2, min_samples_leaf=47, min_samples_split=27, min_weight_fraction_leaf=0.4, n_estimators=610 \n",
      "[CV]  max_depth=2, max_leaf_nodes=2, min_samples_leaf=47, min_samples_split=27, min_weight_fraction_leaf=0.4, n_estimators=410, score=0.7572721278793888, total=  35.4s\n",
      "[CV] max_depth=2, max_leaf_nodes=2, min_samples_leaf=47, min_samples_split=27, min_weight_fraction_leaf=0.4, n_estimators=610 \n",
      "[CV]  max_depth=2, max_leaf_nodes=2, min_samples_leaf=47, min_samples_split=27, min_weight_fraction_leaf=0.25, n_estimators=810, score=0.7528748461989732, total= 1.6min\n",
      "[CV] max_depth=2, max_leaf_nodes=2, min_samples_leaf=47, min_samples_split=27, min_weight_fraction_leaf=0.4, n_estimators=810 \n",
      "[CV]  max_depth=2, max_leaf_nodes=2, min_samples_leaf=47, min_samples_split=27, min_weight_fraction_leaf=0.4, n_estimators=610, score=0.7563661283037675, total=  50.2s\n",
      "[CV]  max_depth=2, max_leaf_nodes=2, min_samples_leaf=47, min_samples_split=27, min_weight_fraction_leaf=0.4, n_estimators=610, score=0.7581287411937555, total=  50.1s\n",
      "[CV] max_depth=2, max_leaf_nodes=2, min_samples_leaf=47, min_samples_split=27, min_weight_fraction_leaf=0.4, n_estimators=810 \n",
      "[CV] max_depth=2, max_leaf_nodes=2, min_samples_leaf=47, min_samples_split=52, min_weight_fraction_leaf=0.1, n_estimators=10 \n",
      "[CV]  max_depth=2, max_leaf_nodes=2, min_samples_leaf=47, min_samples_split=52, min_weight_fraction_leaf=0.1, n_estimators=10, score=0.7470005866442392, total=   1.7s\n",
      "[CV] max_depth=2, max_leaf_nodes=2, min_samples_leaf=47, min_samples_split=52, min_weight_fraction_leaf=0.1, n_estimators=10 \n",
      "[CV]  max_depth=2, max_leaf_nodes=2, min_samples_leaf=47, min_samples_split=52, min_weight_fraction_leaf=0.1, n_estimators=10, score=0.7472211983241529, total=   2.2s\n",
      "[CV] max_depth=2, max_leaf_nodes=2, min_samples_leaf=47, min_samples_split=52, min_weight_fraction_leaf=0.1, n_estimators=210 \n",
      "[CV]  max_depth=2, max_leaf_nodes=2, min_samples_leaf=47, min_samples_split=27, min_weight_fraction_leaf=0.4, n_estimators=810, score=0.7552603298705749, total= 1.1min\n",
      "[CV] max_depth=2, max_leaf_nodes=2, min_samples_leaf=47, min_samples_split=52, min_weight_fraction_leaf=0.1, n_estimators=210 \n",
      "[CV]  max_depth=2, max_leaf_nodes=2, min_samples_leaf=47, min_samples_split=52, min_weight_fraction_leaf=0.1, n_estimators=210, score=0.7492381412203238, total=  30.7s\n",
      "[CV] max_depth=2, max_leaf_nodes=2, min_samples_leaf=47, min_samples_split=52, min_weight_fraction_leaf=0.1, n_estimators=410 \n",
      "[CV]  max_depth=2, max_leaf_nodes=2, min_samples_leaf=47, min_samples_split=52, min_weight_fraction_leaf=0.1, n_estimators=210, score=0.7496664399669815, total=  29.7s\n",
      "[CV] max_depth=2, max_leaf_nodes=2, min_samples_leaf=47, min_samples_split=52, min_weight_fraction_leaf=0.1, n_estimators=410 \n",
      "[CV]  max_depth=2, max_leaf_nodes=2, min_samples_leaf=47, min_samples_split=27, min_weight_fraction_leaf=0.4, n_estimators=810, score=0.7566439447821866, total= 1.1min\n",
      "[CV] max_depth=2, max_leaf_nodes=2, min_samples_leaf=47, min_samples_split=52, min_weight_fraction_leaf=0.1, n_estimators=610 \n",
      "[CV]  max_depth=2, max_leaf_nodes=2, min_samples_leaf=47, min_samples_split=52, min_weight_fraction_leaf=0.1, n_estimators=410, score=0.7497365292465515, total=  56.9s\n",
      "[CV] max_depth=2, max_leaf_nodes=2, min_samples_leaf=47, min_samples_split=52, min_weight_fraction_leaf=0.1, n_estimators=610 \n",
      "[CV]  max_depth=2, max_leaf_nodes=2, min_samples_leaf=47, min_samples_split=52, min_weight_fraction_leaf=0.1, n_estimators=410, score=0.7509124229696966, total=  57.2s\n",
      "[CV] max_depth=2, max_leaf_nodes=2, min_samples_leaf=47, min_samples_split=52, min_weight_fraction_leaf=0.1, n_estimators=810 \n",
      "[CV]  max_depth=2, max_leaf_nodes=2, min_samples_leaf=47, min_samples_split=52, min_weight_fraction_leaf=0.1, n_estimators=610, score=0.7511849694477757, total= 1.4min\n",
      "[CV] max_depth=2, max_leaf_nodes=2, min_samples_leaf=47, min_samples_split=52, min_weight_fraction_leaf=0.1, n_estimators=810 \n",
      "[CV]  max_depth=2, max_leaf_nodes=2, min_samples_leaf=47, min_samples_split=52, min_weight_fraction_leaf=0.1, n_estimators=610, score=0.7525685420441389, total= 1.4min\n",
      "[CV] max_depth=2, max_leaf_nodes=2, min_samples_leaf=47, min_samples_split=52, min_weight_fraction_leaf=0.25, n_estimators=10 \n",
      "[CV]  max_depth=2, max_leaf_nodes=2, min_samples_leaf=47, min_samples_split=52, min_weight_fraction_leaf=0.25, n_estimators=10, score=0.7416273407364722, total=   2.2s\n",
      "[CV] max_depth=2, max_leaf_nodes=2, min_samples_leaf=47, min_samples_split=52, min_weight_fraction_leaf=0.25, n_estimators=10 \n",
      "[CV]  max_depth=2, max_leaf_nodes=2, min_samples_leaf=47, min_samples_split=52, min_weight_fraction_leaf=0.25, n_estimators=10, score=0.7414481437449058, total=   2.1s\n",
      "[CV] max_depth=2, max_leaf_nodes=2, min_samples_leaf=47, min_samples_split=52, min_weight_fraction_leaf=0.25, n_estimators=210 \n",
      "[CV]  max_depth=2, max_leaf_nodes=2, min_samples_leaf=47, min_samples_split=52, min_weight_fraction_leaf=0.25, n_estimators=210, score=0.7413002735942602, total=  25.0s\n",
      "[CV] max_depth=2, max_leaf_nodes=2, min_samples_leaf=47, min_samples_split=52, min_weight_fraction_leaf=0.25, n_estimators=210 \n",
      "[CV]  max_depth=2, max_leaf_nodes=2, min_samples_leaf=47, min_samples_split=52, min_weight_fraction_leaf=0.1, n_estimators=810, score=0.7499130416725072, total= 1.8min\n"
     ]
    },
    {
     "name": "stdout",
     "output_type": "stream",
     "text": [
      "[CV] max_depth=2, max_leaf_nodes=2, min_samples_leaf=47, min_samples_split=52, min_weight_fraction_leaf=0.25, n_estimators=410 \n",
      "[CV]  max_depth=2, max_leaf_nodes=2, min_samples_leaf=47, min_samples_split=52, min_weight_fraction_leaf=0.25, n_estimators=210, score=0.7413391202321682, total=  24.5s\n",
      "[CV] max_depth=2, max_leaf_nodes=2, min_samples_leaf=47, min_samples_split=52, min_weight_fraction_leaf=0.25, n_estimators=410 \n",
      "[CV]  max_depth=2, max_leaf_nodes=2, min_samples_leaf=47, min_samples_split=52, min_weight_fraction_leaf=0.1, n_estimators=810, score=0.7515717556419668, total= 1.7min\n",
      "[CV] max_depth=2, max_leaf_nodes=2, min_samples_leaf=47, min_samples_split=52, min_weight_fraction_leaf=0.25, n_estimators=610 \n",
      "[CV]  max_depth=2, max_leaf_nodes=2, min_samples_leaf=47, min_samples_split=52, min_weight_fraction_leaf=0.25, n_estimators=410, score=0.744866862906952, total=  47.0s\n",
      "[CV] max_depth=2, max_leaf_nodes=2, min_samples_leaf=47, min_samples_split=52, min_weight_fraction_leaf=0.25, n_estimators=610 \n",
      "[CV]  max_depth=2, max_leaf_nodes=2, min_samples_leaf=47, min_samples_split=52, min_weight_fraction_leaf=0.25, n_estimators=410, score=0.745087452432003, total=  47.5s\n",
      "[CV] max_depth=2, max_leaf_nodes=2, min_samples_leaf=47, min_samples_split=52, min_weight_fraction_leaf=0.25, n_estimators=810 \n",
      "[CV]  max_depth=2, max_leaf_nodes=2, min_samples_leaf=47, min_samples_split=52, min_weight_fraction_leaf=0.25, n_estimators=610, score=0.7570929441753496, total= 1.2min\n",
      "[CV] max_depth=2, max_leaf_nodes=2, min_samples_leaf=47, min_samples_split=52, min_weight_fraction_leaf=0.25, n_estimators=810 \n",
      "[CV]  max_depth=2, max_leaf_nodes=2, min_samples_leaf=47, min_samples_split=52, min_weight_fraction_leaf=0.25, n_estimators=610, score=0.754728245915512, total= 1.1min\n",
      "[CV] max_depth=2, max_leaf_nodes=2, min_samples_leaf=47, min_samples_split=52, min_weight_fraction_leaf=0.4, n_estimators=10 \n",
      "[CV]  max_depth=2, max_leaf_nodes=2, min_samples_leaf=47, min_samples_split=52, min_weight_fraction_leaf=0.4, n_estimators=10, score=0.7483919198841248, total=   1.7s\n",
      "[CV] max_depth=2, max_leaf_nodes=2, min_samples_leaf=47, min_samples_split=52, min_weight_fraction_leaf=0.4, n_estimators=10 \n",
      "[CV]  max_depth=2, max_leaf_nodes=2, min_samples_leaf=47, min_samples_split=52, min_weight_fraction_leaf=0.4, n_estimators=10, score=0.7492822618744776, total=   1.6s\n",
      "[CV] max_depth=2, max_leaf_nodes=2, min_samples_leaf=47, min_samples_split=52, min_weight_fraction_leaf=0.4, n_estimators=210 \n",
      "[CV]  max_depth=2, max_leaf_nodes=2, min_samples_leaf=47, min_samples_split=52, min_weight_fraction_leaf=0.4, n_estimators=210, score=0.7551980313672964, total=  16.7s\n",
      "[CV] max_depth=2, max_leaf_nodes=2, min_samples_leaf=47, min_samples_split=52, min_weight_fraction_leaf=0.4, n_estimators=210 \n",
      "[CV]  max_depth=2, max_leaf_nodes=2, min_samples_leaf=47, min_samples_split=52, min_weight_fraction_leaf=0.25, n_estimators=810, score=0.7512109271574751, total= 1.5min\n",
      "[CV] max_depth=2, max_leaf_nodes=2, min_samples_leaf=47, min_samples_split=52, min_weight_fraction_leaf=0.4, n_estimators=410 \n",
      "[CV]  max_depth=2, max_leaf_nodes=2, min_samples_leaf=47, min_samples_split=52, min_weight_fraction_leaf=0.4, n_estimators=210, score=0.7558911633847128, total=  16.4s\n",
      "[CV] max_depth=2, max_leaf_nodes=2, min_samples_leaf=47, min_samples_split=52, min_weight_fraction_leaf=0.4, n_estimators=410 \n",
      "[CV]  max_depth=2, max_leaf_nodes=2, min_samples_leaf=47, min_samples_split=52, min_weight_fraction_leaf=0.4, n_estimators=410, score=0.7562311482133308, total=  31.2s\n",
      "[CV] max_depth=2, max_leaf_nodes=2, min_samples_leaf=47, min_samples_split=52, min_weight_fraction_leaf=0.4, n_estimators=610 \n",
      "[CV]  max_depth=2, max_leaf_nodes=2, min_samples_leaf=47, min_samples_split=52, min_weight_fraction_leaf=0.4, n_estimators=410, score=0.7572721278793888, total=  31.6s\n",
      "[CV] max_depth=2, max_leaf_nodes=2, min_samples_leaf=47, min_samples_split=52, min_weight_fraction_leaf=0.4, n_estimators=610 \n",
      "[CV]  max_depth=2, max_leaf_nodes=2, min_samples_leaf=47, min_samples_split=52, min_weight_fraction_leaf=0.25, n_estimators=810, score=0.752890420986507, total= 1.5min\n",
      "[CV] max_depth=2, max_leaf_nodes=2, min_samples_leaf=47, min_samples_split=52, min_weight_fraction_leaf=0.4, n_estimators=810 \n",
      "[CV]  max_depth=2, max_leaf_nodes=2, min_samples_leaf=47, min_samples_split=52, min_weight_fraction_leaf=0.4, n_estimators=610, score=0.7563609367618276, total=  45.2s\n",
      "[CV] max_depth=2, max_leaf_nodes=2, min_samples_leaf=47, min_samples_split=52, min_weight_fraction_leaf=0.4, n_estimators=810 \n",
      "[CV]  max_depth=2, max_leaf_nodes=2, min_samples_leaf=47, min_samples_split=52, min_weight_fraction_leaf=0.4, n_estimators=610, score=0.7581183580020663, total=  45.7s\n",
      "[CV] max_depth=2, max_leaf_nodes=2, min_samples_leaf=47, min_samples_split=77, min_weight_fraction_leaf=0.1, n_estimators=10 \n",
      "[CV]  max_depth=2, max_leaf_nodes=2, min_samples_leaf=47, min_samples_split=77, min_weight_fraction_leaf=0.1, n_estimators=10, score=0.7469746289345398, total=   2.6s\n",
      "[CV] max_depth=2, max_leaf_nodes=2, min_samples_leaf=47, min_samples_split=77, min_weight_fraction_leaf=0.1, n_estimators=10 \n",
      "[CV]  max_depth=2, max_leaf_nodes=2, min_samples_leaf=47, min_samples_split=77, min_weight_fraction_leaf=0.1, n_estimators=10, score=0.7472108151324636, total=   2.4s\n",
      "[CV] max_depth=2, max_leaf_nodes=2, min_samples_leaf=47, min_samples_split=77, min_weight_fraction_leaf=0.1, n_estimators=210 \n",
      "[CV]  max_depth=2, max_leaf_nodes=2, min_samples_leaf=47, min_samples_split=52, min_weight_fraction_leaf=0.4, n_estimators=810, score=0.755255138328635, total= 1.0min\n",
      "[CV] max_depth=2, max_leaf_nodes=2, min_samples_leaf=47, min_samples_split=77, min_weight_fraction_leaf=0.1, n_estimators=210 \n",
      "[CV]  max_depth=2, max_leaf_nodes=2, min_samples_leaf=47, min_samples_split=77, min_weight_fraction_leaf=0.1, n_estimators=210, score=0.7492433327622637, total=  28.4s\n",
      "[CV] max_depth=2, max_leaf_nodes=2, min_samples_leaf=47, min_samples_split=77, min_weight_fraction_leaf=0.1, n_estimators=410 \n",
      "[CV]  max_depth=2, max_leaf_nodes=2, min_samples_leaf=47, min_samples_split=77, min_weight_fraction_leaf=0.1, n_estimators=210, score=0.7496716315628261, total=  27.6s\n",
      "[CV] max_depth=2, max_leaf_nodes=2, min_samples_leaf=47, min_samples_split=77, min_weight_fraction_leaf=0.1, n_estimators=410 \n",
      "[CV]  max_depth=2, max_leaf_nodes=2, min_samples_leaf=47, min_samples_split=52, min_weight_fraction_leaf=0.4, n_estimators=810, score=0.7566491363780312, total=  59.9s\n",
      "[CV] max_depth=2, max_leaf_nodes=2, min_samples_leaf=47, min_samples_split=77, min_weight_fraction_leaf=0.1, n_estimators=610 \n",
      "[CV]  max_depth=2, max_leaf_nodes=2, min_samples_leaf=47, min_samples_split=77, min_weight_fraction_leaf=0.1, n_estimators=410, score=0.7497365292465515, total=  55.0s\n",
      "[CV] max_depth=2, max_leaf_nodes=2, min_samples_leaf=47, min_samples_split=77, min_weight_fraction_leaf=0.1, n_estimators=610 \n",
      "[CV]  max_depth=2, max_leaf_nodes=2, min_samples_leaf=47, min_samples_split=77, min_weight_fraction_leaf=0.1, n_estimators=410, score=0.7509124229696966, total=  57.8s\n",
      "[CV] max_depth=2, max_leaf_nodes=2, min_samples_leaf=47, min_samples_split=77, min_weight_fraction_leaf=0.1, n_estimators=810 \n",
      "[CV]  max_depth=2, max_leaf_nodes=2, min_samples_leaf=47, min_samples_split=77, min_weight_fraction_leaf=0.1, n_estimators=610, score=0.7511849694477757, total= 1.5min\n",
      "[CV] max_depth=2, max_leaf_nodes=2, min_samples_leaf=47, min_samples_split=77, min_weight_fraction_leaf=0.1, n_estimators=810 \n",
      "[CV]  max_depth=2, max_leaf_nodes=2, min_samples_leaf=47, min_samples_split=77, min_weight_fraction_leaf=0.1, n_estimators=610, score=0.7525685420441389, total= 1.4min\n",
      "[CV] max_depth=2, max_leaf_nodes=2, min_samples_leaf=47, min_samples_split=77, min_weight_fraction_leaf=0.25, n_estimators=10 \n",
      "[CV]  max_depth=2, max_leaf_nodes=2, min_samples_leaf=47, min_samples_split=77, min_weight_fraction_leaf=0.25, n_estimators=10, score=0.7416377238203519, total=   2.5s\n",
      "[CV] max_depth=2, max_leaf_nodes=2, min_samples_leaf=47, min_samples_split=77, min_weight_fraction_leaf=0.25, n_estimators=10 \n",
      "[CV]  max_depth=2, max_leaf_nodes=2, min_samples_leaf=47, min_samples_split=77, min_weight_fraction_leaf=0.25, n_estimators=10, score=0.7413443118280129, total=   2.4s\n"
     ]
    },
    {
     "name": "stdout",
     "output_type": "stream",
     "text": [
      "[CV] max_depth=2, max_leaf_nodes=2, min_samples_leaf=47, min_samples_split=77, min_weight_fraction_leaf=0.25, n_estimators=210 \n",
      "[CV]  max_depth=2, max_leaf_nodes=2, min_samples_leaf=47, min_samples_split=77, min_weight_fraction_leaf=0.25, n_estimators=210, score=0.7413054651362001, total=  26.2s\n",
      "[CV] max_depth=2, max_leaf_nodes=2, min_samples_leaf=47, min_samples_split=77, min_weight_fraction_leaf=0.25, n_estimators=210 \n",
      "[CV]  max_depth=2, max_leaf_nodes=2, min_samples_leaf=47, min_samples_split=77, min_weight_fraction_leaf=0.1, n_estimators=810, score=0.7499130416725072, total= 1.9min\n",
      "[CV] max_depth=2, max_leaf_nodes=2, min_samples_leaf=47, min_samples_split=77, min_weight_fraction_leaf=0.25, n_estimators=410 \n"
     ]
    },
    {
     "name": "stderr",
     "output_type": "stream",
     "text": [
      "[Parallel(n_jobs=3)]: Done 642 tasks      | elapsed: 201.6min\n"
     ]
    },
    {
     "name": "stdout",
     "output_type": "stream",
     "text": [
      "[CV]  max_depth=2, max_leaf_nodes=2, min_samples_leaf=47, min_samples_split=77, min_weight_fraction_leaf=0.25, n_estimators=210, score=0.7413495034238574, total=  27.6s\n",
      "[CV] max_depth=2, max_leaf_nodes=2, min_samples_leaf=47, min_samples_split=77, min_weight_fraction_leaf=0.25, n_estimators=410 \n",
      "[CV]  max_depth=2, max_leaf_nodes=2, min_samples_leaf=47, min_samples_split=77, min_weight_fraction_leaf=0.1, n_estimators=810, score=0.7515665640461221, total= 1.9min\n",
      "[CV] max_depth=2, max_leaf_nodes=2, min_samples_leaf=47, min_samples_split=77, min_weight_fraction_leaf=0.25, n_estimators=610 \n",
      "[CV]  max_depth=2, max_leaf_nodes=2, min_samples_leaf=47, min_samples_split=77, min_weight_fraction_leaf=0.25, n_estimators=410, score=0.7448824375327716, total=  53.2s\n",
      "[CV] max_depth=2, max_leaf_nodes=2, min_samples_leaf=47, min_samples_split=77, min_weight_fraction_leaf=0.25, n_estimators=610 \n",
      "[CV]  max_depth=2, max_leaf_nodes=2, min_samples_leaf=47, min_samples_split=77, min_weight_fraction_leaf=0.25, n_estimators=410, score=0.7450978356236924, total=  54.0s\n",
      "[CV] max_depth=2, max_leaf_nodes=2, min_samples_leaf=47, min_samples_split=77, min_weight_fraction_leaf=0.25, n_estimators=810 \n",
      "[CV]  max_depth=2, max_leaf_nodes=2, min_samples_leaf=47, min_samples_split=77, min_weight_fraction_leaf=0.25, n_estimators=610, score=0.7570825610914698, total= 1.3min\n",
      "[CV] max_depth=2, max_leaf_nodes=2, min_samples_leaf=47, min_samples_split=77, min_weight_fraction_leaf=0.25, n_estimators=810 \n",
      "[CV]  max_depth=2, max_leaf_nodes=2, min_samples_leaf=47, min_samples_split=77, min_weight_fraction_leaf=0.25, n_estimators=610, score=0.7547334375113566, total= 1.2min\n",
      "[CV] max_depth=2, max_leaf_nodes=2, min_samples_leaf=47, min_samples_split=77, min_weight_fraction_leaf=0.4, n_estimators=10 \n",
      "[CV]  max_depth=2, max_leaf_nodes=2, min_samples_leaf=47, min_samples_split=77, min_weight_fraction_leaf=0.4, n_estimators=10, score=0.7484126860518843, total=   1.8s\n",
      "[CV] max_depth=2, max_leaf_nodes=2, min_samples_leaf=47, min_samples_split=77, min_weight_fraction_leaf=0.4, n_estimators=10 \n",
      "[CV]  max_depth=2, max_leaf_nodes=2, min_samples_leaf=47, min_samples_split=77, min_weight_fraction_leaf=0.4, n_estimators=10, score=0.7492874534703222, total=   1.6s\n",
      "[CV] max_depth=2, max_leaf_nodes=2, min_samples_leaf=47, min_samples_split=77, min_weight_fraction_leaf=0.4, n_estimators=210 \n",
      "[CV]  max_depth=2, max_leaf_nodes=2, min_samples_leaf=47, min_samples_split=77, min_weight_fraction_leaf=0.4, n_estimators=210, score=0.7552032229092362, total=  16.9s\n",
      "[CV] max_depth=2, max_leaf_nodes=2, min_samples_leaf=47, min_samples_split=77, min_weight_fraction_leaf=0.4, n_estimators=210 \n",
      "[CV]  max_depth=2, max_leaf_nodes=2, min_samples_leaf=47, min_samples_split=77, min_weight_fraction_leaf=0.25, n_estimators=810, score=0.751216118699415, total= 1.6min\n",
      "[CV] max_depth=2, max_leaf_nodes=2, min_samples_leaf=47, min_samples_split=77, min_weight_fraction_leaf=0.4, n_estimators=410 \n",
      "[CV]  max_depth=2, max_leaf_nodes=2, min_samples_leaf=47, min_samples_split=77, min_weight_fraction_leaf=0.4, n_estimators=210, score=0.755860013809645, total=  18.0s\n",
      "[CV] max_depth=2, max_leaf_nodes=2, min_samples_leaf=47, min_samples_split=77, min_weight_fraction_leaf=0.4, n_estimators=410 \n",
      "[CV]  max_depth=2, max_leaf_nodes=2, min_samples_leaf=47, min_samples_split=77, min_weight_fraction_leaf=0.4, n_estimators=410, score=0.7562311482133308, total=  34.5s\n",
      "[CV] max_depth=2, max_leaf_nodes=2, min_samples_leaf=47, min_samples_split=77, min_weight_fraction_leaf=0.4, n_estimators=610 \n",
      "[CV]  max_depth=2, max_leaf_nodes=2, min_samples_leaf=47, min_samples_split=77, min_weight_fraction_leaf=0.4, n_estimators=410, score=0.7572825110710781, total=  34.8s\n",
      "[CV] max_depth=2, max_leaf_nodes=2, min_samples_leaf=47, min_samples_split=77, min_weight_fraction_leaf=0.4, n_estimators=610 \n",
      "[CV]  max_depth=2, max_leaf_nodes=2, min_samples_leaf=47, min_samples_split=77, min_weight_fraction_leaf=0.25, n_estimators=810, score=0.7528852293906624, total= 1.6min\n",
      "[CV] max_depth=2, max_leaf_nodes=2, min_samples_leaf=47, min_samples_split=77, min_weight_fraction_leaf=0.4, n_estimators=810 \n",
      "[CV]  max_depth=2, max_leaf_nodes=2, min_samples_leaf=47, min_samples_split=77, min_weight_fraction_leaf=0.4, n_estimators=610, score=0.7563609367618276, total=  48.2s\n",
      "[CV] max_depth=2, max_leaf_nodes=2, min_samples_leaf=47, min_samples_split=77, min_weight_fraction_leaf=0.4, n_estimators=810 \n",
      "[CV]  max_depth=2, max_leaf_nodes=2, min_samples_leaf=47, min_samples_split=77, min_weight_fraction_leaf=0.4, n_estimators=610, score=0.758123549597911, total=  48.6s\n",
      "[CV] max_depth=2, max_leaf_nodes=2, min_samples_leaf=47, min_samples_split=102, min_weight_fraction_leaf=0.1, n_estimators=10 \n",
      "[CV]  max_depth=2, max_leaf_nodes=2, min_samples_leaf=47, min_samples_split=102, min_weight_fraction_leaf=0.1, n_estimators=10, score=0.7469382881409607, total=   2.5s\n",
      "[CV] max_depth=2, max_leaf_nodes=2, min_samples_leaf=47, min_samples_split=102, min_weight_fraction_leaf=0.1, n_estimators=10 \n",
      "[CV]  max_depth=2, max_leaf_nodes=2, min_samples_leaf=47, min_samples_split=102, min_weight_fraction_leaf=0.1, n_estimators=10, score=0.7472731142825993, total=   2.7s\n",
      "[CV] max_depth=2, max_leaf_nodes=2, min_samples_leaf=47, min_samples_split=102, min_weight_fraction_leaf=0.1, n_estimators=210 \n",
      "[CV]  max_depth=2, max_leaf_nodes=2, min_samples_leaf=47, min_samples_split=77, min_weight_fraction_leaf=0.4, n_estimators=810, score=0.7552707129544546, total= 1.1min\n",
      "[CV] max_depth=2, max_leaf_nodes=2, min_samples_leaf=47, min_samples_split=102, min_weight_fraction_leaf=0.1, n_estimators=210 \n",
      "[CV]  max_depth=2, max_leaf_nodes=2, min_samples_leaf=47, min_samples_split=102, min_weight_fraction_leaf=0.1, n_estimators=210, score=0.7492329496783839, total=  29.9s\n",
      "[CV] max_depth=2, max_leaf_nodes=2, min_samples_leaf=47, min_samples_split=102, min_weight_fraction_leaf=0.1, n_estimators=410 \n",
      "[CV]  max_depth=2, max_leaf_nodes=2, min_samples_leaf=47, min_samples_split=102, min_weight_fraction_leaf=0.1, n_estimators=210, score=0.7496508651794475, total=  28.9s\n",
      "[CV] max_depth=2, max_leaf_nodes=2, min_samples_leaf=47, min_samples_split=102, min_weight_fraction_leaf=0.1, n_estimators=410 \n",
      "[CV]  max_depth=2, max_leaf_nodes=2, min_samples_leaf=47, min_samples_split=77, min_weight_fraction_leaf=0.4, n_estimators=810, score=0.7566491363780312, total= 1.0min\n",
      "[CV] max_depth=2, max_leaf_nodes=2, min_samples_leaf=47, min_samples_split=102, min_weight_fraction_leaf=0.1, n_estimators=610 \n",
      "[CV]  max_depth=2, max_leaf_nodes=2, min_samples_leaf=47, min_samples_split=102, min_weight_fraction_leaf=0.1, n_estimators=410, score=0.7497365292465515, total=  57.1s\n",
      "[CV] max_depth=2, max_leaf_nodes=2, min_samples_leaf=47, min_samples_split=102, min_weight_fraction_leaf=0.1, n_estimators=610 \n",
      "[CV]  max_depth=2, max_leaf_nodes=2, min_samples_leaf=47, min_samples_split=102, min_weight_fraction_leaf=0.1, n_estimators=410, score=0.750907231373852, total=  57.4s\n",
      "[CV] max_depth=2, max_leaf_nodes=2, min_samples_leaf=47, min_samples_split=102, min_weight_fraction_leaf=0.1, n_estimators=810 \n",
      "[CV]  max_depth=2, max_leaf_nodes=2, min_samples_leaf=47, min_samples_split=102, min_weight_fraction_leaf=0.1, n_estimators=610, score=0.7511901609897156, total= 1.4min\n",
      "[CV] max_depth=2, max_leaf_nodes=2, min_samples_leaf=47, min_samples_split=102, min_weight_fraction_leaf=0.1, n_estimators=810 \n",
      "[CV]  max_depth=2, max_leaf_nodes=2, min_samples_leaf=47, min_samples_split=102, min_weight_fraction_leaf=0.1, n_estimators=610, score=0.7525685420441389, total= 1.4min\n",
      "[CV] max_depth=2, max_leaf_nodes=2, min_samples_leaf=47, min_samples_split=102, min_weight_fraction_leaf=0.25, n_estimators=10 \n",
      "[CV]  max_depth=2, max_leaf_nodes=2, min_samples_leaf=47, min_samples_split=102, min_weight_fraction_leaf=0.25, n_estimators=10, score=0.7413677636394785, total=   2.5s\n",
      "[CV] max_depth=2, max_leaf_nodes=2, min_samples_leaf=47, min_samples_split=102, min_weight_fraction_leaf=0.25, n_estimators=10 \n",
      "[CV]  max_depth=2, max_leaf_nodes=2, min_samples_leaf=47, min_samples_split=102, min_weight_fraction_leaf=0.25, n_estimators=10, score=0.7413650782113914, total=   2.6s\n",
      "[CV] max_depth=2, max_leaf_nodes=2, min_samples_leaf=47, min_samples_split=102, min_weight_fraction_leaf=0.25, n_estimators=210 \n"
     ]
    },
    {
     "name": "stdout",
     "output_type": "stream",
     "text": [
      "[CV]  max_depth=2, max_leaf_nodes=2, min_samples_leaf=47, min_samples_split=102, min_weight_fraction_leaf=0.25, n_estimators=210, score=0.7412795074265007, total=  29.9s\n",
      "[CV] max_depth=2, max_leaf_nodes=2, min_samples_leaf=47, min_samples_split=102, min_weight_fraction_leaf=0.25, n_estimators=210 \n",
      "[CV]  max_depth=2, max_leaf_nodes=2, min_samples_leaf=47, min_samples_split=102, min_weight_fraction_leaf=0.1, n_estimators=810, score=0.7499130416725072, total= 1.9min\n",
      "[CV] max_depth=2, max_leaf_nodes=2, min_samples_leaf=47, min_samples_split=102, min_weight_fraction_leaf=0.25, n_estimators=410 \n",
      "[CV]  max_depth=2, max_leaf_nodes=2, min_samples_leaf=47, min_samples_split=102, min_weight_fraction_leaf=0.25, n_estimators=210, score=0.7413650782113914, total=  28.5s\n",
      "[CV] max_depth=2, max_leaf_nodes=2, min_samples_leaf=47, min_samples_split=102, min_weight_fraction_leaf=0.25, n_estimators=410 \n",
      "[CV]  max_depth=2, max_leaf_nodes=2, min_samples_leaf=47, min_samples_split=102, min_weight_fraction_leaf=0.1, n_estimators=810, score=0.7515665640461221, total= 1.9min\n",
      "[CV] max_depth=2, max_leaf_nodes=2, min_samples_leaf=47, min_samples_split=102, min_weight_fraction_leaf=0.25, n_estimators=610 \n",
      "[CV]  max_depth=2, max_leaf_nodes=2, min_samples_leaf=47, min_samples_split=102, min_weight_fraction_leaf=0.25, n_estimators=410, score=0.7448824375327716, total=  50.0s\n",
      "[CV] max_depth=2, max_leaf_nodes=2, min_samples_leaf=47, min_samples_split=102, min_weight_fraction_leaf=0.25, n_estimators=610 \n",
      "[CV]  max_depth=2, max_leaf_nodes=2, min_samples_leaf=47, min_samples_split=102, min_weight_fraction_leaf=0.25, n_estimators=410, score=0.7450926440278477, total=  46.8s\n",
      "[CV] max_depth=2, max_leaf_nodes=2, min_samples_leaf=47, min_samples_split=102, min_weight_fraction_leaf=0.25, n_estimators=810 \n",
      "[CV]  max_depth=2, max_leaf_nodes=2, min_samples_leaf=47, min_samples_split=102, min_weight_fraction_leaf=0.25, n_estimators=610, score=0.7570981357172893, total= 1.1min\n",
      "[CV] max_depth=2, max_leaf_nodes=2, min_samples_leaf=47, min_samples_split=102, min_weight_fraction_leaf=0.25, n_estimators=810 \n",
      "[CV]  max_depth=2, max_leaf_nodes=2, min_samples_leaf=47, min_samples_split=102, min_weight_fraction_leaf=0.25, n_estimators=610, score=0.754728245915512, total= 1.1min\n",
      "[CV] max_depth=2, max_leaf_nodes=2, min_samples_leaf=47, min_samples_split=102, min_weight_fraction_leaf=0.4, n_estimators=10 \n",
      "[CV]  max_depth=2, max_leaf_nodes=2, min_samples_leaf=47, min_samples_split=102, min_weight_fraction_leaf=0.4, n_estimators=10, score=0.7484074945099444, total=   1.7s\n",
      "[CV] max_depth=2, max_leaf_nodes=2, min_samples_leaf=47, min_samples_split=102, min_weight_fraction_leaf=0.4, n_estimators=10 \n",
      "[CV]  max_depth=2, max_leaf_nodes=2, min_samples_leaf=47, min_samples_split=102, min_weight_fraction_leaf=0.4, n_estimators=10, score=0.7494483929415063, total=   1.7s\n",
      "[CV] max_depth=2, max_leaf_nodes=2, min_samples_leaf=47, min_samples_split=102, min_weight_fraction_leaf=0.4, n_estimators=210 \n",
      "[CV]  max_depth=2, max_leaf_nodes=2, min_samples_leaf=47, min_samples_split=102, min_weight_fraction_leaf=0.4, n_estimators=210, score=0.7552032229092362, total=  16.1s\n",
      "[CV] max_depth=2, max_leaf_nodes=2, min_samples_leaf=47, min_samples_split=102, min_weight_fraction_leaf=0.4, n_estimators=210 \n",
      "[CV]  max_depth=2, max_leaf_nodes=2, min_samples_leaf=47, min_samples_split=102, min_weight_fraction_leaf=0.25, n_estimators=810, score=0.7512109271574751, total= 1.5min\n",
      "[CV] max_depth=2, max_leaf_nodes=2, min_samples_leaf=47, min_samples_split=102, min_weight_fraction_leaf=0.4, n_estimators=410 \n",
      "[CV]  max_depth=2, max_leaf_nodes=2, min_samples_leaf=47, min_samples_split=102, min_weight_fraction_leaf=0.4, n_estimators=210, score=0.7558548222138003, total=  16.5s\n",
      "[CV] max_depth=2, max_leaf_nodes=2, min_samples_leaf=47, min_samples_split=102, min_weight_fraction_leaf=0.4, n_estimators=410 \n",
      "[CV]  max_depth=2, max_leaf_nodes=2, min_samples_leaf=47, min_samples_split=102, min_weight_fraction_leaf=0.4, n_estimators=410, score=0.7572669362835442, total=  30.3s\n",
      "[CV]  max_depth=2, max_leaf_nodes=2, min_samples_leaf=47, min_samples_split=102, min_weight_fraction_leaf=0.4, n_estimators=410, score=0.7562363397552707, total=  30.4s\n",
      "[CV] max_depth=2, max_leaf_nodes=2, min_samples_leaf=47, min_samples_split=102, min_weight_fraction_leaf=0.4, n_estimators=610 \n",
      "[CV] max_depth=2, max_leaf_nodes=2, min_samples_leaf=47, min_samples_split=102, min_weight_fraction_leaf=0.4, n_estimators=610 \n",
      "[CV]  max_depth=2, max_leaf_nodes=2, min_samples_leaf=47, min_samples_split=102, min_weight_fraction_leaf=0.25, n_estimators=810, score=0.7528852293906624, total= 1.5min\n",
      "[CV] max_depth=2, max_leaf_nodes=2, min_samples_leaf=47, min_samples_split=102, min_weight_fraction_leaf=0.4, n_estimators=810 \n",
      "[CV]  max_depth=2, max_leaf_nodes=2, min_samples_leaf=47, min_samples_split=102, min_weight_fraction_leaf=0.4, n_estimators=610, score=0.7563661283037675, total=  43.8s\n",
      "[CV]  max_depth=2, max_leaf_nodes=2, min_samples_leaf=47, min_samples_split=102, min_weight_fraction_leaf=0.4, n_estimators=610, score=0.7581183580020663, total=  43.8s\n",
      "[CV] max_depth=2, max_leaf_nodes=2, min_samples_leaf=47, min_samples_split=102, min_weight_fraction_leaf=0.4, n_estimators=810 \n",
      "[CV] max_depth=2, max_leaf_nodes=2, min_samples_leaf=47, min_samples_split=127, min_weight_fraction_leaf=0.1, n_estimators=10 \n",
      "[CV]  max_depth=2, max_leaf_nodes=2, min_samples_leaf=47, min_samples_split=127, min_weight_fraction_leaf=0.1, n_estimators=10, score=0.7469798204764797, total=   1.8s\n",
      "[CV] max_depth=2, max_leaf_nodes=2, min_samples_leaf=47, min_samples_split=127, min_weight_fraction_leaf=0.1, n_estimators=10 \n",
      "[CV]  max_depth=2, max_leaf_nodes=2, min_samples_leaf=47, min_samples_split=127, min_weight_fraction_leaf=0.1, n_estimators=10, score=0.7472731142825993, total=   2.6s\n",
      "[CV] max_depth=2, max_leaf_nodes=2, min_samples_leaf=47, min_samples_split=127, min_weight_fraction_leaf=0.1, n_estimators=210 \n",
      "[CV]  max_depth=2, max_leaf_nodes=2, min_samples_leaf=47, min_samples_split=102, min_weight_fraction_leaf=0.4, n_estimators=810, score=0.7552655214125147, total= 1.0min\n",
      "[CV] max_depth=2, max_leaf_nodes=2, min_samples_leaf=47, min_samples_split=127, min_weight_fraction_leaf=0.1, n_estimators=210 \n",
      "[CV]  max_depth=2, max_leaf_nodes=2, min_samples_leaf=47, min_samples_split=127, min_weight_fraction_leaf=0.1, n_estimators=210, score=0.7492329496783839, total=  32.2s\n",
      "[CV] max_depth=2, max_leaf_nodes=2, min_samples_leaf=47, min_samples_split=127, min_weight_fraction_leaf=0.1, n_estimators=410 \n",
      "[CV]  max_depth=2, max_leaf_nodes=2, min_samples_leaf=47, min_samples_split=127, min_weight_fraction_leaf=0.1, n_estimators=210, score=0.7496612483711368, total=  29.6s\n",
      "[CV] max_depth=2, max_leaf_nodes=2, min_samples_leaf=47, min_samples_split=127, min_weight_fraction_leaf=0.1, n_estimators=410 \n",
      "[CV]  max_depth=2, max_leaf_nodes=2, min_samples_leaf=47, min_samples_split=102, min_weight_fraction_leaf=0.4, n_estimators=810, score=0.7566439447821866, total= 1.1min\n",
      "[CV] max_depth=2, max_leaf_nodes=2, min_samples_leaf=47, min_samples_split=127, min_weight_fraction_leaf=0.1, n_estimators=610 \n",
      "[CV]  max_depth=2, max_leaf_nodes=2, min_samples_leaf=47, min_samples_split=127, min_weight_fraction_leaf=0.1, n_estimators=410, score=0.7497365292465515, total=  59.5s\n",
      "[CV] max_depth=2, max_leaf_nodes=2, min_samples_leaf=47, min_samples_split=127, min_weight_fraction_leaf=0.1, n_estimators=610 \n",
      "[CV]  max_depth=2, max_leaf_nodes=2, min_samples_leaf=47, min_samples_split=127, min_weight_fraction_leaf=0.1, n_estimators=410, score=0.750907231373852, total= 1.0min\n",
      "[CV] max_depth=2, max_leaf_nodes=2, min_samples_leaf=47, min_samples_split=127, min_weight_fraction_leaf=0.1, n_estimators=810 \n",
      "[CV]  max_depth=2, max_leaf_nodes=2, min_samples_leaf=47, min_samples_split=127, min_weight_fraction_leaf=0.1, n_estimators=610, score=0.7511849694477757, total= 1.4min\n",
      "[CV] max_depth=2, max_leaf_nodes=2, min_samples_leaf=47, min_samples_split=127, min_weight_fraction_leaf=0.1, n_estimators=810 \n",
      "[CV]  max_depth=2, max_leaf_nodes=2, min_samples_leaf=47, min_samples_split=127, min_weight_fraction_leaf=0.1, n_estimators=610, score=0.7525685420441389, total= 1.4min\n"
     ]
    },
    {
     "name": "stdout",
     "output_type": "stream",
     "text": [
      "[CV] max_depth=2, max_leaf_nodes=2, min_samples_leaf=47, min_samples_split=127, min_weight_fraction_leaf=0.25, n_estimators=10 \n",
      "[CV]  max_depth=2, max_leaf_nodes=2, min_samples_leaf=47, min_samples_split=127, min_weight_fraction_leaf=0.25, n_estimators=10, score=0.7416532984461714, total=   2.5s\n",
      "[CV] max_depth=2, max_leaf_nodes=2, min_samples_leaf=47, min_samples_split=127, min_weight_fraction_leaf=0.25, n_estimators=10 \n",
      "[CV]  max_depth=2, max_leaf_nodes=2, min_samples_leaf=47, min_samples_split=127, min_weight_fraction_leaf=0.25, n_estimators=10, score=0.7415000597033522, total=   2.4s\n",
      "[CV] max_depth=2, max_leaf_nodes=2, min_samples_leaf=47, min_samples_split=127, min_weight_fraction_leaf=0.25, n_estimators=210 \n",
      "[CV]  max_depth=2, max_leaf_nodes=2, min_samples_leaf=47, min_samples_split=127, min_weight_fraction_leaf=0.25, n_estimators=210, score=0.74131065667814, total=  28.6s\n",
      "[CV] max_depth=2, max_leaf_nodes=2, min_samples_leaf=47, min_samples_split=127, min_weight_fraction_leaf=0.25, n_estimators=210 \n",
      "[CV]  max_depth=2, max_leaf_nodes=2, min_samples_leaf=47, min_samples_split=127, min_weight_fraction_leaf=0.1, n_estimators=810, score=0.7499130416725072, total= 1.9min\n",
      "[CV] max_depth=2, max_leaf_nodes=2, min_samples_leaf=47, min_samples_split=127, min_weight_fraction_leaf=0.25, n_estimators=410 \n",
      "[CV]  max_depth=2, max_leaf_nodes=2, min_samples_leaf=47, min_samples_split=127, min_weight_fraction_leaf=0.25, n_estimators=210, score=0.7413443118280129, total=  26.6s\n",
      "[CV] max_depth=2, max_leaf_nodes=2, min_samples_leaf=47, min_samples_split=127, min_weight_fraction_leaf=0.25, n_estimators=410 \n",
      "[CV]  max_depth=2, max_leaf_nodes=2, min_samples_leaf=47, min_samples_split=127, min_weight_fraction_leaf=0.1, n_estimators=810, score=0.7515665640461221, total= 1.9min\n",
      "[CV] max_depth=2, max_leaf_nodes=2, min_samples_leaf=47, min_samples_split=127, min_weight_fraction_leaf=0.25, n_estimators=610 \n",
      "[CV]  max_depth=2, max_leaf_nodes=2, min_samples_leaf=47, min_samples_split=127, min_weight_fraction_leaf=0.25, n_estimators=410, score=0.7448876290747115, total=  46.9s\n",
      "[CV] max_depth=2, max_leaf_nodes=2, min_samples_leaf=47, min_samples_split=127, min_weight_fraction_leaf=0.25, n_estimators=610 \n",
      "[CV]  max_depth=2, max_leaf_nodes=2, min_samples_leaf=47, min_samples_split=127, min_weight_fraction_leaf=0.25, n_estimators=410, score=0.7450978356236924, total=  45.4s\n",
      "[CV] max_depth=2, max_leaf_nodes=2, min_samples_leaf=47, min_samples_split=127, min_weight_fraction_leaf=0.25, n_estimators=810 \n",
      "[CV]  max_depth=2, max_leaf_nodes=2, min_samples_leaf=47, min_samples_split=127, min_weight_fraction_leaf=0.25, n_estimators=610, score=0.7571085188011691, total= 1.1min\n",
      "[CV] max_depth=2, max_leaf_nodes=2, min_samples_leaf=47, min_samples_split=127, min_weight_fraction_leaf=0.25, n_estimators=810 \n",
      "[CV]  max_depth=2, max_leaf_nodes=2, min_samples_leaf=47, min_samples_split=127, min_weight_fraction_leaf=0.25, n_estimators=610, score=0.7547334375113566, total= 1.1min\n",
      "[CV] max_depth=2, max_leaf_nodes=2, min_samples_leaf=47, min_samples_split=127, min_weight_fraction_leaf=0.4, n_estimators=10 \n",
      "[CV]  max_depth=2, max_leaf_nodes=2, min_samples_leaf=47, min_samples_split=127, min_weight_fraction_leaf=0.4, n_estimators=10, score=0.748381536800245, total=   1.8s\n",
      "[CV] max_depth=2, max_leaf_nodes=2, min_samples_leaf=47, min_samples_split=127, min_weight_fraction_leaf=0.4, n_estimators=10 \n",
      "[CV]  max_depth=2, max_leaf_nodes=2, min_samples_leaf=47, min_samples_split=127, min_weight_fraction_leaf=0.4, n_estimators=10, score=0.7494432013456617, total=   1.6s\n",
      "[CV] max_depth=2, max_leaf_nodes=2, min_samples_leaf=47, min_samples_split=127, min_weight_fraction_leaf=0.4, n_estimators=210 \n",
      "[CV]  max_depth=2, max_leaf_nodes=2, min_samples_leaf=47, min_samples_split=127, min_weight_fraction_leaf=0.4, n_estimators=210, score=0.7552084144511761, total=  17.3s\n",
      "[CV] max_depth=2, max_leaf_nodes=2, min_samples_leaf=47, min_samples_split=127, min_weight_fraction_leaf=0.4, n_estimators=210 \n",
      "[CV]  max_depth=2, max_leaf_nodes=2, min_samples_leaf=47, min_samples_split=127, min_weight_fraction_leaf=0.25, n_estimators=810, score=0.7512057356155352, total= 1.6min\n",
      "[CV] max_depth=2, max_leaf_nodes=2, min_samples_leaf=47, min_samples_split=127, min_weight_fraction_leaf=0.4, n_estimators=410 \n",
      "[CV]  max_depth=2, max_leaf_nodes=2, min_samples_leaf=47, min_samples_split=127, min_weight_fraction_leaf=0.4, n_estimators=210, score=0.7558755885971788, total=  17.4s\n",
      "[CV] max_depth=2, max_leaf_nodes=2, min_samples_leaf=47, min_samples_split=127, min_weight_fraction_leaf=0.4, n_estimators=410 \n",
      "[CV]  max_depth=2, max_leaf_nodes=2, min_samples_leaf=47, min_samples_split=127, min_weight_fraction_leaf=0.4, n_estimators=410, score=0.7562259566713909, total=  30.8s\n",
      "[CV] max_depth=2, max_leaf_nodes=2, min_samples_leaf=47, min_samples_split=127, min_weight_fraction_leaf=0.4, n_estimators=610 \n",
      "[CV]  max_depth=2, max_leaf_nodes=2, min_samples_leaf=47, min_samples_split=127, min_weight_fraction_leaf=0.4, n_estimators=410, score=0.7572877026669228, total=  30.6s\n",
      "[CV] max_depth=2, max_leaf_nodes=2, min_samples_leaf=47, min_samples_split=127, min_weight_fraction_leaf=0.4, n_estimators=610 \n",
      "[CV]  max_depth=2, max_leaf_nodes=2, min_samples_leaf=47, min_samples_split=127, min_weight_fraction_leaf=0.25, n_estimators=810, score=0.7528956125823517, total= 1.5min\n",
      "[CV] max_depth=2, max_leaf_nodes=2, min_samples_leaf=47, min_samples_split=127, min_weight_fraction_leaf=0.4, n_estimators=810 \n",
      "[CV]  max_depth=2, max_leaf_nodes=2, min_samples_leaf=47, min_samples_split=127, min_weight_fraction_leaf=0.4, n_estimators=610, score=0.7563661283037675, total=  44.3s\n",
      "[CV] max_depth=2, max_leaf_nodes=2, min_samples_leaf=47, min_samples_split=127, min_weight_fraction_leaf=0.4, n_estimators=810 \n",
      "[CV]  max_depth=2, max_leaf_nodes=2, min_samples_leaf=47, min_samples_split=127, min_weight_fraction_leaf=0.4, n_estimators=610, score=0.758123549597911, total=  45.9s\n",
      "[CV] max_depth=2, max_leaf_nodes=17, min_samples_leaf=2, min_samples_split=2, min_weight_fraction_leaf=0.1, n_estimators=10 \n",
      "[CV]  max_depth=2, max_leaf_nodes=17, min_samples_leaf=2, min_samples_split=2, min_weight_fraction_leaf=0.1, n_estimators=10, score=0.7707674656449712, total=   3.1s\n",
      "[CV] max_depth=2, max_leaf_nodes=17, min_samples_leaf=2, min_samples_split=2, min_weight_fraction_leaf=0.1, n_estimators=10 \n",
      "[CV]  max_depth=2, max_leaf_nodes=17, min_samples_leaf=2, min_samples_split=2, min_weight_fraction_leaf=0.1, n_estimators=10, score=0.7690207092758243, total=   3.1s\n",
      "[CV] max_depth=2, max_leaf_nodes=17, min_samples_leaf=2, min_samples_split=2, min_weight_fraction_leaf=0.1, n_estimators=210 \n",
      "[CV]  max_depth=2, max_leaf_nodes=2, min_samples_leaf=47, min_samples_split=127, min_weight_fraction_leaf=0.4, n_estimators=810, score=0.7552759044963945, total=  59.6s\n",
      "[CV] max_depth=2, max_leaf_nodes=17, min_samples_leaf=2, min_samples_split=2, min_weight_fraction_leaf=0.1, n_estimators=210 \n",
      "[CV]  max_depth=2, max_leaf_nodes=17, min_samples_leaf=2, min_samples_split=2, min_weight_fraction_leaf=0.1, n_estimators=210, score=0.7948821779556746, total=  37.2s\n",
      "[CV] max_depth=2, max_leaf_nodes=17, min_samples_leaf=2, min_samples_split=2, min_weight_fraction_leaf=0.1, n_estimators=410 \n",
      "[CV]  max_depth=2, max_leaf_nodes=2, min_samples_leaf=47, min_samples_split=127, min_weight_fraction_leaf=0.4, n_estimators=810, score=0.756638753186342, total=  59.1s\n",
      "[CV] max_depth=2, max_leaf_nodes=17, min_samples_leaf=2, min_samples_split=2, min_weight_fraction_leaf=0.1, n_estimators=410 \n",
      "[CV]  max_depth=2, max_leaf_nodes=17, min_samples_leaf=2, min_samples_split=2, min_weight_fraction_leaf=0.1, n_estimators=210, score=0.7968061302363734, total=  36.1s\n",
      "[CV] max_depth=2, max_leaf_nodes=17, min_samples_leaf=2, min_samples_split=2, min_weight_fraction_leaf=0.1, n_estimators=610 \n",
      "[CV]  max_depth=2, max_leaf_nodes=17, min_samples_leaf=2, min_samples_split=2, min_weight_fraction_leaf=0.1, n_estimators=410, score=0.7914090363979005, total= 1.1min\n",
      "[CV] max_depth=2, max_leaf_nodes=17, min_samples_leaf=2, min_samples_split=2, min_weight_fraction_leaf=0.1, n_estimators=610 \n",
      "[CV]  max_depth=2, max_leaf_nodes=17, min_samples_leaf=2, min_samples_split=2, min_weight_fraction_leaf=0.1, n_estimators=410, score=0.7931149055908295, total= 1.1min\n"
     ]
    },
    {
     "name": "stdout",
     "output_type": "stream",
     "text": [
      "[CV] max_depth=2, max_leaf_nodes=17, min_samples_leaf=2, min_samples_split=2, min_weight_fraction_leaf=0.1, n_estimators=810 \n",
      "[CV]  max_depth=2, max_leaf_nodes=17, min_samples_leaf=2, min_samples_split=2, min_weight_fraction_leaf=0.1, n_estimators=610, score=0.7911598423847868, total= 1.7min\n",
      "[CV] max_depth=2, max_leaf_nodes=17, min_samples_leaf=2, min_samples_split=2, min_weight_fraction_leaf=0.1, n_estimators=810 \n",
      "[CV]  max_depth=2, max_leaf_nodes=17, min_samples_leaf=2, min_samples_split=2, min_weight_fraction_leaf=0.1, n_estimators=610, score=0.7926268955814327, total= 1.7min\n",
      "[CV] max_depth=2, max_leaf_nodes=17, min_samples_leaf=2, min_samples_split=2, min_weight_fraction_leaf=0.25, n_estimators=10 \n",
      "[CV]  max_depth=2, max_leaf_nodes=17, min_samples_leaf=2, min_samples_split=2, min_weight_fraction_leaf=0.25, n_estimators=10, score=0.7515483773835667, total=   2.6s\n",
      "[CV] max_depth=2, max_leaf_nodes=17, min_samples_leaf=2, min_samples_split=2, min_weight_fraction_leaf=0.25, n_estimators=10 \n",
      "[CV]  max_depth=2, max_leaf_nodes=17, min_samples_leaf=2, min_samples_split=2, min_weight_fraction_leaf=0.25, n_estimators=10, score=0.7533576646125253, total=   2.7s\n",
      "[CV] max_depth=2, max_leaf_nodes=17, min_samples_leaf=2, min_samples_split=2, min_weight_fraction_leaf=0.25, n_estimators=210 \n",
      "[CV]  max_depth=2, max_leaf_nodes=17, min_samples_leaf=2, min_samples_split=2, min_weight_fraction_leaf=0.25, n_estimators=210, score=0.7759797737526023, total=  26.2s\n",
      "[CV] max_depth=2, max_leaf_nodes=17, min_samples_leaf=2, min_samples_split=2, min_weight_fraction_leaf=0.25, n_estimators=210 \n",
      "[CV]  max_depth=2, max_leaf_nodes=17, min_samples_leaf=2, min_samples_split=2, min_weight_fraction_leaf=0.1, n_estimators=810, score=0.79022017329367, total= 2.3min\n",
      "[CV] max_depth=2, max_leaf_nodes=17, min_samples_leaf=2, min_samples_split=2, min_weight_fraction_leaf=0.25, n_estimators=410 \n",
      "[CV]  max_depth=2, max_leaf_nodes=17, min_samples_leaf=2, min_samples_split=2, min_weight_fraction_leaf=0.25, n_estimators=210, score=0.7769534677264445, total=  25.0s\n",
      "[CV] max_depth=2, max_leaf_nodes=17, min_samples_leaf=2, min_samples_split=2, min_weight_fraction_leaf=0.25, n_estimators=410 \n",
      "[CV]  max_depth=2, max_leaf_nodes=17, min_samples_leaf=2, min_samples_split=2, min_weight_fraction_leaf=0.1, n_estimators=810, score=0.7918844973756483, total= 2.3min\n",
      "[CV] max_depth=2, max_leaf_nodes=17, min_samples_leaf=2, min_samples_split=2, min_weight_fraction_leaf=0.25, n_estimators=610 \n",
      "[CV]  max_depth=2, max_leaf_nodes=17, min_samples_leaf=2, min_samples_split=2, min_weight_fraction_leaf=0.25, n_estimators=410, score=0.7727921670015211, total=  48.0s\n",
      "[CV] max_depth=2, max_leaf_nodes=17, min_samples_leaf=2, min_samples_split=2, min_weight_fraction_leaf=0.25, n_estimators=610 \n",
      "[CV]  max_depth=2, max_leaf_nodes=17, min_samples_leaf=2, min_samples_split=2, min_weight_fraction_leaf=0.25, n_estimators=410, score=0.7739267673490154, total=  47.4s\n",
      "[CV] max_depth=2, max_leaf_nodes=17, min_samples_leaf=2, min_samples_split=2, min_weight_fraction_leaf=0.25, n_estimators=810 \n",
      "[CV]  max_depth=2, max_leaf_nodes=17, min_samples_leaf=2, min_samples_split=2, min_weight_fraction_leaf=0.25, n_estimators=610, score=0.7733268958213279, total= 1.1min\n",
      "[CV] max_depth=2, max_leaf_nodes=17, min_samples_leaf=2, min_samples_split=2, min_weight_fraction_leaf=0.25, n_estimators=810 \n",
      "[CV]  max_depth=2, max_leaf_nodes=17, min_samples_leaf=2, min_samples_split=2, min_weight_fraction_leaf=0.25, n_estimators=610, score=0.775873615790758, total=43.0min\n",
      "[CV] max_depth=2, max_leaf_nodes=17, min_samples_leaf=2, min_samples_split=2, min_weight_fraction_leaf=0.4, n_estimators=10 \n",
      "[CV]  max_depth=2, max_leaf_nodes=17, min_samples_leaf=2, min_samples_split=2, min_weight_fraction_leaf=0.4, n_estimators=10, score=0.7484905591809824, total=   1.7s\n",
      "[CV] max_depth=2, max_leaf_nodes=17, min_samples_leaf=2, min_samples_split=2, min_weight_fraction_leaf=0.4, n_estimators=10 \n",
      "[CV]  max_depth=2, max_leaf_nodes=17, min_samples_leaf=2, min_samples_split=2, min_weight_fraction_leaf=0.4, n_estimators=10, score=0.7493601358121473, total=   1.5s\n",
      "[CV] max_depth=2, max_leaf_nodes=17, min_samples_leaf=2, min_samples_split=2, min_weight_fraction_leaf=0.4, n_estimators=210 \n",
      "[CV]  max_depth=2, max_leaf_nodes=17, min_samples_leaf=2, min_samples_split=2, min_weight_fraction_leaf=0.4, n_estimators=210, score=0.7551980313672964, total=  16.7s\n",
      "[CV] max_depth=2, max_leaf_nodes=17, min_samples_leaf=2, min_samples_split=2, min_weight_fraction_leaf=0.4, n_estimators=210 \n",
      "[CV]  max_depth=2, max_leaf_nodes=17, min_samples_leaf=2, min_samples_split=2, min_weight_fraction_leaf=0.25, n_estimators=810, score=0.7717590501554867, total=43.4min\n",
      "[CV] max_depth=2, max_leaf_nodes=17, min_samples_leaf=2, min_samples_split=2, min_weight_fraction_leaf=0.4, n_estimators=410 \n",
      "[CV]  max_depth=2, max_leaf_nodes=17, min_samples_leaf=2, min_samples_split=2, min_weight_fraction_leaf=0.4, n_estimators=210, score=0.7558548222138003, total=  17.0s\n",
      "[CV] max_depth=2, max_leaf_nodes=17, min_samples_leaf=2, min_samples_split=2, min_weight_fraction_leaf=0.4, n_estimators=410 \n",
      "[CV]  max_depth=2, max_leaf_nodes=17, min_samples_leaf=2, min_samples_split=2, min_weight_fraction_leaf=0.4, n_estimators=410, score=0.7562259566713909, total=  30.9s\n",
      "[CV] max_depth=2, max_leaf_nodes=17, min_samples_leaf=2, min_samples_split=2, min_weight_fraction_leaf=0.4, n_estimators=610 \n",
      "[CV]  max_depth=2, max_leaf_nodes=17, min_samples_leaf=2, min_samples_split=2, min_weight_fraction_leaf=0.4, n_estimators=410, score=0.7572669362835442, total=  30.8s\n",
      "[CV] max_depth=2, max_leaf_nodes=17, min_samples_leaf=2, min_samples_split=2, min_weight_fraction_leaf=0.4, n_estimators=610 \n",
      "[CV]  max_depth=2, max_leaf_nodes=17, min_samples_leaf=2, min_samples_split=2, min_weight_fraction_leaf=0.25, n_estimators=810, score=0.7743472866124318, total=43.4min\n",
      "[CV] max_depth=2, max_leaf_nodes=17, min_samples_leaf=2, min_samples_split=2, min_weight_fraction_leaf=0.4, n_estimators=810 \n",
      "[CV]  max_depth=2, max_leaf_nodes=17, min_samples_leaf=2, min_samples_split=2, min_weight_fraction_leaf=0.4, n_estimators=610, score=0.7563609367618276, total=  43.9s\n",
      "[CV] max_depth=2, max_leaf_nodes=17, min_samples_leaf=2, min_samples_split=2, min_weight_fraction_leaf=0.4, n_estimators=810 \n",
      "[CV]  max_depth=2, max_leaf_nodes=17, min_samples_leaf=2, min_samples_split=2, min_weight_fraction_leaf=0.4, n_estimators=610, score=0.7581131664062216, total=  43.8s\n",
      "[CV] max_depth=2, max_leaf_nodes=17, min_samples_leaf=2, min_samples_split=27, min_weight_fraction_leaf=0.1, n_estimators=10 \n",
      "[CV]  max_depth=2, max_leaf_nodes=17, min_samples_leaf=2, min_samples_split=27, min_weight_fraction_leaf=0.1, n_estimators=10, score=0.7707155502255725, total=   3.1s\n",
      "[CV] max_depth=2, max_leaf_nodes=17, min_samples_leaf=2, min_samples_split=27, min_weight_fraction_leaf=0.1, n_estimators=10 \n",
      "[CV]  max_depth=2, max_leaf_nodes=17, min_samples_leaf=2, min_samples_split=27, min_weight_fraction_leaf=0.1, n_estimators=10, score=0.7690414756592029, total=   3.1s\n",
      "[CV] max_depth=2, max_leaf_nodes=17, min_samples_leaf=2, min_samples_split=27, min_weight_fraction_leaf=0.1, n_estimators=210 \n",
      "[CV]  max_depth=2, max_leaf_nodes=17, min_samples_leaf=2, min_samples_split=2, min_weight_fraction_leaf=0.4, n_estimators=810, score=0.7552655214125147, total=  57.8s\n",
      "[CV] max_depth=2, max_leaf_nodes=17, min_samples_leaf=2, min_samples_split=27, min_weight_fraction_leaf=0.1, n_estimators=210 \n",
      "[CV]  max_depth=2, max_leaf_nodes=17, min_samples_leaf=2, min_samples_split=27, min_weight_fraction_leaf=0.1, n_estimators=210, score=0.7948769864137347, total=  37.9s\n",
      "[CV] max_depth=2, max_leaf_nodes=17, min_samples_leaf=2, min_samples_split=27, min_weight_fraction_leaf=0.1, n_estimators=410 \n",
      "[CV]  max_depth=2, max_leaf_nodes=17, min_samples_leaf=2, min_samples_split=2, min_weight_fraction_leaf=0.4, n_estimators=810, score=0.7566439447821866, total=  59.6s\n",
      "[CV] max_depth=2, max_leaf_nodes=17, min_samples_leaf=2, min_samples_split=27, min_weight_fraction_leaf=0.1, n_estimators=410 \n",
      "[CV]  max_depth=2, max_leaf_nodes=17, min_samples_leaf=2, min_samples_split=27, min_weight_fraction_leaf=0.1, n_estimators=210, score=0.7967905554488394, total=  35.6s\n"
     ]
    },
    {
     "name": "stdout",
     "output_type": "stream",
     "text": [
      "[CV] max_depth=2, max_leaf_nodes=17, min_samples_leaf=2, min_samples_split=27, min_weight_fraction_leaf=0.1, n_estimators=610 \n",
      "[CV]  max_depth=2, max_leaf_nodes=17, min_samples_leaf=2, min_samples_split=27, min_weight_fraction_leaf=0.1, n_estimators=410, score=0.7914090363979005, total= 1.1min\n",
      "[CV] max_depth=2, max_leaf_nodes=17, min_samples_leaf=2, min_samples_split=27, min_weight_fraction_leaf=0.1, n_estimators=610 \n",
      "[CV]  max_depth=2, max_leaf_nodes=17, min_samples_leaf=2, min_samples_split=27, min_weight_fraction_leaf=0.1, n_estimators=410, score=0.7931304803783635, total= 1.1min\n",
      "[CV] max_depth=2, max_leaf_nodes=17, min_samples_leaf=2, min_samples_split=27, min_weight_fraction_leaf=0.1, n_estimators=810 \n",
      "[CV]  max_depth=2, max_leaf_nodes=17, min_samples_leaf=2, min_samples_split=27, min_weight_fraction_leaf=0.1, n_estimators=610, score=0.7911650339267265, total= 1.6min\n",
      "[CV] max_depth=2, max_leaf_nodes=17, min_samples_leaf=2, min_samples_split=27, min_weight_fraction_leaf=0.1, n_estimators=810 \n",
      "[CV]  max_depth=2, max_leaf_nodes=17, min_samples_leaf=2, min_samples_split=27, min_weight_fraction_leaf=0.1, n_estimators=610, score=0.7926268955814327, total= 1.6min\n",
      "[CV] max_depth=2, max_leaf_nodes=17, min_samples_leaf=2, min_samples_split=27, min_weight_fraction_leaf=0.25, n_estimators=10 \n",
      "[CV]  max_depth=2, max_leaf_nodes=17, min_samples_leaf=2, min_samples_split=27, min_weight_fraction_leaf=0.25, n_estimators=10, score=0.7515743350932661, total=   2.1s\n",
      "[CV] max_depth=2, max_leaf_nodes=17, min_samples_leaf=2, min_samples_split=27, min_weight_fraction_leaf=0.25, n_estimators=10 \n",
      "[CV]  max_depth=2, max_leaf_nodes=17, min_samples_leaf=2, min_samples_split=27, min_weight_fraction_leaf=0.25, n_estimators=10, score=0.7531500007787394, total=   2.0s\n",
      "[CV] max_depth=2, max_leaf_nodes=17, min_samples_leaf=2, min_samples_split=27, min_weight_fraction_leaf=0.25, n_estimators=210 \n",
      "[CV]  max_depth=2, max_leaf_nodes=17, min_samples_leaf=2, min_samples_split=27, min_weight_fraction_leaf=0.25, n_estimators=210, score=0.7759693906687225, total=  23.2s\n",
      "[CV] max_depth=2, max_leaf_nodes=17, min_samples_leaf=2, min_samples_split=27, min_weight_fraction_leaf=0.25, n_estimators=210 \n",
      "[CV]  max_depth=2, max_leaf_nodes=17, min_samples_leaf=2, min_samples_split=27, min_weight_fraction_leaf=0.1, n_estimators=810, score=0.79022017329367, total= 2.1min\n",
      "[CV] max_depth=2, max_leaf_nodes=17, min_samples_leaf=2, min_samples_split=27, min_weight_fraction_leaf=0.25, n_estimators=410 \n",
      "[CV]  max_depth=2, max_leaf_nodes=17, min_samples_leaf=2, min_samples_split=27, min_weight_fraction_leaf=0.25, n_estimators=210, score=0.7769638509181337, total=  23.2s\n",
      "[CV] max_depth=2, max_leaf_nodes=17, min_samples_leaf=2, min_samples_split=27, min_weight_fraction_leaf=0.25, n_estimators=410 \n",
      "[CV]  max_depth=2, max_leaf_nodes=17, min_samples_leaf=2, min_samples_split=27, min_weight_fraction_leaf=0.1, n_estimators=810, score=0.7918896889714929, total= 2.1min\n",
      "[CV] max_depth=2, max_leaf_nodes=17, min_samples_leaf=2, min_samples_split=27, min_weight_fraction_leaf=0.25, n_estimators=610 \n",
      "[CV]  max_depth=2, max_leaf_nodes=17, min_samples_leaf=2, min_samples_split=27, min_weight_fraction_leaf=0.25, n_estimators=410, score=0.7727921670015211, total=  42.1s\n",
      "[CV] max_depth=2, max_leaf_nodes=17, min_samples_leaf=2, min_samples_split=27, min_weight_fraction_leaf=0.25, n_estimators=610 \n",
      "[CV]  max_depth=2, max_leaf_nodes=17, min_samples_leaf=2, min_samples_split=27, min_weight_fraction_leaf=0.25, n_estimators=410, score=0.7739215757531708, total=  43.8s\n",
      "[CV] max_depth=2, max_leaf_nodes=17, min_samples_leaf=2, min_samples_split=27, min_weight_fraction_leaf=0.25, n_estimators=810 \n",
      "[CV]  max_depth=2, max_leaf_nodes=17, min_samples_leaf=2, min_samples_split=27, min_weight_fraction_leaf=0.25, n_estimators=610, score=0.7733320873632678, total= 1.1min\n",
      "[CV] max_depth=2, max_leaf_nodes=17, min_samples_leaf=2, min_samples_split=27, min_weight_fraction_leaf=0.25, n_estimators=810 \n",
      "[CV]  max_depth=2, max_leaf_nodes=17, min_samples_leaf=2, min_samples_split=27, min_weight_fraction_leaf=0.25, n_estimators=610, score=0.7758995737699812, total= 1.1min\n",
      "[CV] max_depth=2, max_leaf_nodes=17, min_samples_leaf=2, min_samples_split=27, min_weight_fraction_leaf=0.4, n_estimators=10 \n",
      "[CV]  max_depth=2, max_leaf_nodes=17, min_samples_leaf=2, min_samples_split=27, min_weight_fraction_leaf=0.4, n_estimators=10, score=0.7485268999745615, total=   2.1s\n",
      "[CV] max_depth=2, max_leaf_nodes=17, min_samples_leaf=2, min_samples_split=27, min_weight_fraction_leaf=0.4, n_estimators=10 \n",
      "[CV]  max_depth=2, max_leaf_nodes=17, min_samples_leaf=2, min_samples_split=27, min_weight_fraction_leaf=0.4, n_estimators=10, score=0.7492978366620116, total=   2.3s\n",
      "[CV] max_depth=2, max_leaf_nodes=17, min_samples_leaf=2, min_samples_split=27, min_weight_fraction_leaf=0.4, n_estimators=210 \n",
      "[CV]  max_depth=2, max_leaf_nodes=17, min_samples_leaf=2, min_samples_split=27, min_weight_fraction_leaf=0.4, n_estimators=210, score=0.755213605993116, total=  17.7s\n",
      "[CV] max_depth=2, max_leaf_nodes=17, min_samples_leaf=2, min_samples_split=27, min_weight_fraction_leaf=0.4, n_estimators=210 \n",
      "[CV]  max_depth=2, max_leaf_nodes=17, min_samples_leaf=2, min_samples_split=27, min_weight_fraction_leaf=0.25, n_estimators=810, score=0.7717538586135468, total= 1.5min\n",
      "[CV] max_depth=2, max_leaf_nodes=17, min_samples_leaf=2, min_samples_split=27, min_weight_fraction_leaf=0.4, n_estimators=410 \n",
      "[CV]  max_depth=2, max_leaf_nodes=17, min_samples_leaf=2, min_samples_split=27, min_weight_fraction_leaf=0.4, n_estimators=210, score=0.7558963549805575, total=  17.7s\n",
      "[CV] max_depth=2, max_leaf_nodes=17, min_samples_leaf=2, min_samples_split=27, min_weight_fraction_leaf=0.4, n_estimators=410 \n",
      "[CV]  max_depth=2, max_leaf_nodes=17, min_samples_leaf=2, min_samples_split=27, min_weight_fraction_leaf=0.4, n_estimators=410, score=0.7562363397552707, total=  30.1s\n",
      "[CV] max_depth=2, max_leaf_nodes=17, min_samples_leaf=2, min_samples_split=27, min_weight_fraction_leaf=0.4, n_estimators=610 \n",
      "[CV]  max_depth=2, max_leaf_nodes=17, min_samples_leaf=2, min_samples_split=27, min_weight_fraction_leaf=0.4, n_estimators=410, score=0.7572721278793888, total=  30.4s\n",
      "[CV] max_depth=2, max_leaf_nodes=17, min_samples_leaf=2, min_samples_split=27, min_weight_fraction_leaf=0.4, n_estimators=610 \n",
      "[CV]  max_depth=2, max_leaf_nodes=17, min_samples_leaf=2, min_samples_split=27, min_weight_fraction_leaf=0.25, n_estimators=810, score=0.7743472866124318, total= 1.5min\n",
      "[CV] max_depth=2, max_leaf_nodes=17, min_samples_leaf=2, min_samples_split=27, min_weight_fraction_leaf=0.4, n_estimators=810 \n",
      "[CV]  max_depth=2, max_leaf_nodes=17, min_samples_leaf=2, min_samples_split=27, min_weight_fraction_leaf=0.4, n_estimators=610, score=0.7563661283037675, total=  44.1s\n",
      "[CV] max_depth=2, max_leaf_nodes=17, min_samples_leaf=2, min_samples_split=27, min_weight_fraction_leaf=0.4, n_estimators=810 \n",
      "[CV]  max_depth=2, max_leaf_nodes=17, min_samples_leaf=2, min_samples_split=27, min_weight_fraction_leaf=0.4, n_estimators=610, score=0.758123549597911, total=  44.3s\n",
      "[CV] max_depth=2, max_leaf_nodes=17, min_samples_leaf=2, min_samples_split=52, min_weight_fraction_leaf=0.1, n_estimators=10 \n",
      "[CV]  max_depth=2, max_leaf_nodes=17, min_samples_leaf=2, min_samples_split=52, min_weight_fraction_leaf=0.1, n_estimators=10, score=0.7706844009739333, total=   2.8s\n",
      "[CV] max_depth=2, max_leaf_nodes=17, min_samples_leaf=2, min_samples_split=52, min_weight_fraction_leaf=0.1, n_estimators=10 \n",
      "[CV]  max_depth=2, max_leaf_nodes=17, min_samples_leaf=2, min_samples_split=52, min_weight_fraction_leaf=0.1, n_estimators=10, score=0.7690259008716689, total=   2.7s\n",
      "[CV] max_depth=2, max_leaf_nodes=17, min_samples_leaf=2, min_samples_split=52, min_weight_fraction_leaf=0.1, n_estimators=210 \n",
      "[CV]  max_depth=2, max_leaf_nodes=17, min_samples_leaf=2, min_samples_split=27, min_weight_fraction_leaf=0.4, n_estimators=810, score=0.7552707129544546, total=  56.8s\n",
      "[CV] max_depth=2, max_leaf_nodes=17, min_samples_leaf=2, min_samples_split=52, min_weight_fraction_leaf=0.1, n_estimators=210 \n",
      "[CV]  max_depth=2, max_leaf_nodes=17, min_samples_leaf=2, min_samples_split=52, min_weight_fraction_leaf=0.1, n_estimators=210, score=0.7948821779556746, total=  35.1s\n"
     ]
    },
    {
     "name": "stdout",
     "output_type": "stream",
     "text": [
      "[CV] max_depth=2, max_leaf_nodes=17, min_samples_leaf=2, min_samples_split=52, min_weight_fraction_leaf=0.1, n_estimators=410 \n",
      "[CV]  max_depth=2, max_leaf_nodes=17, min_samples_leaf=2, min_samples_split=27, min_weight_fraction_leaf=0.4, n_estimators=810, score=0.7566491363780312, total=  54.5s\n",
      "[CV] max_depth=2, max_leaf_nodes=17, min_samples_leaf=2, min_samples_split=52, min_weight_fraction_leaf=0.1, n_estimators=410 \n",
      "[CV]  max_depth=2, max_leaf_nodes=17, min_samples_leaf=2, min_samples_split=52, min_weight_fraction_leaf=0.1, n_estimators=210, score=0.7968061302363734, total=  32.3s\n",
      "[CV] max_depth=2, max_leaf_nodes=17, min_samples_leaf=2, min_samples_split=52, min_weight_fraction_leaf=0.1, n_estimators=610 \n",
      "[CV]  max_depth=2, max_leaf_nodes=17, min_samples_leaf=2, min_samples_split=52, min_weight_fraction_leaf=0.1, n_estimators=410, score=0.7914142279398404, total= 1.1min\n",
      "[CV] max_depth=2, max_leaf_nodes=17, min_samples_leaf=2, min_samples_split=52, min_weight_fraction_leaf=0.1, n_estimators=610 \n",
      "[CV]  max_depth=2, max_leaf_nodes=17, min_samples_leaf=2, min_samples_split=52, min_weight_fraction_leaf=0.1, n_estimators=410, score=0.7931304803783635, total= 1.1min\n",
      "[CV] max_depth=2, max_leaf_nodes=17, min_samples_leaf=2, min_samples_split=52, min_weight_fraction_leaf=0.1, n_estimators=810 \n",
      "[CV]  max_depth=2, max_leaf_nodes=17, min_samples_leaf=2, min_samples_split=52, min_weight_fraction_leaf=0.1, n_estimators=610, score=0.7911546508428469, total= 1.6min\n",
      "[CV] max_depth=2, max_leaf_nodes=17, min_samples_leaf=2, min_samples_split=52, min_weight_fraction_leaf=0.1, n_estimators=810 \n",
      "[CV]  max_depth=2, max_leaf_nodes=17, min_samples_leaf=2, min_samples_split=52, min_weight_fraction_leaf=0.1, n_estimators=610, score=0.7926268955814327, total= 1.6min\n",
      "[CV] max_depth=2, max_leaf_nodes=17, min_samples_leaf=2, min_samples_split=52, min_weight_fraction_leaf=0.25, n_estimators=10 \n",
      "[CV]  max_depth=2, max_leaf_nodes=17, min_samples_leaf=2, min_samples_split=52, min_weight_fraction_leaf=0.25, n_estimators=10, score=0.7515016535061079, total=   1.9s\n",
      "[CV] max_depth=2, max_leaf_nodes=17, min_samples_leaf=2, min_samples_split=52, min_weight_fraction_leaf=0.25, n_estimators=10 \n",
      "[CV]  max_depth=2, max_leaf_nodes=17, min_samples_leaf=2, min_samples_split=52, min_weight_fraction_leaf=0.25, n_estimators=10, score=0.7532226831205644, total=   2.0s\n",
      "[CV] max_depth=2, max_leaf_nodes=17, min_samples_leaf=2, min_samples_split=52, min_weight_fraction_leaf=0.25, n_estimators=210 \n",
      "[CV]  max_depth=2, max_leaf_nodes=17, min_samples_leaf=2, min_samples_split=52, min_weight_fraction_leaf=0.25, n_estimators=210, score=0.775990156836482, total=  24.1s\n",
      "[CV] max_depth=2, max_leaf_nodes=17, min_samples_leaf=2, min_samples_split=52, min_weight_fraction_leaf=0.25, n_estimators=210 \n",
      "[CV]  max_depth=2, max_leaf_nodes=17, min_samples_leaf=2, min_samples_split=52, min_weight_fraction_leaf=0.1, n_estimators=810, score=0.7902253648356098, total= 2.2min\n",
      "[CV] max_depth=2, max_leaf_nodes=17, min_samples_leaf=2, min_samples_split=52, min_weight_fraction_leaf=0.25, n_estimators=410 \n",
      "[CV]  max_depth=2, max_leaf_nodes=17, min_samples_leaf=2, min_samples_split=52, min_weight_fraction_leaf=0.25, n_estimators=210, score=0.7769794257056677, total=  25.8s\n",
      "[CV] max_depth=2, max_leaf_nodes=17, min_samples_leaf=2, min_samples_split=52, min_weight_fraction_leaf=0.25, n_estimators=410 \n",
      "[CV]  max_depth=2, max_leaf_nodes=17, min_samples_leaf=2, min_samples_split=52, min_weight_fraction_leaf=0.1, n_estimators=810, score=0.7918844973756483, total= 2.2min\n",
      "[CV] max_depth=2, max_leaf_nodes=17, min_samples_leaf=2, min_samples_split=52, min_weight_fraction_leaf=0.25, n_estimators=610 \n",
      "[CV]  max_depth=2, max_leaf_nodes=17, min_samples_leaf=2, min_samples_split=52, min_weight_fraction_leaf=0.25, n_estimators=410, score=0.7728129331692806, total=  47.8s\n",
      "[CV] max_depth=2, max_leaf_nodes=17, min_samples_leaf=2, min_samples_split=52, min_weight_fraction_leaf=0.25, n_estimators=610 \n",
      "[CV]  max_depth=2, max_leaf_nodes=17, min_samples_leaf=2, min_samples_split=52, min_weight_fraction_leaf=0.25, n_estimators=410, score=0.7738956177739476, total=  47.2s\n",
      "[CV] max_depth=2, max_leaf_nodes=17, min_samples_leaf=2, min_samples_split=52, min_weight_fraction_leaf=0.25, n_estimators=810 \n",
      "[CV]  max_depth=2, max_leaf_nodes=17, min_samples_leaf=2, min_samples_split=52, min_weight_fraction_leaf=0.25, n_estimators=610, score=0.7733372789052076, total= 1.1min\n",
      "[CV] max_depth=2, max_leaf_nodes=17, min_samples_leaf=2, min_samples_split=52, min_weight_fraction_leaf=0.25, n_estimators=810 \n",
      "[CV]  max_depth=2, max_leaf_nodes=17, min_samples_leaf=2, min_samples_split=52, min_weight_fraction_leaf=0.25, n_estimators=610, score=0.775873615790758, total= 1.1min\n",
      "[CV] max_depth=2, max_leaf_nodes=17, min_samples_leaf=2, min_samples_split=52, min_weight_fraction_leaf=0.4, n_estimators=10 \n",
      "[CV]  max_depth=2, max_leaf_nodes=17, min_samples_leaf=2, min_samples_split=52, min_weight_fraction_leaf=0.4, n_estimators=10, score=0.7485995815617197, total=   1.7s\n",
      "[CV] max_depth=2, max_leaf_nodes=17, min_samples_leaf=2, min_samples_split=52, min_weight_fraction_leaf=0.4, n_estimators=10 \n",
      "[CV]  max_depth=2, max_leaf_nodes=17, min_samples_leaf=2, min_samples_split=52, min_weight_fraction_leaf=0.4, n_estimators=10, score=0.7494743509207296, total=   1.4s\n",
      "[CV] max_depth=2, max_leaf_nodes=17, min_samples_leaf=2, min_samples_split=52, min_weight_fraction_leaf=0.4, n_estimators=210 \n",
      "[CV]  max_depth=2, max_leaf_nodes=17, min_samples_leaf=2, min_samples_split=52, min_weight_fraction_leaf=0.4, n_estimators=210, score=0.7552084144511761, total=  17.2s\n",
      "[CV] max_depth=2, max_leaf_nodes=17, min_samples_leaf=2, min_samples_split=52, min_weight_fraction_leaf=0.4, n_estimators=210 \n",
      "[CV]  max_depth=2, max_leaf_nodes=17, min_samples_leaf=2, min_samples_split=52, min_weight_fraction_leaf=0.25, n_estimators=810, score=0.7717486670716069, total= 1.5min\n",
      "[CV] max_depth=2, max_leaf_nodes=17, min_samples_leaf=2, min_samples_split=52, min_weight_fraction_leaf=0.4, n_estimators=410 \n",
      "[CV]  max_depth=2, max_leaf_nodes=17, min_samples_leaf=2, min_samples_split=52, min_weight_fraction_leaf=0.4, n_estimators=210, score=0.7558755885971788, total=  15.3s\n",
      "[CV] max_depth=2, max_leaf_nodes=17, min_samples_leaf=2, min_samples_split=52, min_weight_fraction_leaf=0.4, n_estimators=410 \n",
      "[CV]  max_depth=2, max_leaf_nodes=17, min_samples_leaf=2, min_samples_split=52, min_weight_fraction_leaf=0.4, n_estimators=410, score=0.7562363397552707, total=  29.3s\n",
      "[CV] max_depth=2, max_leaf_nodes=17, min_samples_leaf=2, min_samples_split=52, min_weight_fraction_leaf=0.4, n_estimators=610 \n",
      "[CV]  max_depth=2, max_leaf_nodes=17, min_samples_leaf=2, min_samples_split=52, min_weight_fraction_leaf=0.4, n_estimators=410, score=0.7572773194752335, total=  29.2s\n",
      "[CV] max_depth=2, max_leaf_nodes=17, min_samples_leaf=2, min_samples_split=52, min_weight_fraction_leaf=0.4, n_estimators=610 \n",
      "[CV]  max_depth=2, max_leaf_nodes=17, min_samples_leaf=2, min_samples_split=52, min_weight_fraction_leaf=0.25, n_estimators=810, score=0.7743472866124318, total= 1.5min\n",
      "[CV] max_depth=2, max_leaf_nodes=17, min_samples_leaf=2, min_samples_split=52, min_weight_fraction_leaf=0.4, n_estimators=810 \n",
      "[CV]  max_depth=2, max_leaf_nodes=17, min_samples_leaf=2, min_samples_split=52, min_weight_fraction_leaf=0.4, n_estimators=610, score=0.756345362136008, total=  44.5s\n",
      "[CV] max_depth=2, max_leaf_nodes=17, min_samples_leaf=2, min_samples_split=52, min_weight_fraction_leaf=0.4, n_estimators=810 \n",
      "[CV]  max_depth=2, max_leaf_nodes=17, min_samples_leaf=2, min_samples_split=52, min_weight_fraction_leaf=0.4, n_estimators=610, score=0.758107974810377, total=  44.9s\n",
      "[CV] max_depth=2, max_leaf_nodes=17, min_samples_leaf=2, min_samples_split=77, min_weight_fraction_leaf=0.1, n_estimators=10 \n",
      "[CV]  max_depth=2, max_leaf_nodes=17, min_samples_leaf=2, min_samples_split=77, min_weight_fraction_leaf=0.1, n_estimators=10, score=0.770736316393332, total=   2.6s\n",
      "[CV] max_depth=2, max_leaf_nodes=17, min_samples_leaf=2, min_samples_split=77, min_weight_fraction_leaf=0.1, n_estimators=10 \n",
      "[CV]  max_depth=2, max_leaf_nodes=17, min_samples_leaf=2, min_samples_split=77, min_weight_fraction_leaf=0.1, n_estimators=10, score=0.7689687933173778, total=   2.6s\n"
     ]
    },
    {
     "name": "stdout",
     "output_type": "stream",
     "text": [
      "[CV] max_depth=2, max_leaf_nodes=17, min_samples_leaf=2, min_samples_split=77, min_weight_fraction_leaf=0.1, n_estimators=210 \n",
      "[CV]  max_depth=2, max_leaf_nodes=17, min_samples_leaf=2, min_samples_split=52, min_weight_fraction_leaf=0.4, n_estimators=810, score=0.7552707129544546, total=  59.5s\n",
      "[CV] max_depth=2, max_leaf_nodes=17, min_samples_leaf=2, min_samples_split=77, min_weight_fraction_leaf=0.1, n_estimators=210 \n",
      "[CV]  max_depth=2, max_leaf_nodes=17, min_samples_leaf=2, min_samples_split=77, min_weight_fraction_leaf=0.1, n_estimators=210, score=0.7948821779556746, total=  38.6s\n",
      "[CV] max_depth=2, max_leaf_nodes=17, min_samples_leaf=2, min_samples_split=77, min_weight_fraction_leaf=0.1, n_estimators=410 \n",
      "[CV]  max_depth=2, max_leaf_nodes=17, min_samples_leaf=2, min_samples_split=52, min_weight_fraction_leaf=0.4, n_estimators=810, score=0.756638753186342, total=  59.0s\n",
      "[CV] max_depth=2, max_leaf_nodes=17, min_samples_leaf=2, min_samples_split=77, min_weight_fraction_leaf=0.1, n_estimators=410 \n",
      "[CV]  max_depth=2, max_leaf_nodes=17, min_samples_leaf=2, min_samples_split=77, min_weight_fraction_leaf=0.1, n_estimators=210, score=0.7968009386405287, total=  34.1s\n",
      "[CV] max_depth=2, max_leaf_nodes=17, min_samples_leaf=2, min_samples_split=77, min_weight_fraction_leaf=0.1, n_estimators=610 \n",
      "[CV]  max_depth=2, max_leaf_nodes=17, min_samples_leaf=2, min_samples_split=77, min_weight_fraction_leaf=0.1, n_estimators=410, score=0.7914194194817803, total= 1.1min\n",
      "[CV] max_depth=2, max_leaf_nodes=17, min_samples_leaf=2, min_samples_split=77, min_weight_fraction_leaf=0.1, n_estimators=610 \n",
      "[CV]  max_depth=2, max_leaf_nodes=17, min_samples_leaf=2, min_samples_split=77, min_weight_fraction_leaf=0.1, n_estimators=410, score=0.7931252887825189, total= 1.1min\n",
      "[CV] max_depth=2, max_leaf_nodes=17, min_samples_leaf=2, min_samples_split=77, min_weight_fraction_leaf=0.1, n_estimators=810 \n",
      "[CV]  max_depth=2, max_leaf_nodes=17, min_samples_leaf=2, min_samples_split=77, min_weight_fraction_leaf=0.1, n_estimators=610, score=0.7911546508428469, total= 1.6min\n",
      "[CV] max_depth=2, max_leaf_nodes=17, min_samples_leaf=2, min_samples_split=77, min_weight_fraction_leaf=0.1, n_estimators=810 \n",
      "[CV]  max_depth=2, max_leaf_nodes=17, min_samples_leaf=2, min_samples_split=77, min_weight_fraction_leaf=0.1, n_estimators=610, score=0.7926320871772774, total= 1.6min\n",
      "[CV] max_depth=2, max_leaf_nodes=17, min_samples_leaf=2, min_samples_split=77, min_weight_fraction_leaf=0.25, n_estimators=10 \n",
      "[CV]  max_depth=2, max_leaf_nodes=17, min_samples_leaf=2, min_samples_split=77, min_weight_fraction_leaf=0.25, n_estimators=10, score=0.7516210589707248, total=   1.9s\n",
      "[CV] max_depth=2, max_leaf_nodes=17, min_samples_leaf=2, min_samples_split=77, min_weight_fraction_leaf=0.25, n_estimators=10 \n",
      "[CV]  max_depth=2, max_leaf_nodes=17, min_samples_leaf=2, min_samples_split=77, min_weight_fraction_leaf=0.25, n_estimators=10, score=0.7533991973792824, total=   1.9s\n",
      "[CV] max_depth=2, max_leaf_nodes=17, min_samples_leaf=2, min_samples_split=77, min_weight_fraction_leaf=0.25, n_estimators=210 \n",
      "[CV]  max_depth=2, max_leaf_nodes=17, min_samples_leaf=2, min_samples_split=77, min_weight_fraction_leaf=0.25, n_estimators=210, score=0.7759953483784219, total= 1.5min\n",
      "[CV] max_depth=2, max_leaf_nodes=17, min_samples_leaf=2, min_samples_split=77, min_weight_fraction_leaf=0.25, n_estimators=210 \n",
      "[CV]  max_depth=2, max_leaf_nodes=17, min_samples_leaf=2, min_samples_split=77, min_weight_fraction_leaf=0.1, n_estimators=810, score=0.7902253648356098, total= 3.2min\n",
      "[CV] max_depth=2, max_leaf_nodes=17, min_samples_leaf=2, min_samples_split=77, min_weight_fraction_leaf=0.25, n_estimators=410 \n",
      "[CV]  max_depth=2, max_leaf_nodes=17, min_samples_leaf=2, min_samples_split=77, min_weight_fraction_leaf=0.25, n_estimators=210, score=0.7769846173015124, total=  23.6s\n",
      "[CV] max_depth=2, max_leaf_nodes=17, min_samples_leaf=2, min_samples_split=77, min_weight_fraction_leaf=0.25, n_estimators=410 \n",
      "[CV]  max_depth=2, max_leaf_nodes=17, min_samples_leaf=2, min_samples_split=77, min_weight_fraction_leaf=0.1, n_estimators=810, score=0.7918844973756483, total= 3.3min\n",
      "[CV] max_depth=2, max_leaf_nodes=17, min_samples_leaf=2, min_samples_split=77, min_weight_fraction_leaf=0.25, n_estimators=610 \n",
      "[CV]  max_depth=2, max_leaf_nodes=17, min_samples_leaf=2, min_samples_split=77, min_weight_fraction_leaf=0.25, n_estimators=410, score=0.772797358543461, total=  48.8s\n",
      "[CV] max_depth=2, max_leaf_nodes=17, min_samples_leaf=2, min_samples_split=77, min_weight_fraction_leaf=0.25, n_estimators=610 \n",
      "[CV]  max_depth=2, max_leaf_nodes=17, min_samples_leaf=2, min_samples_split=77, min_weight_fraction_leaf=0.25, n_estimators=410, score=0.7739215757531708, total=  47.7s\n",
      "[CV] max_depth=2, max_leaf_nodes=17, min_samples_leaf=2, min_samples_split=77, min_weight_fraction_leaf=0.25, n_estimators=810 \n",
      "[CV]  max_depth=2, max_leaf_nodes=17, min_samples_leaf=2, min_samples_split=77, min_weight_fraction_leaf=0.25, n_estimators=610, score=0.7733320873632678, total= 1.2min\n",
      "[CV] max_depth=2, max_leaf_nodes=17, min_samples_leaf=2, min_samples_split=77, min_weight_fraction_leaf=0.25, n_estimators=810 \n",
      "[CV]  max_depth=2, max_leaf_nodes=17, min_samples_leaf=2, min_samples_split=77, min_weight_fraction_leaf=0.25, n_estimators=610, score=0.775873615790758, total= 1.2min\n",
      "[CV] max_depth=2, max_leaf_nodes=17, min_samples_leaf=2, min_samples_split=77, min_weight_fraction_leaf=0.4, n_estimators=10 \n",
      "[CV]  max_depth=2, max_leaf_nodes=17, min_samples_leaf=2, min_samples_split=77, min_weight_fraction_leaf=0.4, n_estimators=10, score=0.7484126860518843, total=   1.1s\n",
      "[CV] max_depth=2, max_leaf_nodes=17, min_samples_leaf=2, min_samples_split=77, min_weight_fraction_leaf=0.4, n_estimators=10 \n",
      "[CV]  max_depth=2, max_leaf_nodes=17, min_samples_leaf=2, min_samples_split=77, min_weight_fraction_leaf=0.4, n_estimators=10, score=0.7494068601747491, total=   1.5s\n",
      "[CV] max_depth=2, max_leaf_nodes=17, min_samples_leaf=2, min_samples_split=77, min_weight_fraction_leaf=0.4, n_estimators=210 \n",
      "[CV]  max_depth=2, max_leaf_nodes=17, min_samples_leaf=2, min_samples_split=77, min_weight_fraction_leaf=0.4, n_estimators=210, score=0.755213605993116, total=  16.8s\n",
      "[CV] max_depth=2, max_leaf_nodes=17, min_samples_leaf=2, min_samples_split=77, min_weight_fraction_leaf=0.4, n_estimators=210 \n",
      "[CV]  max_depth=2, max_leaf_nodes=17, min_samples_leaf=2, min_samples_split=77, min_weight_fraction_leaf=0.25, n_estimators=810, score=0.7717486670716069, total= 1.6min\n",
      "[CV] max_depth=2, max_leaf_nodes=17, min_samples_leaf=2, min_samples_split=77, min_weight_fraction_leaf=0.4, n_estimators=410 \n",
      "[CV]  max_depth=2, max_leaf_nodes=17, min_samples_leaf=2, min_samples_split=77, min_weight_fraction_leaf=0.4, n_estimators=210, score=0.7558652054054896, total=  16.9s\n",
      "[CV] max_depth=2, max_leaf_nodes=17, min_samples_leaf=2, min_samples_split=77, min_weight_fraction_leaf=0.4, n_estimators=410 \n",
      "[CV]  max_depth=2, max_leaf_nodes=17, min_samples_leaf=2, min_samples_split=77, min_weight_fraction_leaf=0.4, n_estimators=410, score=0.7562259566713909, total=  33.1s\n",
      "[CV] max_depth=2, max_leaf_nodes=17, min_samples_leaf=2, min_samples_split=77, min_weight_fraction_leaf=0.4, n_estimators=610 \n",
      "[CV]  max_depth=2, max_leaf_nodes=17, min_samples_leaf=2, min_samples_split=77, min_weight_fraction_leaf=0.4, n_estimators=410, score=0.7572669362835442, total=  32.8s\n",
      "[CV] max_depth=2, max_leaf_nodes=17, min_samples_leaf=2, min_samples_split=77, min_weight_fraction_leaf=0.4, n_estimators=610 \n",
      "[CV]  max_depth=2, max_leaf_nodes=17, min_samples_leaf=2, min_samples_split=77, min_weight_fraction_leaf=0.25, n_estimators=810, score=0.7743420950165871, total= 1.6min\n",
      "[CV] max_depth=2, max_leaf_nodes=17, min_samples_leaf=2, min_samples_split=77, min_weight_fraction_leaf=0.4, n_estimators=810 \n",
      "[CV]  max_depth=2, max_leaf_nodes=17, min_samples_leaf=2, min_samples_split=77, min_weight_fraction_leaf=0.4, n_estimators=610, score=0.7563609367618276, total=  47.4s\n",
      "[CV] max_depth=2, max_leaf_nodes=17, min_samples_leaf=2, min_samples_split=77, min_weight_fraction_leaf=0.4, n_estimators=810 \n",
      "[CV]  max_depth=2, max_leaf_nodes=17, min_samples_leaf=2, min_samples_split=77, min_weight_fraction_leaf=0.4, n_estimators=610, score=0.7581183580020663, total=  47.9s\n"
     ]
    },
    {
     "name": "stdout",
     "output_type": "stream",
     "text": [
      "[CV] max_depth=2, max_leaf_nodes=17, min_samples_leaf=2, min_samples_split=102, min_weight_fraction_leaf=0.1, n_estimators=10 \n",
      "[CV]  max_depth=2, max_leaf_nodes=17, min_samples_leaf=2, min_samples_split=102, min_weight_fraction_leaf=0.1, n_estimators=10, score=0.7707103586836326, total=   2.9s\n",
      "[CV] max_depth=2, max_leaf_nodes=17, min_samples_leaf=2, min_samples_split=102, min_weight_fraction_leaf=0.1, n_estimators=10 \n",
      "[CV]  max_depth=2, max_leaf_nodes=17, min_samples_leaf=2, min_samples_split=102, min_weight_fraction_leaf=0.1, n_estimators=10, score=0.7690051344882903, total=   3.3s\n",
      "[CV] max_depth=2, max_leaf_nodes=17, min_samples_leaf=2, min_samples_split=102, min_weight_fraction_leaf=0.1, n_estimators=210 \n",
      "[CV]  max_depth=2, max_leaf_nodes=17, min_samples_leaf=2, min_samples_split=77, min_weight_fraction_leaf=0.4, n_estimators=810, score=0.7552810960383344, total= 1.0min\n",
      "[CV] max_depth=2, max_leaf_nodes=17, min_samples_leaf=2, min_samples_split=102, min_weight_fraction_leaf=0.1, n_estimators=210 \n",
      "[CV]  max_depth=2, max_leaf_nodes=17, min_samples_leaf=2, min_samples_split=102, min_weight_fraction_leaf=0.1, n_estimators=210, score=0.7948821779556746, total=  37.9s\n",
      "[CV] max_depth=2, max_leaf_nodes=17, min_samples_leaf=2, min_samples_split=102, min_weight_fraction_leaf=0.1, n_estimators=410 \n",
      "[CV]  max_depth=2, max_leaf_nodes=17, min_samples_leaf=2, min_samples_split=77, min_weight_fraction_leaf=0.4, n_estimators=810, score=0.7566439447821866, total= 1.0min\n",
      "[CV] max_depth=2, max_leaf_nodes=17, min_samples_leaf=2, min_samples_split=102, min_weight_fraction_leaf=0.1, n_estimators=410 \n",
      "[CV]  max_depth=2, max_leaf_nodes=17, min_samples_leaf=2, min_samples_split=102, min_weight_fraction_leaf=0.1, n_estimators=210, score=0.7968320882155966, total=  36.3s\n",
      "[CV] max_depth=2, max_leaf_nodes=17, min_samples_leaf=2, min_samples_split=102, min_weight_fraction_leaf=0.1, n_estimators=610 \n",
      "[CV]  max_depth=2, max_leaf_nodes=17, min_samples_leaf=2, min_samples_split=102, min_weight_fraction_leaf=0.1, n_estimators=410, score=0.7914142279398404, total= 1.1min\n",
      "[CV] max_depth=2, max_leaf_nodes=17, min_samples_leaf=2, min_samples_split=102, min_weight_fraction_leaf=0.1, n_estimators=610 \n",
      "[CV]  max_depth=2, max_leaf_nodes=17, min_samples_leaf=2, min_samples_split=102, min_weight_fraction_leaf=0.1, n_estimators=410, score=0.7931252887825189, total= 1.1min\n",
      "[CV] max_depth=2, max_leaf_nodes=17, min_samples_leaf=2, min_samples_split=102, min_weight_fraction_leaf=0.1, n_estimators=810 \n",
      "[CV]  max_depth=2, max_leaf_nodes=17, min_samples_leaf=2, min_samples_split=102, min_weight_fraction_leaf=0.1, n_estimators=610, score=0.7911598423847868, total= 1.6min\n",
      "[CV] max_depth=2, max_leaf_nodes=17, min_samples_leaf=2, min_samples_split=102, min_weight_fraction_leaf=0.1, n_estimators=810 \n",
      "[CV]  max_depth=2, max_leaf_nodes=17, min_samples_leaf=2, min_samples_split=102, min_weight_fraction_leaf=0.1, n_estimators=610, score=0.7926268955814327, total= 1.6min\n",
      "[CV] max_depth=2, max_leaf_nodes=17, min_samples_leaf=2, min_samples_split=102, min_weight_fraction_leaf=0.25, n_estimators=10 \n",
      "[CV]  max_depth=2, max_leaf_nodes=17, min_samples_leaf=2, min_samples_split=102, min_weight_fraction_leaf=0.25, n_estimators=10, score=0.7516210589707248, total=   1.8s\n",
      "[CV] max_depth=2, max_leaf_nodes=17, min_samples_leaf=2, min_samples_split=102, min_weight_fraction_leaf=0.25, n_estimators=10 \n",
      "[CV]  max_depth=2, max_leaf_nodes=17, min_samples_leaf=2, min_samples_split=102, min_weight_fraction_leaf=0.25, n_estimators=10, score=0.7532745990790108, total=   1.8s\n",
      "[CV] max_depth=2, max_leaf_nodes=17, min_samples_leaf=2, min_samples_split=102, min_weight_fraction_leaf=0.25, n_estimators=210 \n",
      "[CV]  max_depth=2, max_leaf_nodes=17, min_samples_leaf=2, min_samples_split=102, min_weight_fraction_leaf=0.25, n_estimators=210, score=0.7759797737526023, total=  22.9s\n",
      "[CV] max_depth=2, max_leaf_nodes=17, min_samples_leaf=2, min_samples_split=102, min_weight_fraction_leaf=0.25, n_estimators=210 \n",
      "[CV]  max_depth=2, max_leaf_nodes=17, min_samples_leaf=2, min_samples_split=102, min_weight_fraction_leaf=0.1, n_estimators=810, score=0.79022017329367, total= 2.1min\n",
      "[CV] max_depth=2, max_leaf_nodes=17, min_samples_leaf=2, min_samples_split=102, min_weight_fraction_leaf=0.25, n_estimators=410 \n",
      "[CV]  max_depth=2, max_leaf_nodes=17, min_samples_leaf=2, min_samples_split=102, min_weight_fraction_leaf=0.25, n_estimators=210, score=0.7769794257056677, total=  22.5s\n",
      "[CV] max_depth=2, max_leaf_nodes=17, min_samples_leaf=2, min_samples_split=102, min_weight_fraction_leaf=0.25, n_estimators=410 \n",
      "[CV]  max_depth=2, max_leaf_nodes=17, min_samples_leaf=2, min_samples_split=102, min_weight_fraction_leaf=0.25, n_estimators=410, score=0.7728077416273408, total=  43.4s\n",
      "[CV] max_depth=2, max_leaf_nodes=17, min_samples_leaf=2, min_samples_split=102, min_weight_fraction_leaf=0.25, n_estimators=610 \n",
      "[CV]  max_depth=2, max_leaf_nodes=17, min_samples_leaf=2, min_samples_split=102, min_weight_fraction_leaf=0.1, n_estimators=810, score=0.7918793057798037, total= 2.1min\n",
      "[CV] max_depth=2, max_leaf_nodes=17, min_samples_leaf=2, min_samples_split=102, min_weight_fraction_leaf=0.25, n_estimators=610 \n",
      "[CV]  max_depth=2, max_leaf_nodes=17, min_samples_leaf=2, min_samples_split=102, min_weight_fraction_leaf=0.25, n_estimators=410, score=0.7739111925614814, total=  42.6s\n",
      "[CV] max_depth=2, max_leaf_nodes=17, min_samples_leaf=2, min_samples_split=102, min_weight_fraction_leaf=0.25, n_estimators=810 \n",
      "[CV]  max_depth=2, max_leaf_nodes=17, min_samples_leaf=2, min_samples_split=102, min_weight_fraction_leaf=0.25, n_estimators=610, score=0.7733320873632678, total= 1.1min\n",
      "[CV] max_depth=2, max_leaf_nodes=17, min_samples_leaf=2, min_samples_split=102, min_weight_fraction_leaf=0.25, n_estimators=810 \n",
      "[CV]  max_depth=2, max_leaf_nodes=17, min_samples_leaf=2, min_samples_split=102, min_weight_fraction_leaf=0.25, n_estimators=610, score=0.7758788073866025, total= 1.1min\n",
      "[CV] max_depth=2, max_leaf_nodes=17, min_samples_leaf=2, min_samples_split=102, min_weight_fraction_leaf=0.4, n_estimators=10 \n",
      "[CV]  max_depth=2, max_leaf_nodes=17, min_samples_leaf=2, min_samples_split=102, min_weight_fraction_leaf=0.4, n_estimators=10, score=0.7483659621744254, total=   1.4s\n",
      "[CV] max_depth=2, max_leaf_nodes=17, min_samples_leaf=2, min_samples_split=102, min_weight_fraction_leaf=0.4, n_estimators=10 \n",
      "[CV]  max_depth=2, max_leaf_nodes=17, min_samples_leaf=2, min_samples_split=102, min_weight_fraction_leaf=0.4, n_estimators=10, score=0.7494432013456617, total=   1.4s\n",
      "[CV] max_depth=2, max_leaf_nodes=17, min_samples_leaf=2, min_samples_split=102, min_weight_fraction_leaf=0.4, n_estimators=210 \n",
      "[CV]  max_depth=2, max_leaf_nodes=17, min_samples_leaf=2, min_samples_split=102, min_weight_fraction_leaf=0.4, n_estimators=210, score=0.7552084144511761, total=  15.9s\n",
      "[CV] max_depth=2, max_leaf_nodes=17, min_samples_leaf=2, min_samples_split=102, min_weight_fraction_leaf=0.4, n_estimators=210 \n",
      "[CV]  max_depth=2, max_leaf_nodes=17, min_samples_leaf=2, min_samples_split=102, min_weight_fraction_leaf=0.25, n_estimators=810, score=0.7717486670716069, total= 1.4min\n",
      "[CV] max_depth=2, max_leaf_nodes=17, min_samples_leaf=2, min_samples_split=102, min_weight_fraction_leaf=0.4, n_estimators=410 \n",
      "[CV]  max_depth=2, max_leaf_nodes=17, min_samples_leaf=2, min_samples_split=102, min_weight_fraction_leaf=0.4, n_estimators=210, score=0.7558859717888682, total=  15.3s\n",
      "[CV] max_depth=2, max_leaf_nodes=17, min_samples_leaf=2, min_samples_split=102, min_weight_fraction_leaf=0.4, n_estimators=410 \n",
      "[CV]  max_depth=2, max_leaf_nodes=17, min_samples_leaf=2, min_samples_split=102, min_weight_fraction_leaf=0.4, n_estimators=410, score=0.7562363397552707, total=  28.4s\n",
      "[CV] max_depth=2, max_leaf_nodes=17, min_samples_leaf=2, min_samples_split=102, min_weight_fraction_leaf=0.4, n_estimators=610 \n",
      "[CV]  max_depth=2, max_leaf_nodes=17, min_samples_leaf=2, min_samples_split=102, min_weight_fraction_leaf=0.4, n_estimators=410, score=0.7572877026669228, total=  28.4s\n",
      "[CV] max_depth=2, max_leaf_nodes=17, min_samples_leaf=2, min_samples_split=102, min_weight_fraction_leaf=0.4, n_estimators=610 \n",
      "[CV]  max_depth=2, max_leaf_nodes=17, min_samples_leaf=2, min_samples_split=102, min_weight_fraction_leaf=0.25, n_estimators=810, score=0.7743628613999657, total= 1.4min\n"
     ]
    },
    {
     "name": "stdout",
     "output_type": "stream",
     "text": [
      "[CV] max_depth=2, max_leaf_nodes=17, min_samples_leaf=2, min_samples_split=102, min_weight_fraction_leaf=0.4, n_estimators=810 \n",
      "[CV]  max_depth=2, max_leaf_nodes=17, min_samples_leaf=2, min_samples_split=102, min_weight_fraction_leaf=0.4, n_estimators=610, score=0.7563661283037675, total=  42.1s\n",
      "[CV] max_depth=2, max_leaf_nodes=17, min_samples_leaf=2, min_samples_split=102, min_weight_fraction_leaf=0.4, n_estimators=810 \n",
      "[CV]  max_depth=2, max_leaf_nodes=17, min_samples_leaf=2, min_samples_split=102, min_weight_fraction_leaf=0.4, n_estimators=610, score=0.7581183580020663, total=  42.4s\n",
      "[CV] max_depth=2, max_leaf_nodes=17, min_samples_leaf=2, min_samples_split=127, min_weight_fraction_leaf=0.1, n_estimators=10 \n",
      "[CV]  max_depth=2, max_leaf_nodes=17, min_samples_leaf=2, min_samples_split=127, min_weight_fraction_leaf=0.1, n_estimators=10, score=0.7707518910191516, total=   2.7s\n",
      "[CV] max_depth=2, max_leaf_nodes=17, min_samples_leaf=2, min_samples_split=127, min_weight_fraction_leaf=0.1, n_estimators=10 \n",
      "[CV]  max_depth=2, max_leaf_nodes=17, min_samples_leaf=2, min_samples_split=127, min_weight_fraction_leaf=0.1, n_estimators=10, score=0.7690882000218047, total=   2.6s\n",
      "[CV] max_depth=2, max_leaf_nodes=17, min_samples_leaf=2, min_samples_split=127, min_weight_fraction_leaf=0.1, n_estimators=210 \n",
      "[CV]  max_depth=2, max_leaf_nodes=17, min_samples_leaf=2, min_samples_split=102, min_weight_fraction_leaf=0.4, n_estimators=810, score=0.7552707129544546, total=  55.9s\n",
      "[CV] max_depth=2, max_leaf_nodes=17, min_samples_leaf=2, min_samples_split=127, min_weight_fraction_leaf=0.1, n_estimators=210 \n",
      "[CV]  max_depth=2, max_leaf_nodes=17, min_samples_leaf=2, min_samples_split=127, min_weight_fraction_leaf=0.1, n_estimators=210, score=0.7948977525814942, total=  35.2s\n",
      "[CV] max_depth=2, max_leaf_nodes=17, min_samples_leaf=2, min_samples_split=127, min_weight_fraction_leaf=0.1, n_estimators=410 \n",
      "[CV]  max_depth=2, max_leaf_nodes=17, min_samples_leaf=2, min_samples_split=102, min_weight_fraction_leaf=0.4, n_estimators=810, score=0.7566491363780312, total=  55.8s\n",
      "[CV] max_depth=2, max_leaf_nodes=17, min_samples_leaf=2, min_samples_split=127, min_weight_fraction_leaf=0.1, n_estimators=410 \n",
      "[CV]  max_depth=2, max_leaf_nodes=17, min_samples_leaf=2, min_samples_split=127, min_weight_fraction_leaf=0.1, n_estimators=210, score=0.796795747044684, total=  33.4s\n",
      "[CV] max_depth=2, max_leaf_nodes=17, min_samples_leaf=2, min_samples_split=127, min_weight_fraction_leaf=0.1, n_estimators=610 \n",
      "[CV]  max_depth=2, max_leaf_nodes=17, min_samples_leaf=2, min_samples_split=127, min_weight_fraction_leaf=0.1, n_estimators=410, score=0.7914090363979005, total= 1.1min\n",
      "[CV] max_depth=2, max_leaf_nodes=17, min_samples_leaf=2, min_samples_split=127, min_weight_fraction_leaf=0.1, n_estimators=610 \n",
      "[CV]  max_depth=2, max_leaf_nodes=17, min_samples_leaf=2, min_samples_split=127, min_weight_fraction_leaf=0.1, n_estimators=410, score=0.7931252887825189, total= 1.1min\n",
      "[CV] max_depth=2, max_leaf_nodes=17, min_samples_leaf=2, min_samples_split=127, min_weight_fraction_leaf=0.1, n_estimators=810 \n"
     ]
    },
    {
     "name": "stderr",
     "output_type": "stream",
     "text": [
      "[Parallel(n_jobs=3)]: Done 876 tasks      | elapsed: 308.4min\n"
     ]
    },
    {
     "name": "stdout",
     "output_type": "stream",
     "text": [
      "[CV]  max_depth=2, max_leaf_nodes=17, min_samples_leaf=2, min_samples_split=127, min_weight_fraction_leaf=0.1, n_estimators=610, score=0.7911598423847868, total= 1.6min\n",
      "[CV] max_depth=2, max_leaf_nodes=17, min_samples_leaf=2, min_samples_split=127, min_weight_fraction_leaf=0.1, n_estimators=810 \n",
      "[CV]  max_depth=2, max_leaf_nodes=17, min_samples_leaf=2, min_samples_split=127, min_weight_fraction_leaf=0.1, n_estimators=610, score=0.7926268955814327, total= 1.6min\n",
      "[CV] max_depth=2, max_leaf_nodes=17, min_samples_leaf=2, min_samples_split=127, min_weight_fraction_leaf=0.25, n_estimators=10 \n",
      "[CV]  max_depth=2, max_leaf_nodes=17, min_samples_leaf=2, min_samples_split=127, min_weight_fraction_leaf=0.25, n_estimators=10, score=0.7516262505126647, total=   2.0s\n",
      "[CV] max_depth=2, max_leaf_nodes=17, min_samples_leaf=2, min_samples_split=127, min_weight_fraction_leaf=0.25, n_estimators=10 \n",
      "[CV]  max_depth=2, max_leaf_nodes=17, min_samples_leaf=2, min_samples_split=127, min_weight_fraction_leaf=0.25, n_estimators=10, score=0.7532122999288752, total=   1.9s\n",
      "[CV] max_depth=2, max_leaf_nodes=17, min_samples_leaf=2, min_samples_split=127, min_weight_fraction_leaf=0.25, n_estimators=210 \n",
      "[CV]  max_depth=2, max_leaf_nodes=17, min_samples_leaf=2, min_samples_split=127, min_weight_fraction_leaf=0.25, n_estimators=210, score=0.7759953483784219, total=  23.9s\n",
      "[CV] max_depth=2, max_leaf_nodes=17, min_samples_leaf=2, min_samples_split=127, min_weight_fraction_leaf=0.25, n_estimators=210 \n",
      "[CV]  max_depth=2, max_leaf_nodes=17, min_samples_leaf=2, min_samples_split=127, min_weight_fraction_leaf=0.1, n_estimators=810, score=0.79022017329367, total= 2.1min\n",
      "[CV] max_depth=2, max_leaf_nodes=17, min_samples_leaf=2, min_samples_split=127, min_weight_fraction_leaf=0.25, n_estimators=410 \n",
      "[CV]  max_depth=2, max_leaf_nodes=17, min_samples_leaf=2, min_samples_split=127, min_weight_fraction_leaf=0.25, n_estimators=210, score=0.7769794257056677, total=  23.1s\n",
      "[CV] max_depth=2, max_leaf_nodes=17, min_samples_leaf=2, min_samples_split=127, min_weight_fraction_leaf=0.25, n_estimators=410 \n",
      "[CV]  max_depth=2, max_leaf_nodes=17, min_samples_leaf=2, min_samples_split=127, min_weight_fraction_leaf=0.25, n_estimators=410, score=0.7728077416273408, total=  44.1s\n",
      "[CV] max_depth=2, max_leaf_nodes=17, min_samples_leaf=2, min_samples_split=127, min_weight_fraction_leaf=0.25, n_estimators=610 \n",
      "[CV]  max_depth=2, max_leaf_nodes=17, min_samples_leaf=2, min_samples_split=127, min_weight_fraction_leaf=0.1, n_estimators=810, score=0.7918793057798037, total= 2.2min\n",
      "[CV] max_depth=2, max_leaf_nodes=17, min_samples_leaf=2, min_samples_split=127, min_weight_fraction_leaf=0.25, n_estimators=610 \n",
      "[CV]  max_depth=2, max_leaf_nodes=17, min_samples_leaf=2, min_samples_split=127, min_weight_fraction_leaf=0.25, n_estimators=410, score=0.7739060009656368, total=  44.2s\n",
      "[CV] max_depth=2, max_leaf_nodes=17, min_samples_leaf=2, min_samples_split=127, min_weight_fraction_leaf=0.25, n_estimators=810 \n"
     ]
    }
   ],
   "source": [
    "param_grid = {\"n_estimators\": [int(i) for i in np.arange(10, 1000, 200)],\n",
    "              \"max_depth\": [int(i) for i in np.arange(2, 30, 10)],\n",
    "              \"min_samples_split\": [int(i) for i in np.arange(2,150,25)],\n",
    "              \"min_samples_leaf\": [int(i) for i in np.arange(2,60,15)],\n",
    "              \"max_leaf_nodes\": [int(i) for i in np.arange(2,60,15)],\n",
    "              \"min_weight_fraction_leaf\": np.arange(0.1,0.4, 0.15)}\n",
    "\n",
    "rf = RandomForestClassifier(n_estimators=10, criterion='gini', max_depth=None, \n",
    "                                min_samples_split=2, min_samples_leaf=1, min_weight_fraction_leaf=0.0, \n",
    "                                max_features='auto', max_leaf_nodes=None, min_impurity_decrease=0.0, \n",
    "                                min_impurity_split=None, bootstrap=True, oob_score=False, n_jobs=-1, \n",
    "                                random_state=42, verbose=0, warm_start=False, class_weight=None)\n",
    "\n",
    "rf_clf_grd = GridSearchCV(rf, param_grid, cv=2, verbose=5, n_jobs=3)\n",
    "\n",
    "rf_clf_grd.fit(df_train.iloc[:,0:29], df_train.loc[:,'Class'])\n",
    "print(rf_clf_grd.best_params_)"
   ]
  },
  {
   "cell_type": "markdown",
   "metadata": {},
   "source": [
    "We will create a grid using the best parameters returned from the grid search"
   ]
  },
  {
   "cell_type": "code",
   "execution_count": null,
   "metadata": {
    "collapsed": true
   },
   "outputs": [],
   "source": [
    "# instantiate the model\n",
    "rf_clf = RandomForestClassifier(n_estimators=10, criterion='gini', max_depth=None, \n",
    "                                min_samples_split=2, min_samples_leaf=1, min_weight_fraction_leaf=0.0, \n",
    "                                max_features='auto', max_leaf_nodes=None, min_impurity_decrease=0.0, \n",
    "                                min_impurity_split=None, bootstrap=True, oob_score=False, n_jobs=-1, \n",
    "                                random_state=42, verbose=0, warm_start=False, class_weight=None)\n",
    "\n",
    "# fit the model\n",
    "rf_clf.fit(df_train.iloc[:,0:29], df_train.loc[:,'Class'])\n",
    "\n",
    "# predictions\n",
    "predictions_rf = rf_clf.predict(df_test.iloc[:,0:29])"
   ]
  },
  {
   "cell_type": "markdown",
   "metadata": {},
   "source": [
    "##### 3.3 Classification Report"
   ]
  },
  {
   "cell_type": "code",
   "execution_count": null,
   "metadata": {
    "collapsed": true
   },
   "outputs": [],
   "source": [
    "# get classification report\n",
    "target_names=['Legitmate', 'Fraud']\n",
    "print(classification_report(df_test.loc[:,'Class'], predictions_rf, target_names=target_names))"
   ]
  },
  {
   "cell_type": "markdown",
   "metadata": {},
   "source": [
    "##### 3.4 Confusion matrix and ROC AUC curve"
   ]
  },
  {
   "cell_type": "code",
   "execution_count": 41,
   "metadata": {},
   "outputs": [
    {
     "name": "stdout",
     "output_type": "stream",
     "text": [
      "AUC ROC:  0.999797341285\n"
     ]
    },
    {
     "data": {
      "image/png": "[encoded data removed]",
      "text/plain": [
       "<matplotlib.figure.Figure at 0x10ee88c18>"
      ]
     },
     "metadata": {},
     "output_type": "display_data"
    },
    {
     "data": {
      "image/png": "[encoded data removed]",
      "text/plain": [
       "<matplotlib.figure.Figure at 0x10c19ef60>"
      ]
     },
     "metadata": {},
     "output_type": "display_data"
    }
   ],
   "source": [
    "# plot the confusion matrix\n",
    "cnf_matrix_rf = confusion_matrix(df_test.loc[:,'Class'], predictions_rf)\n",
    "class_names = ['Legitimate','Fraud']\n",
    "\n",
    "# plot the AUC ROC curve\n",
    "# print(type(rf_clf.predict_proba(df_test.iloc[:,0:29])))\n",
    "y_pred_score_rf = rf_clf.predict_proba(df_test.iloc[:,0:29])\n",
    "fpr_rf, tpr_rf, thresholds = roc_curve(df_test.loc[:,'Class'], y_pred_score_rf[:,1])\n",
    "roc_auc_rf = auc(fpr_rf,tpr_rf)\n",
    "print('AUC ROC: ',roc_auc_rf)\n",
    "\n",
    "plt.title('Receiver Operating Characteristic')\n",
    "plt.plot(fpr_rf, tpr_rf, 'b',label='AUC = %0.3f'% roc_auc_rf)\n",
    "plt.legend(loc='lower right')\n",
    "plt.plot([0,1],[0,1],'r--')\n",
    "plt.xlim([-0.1,1.0])\n",
    "plt.ylim([-0.1,1.01])\n",
    "plt.ylabel('True Positive Rate')\n",
    "plt.xlabel('False Positive Rate')\n",
    "plt.show()\n",
    "plot_confusion_matrix(cnf_matrix_rf, classes=class_names, title='Confusion matrix')"
   ]
  },
  {
   "cell_type": "markdown",
   "metadata": {},
   "source": [
    "#### 4. AdaBoost Classifier"
   ]
  },
  {
   "cell_type": "markdown",
   "metadata": {},
   "source": [
    "##### 4.1 Fitting the model"
   ]
  },
  {
   "cell_type": "markdown",
   "metadata": {},
   "source": [
    "So far we have used a logistic model and a tree based model. Logistic regression is a parametric model while random forest is a non-parametric model. Next we will train a boosted model based on a non parametric learner - k Nearest Neighbors (kNN). "
   ]
  },
  {
   "cell_type": "code",
   "execution_count": null,
   "metadata": {
    "collapsed": true
   },
   "outputs": [],
   "source": [
    "# fit a knn model\n",
    "knn = =NearestNeighborsClassifier(max_depth=9, min_samples_leaf=1)\n",
    "knn.fit(df_train.iloc[:,0:29], df_train.loc[:,'Class'])\n",
    "\n",
    "# set the parameters\n",
    "n_estimators = 400\n",
    "learning_rate = 1.\n",
    "\n",
    "# train the adaboost algorithm\n",
    "ada_real = AdaBoostClassifier(\n",
    "    base_estimator=knn,\n",
    "    learning_rate=learning_rate,\n",
    "    n_estimators=n_estimators,\n",
    "    algorithm=\"SAMME.R\")\n",
    "\n",
    "ada_real.fit(df_train.iloc[:,0:29], df_train.loc[:,'Class'])"
   ]
  },
  {
   "cell_type": "markdown",
   "metadata": {},
   "source": [
    "##### 4.2 Classification report and predictions"
   ]
  },
  {
   "cell_type": "code",
   "execution_count": null,
   "metadata": {
    "collapsed": true
   },
   "outputs": [],
   "source": [
    "# predictions\n",
    "predictions_ad = ada_rexsal.predict(df_test.iloc[:,0:29])"
   ]
  },
  {
   "cell_type": "code",
   "execution_count": null,
   "metadata": {
    "collapsed": true
   },
   "outputs": [],
   "source": [
    "# get classification report\n",
    "target_names=['Legitmate', 'Fraud']\n",
    "print(classification_report(df_test.loc[:,'Class'], predictions_ad, target_names=target_names))"
   ]
  },
  {
   "cell_type": "markdown",
   "metadata": {},
   "source": [
    "##### 4.3 Confusion matrix and ROC AUC curve"
   ]
  },
  {
   "cell_type": "code",
   "execution_count": null,
   "metadata": {
    "collapsed": true
   },
   "outputs": [],
   "source": [
    "# plot the confusion matrix\n",
    "cnf_matrix_ad = confusion_matrix(df_test.loc[:,'Class'], predictions_ad)\n",
    "class_names = ['Legitimate','Fraud']\n",
    "\n",
    "# plot the AUC ROC curve\n",
    "# print(type(rf_clf.predict_proba(df_test.iloc[:,0:29])))\n",
    "y_pred_score_ad = ad_clf.predict_proba(df_test.iloc[:,0:29])\n",
    "fpr_ad, tpr_ad, thresholds = roc_curve(df_test.loc[:,'Class'], y_pred_score_ad[:,1])\n",
    "roc_auc_ad = auc(fpr_ad,tpr_ad)\n",
    "print('AUC ROC: ',roc_auc_ad)\n",
    "\n",
    "plt.title('Receiver Operating Characteristic')\n",
    "plt.plot(fpr_ad, tpr_ad, 'b',label='AUC = %0.3f'% roc_auc_ad)\n",
    "plt.legend(loc='lower right')\n",
    "plt.plot([0,1],[0,1],'r--')\n",
    "plt.xlim([-0.1,1.0])\n",
    "plt.ylim([-0.1,1.01])\n",
    "plt.ylabel('True Positive Rate')\n",
    "plt.xlabel('False Positive Rate')\n",
    "plt.show()\n",
    "plot_confusion_matrix(cnf_matrix_ad, classes=class_names, title='Confusion matrix')"
   ]
  },
  {
   "cell_type": "markdown",
   "metadata": {},
   "source": [
    "### Parent Classification"
   ]
  },
  {
   "cell_type": "markdown",
   "metadata": {},
   "source": [
    "The idea behind building the classifiers above is not only for comparing their classification metrics. The next step is to build a parent classifier which will leverage all the models built above."
   ]
  },
  {
   "cell_type": "markdown",
   "metadata": {
    "collapsed": true
   },
   "source": [
    "<img src = 'classification_process.png'>"
   ]
  },
  {
   "cell_type": "markdown",
   "metadata": {},
   "source": [
    "##### Creating the input data for the stacked model"
   ]
  },
  {
   "cell_type": "markdown",
   "metadata": {},
   "source": [
    "In this section we will create the input data for the final logistic model. The input feature data to the stacked logistic model will be the predictions from each of the classifiers. The input target data will be the true data. "
   ]
  },
  {
   "cell_type": "code",
   "execution_count": null,
   "metadata": {
    "collapsed": true
   },
   "outputs": [],
   "source": [
    "train_feature_array = np.asarray([lr_clf.predict(df_train.iloc[:,0:29]),\n",
    "                                  rf_clf.predict(df_train.iloc[:,0:29]),\n",
    "                                  ada_real.predict(df_train.iloc[:,0:29])\n",
    "                                 ])\n",
    "\n",
    "test_feature_array = np.asarray([lr_clf.predict(df_test.iloc[:,0:29]),\n",
    "                                  rf_clf.predict(df_test.iloc[:,0:29]),\n",
    "                                  ada_real.predict(df_test.iloc[:,0:29])\n",
    "                                 ])\n",
    "\n",
    "train_target = df_train.loc[:,'Class']\n",
    "test_target = df_test.loc[:,'Class']"
   ]
  },
  {
   "cell_type": "markdown",
   "metadata": {},
   "source": [
    "##### Fitting a logistic model"
   ]
  },
  {
   "cell_type": "code",
   "execution_count": null,
   "metadata": {
    "collapsed": true
   },
   "outputs": [],
   "source": [
    "# make predictions on the test dataset\n",
    "param_grid = {\n",
    "    'C': np.linspace(0.01, 10, 10)\n",
    "             }\n",
    "lr = LogisticRegression()\n",
    "lr_clf_grd = GridSearchCV(lr, param_grid, cv=2, verbose=5, n_jobs=3)\n",
    "lr_clf_grd.fit(df_train.iloc[:,0:29], df_train.loc[:,'Class'])\n",
    "print(lr_clf_grd.best_params_)"
   ]
  },
  {
   "cell_type": "code",
   "execution_count": null,
   "metadata": {
    "collapsed": true
   },
   "outputs": [],
   "source": [
    "# instantiate the model\n",
    "log_clf = LogisticRegression(penalty='l2', dual=False, tol=0.01, C=2.23, fit_intercept=True, \n",
    "                        intercept_scaling=1, class_weight=None, random_state=None, \n",
    "                        solver='liblinear', max_iter=100, multi_class='ovr', \n",
    "                        verbose=0, warm_start=False, n_jobs=1)\n",
    "\n",
    "# fit the model\n",
    "log_clf.fit(df_train.iloc[:,0:29], df_train.loc[:,'Class'])\n",
    "\n",
    "# predictions\n",
    "predictions_lr = log_clf.predict(df_test.iloc[:,0:29])"
   ]
  },
  {
   "cell_type": "markdown",
   "metadata": {},
   "source": [
    "##### Model Assessment"
   ]
  },
  {
   "cell_type": "code",
   "execution_count": null,
   "metadata": {
    "collapsed": true
   },
   "outputs": [],
   "source": [
    "# get classification report\n",
    "target_names=['Legitmate', 'Fraud']\n",
    "print(classification_report(df_test.loc[:,'Class'], predictions_lr, target_names=target_names))"
   ]
  },
  {
   "cell_type": "code",
   "execution_count": null,
   "metadata": {
    "collapsed": true
   },
   "outputs": [],
   "source": [
    "# plot the confusion matrix\n",
    "cnf_matrix_ad = confusion_matrix(df_test.loc[:,'Class'], predictions_ad)\n",
    "class_names = ['Legitimate','Fraud']\n",
    "\n",
    "# plot the AUC ROC curve\n",
    "# print(type(rf_clf.predict_proba(df_test.iloc[:,0:29])))\n",
    "y_pred_score_ad = ad_clf.predict_proba(df_test.iloc[:,0:29])\n",
    "fpr_ad, tpr_ad, thresholds = roc_curve(df_test.loc[:,'Class'], y_pred_score_ad[:,1])\n",
    "roc_auc_ad = auc(fpr_ad,tpr_ad)\n",
    "print('AUC ROC: ',roc_auc_ad)\n",
    "\n",
    "plt.title('Receiver Operating Characteristic')\n",
    "plt.plot(fpr_ad, tpr_ad, 'b',label='AUC = %0.3f'% roc_auc_ad)\n",
    "plt.legend(loc='lower right')\n",
    "plt.plot([0,1],[0,1],'r--')\n",
    "plt.xlim([-0.1,1.0])\n",
    "plt.ylim([-0.1,1.01])\n",
    "plt.ylabel('True Positive Rate')\n",
    "plt.xlabel('False Positive Rate')\n",
    "plt.show()\n",
    "plot_confusion_matrix(cnf_matrix_ad, classes=class_names, title='Confusion matrix')"
   ]
  }
 ],
 "metadata": {
  "kernelspec": {
   "display_name": "Python 3",
   "language": "python",
   "name": "python3"
  },
  "language_info": {
   "codemirror_mode": {
    "name": "ipython",
    "version": 3
   },
   "file_extension": ".py",
   "mimetype": "text/x-python",
   "name": "python",
   "nbconvert_exporter": "python",
   "pygments_lexer": "ipython3",
   "version": "3.6.0"
  }
 },
 "nbformat": 4,
 "nbformat_minor": 2
}
